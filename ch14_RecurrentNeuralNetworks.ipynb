{
 "cells": [
  {
   "cell_type": "markdown",
   "metadata": {
    "collapsed": true
   },
   "source": [
    "# Chapter 14: Recurrent Neural Networks\n",
    "-----\n",
    "-----\n",
    "\n",
    "Class of networks that can predict the future. They analyze time series data such as, stock prices, and tell you when to buy or sell. In automomous driving systems, they can anticipate car trajectory and help avoid accidents. The work with sequence of arbitary length.\n",
    "\n",
    "Can take in:\n",
    "- sentences\n",
    "- documents\n",
    "- audio samples\n",
    "\n",
    "useful in:\n",
    "- NPL\n",
    "- speech to text\n",
    "- sentiment analysis\n",
    "\n",
    "can be used to generate, melodies, sentences, image captions and more."
   ]
  },
  {
   "cell_type": "markdown",
   "metadata": {},
   "source": [
    "## Recurrent Neurons\n",
    "Looks very much like a feedforward net, except it also has connections pointing backwards.\n",
    "\n",
    "Simples RNN: One neuron receiving inputs, producing out puts, and sending those outputs back to itself.\n",
    "\n",
    "At each time step t, this recurrent neuron receives the inputs $x_{(t)}$ as well as its own output from the pervious time step, $y_{(t-1)}$\n",
    "\n",
    "Each recurrent neuron has two sets of weights: one for the inputs and the other for the output of the pervious time step. At time stepp 0 previous input assumed to be zero\n",
    "\n",
    "#### Memory Cells\n",
    "\n",
    "Since output of recurrent neuron at time step t is a function of all the inputs previous time steps, you could say it has a form of memory. Part of a nueral net that preserves some state across time steps is called a memory cell\n",
    "\n",
    "#### Input and Output Sequences\n",
    "\n",
    "RNN can simultaneously take a sequence of iputs and produce a sequence of outputs. This type of network is usedful for predicting time series such as stock prices.\n",
    "\n",
    "Alternatively: feed network a sequence of inputs, and ignore all outputs except for the last one. sequence to vector\n",
    "\n",
    "conversely: feed network single input at first time step, and let it output a sequence, vector to sequence\n",
    "\n",
    "lastly: a sequence-to-vector (encoder) then followed by a vector-to-sequence(decoder). can be used for tanslating a sentence.Encoder-Decoder"
   ]
  },
  {
   "cell_type": "markdown",
   "metadata": {},
   "source": [
    "## Basic RNNs in Tensorflow\n",
    "-----\n",
    "\n"
   ]
  },
  {
   "cell_type": "code",
   "execution_count": 2,
   "metadata": {},
   "outputs": [],
   "source": [
    "# Common imports\n",
    "import numpy as np\n",
    "import os\n",
    "\n",
    "# to make this notebook's output stable across runs\n",
    "def reset_graph(seed=42):\n",
    "    tf.reset_default_graph()\n",
    "    tf.set_random_seed(seed)\n",
    "    np.random.seed(seed)\n",
    "\n",
    "# To plot pretty figures\n",
    "%matplotlib inline\n",
    "import matplotlib\n",
    "import matplotlib.pyplot as plt\n",
    "plt.rcParams['axes.labelsize'] = 14\n",
    "plt.rcParams['xtick.labelsize'] = 12\n",
    "plt.rcParams['ytick.labelsize'] = 12\n",
    "\n",
    "import tensorflow as tf"
   ]
  },
  {
   "cell_type": "code",
   "execution_count": 3,
   "metadata": {},
   "outputs": [],
   "source": [
    "reset_graph()\n",
    "\n",
    "n_inputs = 3\n",
    "n_neurons = 5\n",
    "\n",
    "X0 = tf.placeholder(tf.float32, [None, n_inputs])\n",
    "X1 = tf.placeholder(tf.float32, [None, n_inputs])\n",
    "\n",
    "Wx = tf.Variable(tf.random_normal(shape=[n_inputs, n_neurons], dtype=tf.float32))\n",
    "Wy = tf.Variable(tf.random_normal(shape=[n_neurons, n_neurons], dtype=tf.float32))\n",
    "\n",
    "b = tf.Variable(tf.zeros([1, n_neurons], dtype=tf.float32))\n",
    "\n",
    "Y0 = tf.tanh(tf.matmul(X0, Wx) + b)\n",
    "Y1 = tf.tanh(tf.matmul(Y0, Wy) + tf.matmul(X1, Wx) + b)\n",
    "\n",
    "init = tf.global_variables_initializer()"
   ]
  },
  {
   "cell_type": "code",
   "execution_count": 4,
   "metadata": {},
   "outputs": [],
   "source": [
    "X0_batch = np.array([[0, 1, 2], [3, 4, 5], [6, 7, 8], [9, 0, 1]]) # t = 0\n",
    "X1_batch = np.array([[9, 8, 7], [0, 0, 0], [6, 5, 4], [3, 2, 1]]) # t = 1\n",
    "\n",
    "with tf.Session() as sess:\n",
    "    init.run()\n",
    "    Y0_val, Y1_val = sess.run([Y0, Y1], feed_dict={X0: X0_batch, X1: X1_batch})"
   ]
  },
  {
   "cell_type": "code",
   "execution_count": 5,
   "metadata": {},
   "outputs": [
    {
     "name": "stdout",
     "output_type": "stream",
     "text": [
      "[[-0.06640061  0.9625767   0.6810579   0.7091854  -0.89821595]\n [ 0.99777555 -0.7197888  -0.99657613  0.96739244 -0.99989706]\n [ 0.99999785 -0.9989881  -0.99999887  0.9967763  -0.9999999 ]\n [ 1.         -1.         -1.         -0.9981892   0.9995087 ]]\n"
     ]
    }
   ],
   "source": [
    "print(Y0_val)"
   ]
  },
  {
   "cell_type": "code",
   "execution_count": 6,
   "metadata": {},
   "outputs": [
    {
     "name": "stdout",
     "output_type": "stream",
     "text": [
      "[[ 1.         -1.         -1.          0.40200272 -0.99999994]\n [-0.12210429  0.62805295  0.96718436 -0.9937122  -0.2583933 ]\n [ 0.99999815 -0.9999994  -0.99999744 -0.8594331  -0.99998796]\n [ 0.99928296 -0.9999981  -0.9999059   0.98579615 -0.9220575 ]]\n"
     ]
    }
   ],
   "source": [
    "print(Y1_val)"
   ]
  },
  {
   "cell_type": "markdown",
   "metadata": {},
   "source": [
    "#### Static Unrolling Through Time"
   ]
  },
  {
   "cell_type": "code",
   "execution_count": 7,
   "metadata": {},
   "outputs": [],
   "source": [
    "reset_graph()\n",
    "\n",
    "\n",
    "n_steps = 2\n",
    "n_inputs = 3\n",
    "n_neurons = 5\n",
    "\n",
    "\n",
    "X = tf.placeholder(tf.float32, [None, n_steps, n_inputs])\n",
    "X_seqs = tf.unstack(tf.transpose(X, perm=[1, 0, 2]))\n",
    "\n",
    "basic_cell = tf.contrib.rnn.BasicRNNCell(num_units=n_neurons)\n",
    "output_seqs, states = tf.contrib.rnn.static_rnn(basic_cell, X_seqs,\n",
    "                                                dtype=tf.float32)\n",
    "outputs = tf.transpose(tf.stack(output_seqs), perm=[1, 0, 2])\n",
    "\n",
    "init = tf.global_variables_initializer()"
   ]
  },
  {
   "cell_type": "code",
   "execution_count": 8,
   "metadata": {},
   "outputs": [],
   "source": [
    "X_batch = np.array([\n",
    "        # t = 0      t = 1 \n",
    "        [[0, 1, 2], [9, 8, 7]], # instance 1\n",
    "        [[3, 4, 5], [0, 0, 0]], # instance 2\n",
    "        [[6, 7, 8], [6, 5, 4]], # instance 3\n",
    "        [[9, 0, 1], [3, 2, 1]], # instance 4\n",
    "    ])\n",
    "\n",
    "with tf.Session() as sess:\n",
    "    init.run()\n",
    "    outputs_val = outputs.eval(feed_dict={X: X_batch})"
   ]
  },
  {
   "cell_type": "code",
   "execution_count": 9,
   "metadata": {},
   "outputs": [
    {
     "name": "stdout",
     "output_type": "stream",
     "text": [
      "[[[-0.4565232  -0.6806412   0.40938237  0.631045   -0.45732823]\n  [-0.94288003 -0.9998869   0.9405581   0.99999845 -0.99999976]]\n\n [[-0.80015343 -0.99218273  0.78177965  0.9971032  -0.9964609 ]\n  [-0.637116    0.11300934  0.5798437   0.43105593 -0.6371699 ]]\n\n [[-0.93605185 -0.99983793  0.9308867   0.9999814  -0.99998313]\n  [-0.9165386  -0.99456036  0.89605415  0.9998719  -0.9999751 ]]\n\n [[ 0.99273676 -0.9981933  -0.5554365   0.99890316 -0.9953323 ]\n  [-0.02746333 -0.7319198   0.7827872   0.9525682  -0.9781772 ]]]\n"
     ]
    }
   ],
   "source": [
    "print(outputs_val)"
   ]
  },
  {
   "cell_type": "code",
   "execution_count": 10,
   "metadata": {},
   "outputs": [
    {
     "name": "stdout",
     "output_type": "stream",
     "text": [
      "[[-0.94288003 -0.9998869   0.9405581   0.99999845 -0.99999976]\n [-0.637116    0.11300934  0.5798437   0.43105593 -0.6371699 ]\n [-0.9165386  -0.99456036  0.89605415  0.9998719  -0.9999751 ]\n [-0.02746333 -0.7319198   0.7827872   0.9525682  -0.9781772 ]]\n"
     ]
    }
   ],
   "source": [
    "print(np.transpose(outputs_val, axes=[1, 0, 2])[1])"
   ]
  },
  {
   "cell_type": "markdown",
   "metadata": {},
   "source": [
    "#### Dynamic Unrolling Through Time\n",
    "\n",
    "much better and cleaner."
   ]
  },
  {
   "cell_type": "code",
   "execution_count": 11,
   "metadata": {},
   "outputs": [],
   "source": [
    "n_steps = 2\n",
    "n_inputs = 3\n",
    "n_neurons = 5\n",
    "\n",
    "reset_graph()\n",
    "\n",
    "X = tf.placeholder(tf.float32, [None, n_steps, n_inputs])\n",
    "\n",
    "basic_cell = tf.contrib.rnn.BasicRNNCell(num_units=n_neurons)\n",
    "outputs, states = tf.nn.dynamic_rnn(basic_cell, X, dtype=tf.float32)\n",
    "\n",
    "init = tf.global_variables_initializer()\n"
   ]
  },
  {
   "cell_type": "code",
   "execution_count": 12,
   "metadata": {},
   "outputs": [],
   "source": [
    "X_batch = np.array([\n",
    "        [[0, 1, 2], [9, 8, 7]], # instance 1\n",
    "        [[3, 4, 5], [0, 0, 0]], # instance 2\n",
    "        [[6, 7, 8], [6, 5, 4]], # instance 3\n",
    "        [[9, 0, 1], [3, 2, 1]], # instance 4\n",
    "    ])\n",
    "\n",
    "with tf.Session() as sess:\n",
    "    init.run()\n",
    "    outputs_val = outputs.eval(feed_dict={X: X_batch})"
   ]
  },
  {
   "cell_type": "code",
   "execution_count": 13,
   "metadata": {},
   "outputs": [
    {
     "name": "stdout",
     "output_type": "stream",
     "text": [
      "[[[-0.85115266  0.8735834   0.5802911   0.8954789  -0.0557505 ]\n  [-0.99999595  0.9999957   0.9981816   1.          0.37679613]]\n\n [[-0.99832934  0.9992038   0.98071444  0.99998486  0.25192654]\n  [-0.7081804  -0.07723369 -0.8522789   0.5845347  -0.7878094 ]]\n\n [[-0.9999826   0.9999953   0.99928635  1.          0.51590705]\n  [-0.9993956   0.9984095   0.83422637  0.9999998  -0.47325197]]\n\n [[ 0.87888587  0.07356028  0.9721692   0.9998546  -0.7351168 ]\n  [-0.9134514   0.3600957   0.7624865   0.99817705  0.80142   ]]]\n"
     ]
    }
   ],
   "source": [
    "print(outputs_val)"
   ]
  },
  {
   "cell_type": "markdown",
   "metadata": {},
   "source": [
    "#### Handling Variable Lenght Input Sequence\n",
    "\n",
    "set sequence length parameter when calling dynamic_rnn"
   ]
  },
  {
   "cell_type": "code",
   "execution_count": 14,
   "metadata": {},
   "outputs": [],
   "source": [
    "n_steps = 2\n",
    "n_inputs = 3\n",
    "n_neurons = 5\n",
    "\n",
    "reset_graph()\n",
    "\n",
    "X = tf.placeholder(tf.float32, [None, n_steps, n_inputs])\n",
    "basic_cell = tf.contrib.rnn.BasicRNNCell(num_units=n_neurons)"
   ]
  },
  {
   "cell_type": "code",
   "execution_count": 15,
   "metadata": {},
   "outputs": [],
   "source": [
    "seq_length = tf.placeholder(tf.int32, [None])\n",
    "outputs, states = tf.nn.dynamic_rnn(basic_cell, X, dtype=tf.float32,\n",
    "                                    sequence_length=seq_length)"
   ]
  },
  {
   "cell_type": "code",
   "execution_count": 16,
   "metadata": {},
   "outputs": [],
   "source": [
    "init = tf.global_variables_initializer()"
   ]
  },
  {
   "cell_type": "code",
   "execution_count": 17,
   "metadata": {},
   "outputs": [],
   "source": [
    "X_batch = np.array([\n",
    "        # step 0     step 1\n",
    "        [[0, 1, 2], [9, 8, 7]], # instance 1\n",
    "        [[3, 4, 5], [0, 0, 0]], # instance 2 (padded with zero vectors)\n",
    "        [[6, 7, 8], [6, 5, 4]], # instance 3\n",
    "        [[9, 0, 1], [3, 2, 1]], # instance 4\n",
    "    ])\n",
    "seq_length_batch = np.array([2, 1, 2, 2])"
   ]
  },
  {
   "cell_type": "code",
   "execution_count": 18,
   "metadata": {},
   "outputs": [],
   "source": [
    "with tf.Session() as sess:\n",
    "    init.run()\n",
    "    outputs_val, states_val = sess.run(\n",
    "        [outputs, states], feed_dict={X: X_batch, seq_length: seq_length_batch})"
   ]
  },
  {
   "cell_type": "markdown",
   "metadata": {},
   "source": [
    "#### Handling Variable-Length Output Sequences\n",
    "\n",
    "solution is to define a secial output called an end-of-sequence token"
   ]
  },
  {
   "cell_type": "markdown",
   "metadata": {},
   "source": [
    "## Training RNNs\n",
    "-----\n",
    "\n",
    "The trick is to unroll it through time and use regular backprop(backpropagation through time)\n",
    "- first pass through unrolled network\n",
    "- then output sequence is evaluated using a cost function $C(Y_{(t_min)}, Y_{(t_min + 1)}, ..., Y_{(t_max)}$\n",
    "- Gradients of cost function propagated backward through the unrolled network\n",
    "- finally model parameters are updated using the gradients computed during BPTT\n",
    "\n",
    "NOTE: Gradients flow backward through all the outputs used by the cost function, not just final output. Since W and b are used at each time step, backprop will do the right thing and sum over all time steps\n",
    "\n",
    "#### Training a Sequence Classifier\n"
   ]
  },
  {
   "cell_type": "code",
   "execution_count": 19,
   "metadata": {},
   "outputs": [],
   "source": [
    "reset_graph()\n",
    "\n",
    "n_steps = 28\n",
    "n_inputs = 28\n",
    "n_neurons = 150\n",
    "n_outputs = 10\n",
    "\n",
    "learning_rate = 0.001\n",
    "\n",
    "X = tf.placeholder(tf.float32, [None, n_steps, n_inputs])\n",
    "y = tf.placeholder(tf.int32, [None])\n",
    "\n",
    "basic_cell = tf.contrib.rnn.BasicRNNCell(num_units=n_neurons)\n",
    "outputs, states = tf.nn.dynamic_rnn(basic_cell, X, dtype=tf.float32)\n",
    "\n",
    "logits = tf.layers.dense(states, n_outputs)\n",
    "xentropy = tf.nn.sparse_softmax_cross_entropy_with_logits(labels=y, logits=logits)\n",
    "\n",
    "loss = tf.reduce_mean(xentropy)\n",
    "optimizer = tf.train.AdamOptimizer(learning_rate=learning_rate)\n",
    "training_op = optimizer.minimize(loss)\n",
    "correct = tf.nn.in_top_k(logits, y, 1)\n",
    "accuracy = tf.reduce_mean(tf.cast(correct, tf.float32))\n",
    "\n",
    "init = tf.global_variables_initializer()"
   ]
  },
  {
   "cell_type": "code",
   "execution_count": 21,
   "metadata": {},
   "outputs": [
    {
     "name": "stdout",
     "output_type": "stream",
     "text": [
      "Extracting /tmp/data/train-images-idx3-ubyte.gz\n"
     ]
    },
    {
     "name": "stdout",
     "output_type": "stream",
     "text": [
      "Extracting /tmp/data/train-labels-idx1-ubyte.gz\nExtracting /tmp/data/t10k-images-idx3-ubyte.gz\nExtracting /tmp/data/t10k-labels-idx1-ubyte.gz\n"
     ]
    }
   ],
   "source": [
    "from tensorflow.examples.tutorials.mnist import input_data\n",
    "mnist = input_data.read_data_sets(\"/tmp/data/\")\n",
    "X_test = mnist.test.images.reshape((-1, n_steps, n_inputs))\n",
    "y_test = mnist.test.labels"
   ]
  },
  {
   "cell_type": "code",
   "execution_count": 23,
   "metadata": {},
   "outputs": [
    {
     "name": "stdout",
     "output_type": "stream",
     "text": [
      "0 Train accuracy: 0.96 Test accuracy: 0.9278\n"
     ]
    },
    {
     "name": "stdout",
     "output_type": "stream",
     "text": [
      "1 Train accuracy: 0.96666664 Test accuracy: 0.9477\n"
     ]
    },
    {
     "name": "stdout",
     "output_type": "stream",
     "text": [
      "2 Train accuracy: 0.96 Test accuracy: 0.9578\n"
     ]
    },
    {
     "name": "stdout",
     "output_type": "stream",
     "text": [
      "3 Train accuracy: 0.9533333 Test accuracy: 0.9618\n"
     ]
    },
    {
     "name": "stdout",
     "output_type": "stream",
     "text": [
      "4 Train accuracy: 0.99333334 Test accuracy: 0.9626\n"
     ]
    },
    {
     "name": "stdout",
     "output_type": "stream",
     "text": [
      "5 Train accuracy: 0.97333336 Test accuracy: 0.9669\n"
     ]
    },
    {
     "name": "stdout",
     "output_type": "stream",
     "text": [
      "6 Train accuracy: 0.9866667 Test accuracy: 0.9651\n"
     ]
    },
    {
     "name": "stdout",
     "output_type": "stream",
     "text": [
      "7 Train accuracy: 0.94 Test accuracy: 0.9689\n"
     ]
    },
    {
     "name": "stdout",
     "output_type": "stream",
     "text": [
      "8 Train accuracy: 0.9866667 Test accuracy: 0.9673\n"
     ]
    },
    {
     "name": "stdout",
     "output_type": "stream",
     "text": [
      "9 Train accuracy: 0.98 Test accuracy: 0.9736\n"
     ]
    },
    {
     "name": "stdout",
     "output_type": "stream",
     "text": [
      "10 Train accuracy: 0.99333334 Test accuracy: 0.9689\n"
     ]
    },
    {
     "name": "stdout",
     "output_type": "stream",
     "text": [
      "11 Train accuracy: 0.99333334 Test accuracy: 0.9746\n"
     ]
    },
    {
     "name": "stdout",
     "output_type": "stream",
     "text": [
      "12 Train accuracy: 0.9866667 Test accuracy: 0.9751\n"
     ]
    },
    {
     "name": "stdout",
     "output_type": "stream",
     "text": [
      "13 Train accuracy: 0.97333336 Test accuracy: 0.9684\n"
     ]
    },
    {
     "name": "stdout",
     "output_type": "stream",
     "text": [
      "14 Train accuracy: 1.0 Test accuracy: 0.9775\n"
     ]
    },
    {
     "name": "stdout",
     "output_type": "stream",
     "text": [
      "15 Train accuracy: 0.99333334 Test accuracy: 0.9751\n"
     ]
    },
    {
     "name": "stdout",
     "output_type": "stream",
     "text": [
      "16 Train accuracy: 0.9866667 Test accuracy: 0.9728\n"
     ]
    },
    {
     "name": "stdout",
     "output_type": "stream",
     "text": [
      "17 Train accuracy: 0.9866667 Test accuracy: 0.9694\n"
     ]
    },
    {
     "name": "stdout",
     "output_type": "stream",
     "text": [
      "18 Train accuracy: 0.9866667 Test accuracy: 0.9737\n"
     ]
    },
    {
     "name": "stdout",
     "output_type": "stream",
     "text": [
      "19 Train accuracy: 0.99333334 Test accuracy: 0.9766\n"
     ]
    },
    {
     "name": "stdout",
     "output_type": "stream",
     "text": [
      "20 Train accuracy: 0.98 Test accuracy: 0.9775\n"
     ]
    },
    {
     "name": "stdout",
     "output_type": "stream",
     "text": [
      "21 Train accuracy: 0.9866667 Test accuracy: 0.9769\n"
     ]
    },
    {
     "name": "stdout",
     "output_type": "stream",
     "text": [
      "22 Train accuracy: 0.9866667 Test accuracy: 0.9755\n"
     ]
    },
    {
     "name": "stdout",
     "output_type": "stream",
     "text": [
      "23 Train accuracy: 0.99333334 Test accuracy: 0.9719\n"
     ]
    },
    {
     "name": "stdout",
     "output_type": "stream",
     "text": [
      "24 Train accuracy: 0.9866667 Test accuracy: 0.9728\n"
     ]
    },
    {
     "name": "stdout",
     "output_type": "stream",
     "text": [
      "25 Train accuracy: 0.99333334 Test accuracy: 0.9737\n"
     ]
    },
    {
     "name": "stdout",
     "output_type": "stream",
     "text": [
      "26 Train accuracy: 0.99333334 Test accuracy: 0.9762\n"
     ]
    },
    {
     "name": "stdout",
     "output_type": "stream",
     "text": [
      "27 Train accuracy: 0.99333334 Test accuracy: 0.9753\n"
     ]
    },
    {
     "name": "stdout",
     "output_type": "stream",
     "text": [
      "28 Train accuracy: 0.99333334 Test accuracy: 0.977\n"
     ]
    },
    {
     "name": "stdout",
     "output_type": "stream",
     "text": [
      "29 Train accuracy: 0.99333334 Test accuracy: 0.971\n"
     ]
    },
    {
     "name": "stdout",
     "output_type": "stream",
     "text": [
      "30 Train accuracy: 0.98 Test accuracy: 0.9757\n"
     ]
    },
    {
     "name": "stdout",
     "output_type": "stream",
     "text": [
      "31 Train accuracy: 0.99333334 Test accuracy: 0.9772\n"
     ]
    },
    {
     "name": "stdout",
     "output_type": "stream",
     "text": [
      "32 Train accuracy: 0.9866667 Test accuracy: 0.9808\n"
     ]
    },
    {
     "name": "stdout",
     "output_type": "stream",
     "text": [
      "33 Train accuracy: 0.98 Test accuracy: 0.9734\n"
     ]
    },
    {
     "name": "stdout",
     "output_type": "stream",
     "text": [
      "34 Train accuracy: 1.0 Test accuracy: 0.9774\n"
     ]
    },
    {
     "name": "stdout",
     "output_type": "stream",
     "text": [
      "35 Train accuracy: 0.99333334 Test accuracy: 0.9776\n"
     ]
    },
    {
     "name": "stdout",
     "output_type": "stream",
     "text": [
      "36 Train accuracy: 0.97333336 Test accuracy: 0.9786\n"
     ]
    },
    {
     "name": "stdout",
     "output_type": "stream",
     "text": [
      "37 Train accuracy: 1.0 Test accuracy: 0.9801\n"
     ]
    },
    {
     "name": "stdout",
     "output_type": "stream",
     "text": [
      "38 Train accuracy: 0.99333334 Test accuracy: 0.9772\n"
     ]
    },
    {
     "name": "stdout",
     "output_type": "stream",
     "text": [
      "39 Train accuracy: 0.99333334 Test accuracy: 0.9687\n"
     ]
    },
    {
     "name": "stdout",
     "output_type": "stream",
     "text": [
      "40 Train accuracy: 0.9866667 Test accuracy: 0.9794\n"
     ]
    },
    {
     "name": "stdout",
     "output_type": "stream",
     "text": [
      "41 Train accuracy: 0.9866667 Test accuracy: 0.9771\n"
     ]
    },
    {
     "name": "stdout",
     "output_type": "stream",
     "text": [
      "42 Train accuracy: 0.98 Test accuracy: 0.9801\n"
     ]
    },
    {
     "name": "stdout",
     "output_type": "stream",
     "text": [
      "43 Train accuracy: 1.0 Test accuracy: 0.9768\n"
     ]
    },
    {
     "name": "stdout",
     "output_type": "stream",
     "text": [
      "44 Train accuracy: 0.9866667 Test accuracy: 0.9765\n"
     ]
    },
    {
     "name": "stdout",
     "output_type": "stream",
     "text": [
      "45 Train accuracy: 0.9866667 Test accuracy: 0.9755\n"
     ]
    },
    {
     "name": "stdout",
     "output_type": "stream",
     "text": [
      "46 Train accuracy: 0.99333334 Test accuracy: 0.9755\n"
     ]
    },
    {
     "name": "stdout",
     "output_type": "stream",
     "text": [
      "47 Train accuracy: 0.9866667 Test accuracy: 0.9732\n"
     ]
    },
    {
     "name": "stdout",
     "output_type": "stream",
     "text": [
      "48 Train accuracy: 0.99333334 Test accuracy: 0.9781\n"
     ]
    },
    {
     "name": "stdout",
     "output_type": "stream",
     "text": [
      "49 Train accuracy: 0.98 Test accuracy: 0.9766\n"
     ]
    },
    {
     "name": "stdout",
     "output_type": "stream",
     "text": [
      "50 Train accuracy: 0.99333334 Test accuracy: 0.9772\n"
     ]
    },
    {
     "name": "stdout",
     "output_type": "stream",
     "text": [
      "51 Train accuracy: 1.0 Test accuracy: 0.9776\n"
     ]
    },
    {
     "name": "stdout",
     "output_type": "stream",
     "text": [
      "52 Train accuracy: 0.99333334 Test accuracy: 0.9748\n"
     ]
    },
    {
     "name": "stdout",
     "output_type": "stream",
     "text": [
      "53 Train accuracy: 0.99333334 Test accuracy: 0.9744\n"
     ]
    },
    {
     "name": "stdout",
     "output_type": "stream",
     "text": [
      "54 Train accuracy: 0.9866667 Test accuracy: 0.9785\n"
     ]
    },
    {
     "name": "stdout",
     "output_type": "stream",
     "text": [
      "55 Train accuracy: 0.9866667 Test accuracy: 0.9757\n"
     ]
    },
    {
     "name": "stdout",
     "output_type": "stream",
     "text": [
      "56 Train accuracy: 0.9866667 Test accuracy: 0.9705\n"
     ]
    },
    {
     "name": "stdout",
     "output_type": "stream",
     "text": [
      "57 Train accuracy: 0.9866667 Test accuracy: 0.9772\n"
     ]
    },
    {
     "name": "stdout",
     "output_type": "stream",
     "text": [
      "58 Train accuracy: 1.0 Test accuracy: 0.977\n"
     ]
    },
    {
     "name": "stdout",
     "output_type": "stream",
     "text": [
      "59 Train accuracy: 0.99333334 Test accuracy: 0.9759\n"
     ]
    },
    {
     "name": "stdout",
     "output_type": "stream",
     "text": [
      "60 Train accuracy: 0.9866667 Test accuracy: 0.9764\n"
     ]
    },
    {
     "name": "stdout",
     "output_type": "stream",
     "text": [
      "61 Train accuracy: 0.9866667 Test accuracy: 0.9772\n"
     ]
    },
    {
     "name": "stdout",
     "output_type": "stream",
     "text": [
      "62 Train accuracy: 0.99333334 Test accuracy: 0.9732\n"
     ]
    },
    {
     "name": "stdout",
     "output_type": "stream",
     "text": [
      "63 Train accuracy: 0.99333334 Test accuracy: 0.9799\n"
     ]
    },
    {
     "name": "stdout",
     "output_type": "stream",
     "text": [
      "64 Train accuracy: 0.98 Test accuracy: 0.9722\n"
     ]
    },
    {
     "name": "stdout",
     "output_type": "stream",
     "text": [
      "65 Train accuracy: 0.99333334 Test accuracy: 0.9778\n"
     ]
    },
    {
     "name": "stdout",
     "output_type": "stream",
     "text": [
      "66 Train accuracy: 0.99333334 Test accuracy: 0.9786\n"
     ]
    },
    {
     "name": "stdout",
     "output_type": "stream",
     "text": [
      "67 Train accuracy: 1.0 Test accuracy: 0.9792\n"
     ]
    },
    {
     "name": "stdout",
     "output_type": "stream",
     "text": [
      "68 Train accuracy: 1.0 Test accuracy: 0.975\n"
     ]
    },
    {
     "name": "stdout",
     "output_type": "stream",
     "text": [
      "69 Train accuracy: 0.99333334 Test accuracy: 0.9774\n"
     ]
    },
    {
     "name": "stdout",
     "output_type": "stream",
     "text": [
      "70 Train accuracy: 1.0 Test accuracy: 0.9779\n"
     ]
    },
    {
     "name": "stdout",
     "output_type": "stream",
     "text": [
      "71 Train accuracy: 1.0 Test accuracy: 0.9779\n"
     ]
    },
    {
     "name": "stdout",
     "output_type": "stream",
     "text": [
      "72 Train accuracy: 0.98 Test accuracy: 0.976\n"
     ]
    },
    {
     "name": "stdout",
     "output_type": "stream",
     "text": [
      "73 Train accuracy: 1.0 Test accuracy: 0.9779\n"
     ]
    },
    {
     "name": "stdout",
     "output_type": "stream",
     "text": [
      "74 Train accuracy: 0.99333334 Test accuracy: 0.9774\n"
     ]
    },
    {
     "name": "stdout",
     "output_type": "stream",
     "text": [
      "75 Train accuracy: 1.0 Test accuracy: 0.9783\n"
     ]
    },
    {
     "name": "stdout",
     "output_type": "stream",
     "text": [
      "76 Train accuracy: 0.99333334 Test accuracy: 0.977\n"
     ]
    },
    {
     "name": "stdout",
     "output_type": "stream",
     "text": [
      "77 Train accuracy: 1.0 Test accuracy: 0.9817\n"
     ]
    },
    {
     "name": "stdout",
     "output_type": "stream",
     "text": [
      "78 Train accuracy: 0.9866667 Test accuracy: 0.9784\n"
     ]
    },
    {
     "name": "stdout",
     "output_type": "stream",
     "text": [
      "79 Train accuracy: 0.99333334 Test accuracy: 0.9723\n"
     ]
    },
    {
     "name": "stdout",
     "output_type": "stream",
     "text": [
      "80 Train accuracy: 0.99333334 Test accuracy: 0.9738\n"
     ]
    },
    {
     "name": "stdout",
     "output_type": "stream",
     "text": [
      "81 Train accuracy: 1.0 Test accuracy: 0.9791\n"
     ]
    },
    {
     "name": "stdout",
     "output_type": "stream",
     "text": [
      "82 Train accuracy: 0.99333334 Test accuracy: 0.9764\n"
     ]
    },
    {
     "name": "stdout",
     "output_type": "stream",
     "text": [
      "83 Train accuracy: 0.9866667 Test accuracy: 0.9796\n"
     ]
    },
    {
     "name": "stdout",
     "output_type": "stream",
     "text": [
      "84 Train accuracy: 0.99333334 Test accuracy: 0.975\n"
     ]
    },
    {
     "name": "stdout",
     "output_type": "stream",
     "text": [
      "85 Train accuracy: 0.99333334 Test accuracy: 0.9766\n"
     ]
    },
    {
     "name": "stdout",
     "output_type": "stream",
     "text": [
      "86 Train accuracy: 0.99333334 Test accuracy: 0.9775\n"
     ]
    },
    {
     "name": "stdout",
     "output_type": "stream",
     "text": [
      "87 Train accuracy: 0.99333334 Test accuracy: 0.9777\n"
     ]
    },
    {
     "name": "stdout",
     "output_type": "stream",
     "text": [
      "88 Train accuracy: 1.0 Test accuracy: 0.9835\n"
     ]
    },
    {
     "name": "stdout",
     "output_type": "stream",
     "text": [
      "89 Train accuracy: 0.99333334 Test accuracy: 0.9767\n"
     ]
    },
    {
     "name": "stdout",
     "output_type": "stream",
     "text": [
      "90 Train accuracy: 0.99333334 Test accuracy: 0.9749\n"
     ]
    },
    {
     "name": "stdout",
     "output_type": "stream",
     "text": [
      "91 Train accuracy: 0.99333334 Test accuracy: 0.9744\n"
     ]
    },
    {
     "name": "stdout",
     "output_type": "stream",
     "text": [
      "92 Train accuracy: 1.0 Test accuracy: 0.976\n"
     ]
    },
    {
     "name": "stdout",
     "output_type": "stream",
     "text": [
      "93 Train accuracy: 1.0 Test accuracy: 0.9796\n"
     ]
    },
    {
     "name": "stdout",
     "output_type": "stream",
     "text": [
      "94 Train accuracy: 1.0 Test accuracy: 0.9769\n"
     ]
    },
    {
     "name": "stdout",
     "output_type": "stream",
     "text": [
      "95 Train accuracy: 0.98 Test accuracy: 0.9782\n"
     ]
    },
    {
     "name": "stdout",
     "output_type": "stream",
     "text": [
      "96 Train accuracy: 1.0 Test accuracy: 0.9784\n"
     ]
    },
    {
     "name": "stdout",
     "output_type": "stream",
     "text": [
      "97 Train accuracy: 0.99333334 Test accuracy: 0.9792\n"
     ]
    },
    {
     "name": "stdout",
     "output_type": "stream",
     "text": [
      "98 Train accuracy: 0.99333334 Test accuracy: 0.9759\n"
     ]
    },
    {
     "name": "stdout",
     "output_type": "stream",
     "text": [
      "99 Train accuracy: 0.99333334 Test accuracy: 0.9762\n"
     ]
    }
   ],
   "source": [
    "n_epochs = 100\n",
    "batch_size = 150\n",
    "\n",
    "with tf.Session() as sess:\n",
    "    init.run()\n",
    "    for epoch in range(n_epochs):\n",
    "        for iteration in range(mnist.train.num_examples // batch_size):\n",
    "            X_batch, y_batch = mnist.train.next_batch(batch_size)\n",
    "            X_batch = X_batch.reshape((-1, n_steps, n_inputs))\n",
    "            sess.run(training_op, feed_dict={X:X_batch, y:y_batch})\n",
    "        acc_train = accuracy.eval(feed_dict={X:X_batch, y:y_batch})\n",
    "        acc_test = accuracy.eval(feed_dict={X: X_test, y: y_test})\n",
    "        print(epoch, \"Train accuracy:\", acc_train, \"Test accuracy:\", acc_test)"
   ]
  },
  {
   "cell_type": "markdown",
   "metadata": {},
   "source": [
    "##### Multi-layer RNN"
   ]
  },
  {
   "cell_type": "code",
   "execution_count": 25,
   "metadata": {},
   "outputs": [
    {
     "name": "stdout",
     "output_type": "stream",
     "text": [
      "0 Train accuracy: 0.9866667 Test accuracy: 0.9421\n"
     ]
    },
    {
     "name": "stdout",
     "output_type": "stream",
     "text": [
      "1 Train accuracy: 0.98 Test accuracy: 0.9454\n"
     ]
    },
    {
     "name": "stdout",
     "output_type": "stream",
     "text": [
      "2 Train accuracy: 0.98 Test accuracy: 0.9692\n"
     ]
    },
    {
     "name": "stdout",
     "output_type": "stream",
     "text": [
      "3 Train accuracy: 0.97333336 Test accuracy: 0.9698\n"
     ]
    },
    {
     "name": "stdout",
     "output_type": "stream",
     "text": [
      "4 Train accuracy: 0.9533333 Test accuracy: 0.9738\n"
     ]
    },
    {
     "name": "stdout",
     "output_type": "stream",
     "text": [
      "5 Train accuracy: 0.9866667 Test accuracy: 0.98\n"
     ]
    },
    {
     "name": "stdout",
     "output_type": "stream",
     "text": [
      "6 Train accuracy: 0.9533333 Test accuracy: 0.9768\n"
     ]
    },
    {
     "name": "stdout",
     "output_type": "stream",
     "text": [
      "7 Train accuracy: 0.9866667 Test accuracy: 0.9812\n"
     ]
    },
    {
     "name": "stdout",
     "output_type": "stream",
     "text": [
      "8 Train accuracy: 0.99333334 Test accuracy: 0.9805\n"
     ]
    },
    {
     "name": "stdout",
     "output_type": "stream",
     "text": [
      "9 Train accuracy: 1.0 Test accuracy: 0.9757\n"
     ]
    }
   ],
   "source": [
    "reset_graph()\n",
    "\n",
    "n_steps = 28\n",
    "n_inputs = 28\n",
    "n_outputs = 10\n",
    "\n",
    "learning_rate = 0.001\n",
    "\n",
    "X = tf.placeholder(tf.float32, [None, n_steps, n_inputs])\n",
    "y = tf.placeholder(tf.int32, [None])\n",
    "\n",
    "n_neurons = 100\n",
    "n_layers = 3\n",
    "\n",
    "layers = [tf.contrib.rnn.BasicRNNCell(num_units=n_neurons,\n",
    "                                      activation=tf.nn.relu)\n",
    "          for layer in range(n_layers)]\n",
    "multi_layer_cell = tf.contrib.rnn.MultiRNNCell(layers)\n",
    "outputs, states = tf.nn.dynamic_rnn(multi_layer_cell, X, dtype=tf.float32)\n",
    "\n",
    "states_concat = tf.concat(axis=1, values=states)\n",
    "logits = tf.layers.dense(states_concat, n_outputs)\n",
    "xentropy = tf.nn.sparse_softmax_cross_entropy_with_logits(labels=y, logits=logits)\n",
    "loss = tf.reduce_mean(xentropy)\n",
    "optimizer = tf.train.AdamOptimizer(learning_rate=learning_rate)\n",
    "training_op = optimizer.minimize(loss)\n",
    "correct = tf.nn.in_top_k(logits, y, 1)\n",
    "accuracy = tf.reduce_mean(tf.cast(correct, tf.float32))\n",
    "\n",
    "init = tf.global_variables_initializer()\n",
    "\n",
    "n_epochs = 10\n",
    "batch_size = 150\n",
    "\n",
    "with tf.Session() as sess:\n",
    "    init.run()\n",
    "    for epoch in range(n_epochs):\n",
    "        for iteration in range(mnist.train.num_examples // batch_size):\n",
    "            X_batch, y_batch = mnist.train.next_batch(batch_size)\n",
    "            X_batch = X_batch.reshape((-1, n_steps, n_inputs))\n",
    "            sess.run(training_op, feed_dict={X: X_batch, y: y_batch})\n",
    "        acc_train = accuracy.eval(feed_dict={X: X_batch, y: y_batch})\n",
    "        acc_test = accuracy.eval(feed_dict={X: X_test, y: y_test})\n",
    "        print(epoch, \"Train accuracy:\", acc_train, \"Test accuracy:\", acc_test)"
   ]
  },
  {
   "cell_type": "markdown",
   "metadata": {},
   "source": [
    "#### Training to Predict Time Series\n",
    "\n",
    "How to handle times series, such as, stock prices, air temperature, brain wave patterns, ...\n",
    "\n",
    "Will Train RNN to predict next value in a generated time series."
   ]
  },
  {
   "cell_type": "code",
   "execution_count": 35,
   "metadata": {},
   "outputs": [
    {
     "data": {
      "image/png": "[encoded data removed]",
      "text/plain": [
       "<Figure size 792x288 with 2 Axes>"
      ]
     },
     "metadata": {},
     "output_type": "display_data"
    }
   ],
   "source": [
    "t_min, t_max = 0, 30\n",
    "resolution = 0.1\n",
    "\n",
    "def time_series(t):\n",
    "    return t * np.sin(t) / 3 + 2 * np.sin(t*5)\n",
    "\n",
    "def next_batch(batch_size, n_steps):\n",
    "    t0 = np.random.rand(batch_size, 1) * (t_max - t_min - n_steps * resolution)\n",
    "    Ts = t0 + np.arange(0., n_steps + 1) * resolution\n",
    "    ys = time_series(Ts)\n",
    "    return ys[:, :-1].reshape(-1, n_steps, 1), ys[:, 1:].reshape(-1, n_steps, 1)\n",
    "\n",
    "t = np.linspace(t_min, t_max, int((t_max - t_min) / resolution))\n",
    "\n",
    "n_steps = 20\n",
    "t_instance = np.linspace(12.2, 12.2 + resolution * (n_steps + 1), n_steps + 1)\n",
    "\n",
    "plt.figure(figsize=(11,4))\n",
    "plt.subplot(121)\n",
    "plt.title(\"A time series (generated)\", fontsize=14)\n",
    "plt.plot(t, time_series(t), label=r\"$t . \\sin(t) / 3 + 2 . \\sin(5t)$\")\n",
    "plt.plot(t_instance[:-1], time_series(t_instance[:-1]), \"b-\", linewidth=3, label=\"A training instance\")\n",
    "plt.legend(loc=\"lower left\", fontsize=14)\n",
    "plt.axis([0, 30, -17, 13])\n",
    "plt.xlabel(\"Time\")\n",
    "plt.ylabel(\"Value\")\n",
    "\n",
    "plt.subplot(122)\n",
    "plt.title(\"A training instance\", fontsize=14)\n",
    "plt.plot(t_instance[:-1], time_series(t_instance[:-1]), \"bo\", markersize=10, label=\"instance\")\n",
    "plt.plot(t_instance[1:], time_series(t_instance[1:]), \"w*\", markersize=10, label=\"target\")\n",
    "plt.legend(loc=\"upper left\")\n",
    "plt.xlabel(\"Time\")\n",
    "\n",
    "plt.show()"
   ]
  },
  {
   "cell_type": "code",
   "execution_count": 29,
   "metadata": {},
   "outputs": [],
   "source": [
    "reset_graph()\n",
    "\n",
    "n_steps = 20\n",
    "n_inputs = 1\n",
    "n_neurons = 100\n",
    "n_outputs = 1\n",
    "\n",
    "X = tf.placeholder(tf.float32, [None, n_steps, n_inputs])\n",
    "y = tf.placeholder(tf.float32, [None, n_steps, n_inputs])\n",
    "# cell = tf.contrib.rnn.BasicRNNCell(num_units=n_neurons, activation=tf.nn.relu)\n",
    "# outputs, states = tf.nn.dynamic_rnn(cell, X, dtype=tf.float32)"
   ]
  },
  {
   "cell_type": "markdown",
   "metadata": {},
   "source": [
    "At each time step we have an output vector of size 100, but we want a single output value at each time step: solution is to wrap thecell in an OutputProjectionWrapper. Acts like a normal cell, proxying every method call to an underlying cell, but also adds some functionality. Adds a fully connected layer of linear neurons on top of each output."
   ]
  },
  {
   "cell_type": "code",
   "execution_count": 30,
   "metadata": {},
   "outputs": [],
   "source": [
    "cell = tf.contrib.rnn.OutputProjectionWrapper(\n",
    "    tf.contrib.rnn.BasicRNNCell(num_units=n_neurons, activation=tf.nn.relu),\n",
    "    output_size=n_outputs\n",
    ")"
   ]
  },
  {
   "cell_type": "code",
   "execution_count": 31,
   "metadata": {},
   "outputs": [],
   "source": [
    "outputs, states = tf.nn.dynamic_rnn(cell, X, dtype=tf.float32)"
   ]
  },
  {
   "cell_type": "code",
   "execution_count": 32,
   "metadata": {},
   "outputs": [],
   "source": [
    "# using MSE as in previous regression tasks\n",
    "\n",
    "learning_rate = 0.001\n",
    "\n",
    "loss = tf.reduce_mean(tf.square(outputs - y)) # MSE\n",
    "optimizer = tf.train.AdamOptimizer(learning_rate=learning_rate)\n",
    "training_op = optimizer.minimize(loss)\n",
    "\n",
    "init = tf.global_variables_initializer()"
   ]
  },
  {
   "cell_type": "code",
   "execution_count": 33,
   "metadata": {},
   "outputs": [],
   "source": [
    "saver = tf.train.Saver()"
   ]
  },
  {
   "cell_type": "code",
   "execution_count": 36,
   "metadata": {},
   "outputs": [
    {
     "name": "stdout",
     "output_type": "stream",
     "text": [
      "0 \tMSE: 11.967253\n"
     ]
    },
    {
     "name": "stdout",
     "output_type": "stream",
     "text": [
      "100 \tMSE: 0.5226388\n"
     ]
    },
    {
     "name": "stdout",
     "output_type": "stream",
     "text": [
      "200 \tMSE: 0.1505317\n"
     ]
    },
    {
     "name": "stdout",
     "output_type": "stream",
     "text": [
      "300 \tMSE: 0.07337479\n"
     ]
    },
    {
     "name": "stdout",
     "output_type": "stream",
     "text": [
      "400 \tMSE: 0.06307488\n"
     ]
    },
    {
     "name": "stdout",
     "output_type": "stream",
     "text": [
      "500 \tMSE: 0.058736313\n"
     ]
    },
    {
     "name": "stdout",
     "output_type": "stream",
     "text": [
      "600 \tMSE: 0.053429067\n"
     ]
    },
    {
     "name": "stdout",
     "output_type": "stream",
     "text": [
      "700 \tMSE: 0.04863796\n"
     ]
    },
    {
     "name": "stdout",
     "output_type": "stream",
     "text": [
      "800 \tMSE: 0.05172879\n"
     ]
    },
    {
     "name": "stdout",
     "output_type": "stream",
     "text": [
      "900 \tMSE: 0.04709948\n"
     ]
    },
    {
     "name": "stdout",
     "output_type": "stream",
     "text": [
      "1000 \tMSE: 0.047031786\n"
     ]
    },
    {
     "name": "stdout",
     "output_type": "stream",
     "text": [
      "1100 \tMSE: 0.048212465\n"
     ]
    },
    {
     "name": "stdout",
     "output_type": "stream",
     "text": [
      "1200 \tMSE: 0.041239616\n"
     ]
    },
    {
     "name": "stdout",
     "output_type": "stream",
     "text": [
      "1300 \tMSE: 0.047570735\n"
     ]
    },
    {
     "name": "stdout",
     "output_type": "stream",
     "text": [
      "1400 \tMSE: 0.041913968\n"
     ]
    }
   ],
   "source": [
    "n_iterations = 1500\n",
    "batch_size = 50\n",
    "\n",
    "with tf.Session() as sess:\n",
    "    init.run()\n",
    "    for iteration in range(n_iterations):\n",
    "        X_batch, y_batch = next_batch(batch_size, n_steps)\n",
    "        sess.run(training_op, feed_dict={X: X_batch, y: y_batch})\n",
    "        if iteration % 100 == 0:\n",
    "            mse = loss.eval(feed_dict={X: X_batch, y: y_batch})\n",
    "            print(iteration, \"\\tMSE:\", mse)\n",
    "    \n",
    "    saver.save(sess, \"tmp_models/ch14_my_time_series_model\")"
   ]
  },
  {
   "cell_type": "code",
   "execution_count": 37,
   "metadata": {},
   "outputs": [
    {
     "name": "stdout",
     "output_type": "stream",
     "text": [
      "INFO:tensorflow:Restoring parameters from tmp_models/ch14_my_time_series_model\n"
     ]
    }
   ],
   "source": [
    "with tf.Session() as sess:                         \n",
    "    saver.restore(sess, \"tmp_models/ch14_my_time_series_model\")   \n",
    "\n",
    "    X_new = time_series(np.array(t_instance[:-1].reshape(-1, n_steps, n_inputs)))\n",
    "    y_pred = sess.run(outputs, feed_dict={X: X_new})"
   ]
  },
  {
   "cell_type": "code",
   "execution_count": 38,
   "metadata": {},
   "outputs": [
    {
     "data": {
      "text/plain": [
       "array([[[-3.4085307 ],\n        [-2.4495344 ],\n        [-1.1283568 ],\n        [ 0.79252553],\n        [ 2.1931982 ],\n        [ 3.1304042 ],\n        [ 3.4483178 ],\n        [ 3.3188756 ],\n        [ 2.88319   ],\n        [ 2.2525046 ],\n        [ 1.667691  ],\n        [ 1.5240448 ],\n        [ 1.90556   ],\n        [ 2.721264  ],\n        [ 3.907832  ],\n        [ 5.1493607 ],\n        [ 6.1438413 ],\n        [ 6.6646748 ],\n        [ 6.6405025 ],\n        [ 6.0708013 ]]], dtype=float32)"
      ]
     },
     "execution_count": 38,
     "metadata": {},
     "output_type": "execute_result"
    }
   ],
   "source": [
    "y_pred"
   ]
  },
  {
   "cell_type": "code",
   "execution_count": 40,
   "metadata": {},
   "outputs": [
    {
     "data": {
      "image/png": "[encoded data removed]",
      "text/plain": [
       "<Figure size 432x288 with 1 Axes>"
      ]
     },
     "metadata": {},
     "output_type": "display_data"
    }
   ],
   "source": [
    "plt.title(\"Testing the model\", fontsize=14)\n",
    "plt.plot(t_instance[:-1], time_series(t_instance[:-1]), \"bo\", markersize=10, label=\"instance\")\n",
    "plt.plot(t_instance[1:], time_series(t_instance[1:]), \"w*\", markersize=10, label=\"target\")\n",
    "plt.plot(t_instance[1:], y_pred[0,:,0], \"r.\", markersize=10, label=\"prediction\")\n",
    "plt.legend(loc=\"upper left\")\n",
    "plt.xlabel(\"Time\")\n",
    "\n",
    "plt.show()"
   ]
  },
  {
   "cell_type": "markdown",
   "metadata": {},
   "source": [
    "Using OutputProjectionWrapper is the simplest solution to reduce the dimensionality of the RNN's output sequence down to just one value per time step, but its is not the most efficient.\n",
    "\n",
    "Can reshape RNN output from [batch_size, n_steps, n_neurons] to [batch_size * n_steps, n_neurons], then apply a single fully connected layer with the appropriate output size, which will result in an output tensor of shape [batch_size * n_steps, n_outputs], then reshape that tensor to [batch_size, n_steps, n_outputs]"
   ]
  },
  {
   "cell_type": "code",
   "execution_count": 41,
   "metadata": {},
   "outputs": [],
   "source": [
    "reset_graph()\n",
    "\n",
    "n_steps = 20\n",
    "n_inputs = 1\n",
    "n_neurons = 100\n",
    "\n",
    "X = tf.placeholder(tf.float32, [None, n_steps, n_inputs])\n",
    "y = tf.placeholder(tf.float32, [None, n_steps, n_outputs])"
   ]
  },
  {
   "cell_type": "code",
   "execution_count": 42,
   "metadata": {},
   "outputs": [],
   "source": [
    "cell = tf.contrib.rnn.BasicRNNCell(num_units=n_neurons, activation=tf.nn.relu)\n",
    "rnn_outputs, states = tf.nn.dynamic_rnn(cell, X, dtype=tf.float32)"
   ]
  },
  {
   "cell_type": "code",
   "execution_count": 43,
   "metadata": {},
   "outputs": [],
   "source": [
    "n_outputs = 1\n",
    "learning_rate = 0.001"
   ]
  },
  {
   "cell_type": "code",
   "execution_count": 44,
   "metadata": {},
   "outputs": [],
   "source": [
    "stacked_rnn_outputs = tf.reshape(rnn_outputs, [-1, n_neurons])\n",
    "stacked_outputs = tf.layers.dense(stacked_rnn_outputs, n_outputs)\n",
    "outputs = tf.reshape(stacked_outputs, [-1, n_steps, n_outputs])"
   ]
  },
  {
   "cell_type": "code",
   "execution_count": 45,
   "metadata": {},
   "outputs": [],
   "source": [
    "loss = tf.reduce_mean(tf.square(outputs - y))\n",
    "optimizer = tf.train.AdamOptimizer(learning_rate=learning_rate)\n",
    "training_op = optimizer.minimize(loss)\n",
    "\n",
    "init = tf.global_variables_initializer()\n",
    "saver = tf.train.Saver()"
   ]
  },
  {
   "cell_type": "code",
   "execution_count": 47,
   "metadata": {},
   "outputs": [
    {
     "name": "stdout",
     "output_type": "stream",
     "text": [
      "0 \tMSE: 18.78892\n"
     ]
    },
    {
     "name": "stdout",
     "output_type": "stream",
     "text": [
      "100 \tMSE: 0.52657694\n"
     ]
    },
    {
     "name": "stdout",
     "output_type": "stream",
     "text": [
      "200 \tMSE: 0.30731794\n"
     ]
    },
    {
     "name": "stdout",
     "output_type": "stream",
     "text": [
      "300 \tMSE: 0.07393924\n"
     ]
    },
    {
     "name": "stdout",
     "output_type": "stream",
     "text": [
      "400 \tMSE: 0.06742107\n"
     ]
    },
    {
     "name": "stdout",
     "output_type": "stream",
     "text": [
      "500 \tMSE: 0.053571284\n"
     ]
    },
    {
     "name": "stdout",
     "output_type": "stream",
     "text": [
      "600 \tMSE: 0.042269114\n"
     ]
    },
    {
     "name": "stdout",
     "output_type": "stream",
     "text": [
      "700 \tMSE: 0.047427326\n"
     ]
    },
    {
     "name": "stdout",
     "output_type": "stream",
     "text": [
      "800 \tMSE: 0.055147786\n"
     ]
    },
    {
     "name": "stdout",
     "output_type": "stream",
     "text": [
      "900 \tMSE: 0.045811933\n"
     ]
    },
    {
     "name": "stdout",
     "output_type": "stream",
     "text": [
      "1000 \tMSE: 0.0427394\n"
     ]
    },
    {
     "name": "stdout",
     "output_type": "stream",
     "text": [
      "1100 \tMSE: 0.039586022\n"
     ]
    },
    {
     "name": "stdout",
     "output_type": "stream",
     "text": [
      "1200 \tMSE: 0.040910203\n"
     ]
    },
    {
     "name": "stdout",
     "output_type": "stream",
     "text": [
      "1300 \tMSE: 0.03954869\n"
     ]
    },
    {
     "name": "stdout",
     "output_type": "stream",
     "text": [
      "1400 \tMSE: 0.035478625\n"
     ]
    }
   ],
   "source": [
    "n_iterations = 1500\n",
    "batch_size = 50\n",
    "\n",
    "with tf.Session() as sess:\n",
    "    init.run()\n",
    "    for iteration in range(n_iterations):\n",
    "        X_batch, y_batch = next_batch(batch_size, n_steps)\n",
    "        sess.run(training_op, feed_dict={X: X_batch, y: y_batch})\n",
    "        if iteration % 100 == 0:\n",
    "            mse = loss.eval(feed_dict={X: X_batch, y: y_batch})\n",
    "            print(iteration, \"\\tMSE:\", mse)\n",
    "    \n",
    "    X_new = time_series(np.array(t_instance[:-1].reshape(-1, n_steps, n_inputs)))\n",
    "    y_pred = sess.run(outputs, feed_dict={X: X_new})\n",
    "    \n",
    "    saver.save(sess, \"tmp_models/ch14_my_time_series_model_2\")"
   ]
  },
  {
   "cell_type": "code",
   "execution_count": 49,
   "metadata": {},
   "outputs": [
    {
     "data": {
      "image/png": "[encoded data removed]",
      "text/plain": [
       "<Figure size 432x288 with 1 Axes>"
      ]
     },
     "metadata": {},
     "output_type": "display_data"
    }
   ],
   "source": [
    "plt.title(\"Testing the model\", fontsize=14)\n",
    "plt.plot(t_instance[:-1], time_series(t_instance[:-1]), \"bo\", markersize=10, label=\"instance\")\n",
    "plt.plot(t_instance[1:], time_series(t_instance[1:]), \"w*\", markersize=10, label=\"target\")\n",
    "plt.plot(t_instance[1:], y_pred[0,:,0], \"r.\", markersize=10, label=\"prediction\")\n",
    "plt.legend(loc=\"upper left\")\n",
    "plt.xlabel(\"Time\")\n",
    "\n",
    "plt.show()"
   ]
  },
  {
   "cell_type": "markdown",
   "metadata": {},
   "source": [
    "#### Creative RNN\n",
    "we have a model that can predict the future, so we can use it to generate some create sequences."
   ]
  },
  {
   "cell_type": "code",
   "execution_count": 50,
   "metadata": {},
   "outputs": [
    {
     "name": "stdout",
     "output_type": "stream",
     "text": [
      "INFO:tensorflow:Restoring parameters from tmp_models/ch14_my_time_series_model_2\n"
     ]
    }
   ],
   "source": [
    "with tf.Session() as sess:                       \n",
    "    saver.restore(sess, \"tmp_models/ch14_my_time_series_model_2\")\n",
    "\n",
    "    sequence = [0.] * n_steps\n",
    "    for iteration in range(300):\n",
    "        X_batch = np.array(sequence[-n_steps:]).reshape(1, n_steps, 1)\n",
    "        y_pred = sess.run(outputs, feed_dict={X: X_batch})\n",
    "        sequence.append(y_pred[0, -1, 0])\n"
   ]
  },
  {
   "cell_type": "code",
   "execution_count": 51,
   "metadata": {},
   "outputs": [
    {
     "data": {
      "image/png": "[encoded data removed]",
      "text/plain": [
       "<Figure size 576x288 with 1 Axes>"
      ]
     },
     "metadata": {},
     "output_type": "display_data"
    }
   ],
   "source": [
    "plt.figure(figsize=(8,4))\n",
    "plt.plot(np.arange(len(sequence)), sequence, \"b-\")\n",
    "plt.plot(t[:n_steps], sequence[:n_steps], \"b-\", linewidth=3)\n",
    "plt.xlabel(\"Time\")\n",
    "plt.ylabel(\"Value\")\n",
    "plt.show()"
   ]
  },
  {
   "cell_type": "markdown",
   "metadata": {},
   "source": [
    "## Deep RNNs\n",
    "-----\n",
    "It is common to stack multiple layers of cells. In tensorflow, create several cells and stack them into a MultiRNNCell"
   ]
  },
  {
   "cell_type": "code",
   "execution_count": 53,
   "metadata": {},
   "outputs": [],
   "source": [
    "reset_graph()\n",
    "\n",
    "n_inputs = 2\n",
    "n_steps = 5\n",
    "\n",
    "X = tf.placeholder(tf.float32, [None, n_steps, n_inputs])\n",
    "\n",
    "n_neurons = 100\n",
    "n_layers = 10\n",
    "\n",
    "layers = [tf.contrib.rnn.BasicRNNCell(num_units=n_neurons)\n",
    "          for layer in range(n_layers)]\n",
    "multi_layer_cell = tf.contrib.rnn.MultiRNNCell(layers)\n",
    "outputs, states = tf.nn.dynamic_rnn(multi_layer_cell, X, dtype=tf.float32)\n",
    "\n",
    "init = tf.global_variables_initializer()"
   ]
  },
  {
   "cell_type": "code",
   "execution_count": 55,
   "metadata": {},
   "outputs": [
    {
     "data": {
      "text/plain": [
       "(2, 5, 100)"
      ]
     },
     "execution_count": 55,
     "metadata": {},
     "output_type": "execute_result"
    }
   ],
   "source": [
    "X_batch = np.random.rand(2, n_steps, n_inputs)\n",
    "\n",
    "with tf.Session() as sess:\n",
    "    init.run()\n",
    "    outputs_val, states_val = sess.run([outputs, states], feed_dict={X: X_batch})\n",
    "    \n",
    "outputs_val.shape"
   ]
  },
  {
   "cell_type": "markdown",
   "metadata": {},
   "source": [
    "#### Distributing a Deep RNN Across Multiple GPUs\n",
    "\n",
    "CH12 pointed out that we can distribute Deep networks across multiple GPUs by pinning each layer to a different GPU. However if you try to create each cell in a different device() block, it will not work."
   ]
  },
  {
   "cell_type": "code",
   "execution_count": null,
   "metadata": {},
   "outputs": [],
   "source": [
    "with tf.device(\"/gpu:0\"):  # BAD! This is ignored.\n",
    "    layer1 = tf.contrib.rnn.BasicRNNCell(num_units=n_neurons)\n",
    "\n",
    "with tf.device(\"/gpu:1\"):  # BAD! Ignored again.\n",
    "    layer2 = tf.contrib.rnn.BasicRNNCell(num_units=n_neurons)"
   ]
  },
  {
   "cell_type": "markdown",
   "metadata": {},
   "source": [
    "Trick is to create own cell wrapper"
   ]
  },
  {
   "cell_type": "code",
   "execution_count": 56,
   "metadata": {},
   "outputs": [],
   "source": [
    "import tensorflow as tf\n",
    "\n",
    "class DeviceCellWrapper(tf.contrib.rnn.RNNCell):\n",
    "  def __init__(self, device, cell):\n",
    "    self._cell = cell\n",
    "    self._device = device\n",
    "\n",
    "  @property\n",
    "  def state_size(self):\n",
    "    return self._cell.state_size\n",
    "\n",
    "  @property\n",
    "  def output_size(self):\n",
    "    return self._cell.output_size\n",
    "\n",
    "  def __call__(self, inputs, state, scope=None):\n",
    "    with tf.device(self._device):\n",
    "        return self._cell(inputs, state, scope)"
   ]
  },
  {
   "cell_type": "code",
   "execution_count": 57,
   "metadata": {},
   "outputs": [],
   "source": [
    "reset_graph()\n",
    "\n",
    "n_inputs = 5\n",
    "n_steps = 20\n",
    "n_neurons = 100\n",
    "\n",
    "X = tf.placeholder(tf.float32, shape=[None, n_steps, n_inputs])"
   ]
  },
  {
   "cell_type": "code",
   "execution_count": 58,
   "metadata": {},
   "outputs": [],
   "source": [
    "devices = [\"/cpu:0\", \"/cpu:0\", \"/cpu:0\"] # replace with [\"/gpu:0\", \"/gpu:1\", \"/gpu:2\"] if you have 3 GPUs\n",
    "cells = [DeviceCellWrapper(dev,tf.contrib.rnn.BasicRNNCell(num_units=n_neurons))\n",
    "         for dev in devices]\n",
    "multi_layer_cell = tf.contrib.rnn.MultiRNNCell(cells)\n",
    "outputs, states = tf.nn.dynamic_rnn(multi_layer_cell, X, dtype=tf.float32)"
   ]
  },
  {
   "cell_type": "code",
   "execution_count": 59,
   "metadata": {},
   "outputs": [
    {
     "name": "stdout",
     "output_type": "stream",
     "text": [
      "[[[-3.29020061e-02  1.17019236e-01 -4.58992608e-02 ...  3.84477153e-02\n   -5.24900258e-02  5.80436960e-02]\n  [ 3.54288332e-02 -7.42610693e-02 -6.42375052e-02 ... -2.45757148e-01\n   -1.77626804e-01 -3.26535292e-03]\n  [ 2.59726584e-01  1.44605249e-01  3.29312116e-01 ...  3.38821977e-01\n    5.98853417e-02 -8.31450596e-02]\n  ...\n  [ 1.18043743e-01 -2.41663873e-01 -8.27798247e-01 ... -1.85782462e-01\n    1.89682379e-01 -1.35261893e-01]\n  [ 2.87830859e-01  3.92953992e-01 -3.15236300e-01 ... -7.85605535e-02\n    4.32724983e-01 -6.61824420e-02]\n  [ 7.49779761e-01  6.11052871e-01 -3.01685542e-01 ...  1.95649698e-01\n   -1.62457466e-01 -5.23968339e-02]]\n\n [[-6.68027624e-02  7.35576972e-02 -2.90275402e-02 ... -7.79968277e-02\n   -3.65773253e-02 -4.66752201e-02]\n  [ 1.71546549e-01  4.28418722e-03  2.18812120e-03 ...  3.68538052e-02\n   -8.13241452e-02  9.01001915e-02]\n  [ 3.45635489e-02 -9.57525298e-02  1.59450233e-01 ...  1.63022086e-01\n   -6.83046281e-02  1.07990295e-01]\n  ...\n  [ 1.96414590e-01 -2.15230390e-01 -5.82537949e-01 ...  3.02532643e-01\n    5.47862291e-01 -1.06282756e-02]\n  [ 2.01206997e-01  2.52655987e-02 -5.02945222e-02 ...  9.56110135e-02\n   -2.03766495e-01 -1.52696133e-01]\n  [ 4.77758050e-01  1.66605622e-01 -1.56402126e-01 ...  1.67080894e-01\n   -2.03233853e-01  7.59940522e-05]]]\n"
     ]
    }
   ],
   "source": [
    "init = tf.global_variables_initializer()\n",
    "\n",
    "with tf.Session() as sess:\n",
    "    init.run()\n",
    "    print(sess.run(outputs, feed_dict={X: np.random.rand(2, n_steps, n_inputs)}))"
   ]
  },
  {
   "cell_type": "markdown",
   "metadata": {},
   "source": [
    "#### Applying Dropout\n",
    "\n",
    "Add dropout layer before or after RNN to reduce the chance of overfitting. Or you can add dropout between RNN layers, using DropoutWrapper"
   ]
  },
  {
   "cell_type": "code",
   "execution_count": 61,
   "metadata": {},
   "outputs": [],
   "source": [
    "reset_graph()\n",
    "\n",
    "n_inputs = 1\n",
    "n_neurons = 100\n",
    "n_layers = 3\n",
    "n_steps = 20\n",
    "n_outputs = 1\n",
    "\n",
    "X = tf.placeholder(tf.float32, [None, n_steps, n_inputs])\n",
    "y = tf.placeholder(tf.float32, [None, n_steps, n_outputs])\n",
    "\n",
    "keep_prob = tf.placeholder_with_default(1.0, shape=())\n",
    "cells = [tf.contrib.rnn.BasicRNNCell(num_units=n_neurons)\n",
    "         for layer in range(n_layers)]\n",
    "cells_drop = [tf.contrib.rnn.DropoutWrapper(cell, input_keep_prob=keep_prob)\n",
    "              for cell in cells] \n",
    "################################\n",
    "# Note: Dropout will be applied during training and Testing, which is not what is wanted, no is_training placeholder\n",
    "################################\n",
    "multi_layer_cell = tf.contrib.rnn.MultiRNNCell(cells_drop)\n",
    "rnn_outputs, states = tf.nn.dynamic_rnn(multi_layer_cell, X, dtype=tf.float32)"
   ]
  },
  {
   "cell_type": "code",
   "execution_count": 62,
   "metadata": {},
   "outputs": [
    {
     "name": "stdout",
     "output_type": "stream",
     "text": [
      "0 Training MSE: 16.386942\n"
     ]
    },
    {
     "name": "stdout",
     "output_type": "stream",
     "text": [
      "100 Training MSE: 4.252455\n"
     ]
    },
    {
     "name": "stdout",
     "output_type": "stream",
     "text": [
      "200 Training MSE: 3.3292165\n"
     ]
    },
    {
     "name": "stdout",
     "output_type": "stream",
     "text": [
      "300 Training MSE: 3.3598757\n"
     ]
    },
    {
     "name": "stdout",
     "output_type": "stream",
     "text": [
      "400 Training MSE: 2.1441648\n"
     ]
    },
    {
     "name": "stdout",
     "output_type": "stream",
     "text": [
      "500 Training MSE: 3.5250807\n"
     ]
    },
    {
     "name": "stdout",
     "output_type": "stream",
     "text": [
      "600 Training MSE: 3.7594223\n"
     ]
    },
    {
     "name": "stdout",
     "output_type": "stream",
     "text": [
      "700 Training MSE: 3.9882696\n"
     ]
    },
    {
     "name": "stdout",
     "output_type": "stream",
     "text": [
      "800 Training MSE: 4.005628\n"
     ]
    },
    {
     "name": "stdout",
     "output_type": "stream",
     "text": [
      "900 Training MSE: 3.4871664\n"
     ]
    },
    {
     "name": "stdout",
     "output_type": "stream",
     "text": [
      "1000 Training MSE: 4.235189\n"
     ]
    },
    {
     "name": "stdout",
     "output_type": "stream",
     "text": [
      "1100 Training MSE: 4.7476783\n"
     ]
    },
    {
     "name": "stdout",
     "output_type": "stream",
     "text": [
      "1200 Training MSE: 3.8737192\n"
     ]
    },
    {
     "name": "stdout",
     "output_type": "stream",
     "text": [
      "1300 Training MSE: 3.4476678\n"
     ]
    },
    {
     "name": "stdout",
     "output_type": "stream",
     "text": [
      "1400 Training MSE: 4.2730303\n"
     ]
    }
   ],
   "source": [
    "learning_rate = 0.01\n",
    "\n",
    "stacked_rnn_outputs = tf.reshape(rnn_outputs, [-1, n_neurons])\n",
    "stacked_outputs = tf.layers.dense(stacked_rnn_outputs, n_outputs)\n",
    "outputs = tf.reshape(stacked_outputs, [-1, n_steps, n_outputs])\n",
    "\n",
    "loss = tf.reduce_mean(tf.square(outputs - y))\n",
    "optimizer = tf.train.AdamOptimizer(learning_rate=learning_rate)\n",
    "training_op = optimizer.minimize(loss)\n",
    "\n",
    "init = tf.global_variables_initializer()\n",
    "saver = tf.train.Saver()\n",
    "\n",
    "n_iterations = 1500\n",
    "batch_size = 50\n",
    "train_keep_prob = 0.5\n",
    "\n",
    "with tf.Session() as sess:\n",
    "    init.run()\n",
    "    for iteration in range(n_iterations):\n",
    "        X_batch, y_batch = next_batch(batch_size, n_steps)\n",
    "        _, mse = sess.run([training_op, loss],\n",
    "                          feed_dict={X: X_batch, y: y_batch,\n",
    "                                     keep_prob: train_keep_prob})\n",
    "        if iteration % 100 == 0:                   # not shown in the book\n",
    "            print(iteration, \"Training MSE:\", mse) # not shown\n",
    "    \n",
    "    saver.save(sess, \"tmp_models/ch14_my_dropout_time_series_model\")"
   ]
  },
  {
   "cell_type": "code",
   "execution_count": 63,
   "metadata": {},
   "outputs": [
    {
     "name": "stdout",
     "output_type": "stream",
     "text": [
      "INFO:tensorflow:Restoring parameters from tmp_models/ch14_my_dropout_time_series_model\n"
     ]
    }
   ],
   "source": [
    "with tf.Session() as sess:\n",
    "    saver.restore(sess, \"tmp_models/ch14_my_dropout_time_series_model\")\n",
    "\n",
    "    X_new = time_series(np.array(t_instance[:-1].reshape(-1, n_steps, n_inputs)))\n",
    "    y_pred = sess.run(outputs, feed_dict={X: X_new})"
   ]
  },
  {
   "cell_type": "code",
   "execution_count": 64,
   "metadata": {},
   "outputs": [
    {
     "data": {
      "image/png": "[encoded data removed]",
      "text/plain": [
       "<Figure size 432x288 with 1 Axes>"
      ]
     },
     "metadata": {},
     "output_type": "display_data"
    }
   ],
   "source": [
    "plt.title(\"Testing the model\", fontsize=14)\n",
    "plt.plot(t_instance[:-1], time_series(t_instance[:-1]), \"bo\", markersize=10, label=\"instance\")\n",
    "plt.plot(t_instance[1:], time_series(t_instance[1:]), \"w*\", markersize=10, label=\"target\")\n",
    "plt.plot(t_instance[1:], y_pred[0,:,0], \"r.\", markersize=10, label=\"prediction\")\n",
    "plt.legend(loc=\"upper left\")\n",
    "plt.xlabel(\"Time\")\n",
    "\n",
    "plt.show()"
   ]
  },
  {
   "cell_type": "markdown",
   "metadata": {},
   "source": [
    "#### The Difficulty of Training over Many Time Steps\n",
    "Just like any other deep neural net may suffer from vanishing/exploding gradients and take forever to train.\n",
    "\n",
    "most of the solutions mentioned before work well here too. However, if RNN needs to handle even moderately long sequences, then training will still be very slow.\n",
    "\n",
    "solution is to only unroll the RNN over limited number of time steps. (Truncated backpropagation through time)\n",
    "\n",
    "Another problem of long running RNNs is the fact that the memory of the first inputs gradually fades away. solution is Long memory cells\n"
   ]
  },
  {
   "cell_type": "markdown",
   "metadata": {},
   "source": [
    "## LSTM Cell\n",
    "-----\n",
    "\n",
    "The Long short-term memory. Consider the LSTM as a blackbox, it can be used very much like a basic cell, except it will preform better; training is faster and will detect long-term dependencies in the data. In tensorflow use BasicLSTMCell instead of BasicRNNCell."
   ]
  },
  {
   "cell_type": "code",
   "execution_count": null,
   "metadata": {},
   "outputs": [],
   "source": [
    "reset_graph()\n",
    "\n",
    "lstm_cell = tf.contrib.rnn.BasicLSTMCell(num_units=n_neurons)"
   ]
  },
  {
   "cell_type": "markdown",
   "metadata": {},
   "source": [
    "LSTM cells manage two state vectors.\n",
    "\n",
    "The key idea is that the network can learn what to store in the long-term state, what to throw away, and what to read from it.\n",
    "\n",
    "#### Peephole Connections\n",
    "In basic LSTM cell, the gate controller can only look at the input and the previous short-term state. Giving them extra context by letting them peek at the long-term state. Peephole connection: the previous long term state is added as an input state to the controller of the forget gate and input gate, and the cureent long-term state is added as input to the controller of the output gate"
   ]
  },
  {
   "cell_type": "code",
   "execution_count": 65,
   "metadata": {},
   "outputs": [],
   "source": [
    "lstm_cell = tf.contrib.rnn.LSTMCell(num_units=n_neurons, use_peepholes=True)"
   ]
  },
  {
   "cell_type": "markdown",
   "metadata": {},
   "source": [
    "#### GRU Cell\n",
    "- both state vectors are merged into single vector\n",
    "- a single gate controls both the forget gate and the input gate: if gate controller outputs 1, input gate open, forget gate closed.\n",
    "- there is no output gate; the full state vector is output at every time step"
   ]
  },
  {
   "cell_type": "code",
   "execution_count": 67,
   "metadata": {},
   "outputs": [],
   "source": [
    "gru_cell = tf.contrib.rnn.GRUCell(num_units=n_neurons)"
   ]
  },
  {
   "cell_type": "markdown",
   "metadata": {},
   "source": [
    "## Natural Language Processing\n",
    "-----\n",
    "\n",
    "Very well covered by [Word2Vec](https://goo.gl/edArdi) and [Seq2Seq](https://goo.gl/L82gvS) tutorials\n",
    "\n",
    "#### Word Embeddings\n",
    "First choose a word representation, ex one-hot vector. But this is not efficient and doesn't hold any meaning in the representation\n",
    "\n",
    "Solution is to use embeddings. which the network will learning during training. Similar words will gradually cluster close to one another"
   ]
  },
  {
   "cell_type": "code",
   "execution_count": 69,
   "metadata": {},
   "outputs": [],
   "source": [
    "import errno\n",
    "import os\n",
    "import zipfile\n",
    "from urllib.request import urlretrieve\n",
    "WORDS_PATH = \"datasets/words\"\n",
    "WORDS_URL = 'http://mattmahoney.net/dc/text8.zip'\n",
    "\n",
    "def mkdir_p(path):\n",
    "    \"\"\"Create directories, ok if they already exist.\n",
    "    \n",
    "    This is for python 2 support. In python >=3.2, simply use:\n",
    "    >>> os.makedirs(path, exist_ok=True)\n",
    "    \"\"\"\n",
    "    try:\n",
    "        os.makedirs(path)\n",
    "    except OSError as exc:\n",
    "        if exc.errno == errno.EEXIST and os.path.isdir(path):\n",
    "            pass\n",
    "        else:\n",
    "            raise\n",
    "\n",
    "def fetch_words_data(words_url=WORDS_URL, words_path=WORDS_PATH):\n",
    "    os.makedirs(words_path, exist_ok=True)\n",
    "    zip_path = os.path.join(words_path, \"words.zip\")\n",
    "    if not os.path.exists(zip_path):\n",
    "        urlretrieve(words_url, zip_path)\n",
    "    with zipfile.ZipFile(zip_path) as f:\n",
    "        data = f.read(f.namelist()[0])\n",
    "    return data.decode(\"ascii\").split()"
   ]
  },
  {
   "cell_type": "code",
   "execution_count": 70,
   "metadata": {},
   "outputs": [],
   "source": [
    "words = fetch_words_data()"
   ]
  },
  {
   "cell_type": "code",
   "execution_count": 72,
   "metadata": {},
   "outputs": [],
   "source": [
    "from collections import Counter\n",
    "\n",
    "vocabulary_size = 50000\n",
    "\n",
    "vocabulary = [(\"UNK\", None)] + Counter(words).most_common(vocabulary_size - 1)\n",
    "vocabulary = np.array([word for word, _ in vocabulary])\n",
    "dictionary = {word: code for code, word in enumerate(vocabulary)}\n",
    "data = np.array([dictionary.get(word, 0) for word in words])"
   ]
  },
  {
   "cell_type": "code",
   "execution_count": 74,
   "metadata": {},
   "outputs": [
    {
     "data": {
      "text/plain": [
       "('anarchism originated as a term of abuse first used',\n array([5234, 3081,   12,    6,  195,    2, 3134,   46,   59]))"
      ]
     },
     "execution_count": 74,
     "metadata": {},
     "output_type": "execute_result"
    }
   ],
   "source": [
    "\" \".join(words[:9]), data[:9]"
   ]
  },
  {
   "cell_type": "code",
   "execution_count": 76,
   "metadata": {},
   "outputs": [
    {
     "data": {
      "text/plain": [
       "'cycles originated as a term of abuse first used'"
      ]
     },
     "execution_count": 76,
     "metadata": {},
     "output_type": "execute_result"
    }
   ],
   "source": [
    "\" \".join([vocabulary[word_index] for word_index in [5241, 3081, 12, 6, 195, 2, 3134, 46, 59]])"
   ]
  },
  {
   "cell_type": "code",
   "execution_count": 77,
   "metadata": {},
   "outputs": [
    {
     "data": {
      "text/plain": [
       "('culottes', 0)"
      ]
     },
     "execution_count": 77,
     "metadata": {},
     "output_type": "execute_result"
    }
   ],
   "source": [
    "words[24], data[24]"
   ]
  },
  {
   "cell_type": "code",
   "execution_count": 78,
   "metadata": {},
   "outputs": [],
   "source": [
    "from collections import deque\n",
    "\n",
    "def generate_batch(batch_size, num_skips, skip_window):\n",
    "    global data_index\n",
    "    assert batch_size % num_skips == 0\n",
    "    assert num_skips <= 2 * skip_window\n",
    "    batch = np.ndarray(shape=[batch_size], dtype=np.int32)\n",
    "    labels = np.ndarray(shape=[batch_size, 1], dtype=np.int32)\n",
    "    span = 2 * skip_window + 1 # [ skip_window target skip_window ]\n",
    "    buffer = deque(maxlen=span)\n",
    "    for _ in range(span):\n",
    "        buffer.append(data[data_index])\n",
    "        data_index = (data_index + 1) % len(data)\n",
    "    for i in range(batch_size // num_skips):\n",
    "        target = skip_window  # target label at the center of the buffer\n",
    "        targets_to_avoid = [ skip_window ]\n",
    "        for j in range(num_skips):\n",
    "            while target in targets_to_avoid:\n",
    "                target = np.random.randint(0, span)\n",
    "            targets_to_avoid.append(target)\n",
    "            batch[i * num_skips + j] = buffer[skip_window]\n",
    "            labels[i * num_skips + j, 0] = buffer[target]\n",
    "        buffer.append(data[data_index])\n",
    "        data_index = (data_index + 1) % len(data)\n",
    "    return batch, labels"
   ]
  },
  {
   "cell_type": "code",
   "execution_count": 80,
   "metadata": {},
   "outputs": [
    {
     "data": {
      "text/plain": [
       "(array([[  12],\n        [5234],\n        [   6],\n        [3081],\n        [  12],\n        [ 195],\n        [   2],\n        [   6]], dtype=int32),\n ['as', 'anarchism', 'a', 'originated', 'as', 'term', 'of', 'a'])"
      ]
     },
     "execution_count": 80,
     "metadata": {},
     "output_type": "execute_result"
    }
   ],
   "source": [
    "np.random.seed(42)\n",
    "data_index = 0\n",
    "batch, labels = generate_batch(8, 2, 1)\n",
    "batch, [vocabulary[word] for word in batch]\n",
    "labels, [vocabulary[word] for word in labels[:, 0]]"
   ]
  },
  {
   "cell_type": "code",
   "execution_count": 82,
   "metadata": {},
   "outputs": [],
   "source": [
    "batch_size = 128\n",
    "embedding_size = 128  # Dimension of the embedding vector.\n",
    "skip_window = 1       # How many words to consider left and right.\n",
    "num_skips = 2         # How many times to reuse an input to generate a label.\n",
    "\n",
    "# We pick a random validation set to sample nearest neighbors. Here we limit the\n",
    "# validation samples to the words that have a low numeric ID, which by\n",
    "# construction are also the most frequent.\n",
    "valid_size = 16     # Random set of words to evaluate similarity on.\n",
    "valid_window = 100  # Only pick dev samples in the head of the distribution.\n",
    "valid_examples = np.random.choice(valid_window, valid_size, replace=False)\n",
    "num_sampled = 64    # Number of negative examples to sample.\n",
    "\n",
    "learning_rate = 0.01"
   ]
  },
  {
   "cell_type": "code",
   "execution_count": 83,
   "metadata": {},
   "outputs": [],
   "source": [
    "reset_graph()\n",
    "\n",
    "# Input data.\n",
    "train_labels = tf.placeholder(tf.int32, shape=[batch_size, 1])\n",
    "valid_dataset = tf.constant(valid_examples, dtype=tf.int32)"
   ]
  },
  {
   "cell_type": "code",
   "execution_count": 84,
   "metadata": {},
   "outputs": [],
   "source": [
    "vocabulary_size = 50000\n",
    "embedding_size = 150\n",
    "\n",
    "# Look up embeddings for inputs.\n",
    "init_embeds = tf.random_uniform([vocabulary_size, embedding_size], -1.0, 1.0)\n",
    "embeddings = tf.Variable(init_embeds)"
   ]
  },
  {
   "cell_type": "code",
   "execution_count": 85,
   "metadata": {},
   "outputs": [],
   "source": [
    "train_inputs = tf.placeholder(tf.int32, shape=[None])\n",
    "embed = tf.nn.embedding_lookup(embeddings, train_inputs)"
   ]
  },
  {
   "cell_type": "code",
   "execution_count": 87,
   "metadata": {},
   "outputs": [],
   "source": [
    "# Construct the variables for the NCE loss\n",
    "nce_weights = tf.Variable(\n",
    "    tf.truncated_normal([vocabulary_size, embedding_size],\n",
    "                        stddev=1.0 / np.sqrt(embedding_size)))\n",
    "nce_biases = tf.Variable(tf.zeros([vocabulary_size]))\n",
    "\n",
    "# Compute the average NCE loss for the batch.\n",
    "# tf.nce_loss automatically draws a new sample of the negative labels each\n",
    "# time we evaluate the loss.\n",
    "loss = tf.reduce_mean(\n",
    "    tf.nn.nce_loss(nce_weights, nce_biases, train_labels, embed,\n",
    "                   num_sampled, vocabulary_size))\n",
    "\n",
    "# Construct the Adam optimizer\n",
    "optimizer = tf.train.AdamOptimizer(learning_rate)\n",
    "training_op = optimizer.minimize(loss)\n",
    "\n",
    "# Compute the cosine similarity between minibatch examples and all embeddings.\n",
    "norm = tf.sqrt(tf.reduce_sum(tf.square(embeddings), axis=1, keepdims=True))\n",
    "normalized_embeddings = embeddings / norm\n",
    "valid_embeddings = tf.nn.embedding_lookup(normalized_embeddings, valid_dataset)\n",
    "similarity = tf.matmul(valid_embeddings, normalized_embeddings, transpose_b=True)\n",
    "\n",
    "# Add variable initializer.\n",
    "init = tf.global_variables_initializer()"
   ]
  },
  {
   "cell_type": "code",
   "execution_count": 88,
   "metadata": {},
   "outputs": [
    {
     "name": "stdout",
     "output_type": "stream",
     "text": [
      "\rIteration: 0\t"
     ]
    },
    {
     "name": "stdout",
     "output_type": "stream",
     "text": [
      "Average loss at step  0 :  287.5924072265625\nNearest to often: presses, convenience, arabidopsis, jewry, mapuche, guts, macrinus, implemented,\nNearest to s: drang, volleys, stacking, hypomanic, sash, kenneth, deutschland, iau,\nNearest to his: pointers, ponty, charged, achieved, rk, blooming, value, juggernaut,\nNearest to three: nawab, infestation, picard, miyazaki, engenders, inventories, consular, tolerated,\nNearest to years: ogden, arabia, rostock, contingents, celia, jaian, militaristic, undercut,\nNearest to united: iii, citizen, crows, decimals, eutelsat, dcc, auckland, ennis,\nNearest to may: failure, rna, efficacious, aspirin, lecompton, definitive, geese, amphibious,\nNearest to some: reduced, isaacs, gdr, phosphoric, instrumentation, gubernatorial, crime, kanem,\nNearest to that: secretions, pron, disputed, emmy, sibling, wo, banned, agora,\nNearest to its: knob, abeokuta, bracelet, bastards, ivens, objectivity, blanton, cold,\nNearest to these: pedro, condoned, neck, ssn, supervising, doug, thereto, melton,\nNearest to people: blissymbolics, mike, buffers, untouchables, carolingian, posted, ville, hypertalk,\nNearest to been: powerpc, precarious, maccabean, hounds, gol, schuster, hazael, linear,\nNearest to between: sapporo, dissuade, caching, network, chalcolithic, paschal, popularizing, larmor,\nNearest to will: commerce, slow, attested, obsession, christy, coursework, secretive, ballroom,\nNearest to also: milligan, incensed, mole, macha, penitent, preventive, atlantans, politically,\n\rIteration: 1\t\rIteration: 2\t\rIteration: 3\t\rIteration: 4\t\rIteration: 5\t"
     ]
    },
    {
     "name": "stdout",
     "output_type": "stream",
     "text": [
      "\rIteration: 6\t\rIteration: 7\t\rIteration: 8\t\rIteration: 9\t\rIteration: 10\t\rIteration: 11\t\rIteration: 12\t\rIteration: 13\t\rIteration: 14\t\rIteration: 15\t"
     ]
    },
    {
     "name": "stdout",
     "output_type": "stream",
     "text": [
      "\rIteration: 16\t\rIteration: 17\t\rIteration: 18\t\rIteration: 19\t\rIteration: 20\t\rIteration: 21\t\rIteration: 22\t\rIteration: 23\t\rIteration: 24\t\rIteration: 25\t"
     ]
    },
    {
     "name": "stdout",
     "output_type": "stream",
     "text": [
      "\rIteration: 26\t\rIteration: 27\t\rIteration: 28\t\rIteration: 29\t\rIteration: 30\t\rIteration: 31\t\rIteration: 32\t\rIteration: 33\t\rIteration: 34\t\rIteration: 35\t"
     ]
    },
    {
     "name": "stdout",
     "output_type": "stream",
     "text": [
      "\rIteration: 36\t\rIteration: 37\t\rIteration: 38\t\rIteration: 39\t\rIteration: 40\t\rIteration: 41\t\rIteration: 42\t\rIteration: 43\t\rIteration: 44\t\rIteration: 45\t"
     ]
    },
    {
     "name": "stdout",
     "output_type": "stream",
     "text": [
      "\rIteration: 46\t\rIteration: 47\t\rIteration: 48\t\rIteration: 49\t\rIteration: 50\t\rIteration: 51\t\rIteration: 52\t\rIteration: 53\t\rIteration: 54\t\rIteration: 55\t"
     ]
    },
    {
     "name": "stdout",
     "output_type": "stream",
     "text": [
      "\rIteration: 56\t\rIteration: 57\t\rIteration: 58\t\rIteration: 59\t\rIteration: 60\t\rIteration: 61\t\rIteration: 62\t\rIteration: 63\t\rIteration: 64\t\rIteration: 65\t\rIteration: 66\t"
     ]
    },
    {
     "name": "stdout",
     "output_type": "stream",
     "text": [
      "\rIteration: 67\t\rIteration: 68\t\rIteration: 69\t\rIteration: 70\t\rIteration: 71\t\rIteration: 72\t\rIteration: 73\t\rIteration: 74\t\rIteration: 75\t\rIteration: 76\t\rIteration: 77\t"
     ]
    },
    {
     "name": "stdout",
     "output_type": "stream",
     "text": [
      "\rIteration: 78\t\rIteration: 79\t\rIteration: 80\t\rIteration: 81\t\rIteration: 82\t\rIteration: 83\t\rIteration: 84\t\rIteration: 85\t\rIteration: 86\t\rIteration: 87\t\rIteration: 88\t"
     ]
    },
    {
     "name": "stdout",
     "output_type": "stream",
     "text": [
      "\rIteration: 89\t\rIteration: 90\t\rIteration: 91\t\rIteration: 92\t\rIteration: 93\t\rIteration: 94\t\rIteration: 95\t\rIteration: 96\t\rIteration: 97\t\rIteration: 98\t"
     ]
    },
    {
     "name": "stdout",
     "output_type": "stream",
     "text": [
      "\rIteration: 99\t\rIteration: 100\t\rIteration: 101\t\rIteration: 102\t\rIteration: 103\t\rIteration: 104\t\rIteration: 105\t\rIteration: 106\t\rIteration: 107\t\rIteration: 108\t\rIteration: 109\t"
     ]
    },
    {
     "name": "stdout",
     "output_type": "stream",
     "text": [
      "\rIteration: 110\t\rIteration: 111\t\rIteration: 112\t\rIteration: 113\t\rIteration: 114\t\rIteration: 115\t\rIteration: 116\t\rIteration: 117\t\rIteration: 118\t\rIteration: 119\t"
     ]
    },
    {
     "name": "stdout",
     "output_type": "stream",
     "text": [
      "\rIteration: 120\t\rIteration: 121\t\rIteration: 122\t\rIteration: 123\t\rIteration: 124\t\rIteration: 125\t\rIteration: 126\t\rIteration: 127\t\rIteration: 128\t\rIteration: 129\t"
     ]
    },
    {
     "name": "stdout",
     "output_type": "stream",
     "text": [
      "\rIteration: 130\t\rIteration: 131\t\rIteration: 132\t\rIteration: 133\t\rIteration: 134\t\rIteration: 135\t\rIteration: 136\t\rIteration: 137\t\rIteration: 138\t\rIteration: 139\t\rIteration: 140\t"
     ]
    },
    {
     "name": "stdout",
     "output_type": "stream",
     "text": [
      "\rIteration: 141\t\rIteration: 142\t\rIteration: 143\t\rIteration: 144\t\rIteration: 145\t\rIteration: 146\t\rIteration: 147\t\rIteration: 148\t\rIteration: 149\t\rIteration: 150\t\rIteration: 151\t"
     ]
    },
    {
     "name": "stdout",
     "output_type": "stream",
     "text": [
      "\rIteration: 152\t\rIteration: 153\t\rIteration: 154\t\rIteration: 155\t\rIteration: 156\t\rIteration: 157\t\rIteration: 158\t\rIteration: 159\t\rIteration: 160\t\rIteration: 161\t"
     ]
    },
    {
     "name": "stdout",
     "output_type": "stream",
     "text": [
      "\rIteration: 162\t\rIteration: 163\t\rIteration: 164\t\rIteration: 165\t\rIteration: 166\t\rIteration: 167\t\rIteration: 168\t\rIteration: 169\t\rIteration: 170\t\rIteration: 171\t"
     ]
    },
    {
     "name": "stdout",
     "output_type": "stream",
     "text": [
      "\rIteration: 172\t\rIteration: 173\t\rIteration: 174\t\rIteration: 175\t\rIteration: 176\t\rIteration: 177\t\rIteration: 178\t\rIteration: 179\t\rIteration: 180\t\rIteration: 181\t\rIteration: 182\t"
     ]
    },
    {
     "name": "stdout",
     "output_type": "stream",
     "text": [
      "\rIteration: 183\t\rIteration: 184\t\rIteration: 185\t\rIteration: 186\t\rIteration: 187\t\rIteration: 188\t\rIteration: 189\t\rIteration: 190\t\rIteration: 191\t\rIteration: 192\t"
     ]
    },
    {
     "name": "stdout",
     "output_type": "stream",
     "text": [
      "\rIteration: 193\t\rIteration: 194\t\rIteration: 195\t\rIteration: 196\t\rIteration: 197\t\rIteration: 198\t\rIteration: 199\t\rIteration: 200\t\rIteration: 201\t\rIteration: 202\t"
     ]
    },
    {
     "name": "stdout",
     "output_type": "stream",
     "text": [
      "\rIteration: 203\t\rIteration: 204\t\rIteration: 205\t\rIteration: 206\t\rIteration: 207\t\rIteration: 208\t\rIteration: 209\t\rIteration: 210\t\rIteration: 211\t\rIteration: 212\t"
     ]
    },
    {
     "name": "stdout",
     "output_type": "stream",
     "text": [
      "\rIteration: 213\t\rIteration: 214\t\rIteration: 215\t\rIteration: 216\t\rIteration: 217\t\rIteration: 218\t\rIteration: 219\t\rIteration: 220\t\rIteration: 221\t\rIteration: 222\t\rIteration: 223\t"
     ]
    },
    {
     "name": "stdout",
     "output_type": "stream",
     "text": [
      "\rIteration: 224\t\rIteration: 225\t\rIteration: 226\t\rIteration: 227\t\rIteration: 228\t\rIteration: 229\t\rIteration: 230\t\rIteration: 231\t\rIteration: 232\t\rIteration: 233\t\rIteration: 234\t"
     ]
    },
    {
     "name": "stdout",
     "output_type": "stream",
     "text": [
      "\rIteration: 235\t\rIteration: 236\t\rIteration: 237\t\rIteration: 238\t\rIteration: 239\t\rIteration: 240\t\rIteration: 241\t\rIteration: 242\t\rIteration: 243\t\rIteration: 244\t"
     ]
    },
    {
     "name": "stdout",
     "output_type": "stream",
     "text": [
      "\rIteration: 245\t\rIteration: 246\t\rIteration: 247\t\rIteration: 248\t\rIteration: 249\t\rIteration: 250\t\rIteration: 251\t\rIteration: 252\t\rIteration: 253\t\rIteration: 254\t"
     ]
    },
    {
     "name": "stdout",
     "output_type": "stream",
     "text": [
      "\rIteration: 255\t\rIteration: 256\t\rIteration: 257\t\rIteration: 258\t\rIteration: 259\t\rIteration: 260\t\rIteration: 261\t\rIteration: 262\t\rIteration: 263\t\rIteration: 264\t\rIteration: 265\t"
     ]
    },
    {
     "name": "stdout",
     "output_type": "stream",
     "text": [
      "\rIteration: 266\t\rIteration: 267\t\rIteration: 268\t\rIteration: 269\t\rIteration: 270\t\rIteration: 271\t\rIteration: 272\t\rIteration: 273\t\rIteration: 274\t\rIteration: 275\t\rIteration: 276\t"
     ]
    },
    {
     "name": "stdout",
     "output_type": "stream",
     "text": [
      "\rIteration: 277\t\rIteration: 278\t\rIteration: 279\t\rIteration: 280\t\rIteration: 281\t\rIteration: 282\t\rIteration: 283\t\rIteration: 284\t\rIteration: 285\t\rIteration: 286\t\rIteration: 287\t"
     ]
    },
    {
     "name": "stdout",
     "output_type": "stream",
     "text": [
      "\rIteration: 288\t\rIteration: 289\t\rIteration: 290\t\rIteration: 291\t\rIteration: 292\t\rIteration: 293\t\rIteration: 294\t\rIteration: 295\t\rIteration: 296\t\rIteration: 297\t\rIteration: 298\t"
     ]
    },
    {
     "name": "stdout",
     "output_type": "stream",
     "text": [
      "\rIteration: 299\t\rIteration: 300\t\rIteration: 301\t\rIteration: 302\t\rIteration: 303\t\rIteration: 304\t\rIteration: 305\t\rIteration: 306\t\rIteration: 307\t\rIteration: 308\t"
     ]
    },
    {
     "name": "stdout",
     "output_type": "stream",
     "text": [
      "\rIteration: 309\t\rIteration: 310\t\rIteration: 311\t\rIteration: 312\t\rIteration: 313\t\rIteration: 314\t\rIteration: 315\t\rIteration: 316\t\rIteration: 317\t\rIteration: 318\t"
     ]
    },
    {
     "name": "stdout",
     "output_type": "stream",
     "text": [
      "\rIteration: 319\t\rIteration: 320\t\rIteration: 321\t\rIteration: 322\t\rIteration: 323\t\rIteration: 324\t\rIteration: 325\t\rIteration: 326\t\rIteration: 327\t\rIteration: 328\t\rIteration: 329\t"
     ]
    },
    {
     "name": "stdout",
     "output_type": "stream",
     "text": [
      "\rIteration: 330\t\rIteration: 331\t\rIteration: 332\t\rIteration: 333\t\rIteration: 334\t\rIteration: 335\t\rIteration: 336\t\rIteration: 337\t\rIteration: 338\t\rIteration: 339\t\rIteration: 340\t"
     ]
    },
    {
     "name": "stdout",
     "output_type": "stream",
     "text": [
      "\rIteration: 341\t\rIteration: 342\t\rIteration: 343\t\rIteration: 344\t\rIteration: 345\t\rIteration: 346\t\rIteration: 347\t\rIteration: 348\t\rIteration: 349\t\rIteration: 350\t"
     ]
    },
    {
     "name": "stdout",
     "output_type": "stream",
     "text": [
      "\rIteration: 351\t\rIteration: 352\t\rIteration: 353\t\rIteration: 354\t\rIteration: 355\t\rIteration: 356\t\rIteration: 357\t\rIteration: 358\t\rIteration: 359\t\rIteration: 360\t\rIteration: 361\t"
     ]
    },
    {
     "name": "stdout",
     "output_type": "stream",
     "text": [
      "\rIteration: 362\t\rIteration: 363\t\rIteration: 364\t\rIteration: 365\t\rIteration: 366\t\rIteration: 367\t\rIteration: 368\t\rIteration: 369\t\rIteration: 370\t\rIteration: 371\t\rIteration: 372\t"
     ]
    },
    {
     "name": "stdout",
     "output_type": "stream",
     "text": [
      "\rIteration: 373\t\rIteration: 374\t\rIteration: 375\t\rIteration: 376\t\rIteration: 377\t\rIteration: 378\t\rIteration: 379\t\rIteration: 380\t\rIteration: 381\t\rIteration: 382\t"
     ]
    },
    {
     "name": "stdout",
     "output_type": "stream",
     "text": [
      "\rIteration: 383\t\rIteration: 384\t\rIteration: 385\t\rIteration: 386\t\rIteration: 387\t\rIteration: 388\t\rIteration: 389\t\rIteration: 390\t\rIteration: 391\t\rIteration: 392\t"
     ]
    },
    {
     "name": "stdout",
     "output_type": "stream",
     "text": [
      "\rIteration: 393\t\rIteration: 394\t\rIteration: 395\t\rIteration: 396\t\rIteration: 397\t\rIteration: 398\t\rIteration: 399\t\rIteration: 400\t\rIteration: 401\t\rIteration: 402\t\rIteration: 403\t"
     ]
    },
    {
     "name": "stdout",
     "output_type": "stream",
     "text": [
      "\rIteration: 404\t\rIteration: 405\t\rIteration: 406\t\rIteration: 407\t\rIteration: 408\t\rIteration: 409\t\rIteration: 410\t\rIteration: 411\t\rIteration: 412\t\rIteration: 413\t"
     ]
    },
    {
     "name": "stdout",
     "output_type": "stream",
     "text": [
      "\rIteration: 414\t\rIteration: 415\t\rIteration: 416\t\rIteration: 417\t\rIteration: 418\t\rIteration: 419\t\rIteration: 420\t\rIteration: 421\t\rIteration: 422\t\rIteration: 423\t"
     ]
    },
    {
     "name": "stdout",
     "output_type": "stream",
     "text": [
      "\rIteration: 424\t\rIteration: 425\t\rIteration: 426\t\rIteration: 427\t\rIteration: 428\t\rIteration: 429\t\rIteration: 430\t\rIteration: 431\t\rIteration: 432\t\rIteration: 433\t"
     ]
    },
    {
     "name": "stdout",
     "output_type": "stream",
     "text": [
      "\rIteration: 434\t\rIteration: 435\t\rIteration: 436\t\rIteration: 437\t\rIteration: 438\t\rIteration: 439\t\rIteration: 440\t\rIteration: 441\t\rIteration: 442\t\rIteration: 443\t\rIteration: 444\t"
     ]
    },
    {
     "name": "stdout",
     "output_type": "stream",
     "text": [
      "\rIteration: 445\t\rIteration: 446\t\rIteration: 447\t\rIteration: 448\t\rIteration: 449\t\rIteration: 450\t\rIteration: 451\t\rIteration: 452\t\rIteration: 453\t\rIteration: 454\t"
     ]
    },
    {
     "name": "stdout",
     "output_type": "stream",
     "text": [
      "\rIteration: 455\t\rIteration: 456\t\rIteration: 457\t\rIteration: 458\t\rIteration: 459\t\rIteration: 460\t\rIteration: 461\t\rIteration: 462\t\rIteration: 463\t\rIteration: 464\t\rIteration: 465\t"
     ]
    },
    {
     "name": "stdout",
     "output_type": "stream",
     "text": [
      "\rIteration: 466\t\rIteration: 467\t\rIteration: 468\t\rIteration: 469\t\rIteration: 470\t\rIteration: 471\t\rIteration: 472\t\rIteration: 473\t\rIteration: 474\t\rIteration: 475\t\rIteration: 476\t"
     ]
    },
    {
     "name": "stdout",
     "output_type": "stream",
     "text": [
      "\rIteration: 477\t\rIteration: 478\t\rIteration: 479\t\rIteration: 480\t\rIteration: 481\t\rIteration: 482\t\rIteration: 483\t\rIteration: 484\t\rIteration: 485\t\rIteration: 486\t\rIteration: 487\t"
     ]
    },
    {
     "name": "stdout",
     "output_type": "stream",
     "text": [
      "\rIteration: 488\t\rIteration: 489\t\rIteration: 490\t\rIteration: 491\t\rIteration: 492\t\rIteration: 493\t\rIteration: 494\t\rIteration: 495\t\rIteration: 496\t\rIteration: 497\t\rIteration: 498\t"
     ]
    },
    {
     "name": "stdout",
     "output_type": "stream",
     "text": [
      "\rIteration: 499\t\rIteration: 500\t\rIteration: 501\t\rIteration: 502\t\rIteration: 503\t\rIteration: 504\t\rIteration: 505\t\rIteration: 506\t\rIteration: 507\t\rIteration: 508\t\rIteration: 509\t"
     ]
    },
    {
     "name": "stdout",
     "output_type": "stream",
     "text": [
      "\rIteration: 510\t\rIteration: 511\t\rIteration: 512\t\rIteration: 513\t\rIteration: 514\t\rIteration: 515\t\rIteration: 516\t\rIteration: 517\t\rIteration: 518\t\rIteration: 519\t\rIteration: 520\t"
     ]
    },
    {
     "name": "stdout",
     "output_type": "stream",
     "text": [
      "\rIteration: 521\t\rIteration: 522\t\rIteration: 523\t\rIteration: 524\t\rIteration: 525\t\rIteration: 526\t\rIteration: 527\t\rIteration: 528\t\rIteration: 529\t\rIteration: 530\t\rIteration: 531\t"
     ]
    },
    {
     "name": "stdout",
     "output_type": "stream",
     "text": [
      "\rIteration: 532\t\rIteration: 533\t\rIteration: 534\t\rIteration: 535\t\rIteration: 536\t\rIteration: 537\t\rIteration: 538\t\rIteration: 539\t\rIteration: 540\t\rIteration: 541\t\rIteration: 542\t"
     ]
    },
    {
     "name": "stdout",
     "output_type": "stream",
     "text": [
      "\rIteration: 543\t\rIteration: 544\t\rIteration: 545\t\rIteration: 546\t\rIteration: 547\t\rIteration: 548\t\rIteration: 549\t\rIteration: 550\t\rIteration: 551\t\rIteration: 552\t\rIteration: 553\t"
     ]
    },
    {
     "name": "stdout",
     "output_type": "stream",
     "text": [
      "\rIteration: 554\t\rIteration: 555\t\rIteration: 556\t\rIteration: 557\t\rIteration: 558\t\rIteration: 559\t\rIteration: 560\t\rIteration: 561\t\rIteration: 562\t\rIteration: 563\t"
     ]
    },
    {
     "name": "stdout",
     "output_type": "stream",
     "text": [
      "\rIteration: 564\t\rIteration: 565\t\rIteration: 566\t\rIteration: 567\t\rIteration: 568\t\rIteration: 569\t\rIteration: 570\t\rIteration: 571\t\rIteration: 572\t\rIteration: 573\t\rIteration: 574\t"
     ]
    },
    {
     "name": "stdout",
     "output_type": "stream",
     "text": [
      "\rIteration: 575\t\rIteration: 576\t\rIteration: 577\t\rIteration: 578\t\rIteration: 579\t\rIteration: 580\t\rIteration: 581\t\rIteration: 582\t\rIteration: 583\t\rIteration: 584\t\rIteration: 585\t"
     ]
    },
    {
     "name": "stdout",
     "output_type": "stream",
     "text": [
      "\rIteration: 586\t\rIteration: 587\t\rIteration: 588\t\rIteration: 589\t\rIteration: 590\t\rIteration: 591\t\rIteration: 592\t\rIteration: 593\t\rIteration: 594\t\rIteration: 595\t"
     ]
    },
    {
     "name": "stdout",
     "output_type": "stream",
     "text": [
      "\rIteration: 596\t\rIteration: 597\t\rIteration: 598\t\rIteration: 599\t\rIteration: 600\t\rIteration: 601\t\rIteration: 602\t\rIteration: 603\t\rIteration: 604\t\rIteration: 605\t\rIteration: 606\t"
     ]
    },
    {
     "name": "stdout",
     "output_type": "stream",
     "text": [
      "\rIteration: 607\t\rIteration: 608\t\rIteration: 609\t\rIteration: 610\t\rIteration: 611\t\rIteration: 612\t\rIteration: 613\t\rIteration: 614\t\rIteration: 615\t\rIteration: 616\t\rIteration: 617\t"
     ]
    },
    {
     "name": "stdout",
     "output_type": "stream",
     "text": [
      "\rIteration: 618\t\rIteration: 619\t\rIteration: 620\t\rIteration: 621\t\rIteration: 622\t\rIteration: 623\t\rIteration: 624\t\rIteration: 625\t\rIteration: 626\t\rIteration: 627\t"
     ]
    },
    {
     "name": "stdout",
     "output_type": "stream",
     "text": [
      "\rIteration: 628\t\rIteration: 629\t\rIteration: 630\t\rIteration: 631\t\rIteration: 632\t\rIteration: 633\t\rIteration: 634\t\rIteration: 635\t\rIteration: 636\t\rIteration: 637\t"
     ]
    },
    {
     "name": "stdout",
     "output_type": "stream",
     "text": [
      "\rIteration: 638\t\rIteration: 639\t\rIteration: 640\t\rIteration: 641\t\rIteration: 642\t\rIteration: 643\t\rIteration: 644\t\rIteration: 645\t\rIteration: 646\t\rIteration: 647\t"
     ]
    },
    {
     "name": "stdout",
     "output_type": "stream",
     "text": [
      "\rIteration: 648\t\rIteration: 649\t\rIteration: 650\t\rIteration: 651\t\rIteration: 652\t\rIteration: 653\t\rIteration: 654\t\rIteration: 655\t\rIteration: 656\t\rIteration: 657\t"
     ]
    },
    {
     "name": "stdout",
     "output_type": "stream",
     "text": [
      "\rIteration: 658\t\rIteration: 659\t\rIteration: 660\t\rIteration: 661\t\rIteration: 662\t\rIteration: 663\t\rIteration: 664\t\rIteration: 665\t\rIteration: 666\t\rIteration: 667\t"
     ]
    },
    {
     "name": "stdout",
     "output_type": "stream",
     "text": [
      "\rIteration: 668\t\rIteration: 669\t\rIteration: 670\t\rIteration: 671\t\rIteration: 672\t\rIteration: 673\t\rIteration: 674\t\rIteration: 675\t\rIteration: 676\t\rIteration: 677\t"
     ]
    },
    {
     "name": "stdout",
     "output_type": "stream",
     "text": [
      "\rIteration: 678\t\rIteration: 679\t\rIteration: 680\t\rIteration: 681\t\rIteration: 682\t\rIteration: 683\t\rIteration: 684\t\rIteration: 685\t\rIteration: 686\t\rIteration: 687\t\rIteration: 688\t"
     ]
    },
    {
     "name": "stdout",
     "output_type": "stream",
     "text": [
      "\rIteration: 689\t\rIteration: 690\t\rIteration: 691\t\rIteration: 692\t\rIteration: 693\t\rIteration: 694\t\rIteration: 695\t\rIteration: 696\t\rIteration: 697\t\rIteration: 698\t"
     ]
    },
    {
     "name": "stdout",
     "output_type": "stream",
     "text": [
      "\rIteration: 699\t\rIteration: 700\t\rIteration: 701\t\rIteration: 702\t\rIteration: 703\t\rIteration: 704\t\rIteration: 705\t\rIteration: 706\t\rIteration: 707\t\rIteration: 708\t"
     ]
    },
    {
     "name": "stdout",
     "output_type": "stream",
     "text": [
      "\rIteration: 709\t\rIteration: 710\t\rIteration: 711\t\rIteration: 712\t\rIteration: 713\t\rIteration: 714\t\rIteration: 715\t\rIteration: 716\t\rIteration: 717\t\rIteration: 718\t\rIteration: 719\t"
     ]
    },
    {
     "name": "stdout",
     "output_type": "stream",
     "text": [
      "\rIteration: 720\t\rIteration: 721\t\rIteration: 722\t\rIteration: 723\t\rIteration: 724\t\rIteration: 725\t\rIteration: 726\t\rIteration: 727\t\rIteration: 728\t\rIteration: 729\t"
     ]
    },
    {
     "name": "stdout",
     "output_type": "stream",
     "text": [
      "\rIteration: 730\t\rIteration: 731\t\rIteration: 732\t\rIteration: 733\t\rIteration: 734\t\rIteration: 735\t\rIteration: 736\t\rIteration: 737\t\rIteration: 738\t\rIteration: 739\t"
     ]
    },
    {
     "name": "stdout",
     "output_type": "stream",
     "text": [
      "\rIteration: 740\t\rIteration: 741\t\rIteration: 742\t\rIteration: 743\t\rIteration: 744\t\rIteration: 745\t\rIteration: 746\t\rIteration: 747\t\rIteration: 748\t\rIteration: 749\t"
     ]
    },
    {
     "name": "stdout",
     "output_type": "stream",
     "text": [
      "\rIteration: 750\t\rIteration: 751\t\rIteration: 752\t\rIteration: 753\t\rIteration: 754\t\rIteration: 755\t\rIteration: 756\t\rIteration: 757\t\rIteration: 758\t\rIteration: 759\t"
     ]
    },
    {
     "name": "stdout",
     "output_type": "stream",
     "text": [
      "\rIteration: 760\t\rIteration: 761\t\rIteration: 762\t\rIteration: 763\t\rIteration: 764\t\rIteration: 765\t\rIteration: 766\t\rIteration: 767\t\rIteration: 768\t\rIteration: 769\t"
     ]
    },
    {
     "name": "stdout",
     "output_type": "stream",
     "text": [
      "\rIteration: 770\t\rIteration: 771\t\rIteration: 772\t\rIteration: 773\t\rIteration: 774\t\rIteration: 775\t\rIteration: 776\t\rIteration: 777\t\rIteration: 778\t\rIteration: 779\t\rIteration: 780\t"
     ]
    },
    {
     "name": "stdout",
     "output_type": "stream",
     "text": [
      "\rIteration: 781\t\rIteration: 782\t\rIteration: 783\t\rIteration: 784\t\rIteration: 785\t\rIteration: 786\t\rIteration: 787\t\rIteration: 788\t\rIteration: 789\t\rIteration: 790\t"
     ]
    },
    {
     "name": "stdout",
     "output_type": "stream",
     "text": [
      "\rIteration: 791\t\rIteration: 792\t\rIteration: 793\t\rIteration: 794\t\rIteration: 795\t\rIteration: 796\t\rIteration: 797\t\rIteration: 798\t\rIteration: 799\t\rIteration: 800\t"
     ]
    },
    {
     "name": "stdout",
     "output_type": "stream",
     "text": [
      "\rIteration: 801\t\rIteration: 802\t\rIteration: 803\t\rIteration: 804\t\rIteration: 805\t\rIteration: 806\t\rIteration: 807\t\rIteration: 808\t\rIteration: 809\t\rIteration: 810\t"
     ]
    },
    {
     "name": "stdout",
     "output_type": "stream",
     "text": [
      "\rIteration: 811\t\rIteration: 812\t\rIteration: 813\t\rIteration: 814\t\rIteration: 815\t\rIteration: 816\t\rIteration: 817\t\rIteration: 818\t\rIteration: 819\t\rIteration: 820\t"
     ]
    },
    {
     "name": "stdout",
     "output_type": "stream",
     "text": [
      "\rIteration: 821\t\rIteration: 822\t\rIteration: 823\t\rIteration: 824\t\rIteration: 825\t\rIteration: 826\t\rIteration: 827\t\rIteration: 828\t\rIteration: 829\t\rIteration: 830\t\rIteration: 831\t"
     ]
    },
    {
     "name": "stdout",
     "output_type": "stream",
     "text": [
      "\rIteration: 832\t\rIteration: 833\t\rIteration: 834\t\rIteration: 835\t\rIteration: 836\t\rIteration: 837\t\rIteration: 838\t\rIteration: 839\t\rIteration: 840\t\rIteration: 841\t"
     ]
    },
    {
     "name": "stdout",
     "output_type": "stream",
     "text": [
      "\rIteration: 842\t\rIteration: 843\t\rIteration: 844\t\rIteration: 845\t\rIteration: 846\t\rIteration: 847\t\rIteration: 848\t\rIteration: 849\t\rIteration: 850\t\rIteration: 851\t\rIteration: 852\t"
     ]
    },
    {
     "name": "stdout",
     "output_type": "stream",
     "text": [
      "\rIteration: 853\t\rIteration: 854\t\rIteration: 855\t\rIteration: 856\t\rIteration: 857\t\rIteration: 858\t\rIteration: 859\t\rIteration: 860\t\rIteration: 861\t\rIteration: 862\t\rIteration: 863\t"
     ]
    },
    {
     "name": "stdout",
     "output_type": "stream",
     "text": [
      "\rIteration: 864\t\rIteration: 865\t\rIteration: 866\t\rIteration: 867\t\rIteration: 868\t\rIteration: 869\t\rIteration: 870\t\rIteration: 871\t\rIteration: 872\t\rIteration: 873\t"
     ]
    },
    {
     "name": "stdout",
     "output_type": "stream",
     "text": [
      "\rIteration: 874\t\rIteration: 875\t\rIteration: 876\t\rIteration: 877\t\rIteration: 878\t\rIteration: 879\t\rIteration: 880\t\rIteration: 881\t\rIteration: 882\t\rIteration: 883\t"
     ]
    },
    {
     "name": "stdout",
     "output_type": "stream",
     "text": [
      "\rIteration: 884\t\rIteration: 885\t\rIteration: 886\t\rIteration: 887\t\rIteration: 888\t\rIteration: 889\t\rIteration: 890\t\rIteration: 891\t\rIteration: 892\t\rIteration: 893\t"
     ]
    },
    {
     "name": "stdout",
     "output_type": "stream",
     "text": [
      "\rIteration: 894\t\rIteration: 895\t\rIteration: 896\t\rIteration: 897\t\rIteration: 898\t\rIteration: 899\t\rIteration: 900\t\rIteration: 901\t\rIteration: 902\t\rIteration: 903\t"
     ]
    },
    {
     "name": "stdout",
     "output_type": "stream",
     "text": [
      "\rIteration: 904\t\rIteration: 905\t\rIteration: 906\t\rIteration: 907\t\rIteration: 908\t\rIteration: 909\t\rIteration: 910\t\rIteration: 911\t\rIteration: 912\t\rIteration: 913\t"
     ]
    },
    {
     "name": "stdout",
     "output_type": "stream",
     "text": [
      "\rIteration: 914\t\rIteration: 915\t\rIteration: 916\t\rIteration: 917\t\rIteration: 918\t\rIteration: 919\t\rIteration: 920\t\rIteration: 921\t\rIteration: 922\t\rIteration: 923\t"
     ]
    },
    {
     "name": "stdout",
     "output_type": "stream",
     "text": [
      "\rIteration: 924\t\rIteration: 925\t\rIteration: 926\t\rIteration: 927\t\rIteration: 928\t\rIteration: 929\t\rIteration: 930\t\rIteration: 931\t\rIteration: 932\t\rIteration: 933\t"
     ]
    },
    {
     "name": "stdout",
     "output_type": "stream",
     "text": [
      "\rIteration: 934\t\rIteration: 935\t\rIteration: 936\t\rIteration: 937\t\rIteration: 938\t\rIteration: 939\t\rIteration: 940\t\rIteration: 941\t\rIteration: 942\t\rIteration: 943\t"
     ]
    },
    {
     "name": "stdout",
     "output_type": "stream",
     "text": [
      "\rIteration: 944\t\rIteration: 945\t\rIteration: 946\t\rIteration: 947\t\rIteration: 948\t\rIteration: 949\t\rIteration: 950\t\rIteration: 951\t\rIteration: 952\t\rIteration: 953\t"
     ]
    },
    {
     "name": "stdout",
     "output_type": "stream",
     "text": [
      "\rIteration: 954\t\rIteration: 955\t\rIteration: 956\t\rIteration: 957\t\rIteration: 958\t\rIteration: 959\t\rIteration: 960\t\rIteration: 961\t\rIteration: 962\t\rIteration: 963\t"
     ]
    },
    {
     "name": "stdout",
     "output_type": "stream",
     "text": [
      "\rIteration: 964\t\rIteration: 965\t\rIteration: 966\t\rIteration: 967\t\rIteration: 968\t\rIteration: 969\t\rIteration: 970\t\rIteration: 971\t\rIteration: 972\t\rIteration: 973\t"
     ]
    },
    {
     "name": "stdout",
     "output_type": "stream",
     "text": [
      "\rIteration: 974\t\rIteration: 975\t\rIteration: 976\t\rIteration: 977\t\rIteration: 978\t\rIteration: 979\t\rIteration: 980\t\rIteration: 981\t\rIteration: 982\t\rIteration: 983\t"
     ]
    },
    {
     "name": "stdout",
     "output_type": "stream",
     "text": [
      "\rIteration: 984\t\rIteration: 985\t\rIteration: 986\t\rIteration: 987\t\rIteration: 988\t\rIteration: 989\t\rIteration: 990\t\rIteration: 991\t\rIteration: 992\t\rIteration: 993\t\rIteration: 994\t"
     ]
    },
    {
     "name": "stdout",
     "output_type": "stream",
     "text": [
      "\rIteration: 995\t\rIteration: 996\t\rIteration: 997\t\rIteration: 998\t\rIteration: 999\t\rIteration: 1000\t\rIteration: 1001\t\rIteration: 1002\t\rIteration: 1003\t\rIteration: 1004\t\rIteration: 1005\t"
     ]
    },
    {
     "name": "stdout",
     "output_type": "stream",
     "text": [
      "\rIteration: 1006\t\rIteration: 1007\t\rIteration: 1008\t\rIteration: 1009\t\rIteration: 1010\t\rIteration: 1011\t\rIteration: 1012\t\rIteration: 1013\t\rIteration: 1014\t\rIteration: 1015\t\rIteration: 1016\t"
     ]
    },
    {
     "name": "stdout",
     "output_type": "stream",
     "text": [
      "\rIteration: 1017\t\rIteration: 1018\t\rIteration: 1019\t\rIteration: 1020\t\rIteration: 1021\t\rIteration: 1022\t\rIteration: 1023\t\rIteration: 1024\t\rIteration: 1025\t\rIteration: 1026\t"
     ]
    },
    {
     "name": "stdout",
     "output_type": "stream",
     "text": [
      "\rIteration: 1027\t\rIteration: 1028\t\rIteration: 1029\t\rIteration: 1030\t\rIteration: 1031\t\rIteration: 1032\t\rIteration: 1033\t\rIteration: 1034\t\rIteration: 1035\t\rIteration: 1036\t"
     ]
    },
    {
     "name": "stdout",
     "output_type": "stream",
     "text": [
      "\rIteration: 1037\t\rIteration: 1038\t\rIteration: 1039\t\rIteration: 1040\t\rIteration: 1041\t\rIteration: 1042\t\rIteration: 1043\t\rIteration: 1044\t\rIteration: 1045\t\rIteration: 1046\t\rIteration: 1047\t"
     ]
    },
    {
     "name": "stdout",
     "output_type": "stream",
     "text": [
      "\rIteration: 1048\t\rIteration: 1049\t\rIteration: 1050\t\rIteration: 1051\t\rIteration: 1052\t\rIteration: 1053\t\rIteration: 1054\t\rIteration: 1055\t\rIteration: 1056\t\rIteration: 1057\t"
     ]
    },
    {
     "name": "stdout",
     "output_type": "stream",
     "text": [
      "\rIteration: 1058\t\rIteration: 1059\t\rIteration: 1060\t\rIteration: 1061\t\rIteration: 1062\t\rIteration: 1063\t\rIteration: 1064\t\rIteration: 1065\t\rIteration: 1066\t\rIteration: 1067\t\rIteration: 1068\t"
     ]
    },
    {
     "name": "stdout",
     "output_type": "stream",
     "text": [
      "\rIteration: 1069\t\rIteration: 1070\t\rIteration: 1071\t\rIteration: 1072\t\rIteration: 1073\t\rIteration: 1074\t\rIteration: 1075\t\rIteration: 1076\t\rIteration: 1077\t\rIteration: 1078\t\rIteration: 1079\t"
     ]
    },
    {
     "name": "stdout",
     "output_type": "stream",
     "text": [
      "\rIteration: 1080\t\rIteration: 1081\t\rIteration: 1082\t\rIteration: 1083\t\rIteration: 1084\t\rIteration: 1085\t\rIteration: 1086\t\rIteration: 1087\t\rIteration: 1088\t\rIteration: 1089\t"
     ]
    },
    {
     "name": "stdout",
     "output_type": "stream",
     "text": [
      "\rIteration: 1090\t\rIteration: 1091\t\rIteration: 1092\t\rIteration: 1093\t\rIteration: 1094\t\rIteration: 1095\t\rIteration: 1096\t\rIteration: 1097\t\rIteration: 1098\t\rIteration: 1099\t"
     ]
    },
    {
     "name": "stdout",
     "output_type": "stream",
     "text": [
      "\rIteration: 1100\t\rIteration: 1101\t\rIteration: 1102\t\rIteration: 1103\t\rIteration: 1104\t\rIteration: 1105\t\rIteration: 1106\t\rIteration: 1107\t\rIteration: 1108\t\rIteration: 1109\t"
     ]
    },
    {
     "name": "stdout",
     "output_type": "stream",
     "text": [
      "\rIteration: 1110\t\rIteration: 1111\t\rIteration: 1112\t\rIteration: 1113\t\rIteration: 1114\t\rIteration: 1115\t\rIteration: 1116\t\rIteration: 1117\t\rIteration: 1118\t\rIteration: 1119\t\rIteration: 1120\t"
     ]
    },
    {
     "name": "stdout",
     "output_type": "stream",
     "text": [
      "\rIteration: 1121\t\rIteration: 1122\t\rIteration: 1123\t\rIteration: 1124\t\rIteration: 1125\t\rIteration: 1126\t\rIteration: 1127\t\rIteration: 1128\t\rIteration: 1129\t\rIteration: 1130\t"
     ]
    },
    {
     "name": "stdout",
     "output_type": "stream",
     "text": [
      "\rIteration: 1131\t\rIteration: 1132\t\rIteration: 1133\t\rIteration: 1134\t\rIteration: 1135\t\rIteration: 1136\t\rIteration: 1137\t\rIteration: 1138\t\rIteration: 1139\t\rIteration: 1140\t\rIteration: 1141\t"
     ]
    },
    {
     "name": "stdout",
     "output_type": "stream",
     "text": [
      "\rIteration: 1142\t\rIteration: 1143\t\rIteration: 1144\t\rIteration: 1145\t\rIteration: 1146\t\rIteration: 1147\t\rIteration: 1148\t\rIteration: 1149\t\rIteration: 1150\t\rIteration: 1151\t"
     ]
    },
    {
     "name": "stdout",
     "output_type": "stream",
     "text": [
      "\rIteration: 1152\t\rIteration: 1153\t\rIteration: 1154\t\rIteration: 1155\t\rIteration: 1156\t\rIteration: 1157\t\rIteration: 1158\t\rIteration: 1159\t\rIteration: 1160\t\rIteration: 1161\t"
     ]
    },
    {
     "name": "stdout",
     "output_type": "stream",
     "text": [
      "\rIteration: 1162\t\rIteration: 1163\t\rIteration: 1164\t\rIteration: 1165\t\rIteration: 1166\t\rIteration: 1167\t\rIteration: 1168\t\rIteration: 1169\t\rIteration: 1170\t\rIteration: 1171\t"
     ]
    },
    {
     "name": "stdout",
     "output_type": "stream",
     "text": [
      "\rIteration: 1172\t\rIteration: 1173\t\rIteration: 1174\t\rIteration: 1175\t\rIteration: 1176\t\rIteration: 1177\t\rIteration: 1178\t\rIteration: 1179\t\rIteration: 1180\t\rIteration: 1181\t\rIteration: 1182\t"
     ]
    },
    {
     "name": "stdout",
     "output_type": "stream",
     "text": [
      "\rIteration: 1183\t\rIteration: 1184\t\rIteration: 1185\t\rIteration: 1186\t\rIteration: 1187\t\rIteration: 1188\t\rIteration: 1189\t\rIteration: 1190\t\rIteration: 1191\t\rIteration: 1192\t"
     ]
    },
    {
     "name": "stdout",
     "output_type": "stream",
     "text": [
      "\rIteration: 1193\t\rIteration: 1194\t\rIteration: 1195\t\rIteration: 1196\t\rIteration: 1197\t\rIteration: 1198\t\rIteration: 1199\t\rIteration: 1200\t\rIteration: 1201\t\rIteration: 1202\t"
     ]
    },
    {
     "name": "stdout",
     "output_type": "stream",
     "text": [
      "\rIteration: 1203\t\rIteration: 1204\t\rIteration: 1205\t\rIteration: 1206\t\rIteration: 1207\t\rIteration: 1208\t\rIteration: 1209\t\rIteration: 1210\t\rIteration: 1211\t\rIteration: 1212\t"
     ]
    },
    {
     "name": "stdout",
     "output_type": "stream",
     "text": [
      "\rIteration: 1213\t\rIteration: 1214\t\rIteration: 1215\t\rIteration: 1216\t\rIteration: 1217\t\rIteration: 1218\t\rIteration: 1219\t\rIteration: 1220\t\rIteration: 1221\t\rIteration: 1222\t"
     ]
    },
    {
     "name": "stdout",
     "output_type": "stream",
     "text": [
      "\rIteration: 1223\t\rIteration: 1224\t\rIteration: 1225\t\rIteration: 1226\t\rIteration: 1227\t\rIteration: 1228\t\rIteration: 1229\t\rIteration: 1230\t\rIteration: 1231\t\rIteration: 1232\t"
     ]
    },
    {
     "name": "stdout",
     "output_type": "stream",
     "text": [
      "\rIteration: 1233\t\rIteration: 1234\t\rIteration: 1235\t\rIteration: 1236\t\rIteration: 1237\t\rIteration: 1238\t\rIteration: 1239\t\rIteration: 1240\t\rIteration: 1241\t\rIteration: 1242\t"
     ]
    },
    {
     "name": "stdout",
     "output_type": "stream",
     "text": [
      "\rIteration: 1243\t\rIteration: 1244\t\rIteration: 1245\t\rIteration: 1246\t\rIteration: 1247\t\rIteration: 1248\t\rIteration: 1249\t\rIteration: 1250\t\rIteration: 1251\t\rIteration: 1252\t"
     ]
    },
    {
     "name": "stdout",
     "output_type": "stream",
     "text": [
      "\rIteration: 1253\t\rIteration: 1254\t\rIteration: 1255\t\rIteration: 1256\t\rIteration: 1257\t\rIteration: 1258\t\rIteration: 1259\t\rIteration: 1260\t\rIteration: 1261\t\rIteration: 1262\t"
     ]
    },
    {
     "name": "stdout",
     "output_type": "stream",
     "text": [
      "\rIteration: 1263\t\rIteration: 1264\t\rIteration: 1265\t\rIteration: 1266\t\rIteration: 1267\t\rIteration: 1268\t\rIteration: 1269\t\rIteration: 1270\t\rIteration: 1271\t\rIteration: 1272\t"
     ]
    },
    {
     "name": "stdout",
     "output_type": "stream",
     "text": [
      "\rIteration: 1273\t\rIteration: 1274\t\rIteration: 1275\t\rIteration: 1276\t\rIteration: 1277\t\rIteration: 1278\t\rIteration: 1279\t\rIteration: 1280\t\rIteration: 1281\t\rIteration: 1282\t"
     ]
    },
    {
     "name": "stdout",
     "output_type": "stream",
     "text": [
      "\rIteration: 1283\t\rIteration: 1284\t\rIteration: 1285\t\rIteration: 1286\t\rIteration: 1287\t\rIteration: 1288\t\rIteration: 1289\t\rIteration: 1290\t\rIteration: 1291\t\rIteration: 1292\t"
     ]
    },
    {
     "name": "stdout",
     "output_type": "stream",
     "text": [
      "\rIteration: 1293\t\rIteration: 1294\t\rIteration: 1295\t\rIteration: 1296\t\rIteration: 1297\t\rIteration: 1298\t\rIteration: 1299\t\rIteration: 1300\t\rIteration: 1301\t\rIteration: 1302\t"
     ]
    },
    {
     "name": "stdout",
     "output_type": "stream",
     "text": [
      "\rIteration: 1303\t\rIteration: 1304\t\rIteration: 1305\t\rIteration: 1306\t\rIteration: 1307\t\rIteration: 1308\t\rIteration: 1309\t\rIteration: 1310\t\rIteration: 1311\t\rIteration: 1312\t"
     ]
    },
    {
     "name": "stdout",
     "output_type": "stream",
     "text": [
      "\rIteration: 1313\t\rIteration: 1314\t\rIteration: 1315\t\rIteration: 1316\t\rIteration: 1317\t\rIteration: 1318\t\rIteration: 1319\t\rIteration: 1320\t\rIteration: 1321\t\rIteration: 1322\t"
     ]
    },
    {
     "name": "stdout",
     "output_type": "stream",
     "text": [
      "\rIteration: 1323\t\rIteration: 1324\t\rIteration: 1325\t\rIteration: 1326\t\rIteration: 1327\t\rIteration: 1328\t\rIteration: 1329\t\rIteration: 1330\t\rIteration: 1331\t\rIteration: 1332\t"
     ]
    },
    {
     "name": "stdout",
     "output_type": "stream",
     "text": [
      "\rIteration: 1333\t\rIteration: 1334\t\rIteration: 1335\t\rIteration: 1336\t\rIteration: 1337\t\rIteration: 1338\t\rIteration: 1339\t\rIteration: 1340\t\rIteration: 1341\t\rIteration: 1342\t"
     ]
    },
    {
     "name": "stdout",
     "output_type": "stream",
     "text": [
      "\rIteration: 1343\t\rIteration: 1344\t\rIteration: 1345\t\rIteration: 1346\t\rIteration: 1347\t\rIteration: 1348\t\rIteration: 1349\t\rIteration: 1350\t\rIteration: 1351\t\rIteration: 1352\t"
     ]
    },
    {
     "name": "stdout",
     "output_type": "stream",
     "text": [
      "\rIteration: 1353\t\rIteration: 1354\t\rIteration: 1355\t\rIteration: 1356\t\rIteration: 1357\t\rIteration: 1358\t\rIteration: 1359\t\rIteration: 1360\t\rIteration: 1361\t\rIteration: 1362\t"
     ]
    },
    {
     "name": "stdout",
     "output_type": "stream",
     "text": [
      "\rIteration: 1363\t\rIteration: 1364\t\rIteration: 1365\t\rIteration: 1366\t\rIteration: 1367\t\rIteration: 1368\t\rIteration: 1369\t\rIteration: 1370\t\rIteration: 1371\t\rIteration: 1372\t"
     ]
    },
    {
     "name": "stdout",
     "output_type": "stream",
     "text": [
      "\rIteration: 1373\t\rIteration: 1374\t\rIteration: 1375\t\rIteration: 1376\t\rIteration: 1377\t\rIteration: 1378\t\rIteration: 1379\t\rIteration: 1380\t\rIteration: 1381\t\rIteration: 1382\t\rIteration: 1383\t"
     ]
    },
    {
     "name": "stdout",
     "output_type": "stream",
     "text": [
      "\rIteration: 1384\t\rIteration: 1385\t\rIteration: 1386\t\rIteration: 1387\t\rIteration: 1388\t\rIteration: 1389\t\rIteration: 1390\t\rIteration: 1391\t\rIteration: 1392\t\rIteration: 1393\t"
     ]
    },
    {
     "name": "stdout",
     "output_type": "stream",
     "text": [
      "\rIteration: 1394\t\rIteration: 1395\t\rIteration: 1396\t\rIteration: 1397\t\rIteration: 1398\t\rIteration: 1399\t\rIteration: 1400\t\rIteration: 1401\t\rIteration: 1402\t\rIteration: 1403\t"
     ]
    },
    {
     "name": "stdout",
     "output_type": "stream",
     "text": [
      "\rIteration: 1404\t\rIteration: 1405\t\rIteration: 1406\t\rIteration: 1407\t\rIteration: 1408\t\rIteration: 1409\t\rIteration: 1410\t\rIteration: 1411\t\rIteration: 1412\t\rIteration: 1413\t"
     ]
    },
    {
     "name": "stdout",
     "output_type": "stream",
     "text": [
      "\rIteration: 1414\t\rIteration: 1415\t\rIteration: 1416\t\rIteration: 1417\t\rIteration: 1418\t\rIteration: 1419\t\rIteration: 1420\t\rIteration: 1421\t\rIteration: 1422\t\rIteration: 1423\t"
     ]
    },
    {
     "name": "stdout",
     "output_type": "stream",
     "text": [
      "\rIteration: 1424\t\rIteration: 1425\t\rIteration: 1426\t\rIteration: 1427\t\rIteration: 1428\t\rIteration: 1429\t\rIteration: 1430\t\rIteration: 1431\t\rIteration: 1432\t\rIteration: 1433\t\rIteration: 1434\t"
     ]
    },
    {
     "name": "stdout",
     "output_type": "stream",
     "text": [
      "\rIteration: 1435\t\rIteration: 1436\t\rIteration: 1437\t\rIteration: 1438\t\rIteration: 1439\t\rIteration: 1440\t\rIteration: 1441\t\rIteration: 1442\t\rIteration: 1443\t\rIteration: 1444\t\rIteration: 1445\t"
     ]
    },
    {
     "name": "stdout",
     "output_type": "stream",
     "text": [
      "\rIteration: 1446\t\rIteration: 1447\t\rIteration: 1448\t\rIteration: 1449\t\rIteration: 1450\t\rIteration: 1451\t\rIteration: 1452\t\rIteration: 1453\t\rIteration: 1454\t\rIteration: 1455\t"
     ]
    },
    {
     "name": "stdout",
     "output_type": "stream",
     "text": [
      "\rIteration: 1456\t\rIteration: 1457\t\rIteration: 1458\t\rIteration: 1459\t\rIteration: 1460\t\rIteration: 1461\t\rIteration: 1462\t\rIteration: 1463\t\rIteration: 1464\t\rIteration: 1465\t\rIteration: 1466\t"
     ]
    },
    {
     "name": "stdout",
     "output_type": "stream",
     "text": [
      "\rIteration: 1467\t\rIteration: 1468\t\rIteration: 1469\t\rIteration: 1470\t\rIteration: 1471\t\rIteration: 1472\t\rIteration: 1473\t\rIteration: 1474\t\rIteration: 1475\t\rIteration: 1476\t\rIteration: 1477\t"
     ]
    },
    {
     "name": "stdout",
     "output_type": "stream",
     "text": [
      "\rIteration: 1478\t\rIteration: 1479\t\rIteration: 1480\t\rIteration: 1481\t\rIteration: 1482\t\rIteration: 1483\t\rIteration: 1484\t\rIteration: 1485\t\rIteration: 1486\t\rIteration: 1487\t"
     ]
    },
    {
     "name": "stdout",
     "output_type": "stream",
     "text": [
      "\rIteration: 1488\t\rIteration: 1489\t\rIteration: 1490\t\rIteration: 1491\t\rIteration: 1492\t\rIteration: 1493\t\rIteration: 1494\t\rIteration: 1495\t\rIteration: 1496\t\rIteration: 1497\t\rIteration: 1498\t"
     ]
    },
    {
     "name": "stdout",
     "output_type": "stream",
     "text": [
      "\rIteration: 1499\t\rIteration: 1500\t\rIteration: 1501\t\rIteration: 1502\t\rIteration: 1503\t\rIteration: 1504\t\rIteration: 1505\t\rIteration: 1506\t\rIteration: 1507\t\rIteration: 1508\t\rIteration: 1509\t"
     ]
    },
    {
     "name": "stdout",
     "output_type": "stream",
     "text": [
      "\rIteration: 1510\t\rIteration: 1511\t\rIteration: 1512\t\rIteration: 1513\t\rIteration: 1514\t\rIteration: 1515\t\rIteration: 1516\t\rIteration: 1517\t\rIteration: 1518\t\rIteration: 1519\t\rIteration: 1520\t"
     ]
    },
    {
     "name": "stdout",
     "output_type": "stream",
     "text": [
      "\rIteration: 1521\t\rIteration: 1522\t\rIteration: 1523\t\rIteration: 1524\t\rIteration: 1525\t\rIteration: 1526\t\rIteration: 1527\t\rIteration: 1528\t\rIteration: 1529\t\rIteration: 1530\t\rIteration: 1531\t"
     ]
    },
    {
     "name": "stdout",
     "output_type": "stream",
     "text": [
      "\rIteration: 1532\t\rIteration: 1533\t\rIteration: 1534\t\rIteration: 1535\t\rIteration: 1536\t\rIteration: 1537\t\rIteration: 1538\t\rIteration: 1539\t\rIteration: 1540\t\rIteration: 1541\t\rIteration: 1542\t"
     ]
    },
    {
     "name": "stdout",
     "output_type": "stream",
     "text": [
      "\rIteration: 1543\t\rIteration: 1544\t\rIteration: 1545\t\rIteration: 1546\t\rIteration: 1547\t\rIteration: 1548\t\rIteration: 1549\t\rIteration: 1550\t\rIteration: 1551\t\rIteration: 1552\t"
     ]
    },
    {
     "name": "stdout",
     "output_type": "stream",
     "text": [
      "\rIteration: 1553\t\rIteration: 1554\t\rIteration: 1555\t\rIteration: 1556\t\rIteration: 1557\t\rIteration: 1558\t\rIteration: 1559\t\rIteration: 1560\t\rIteration: 1561\t\rIteration: 1562\t"
     ]
    },
    {
     "name": "stdout",
     "output_type": "stream",
     "text": [
      "\rIteration: 1563\t\rIteration: 1564\t\rIteration: 1565\t\rIteration: 1566\t\rIteration: 1567\t\rIteration: 1568\t\rIteration: 1569\t\rIteration: 1570\t\rIteration: 1571\t\rIteration: 1572\t"
     ]
    },
    {
     "name": "stdout",
     "output_type": "stream",
     "text": [
      "\rIteration: 1573\t\rIteration: 1574\t\rIteration: 1575\t\rIteration: 1576\t\rIteration: 1577\t\rIteration: 1578\t\rIteration: 1579\t\rIteration: 1580\t\rIteration: 1581\t\rIteration: 1582\t"
     ]
    },
    {
     "name": "stdout",
     "output_type": "stream",
     "text": [
      "\rIteration: 1583\t\rIteration: 1584\t\rIteration: 1585\t\rIteration: 1586\t\rIteration: 1587\t\rIteration: 1588\t\rIteration: 1589\t\rIteration: 1590\t\rIteration: 1591\t\rIteration: 1592\t"
     ]
    },
    {
     "name": "stdout",
     "output_type": "stream",
     "text": [
      "\rIteration: 1593\t\rIteration: 1594\t\rIteration: 1595\t\rIteration: 1596\t\rIteration: 1597\t\rIteration: 1598\t\rIteration: 1599\t\rIteration: 1600\t\rIteration: 1601\t\rIteration: 1602\t\rIteration: 1603\t"
     ]
    },
    {
     "name": "stdout",
     "output_type": "stream",
     "text": [
      "\rIteration: 1604\t\rIteration: 1605\t\rIteration: 1606\t\rIteration: 1607\t\rIteration: 1608\t\rIteration: 1609\t\rIteration: 1610\t\rIteration: 1611\t\rIteration: 1612\t\rIteration: 1613\t"
     ]
    },
    {
     "name": "stdout",
     "output_type": "stream",
     "text": [
      "\rIteration: 1614\t\rIteration: 1615\t\rIteration: 1616\t\rIteration: 1617\t\rIteration: 1618\t\rIteration: 1619\t\rIteration: 1620\t\rIteration: 1621\t\rIteration: 1622\t\rIteration: 1623\t\rIteration: 1624\t"
     ]
    },
    {
     "name": "stdout",
     "output_type": "stream",
     "text": [
      "\rIteration: 1625\t\rIteration: 1626\t\rIteration: 1627\t\rIteration: 1628\t\rIteration: 1629\t\rIteration: 1630\t\rIteration: 1631\t\rIteration: 1632\t\rIteration: 1633\t\rIteration: 1634\t\rIteration: 1635\t"
     ]
    },
    {
     "name": "stdout",
     "output_type": "stream",
     "text": [
      "\rIteration: 1636\t\rIteration: 1637\t\rIteration: 1638\t\rIteration: 1639\t\rIteration: 1640\t\rIteration: 1641\t\rIteration: 1642\t\rIteration: 1643\t\rIteration: 1644\t\rIteration: 1645\t\rIteration: 1646\t"
     ]
    },
    {
     "name": "stdout",
     "output_type": "stream",
     "text": [
      "\rIteration: 1647\t\rIteration: 1648\t\rIteration: 1649\t\rIteration: 1650\t\rIteration: 1651\t\rIteration: 1652\t\rIteration: 1653\t\rIteration: 1654\t\rIteration: 1655\t\rIteration: 1656\t\rIteration: 1657\t"
     ]
    },
    {
     "name": "stdout",
     "output_type": "stream",
     "text": [
      "\rIteration: 1658\t\rIteration: 1659\t\rIteration: 1660\t\rIteration: 1661\t\rIteration: 1662\t\rIteration: 1663\t\rIteration: 1664\t\rIteration: 1665\t\rIteration: 1666\t\rIteration: 1667\t\rIteration: 1668\t"
     ]
    },
    {
     "name": "stdout",
     "output_type": "stream",
     "text": [
      "\rIteration: 1669\t\rIteration: 1670\t\rIteration: 1671\t\rIteration: 1672\t\rIteration: 1673\t\rIteration: 1674\t\rIteration: 1675\t\rIteration: 1676\t\rIteration: 1677\t\rIteration: 1678\t"
     ]
    },
    {
     "name": "stdout",
     "output_type": "stream",
     "text": [
      "\rIteration: 1679\t\rIteration: 1680\t\rIteration: 1681\t\rIteration: 1682\t\rIteration: 1683\t\rIteration: 1684\t\rIteration: 1685\t\rIteration: 1686\t\rIteration: 1687\t\rIteration: 1688\t"
     ]
    },
    {
     "name": "stdout",
     "output_type": "stream",
     "text": [
      "\rIteration: 1689\t\rIteration: 1690\t\rIteration: 1691\t\rIteration: 1692\t\rIteration: 1693\t\rIteration: 1694\t\rIteration: 1695\t\rIteration: 1696\t\rIteration: 1697\t\rIteration: 1698\t\rIteration: 1699\t"
     ]
    },
    {
     "name": "stdout",
     "output_type": "stream",
     "text": [
      "\rIteration: 1700\t\rIteration: 1701\t\rIteration: 1702\t\rIteration: 1703\t\rIteration: 1704\t\rIteration: 1705\t\rIteration: 1706\t\rIteration: 1707\t\rIteration: 1708\t\rIteration: 1709\t"
     ]
    },
    {
     "name": "stdout",
     "output_type": "stream",
     "text": [
      "\rIteration: 1710\t\rIteration: 1711\t\rIteration: 1712\t\rIteration: 1713\t\rIteration: 1714\t\rIteration: 1715\t\rIteration: 1716\t\rIteration: 1717\t\rIteration: 1718\t\rIteration: 1719\t"
     ]
    },
    {
     "name": "stdout",
     "output_type": "stream",
     "text": [
      "\rIteration: 1720\t\rIteration: 1721\t\rIteration: 1722\t\rIteration: 1723\t\rIteration: 1724\t\rIteration: 1725\t\rIteration: 1726\t\rIteration: 1727\t\rIteration: 1728\t\rIteration: 1729\t\rIteration: 1730\t"
     ]
    },
    {
     "name": "stdout",
     "output_type": "stream",
     "text": [
      "\rIteration: 1731\t\rIteration: 1732\t\rIteration: 1733\t\rIteration: 1734\t\rIteration: 1735\t\rIteration: 1736\t\rIteration: 1737\t\rIteration: 1738\t\rIteration: 1739\t\rIteration: 1740\t"
     ]
    },
    {
     "name": "stdout",
     "output_type": "stream",
     "text": [
      "\rIteration: 1741\t\rIteration: 1742\t\rIteration: 1743\t\rIteration: 1744\t\rIteration: 1745\t\rIteration: 1746\t\rIteration: 1747\t\rIteration: 1748\t\rIteration: 1749\t\rIteration: 1750\t"
     ]
    },
    {
     "name": "stdout",
     "output_type": "stream",
     "text": [
      "\rIteration: 1751\t\rIteration: 1752\t\rIteration: 1753\t\rIteration: 1754\t\rIteration: 1755\t\rIteration: 1756\t\rIteration: 1757\t\rIteration: 1758\t\rIteration: 1759\t\rIteration: 1760\t"
     ]
    },
    {
     "name": "stdout",
     "output_type": "stream",
     "text": [
      "\rIteration: 1761\t\rIteration: 1762\t\rIteration: 1763\t\rIteration: 1764\t\rIteration: 1765\t\rIteration: 1766\t\rIteration: 1767\t\rIteration: 1768\t\rIteration: 1769\t\rIteration: 1770\t"
     ]
    },
    {
     "name": "stdout",
     "output_type": "stream",
     "text": [
      "\rIteration: 1771\t\rIteration: 1772\t\rIteration: 1773\t\rIteration: 1774\t\rIteration: 1775\t\rIteration: 1776\t\rIteration: 1777\t\rIteration: 1778\t\rIteration: 1779\t\rIteration: 1780\t"
     ]
    },
    {
     "name": "stdout",
     "output_type": "stream",
     "text": [
      "\rIteration: 1781\t\rIteration: 1782\t\rIteration: 1783\t\rIteration: 1784\t\rIteration: 1785\t\rIteration: 1786\t\rIteration: 1787\t\rIteration: 1788\t\rIteration: 1789\t\rIteration: 1790\t"
     ]
    },
    {
     "name": "stdout",
     "output_type": "stream",
     "text": [
      "\rIteration: 1791\t\rIteration: 1792\t\rIteration: 1793\t\rIteration: 1794\t\rIteration: 1795\t\rIteration: 1796\t\rIteration: 1797\t\rIteration: 1798\t\rIteration: 1799\t\rIteration: 1800\t"
     ]
    },
    {
     "name": "stdout",
     "output_type": "stream",
     "text": [
      "\rIteration: 1801\t\rIteration: 1802\t\rIteration: 1803\t\rIteration: 1804\t\rIteration: 1805\t\rIteration: 1806\t\rIteration: 1807\t\rIteration: 1808\t\rIteration: 1809\t\rIteration: 1810\t"
     ]
    },
    {
     "name": "stdout",
     "output_type": "stream",
     "text": [
      "\rIteration: 1811\t\rIteration: 1812\t\rIteration: 1813\t\rIteration: 1814\t\rIteration: 1815\t\rIteration: 1816\t\rIteration: 1817\t\rIteration: 1818\t\rIteration: 1819\t\rIteration: 1820\t"
     ]
    },
    {
     "name": "stdout",
     "output_type": "stream",
     "text": [
      "\rIteration: 1821\t\rIteration: 1822\t\rIteration: 1823\t\rIteration: 1824\t\rIteration: 1825\t\rIteration: 1826\t\rIteration: 1827\t\rIteration: 1828\t\rIteration: 1829\t\rIteration: 1830\t"
     ]
    },
    {
     "name": "stdout",
     "output_type": "stream",
     "text": [
      "\rIteration: 1831\t\rIteration: 1832\t\rIteration: 1833\t\rIteration: 1834\t\rIteration: 1835\t\rIteration: 1836\t\rIteration: 1837\t\rIteration: 1838\t\rIteration: 1839\t\rIteration: 1840\t"
     ]
    },
    {
     "name": "stdout",
     "output_type": "stream",
     "text": [
      "\rIteration: 1841\t\rIteration: 1842\t\rIteration: 1843\t\rIteration: 1844\t\rIteration: 1845\t\rIteration: 1846\t\rIteration: 1847\t\rIteration: 1848\t\rIteration: 1849\t\rIteration: 1850\t"
     ]
    },
    {
     "name": "stdout",
     "output_type": "stream",
     "text": [
      "\rIteration: 1851\t\rIteration: 1852\t\rIteration: 1853\t\rIteration: 1854\t\rIteration: 1855\t\rIteration: 1856\t\rIteration: 1857\t\rIteration: 1858\t\rIteration: 1859\t\rIteration: 1860\t"
     ]
    },
    {
     "name": "stdout",
     "output_type": "stream",
     "text": [
      "\rIteration: 1861\t\rIteration: 1862\t\rIteration: 1863\t\rIteration: 1864\t\rIteration: 1865\t\rIteration: 1866\t\rIteration: 1867\t\rIteration: 1868\t\rIteration: 1869\t\rIteration: 1870\t\rIteration: 1871\t"
     ]
    },
    {
     "name": "stdout",
     "output_type": "stream",
     "text": [
      "\rIteration: 1872\t\rIteration: 1873\t\rIteration: 1874\t\rIteration: 1875\t\rIteration: 1876\t\rIteration: 1877\t\rIteration: 1878\t\rIteration: 1879\t\rIteration: 1880\t\rIteration: 1881\t"
     ]
    },
    {
     "name": "stdout",
     "output_type": "stream",
     "text": [
      "\rIteration: 1882\t\rIteration: 1883\t\rIteration: 1884\t\rIteration: 1885\t\rIteration: 1886\t\rIteration: 1887\t\rIteration: 1888\t\rIteration: 1889\t\rIteration: 1890\t\rIteration: 1891\t\rIteration: 1892\t"
     ]
    },
    {
     "name": "stdout",
     "output_type": "stream",
     "text": [
      "\rIteration: 1893\t\rIteration: 1894\t\rIteration: 1895\t\rIteration: 1896\t\rIteration: 1897\t\rIteration: 1898\t\rIteration: 1899\t\rIteration: 1900\t\rIteration: 1901\t\rIteration: 1902\t"
     ]
    },
    {
     "name": "stdout",
     "output_type": "stream",
     "text": [
      "\rIteration: 1903\t\rIteration: 1904\t\rIteration: 1905\t\rIteration: 1906\t\rIteration: 1907\t\rIteration: 1908\t\rIteration: 1909\t\rIteration: 1910\t\rIteration: 1911\t\rIteration: 1912\t\rIteration: 1913\t"
     ]
    },
    {
     "name": "stdout",
     "output_type": "stream",
     "text": [
      "\rIteration: 1914\t\rIteration: 1915\t\rIteration: 1916\t\rIteration: 1917\t\rIteration: 1918\t\rIteration: 1919\t\rIteration: 1920\t\rIteration: 1921\t\rIteration: 1922\t\rIteration: 1923\t"
     ]
    },
    {
     "name": "stdout",
     "output_type": "stream",
     "text": [
      "\rIteration: 1924\t\rIteration: 1925\t\rIteration: 1926\t\rIteration: 1927\t\rIteration: 1928\t\rIteration: 1929\t\rIteration: 1930\t\rIteration: 1931\t\rIteration: 1932\t\rIteration: 1933\t"
     ]
    },
    {
     "name": "stdout",
     "output_type": "stream",
     "text": [
      "\rIteration: 1934\t\rIteration: 1935\t\rIteration: 1936\t\rIteration: 1937\t\rIteration: 1938\t\rIteration: 1939\t\rIteration: 1940\t\rIteration: 1941\t\rIteration: 1942\t\rIteration: 1943\t"
     ]
    },
    {
     "name": "stdout",
     "output_type": "stream",
     "text": [
      "\rIteration: 1944\t\rIteration: 1945\t\rIteration: 1946\t\rIteration: 1947\t\rIteration: 1948\t\rIteration: 1949\t\rIteration: 1950\t\rIteration: 1951\t\rIteration: 1952\t\rIteration: 1953\t\rIteration: 1954\t"
     ]
    },
    {
     "name": "stdout",
     "output_type": "stream",
     "text": [
      "\rIteration: 1955\t\rIteration: 1956\t\rIteration: 1957\t\rIteration: 1958\t\rIteration: 1959\t\rIteration: 1960\t\rIteration: 1961\t\rIteration: 1962\t\rIteration: 1963\t\rIteration: 1964\t"
     ]
    },
    {
     "name": "stdout",
     "output_type": "stream",
     "text": [
      "\rIteration: 1965\t\rIteration: 1966\t\rIteration: 1967\t\rIteration: 1968\t\rIteration: 1969\t\rIteration: 1970\t\rIteration: 1971\t\rIteration: 1972\t\rIteration: 1973\t\rIteration: 1974\t"
     ]
    },
    {
     "name": "stdout",
     "output_type": "stream",
     "text": [
      "\rIteration: 1975\t\rIteration: 1976\t\rIteration: 1977\t\rIteration: 1978\t\rIteration: 1979\t\rIteration: 1980\t\rIteration: 1981\t\rIteration: 1982\t\rIteration: 1983\t\rIteration: 1984\t"
     ]
    },
    {
     "name": "stdout",
     "output_type": "stream",
     "text": [
      "\rIteration: 1985\t\rIteration: 1986\t\rIteration: 1987\t\rIteration: 1988\t\rIteration: 1989\t\rIteration: 1990\t\rIteration: 1991\t\rIteration: 1992\t\rIteration: 1993\t\rIteration: 1994\t\rIteration: 1995\t"
     ]
    },
    {
     "name": "stdout",
     "output_type": "stream",
     "text": [
      "\rIteration: 1996\t\rIteration: 1997\t\rIteration: 1998\t\rIteration: 1999\t\rIteration: 2000\tAverage loss at step  2000 :  130.93915377235413\n\rIteration: 2001\t\rIteration: 2002\t\rIteration: 2003\t\rIteration: 2004\t\rIteration: 2005\t"
     ]
    },
    {
     "name": "stdout",
     "output_type": "stream",
     "text": [
      "\rIteration: 2006\t\rIteration: 2007\t\rIteration: 2008\t\rIteration: 2009\t\rIteration: 2010\t\rIteration: 2011\t\rIteration: 2012\t\rIteration: 2013\t\rIteration: 2014\t\rIteration: 2015\t"
     ]
    },
    {
     "name": "stdout",
     "output_type": "stream",
     "text": [
      "\rIteration: 2016\t\rIteration: 2017\t\rIteration: 2018\t\rIteration: 2019\t\rIteration: 2020\t\rIteration: 2021\t\rIteration: 2022\t\rIteration: 2023\t\rIteration: 2024\t\rIteration: 2025\t\rIteration: 2026\t"
     ]
    },
    {
     "name": "stdout",
     "output_type": "stream",
     "text": [
      "\rIteration: 2027\t\rIteration: 2028\t\rIteration: 2029\t\rIteration: 2030\t\rIteration: 2031\t\rIteration: 2032\t\rIteration: 2033\t\rIteration: 2034\t\rIteration: 2035\t\rIteration: 2036\t"
     ]
    },
    {
     "name": "stdout",
     "output_type": "stream",
     "text": [
      "\rIteration: 2037\t\rIteration: 2038\t\rIteration: 2039\t\rIteration: 2040\t\rIteration: 2041\t\rIteration: 2042\t\rIteration: 2043\t\rIteration: 2044\t\rIteration: 2045\t\rIteration: 2046\t"
     ]
    },
    {
     "name": "stdout",
     "output_type": "stream",
     "text": [
      "\rIteration: 2047\t\rIteration: 2048\t\rIteration: 2049\t\rIteration: 2050\t\rIteration: 2051\t\rIteration: 2052\t\rIteration: 2053\t\rIteration: 2054\t\rIteration: 2055\t\rIteration: 2056\t"
     ]
    },
    {
     "name": "stdout",
     "output_type": "stream",
     "text": [
      "\rIteration: 2057\t\rIteration: 2058\t\rIteration: 2059\t\rIteration: 2060\t\rIteration: 2061\t\rIteration: 2062\t\rIteration: 2063\t\rIteration: 2064\t\rIteration: 2065\t\rIteration: 2066\t\rIteration: 2067\t"
     ]
    },
    {
     "name": "stdout",
     "output_type": "stream",
     "text": [
      "\rIteration: 2068\t\rIteration: 2069\t\rIteration: 2070\t\rIteration: 2071\t\rIteration: 2072\t\rIteration: 2073\t\rIteration: 2074\t\rIteration: 2075\t\rIteration: 2076\t\rIteration: 2077\t\rIteration: 2078\t"
     ]
    },
    {
     "name": "stdout",
     "output_type": "stream",
     "text": [
      "\rIteration: 2079\t\rIteration: 2080\t\rIteration: 2081\t\rIteration: 2082\t\rIteration: 2083\t\rIteration: 2084\t\rIteration: 2085\t\rIteration: 2086\t\rIteration: 2087\t\rIteration: 2088\t"
     ]
    },
    {
     "name": "stdout",
     "output_type": "stream",
     "text": [
      "\rIteration: 2089\t\rIteration: 2090\t\rIteration: 2091\t\rIteration: 2092\t\rIteration: 2093\t\rIteration: 2094\t\rIteration: 2095\t\rIteration: 2096\t\rIteration: 2097\t\rIteration: 2098\t"
     ]
    },
    {
     "name": "stdout",
     "output_type": "stream",
     "text": [
      "\rIteration: 2099\t\rIteration: 2100\t\rIteration: 2101\t\rIteration: 2102\t\rIteration: 2103\t\rIteration: 2104\t\rIteration: 2105\t\rIteration: 2106\t\rIteration: 2107\t\rIteration: 2108\t"
     ]
    },
    {
     "name": "stdout",
     "output_type": "stream",
     "text": [
      "\rIteration: 2109\t\rIteration: 2110\t\rIteration: 2111\t\rIteration: 2112\t\rIteration: 2113\t\rIteration: 2114\t\rIteration: 2115\t\rIteration: 2116\t\rIteration: 2117\t\rIteration: 2118\t"
     ]
    },
    {
     "name": "stdout",
     "output_type": "stream",
     "text": [
      "\rIteration: 2119\t\rIteration: 2120\t\rIteration: 2121\t\rIteration: 2122\t\rIteration: 2123\t\rIteration: 2124\t\rIteration: 2125\t\rIteration: 2126\t\rIteration: 2127\t\rIteration: 2128\t\rIteration: 2129\t"
     ]
    },
    {
     "name": "stdout",
     "output_type": "stream",
     "text": [
      "\rIteration: 2130\t\rIteration: 2131\t\rIteration: 2132\t\rIteration: 2133\t\rIteration: 2134\t\rIteration: 2135\t\rIteration: 2136\t\rIteration: 2137\t\rIteration: 2138\t\rIteration: 2139\t"
     ]
    },
    {
     "name": "stdout",
     "output_type": "stream",
     "text": [
      "\rIteration: 2140\t\rIteration: 2141\t\rIteration: 2142\t\rIteration: 2143\t\rIteration: 2144\t\rIteration: 2145\t\rIteration: 2146\t\rIteration: 2147\t\rIteration: 2148\t\rIteration: 2149\t\rIteration: 2150\t"
     ]
    },
    {
     "name": "stdout",
     "output_type": "stream",
     "text": [
      "\rIteration: 2151\t\rIteration: 2152\t\rIteration: 2153\t\rIteration: 2154\t\rIteration: 2155\t\rIteration: 2156\t\rIteration: 2157\t\rIteration: 2158\t\rIteration: 2159\t\rIteration: 2160\t\rIteration: 2161\t"
     ]
    },
    {
     "name": "stdout",
     "output_type": "stream",
     "text": [
      "\rIteration: 2162\t\rIteration: 2163\t\rIteration: 2164\t\rIteration: 2165\t\rIteration: 2166\t\rIteration: 2167\t\rIteration: 2168\t\rIteration: 2169\t\rIteration: 2170\t\rIteration: 2171\t"
     ]
    },
    {
     "name": "stdout",
     "output_type": "stream",
     "text": [
      "\rIteration: 2172\t\rIteration: 2173\t\rIteration: 2174\t\rIteration: 2175\t\rIteration: 2176\t\rIteration: 2177\t\rIteration: 2178\t\rIteration: 2179\t\rIteration: 2180\t\rIteration: 2181\t\rIteration: 2182\t"
     ]
    },
    {
     "name": "stdout",
     "output_type": "stream",
     "text": [
      "\rIteration: 2183\t\rIteration: 2184\t\rIteration: 2185\t\rIteration: 2186\t\rIteration: 2187\t\rIteration: 2188\t\rIteration: 2189\t\rIteration: 2190\t\rIteration: 2191\t\rIteration: 2192\t\rIteration: 2193\t"
     ]
    },
    {
     "name": "stdout",
     "output_type": "stream",
     "text": [
      "\rIteration: 2194\t\rIteration: 2195\t\rIteration: 2196\t\rIteration: 2197\t\rIteration: 2198\t\rIteration: 2199\t\rIteration: 2200\t\rIteration: 2201\t\rIteration: 2202\t\rIteration: 2203\t"
     ]
    },
    {
     "name": "stdout",
     "output_type": "stream",
     "text": [
      "\rIteration: 2204\t\rIteration: 2205\t\rIteration: 2206\t\rIteration: 2207\t\rIteration: 2208\t\rIteration: 2209\t\rIteration: 2210\t\rIteration: 2211\t\rIteration: 2212\t\rIteration: 2213\t"
     ]
    },
    {
     "name": "stdout",
     "output_type": "stream",
     "text": [
      "\rIteration: 2214\t\rIteration: 2215\t\rIteration: 2216\t\rIteration: 2217\t\rIteration: 2218\t\rIteration: 2219\t\rIteration: 2220\t\rIteration: 2221\t\rIteration: 2222\t\rIteration: 2223\t\rIteration: 2224\t"
     ]
    },
    {
     "name": "stdout",
     "output_type": "stream",
     "text": [
      "\rIteration: 2225\t\rIteration: 2226\t\rIteration: 2227\t\rIteration: 2228\t\rIteration: 2229\t\rIteration: 2230\t\rIteration: 2231\t\rIteration: 2232\t\rIteration: 2233\t\rIteration: 2234\t"
     ]
    },
    {
     "name": "stdout",
     "output_type": "stream",
     "text": [
      "\rIteration: 2235\t\rIteration: 2236\t\rIteration: 2237\t\rIteration: 2238\t\rIteration: 2239\t\rIteration: 2240\t\rIteration: 2241\t\rIteration: 2242\t\rIteration: 2243\t\rIteration: 2244\t"
     ]
    },
    {
     "name": "stdout",
     "output_type": "stream",
     "text": [
      "\rIteration: 2245\t\rIteration: 2246\t\rIteration: 2247\t\rIteration: 2248\t\rIteration: 2249\t\rIteration: 2250\t\rIteration: 2251\t\rIteration: 2252\t\rIteration: 2253\t\rIteration: 2254\t"
     ]
    },
    {
     "name": "stdout",
     "output_type": "stream",
     "text": [
      "\rIteration: 2255\t\rIteration: 2256\t\rIteration: 2257\t\rIteration: 2258\t\rIteration: 2259\t\rIteration: 2260\t\rIteration: 2261\t\rIteration: 2262\t\rIteration: 2263\t\rIteration: 2264\t"
     ]
    },
    {
     "name": "stdout",
     "output_type": "stream",
     "text": [
      "\rIteration: 2265\t\rIteration: 2266\t\rIteration: 2267\t\rIteration: 2268\t\rIteration: 2269\t\rIteration: 2270\t\rIteration: 2271\t\rIteration: 2272\t\rIteration: 2273\t\rIteration: 2274\t"
     ]
    },
    {
     "name": "stdout",
     "output_type": "stream",
     "text": [
      "\rIteration: 2275\t\rIteration: 2276\t\rIteration: 2277\t\rIteration: 2278\t\rIteration: 2279\t\rIteration: 2280\t\rIteration: 2281\t\rIteration: 2282\t\rIteration: 2283\t\rIteration: 2284\t"
     ]
    },
    {
     "name": "stdout",
     "output_type": "stream",
     "text": [
      "\rIteration: 2285\t\rIteration: 2286\t\rIteration: 2287\t\rIteration: 2288\t\rIteration: 2289\t\rIteration: 2290\t\rIteration: 2291\t\rIteration: 2292\t\rIteration: 2293\t\rIteration: 2294\t"
     ]
    },
    {
     "name": "stdout",
     "output_type": "stream",
     "text": [
      "\rIteration: 2295\t\rIteration: 2296\t\rIteration: 2297\t\rIteration: 2298\t\rIteration: 2299\t\rIteration: 2300\t\rIteration: 2301\t\rIteration: 2302\t\rIteration: 2303\t\rIteration: 2304\t"
     ]
    },
    {
     "name": "stdout",
     "output_type": "stream",
     "text": [
      "\rIteration: 2305\t\rIteration: 2306\t\rIteration: 2307\t\rIteration: 2308\t\rIteration: 2309\t\rIteration: 2310\t\rIteration: 2311\t\rIteration: 2312\t\rIteration: 2313\t\rIteration: 2314\t"
     ]
    },
    {
     "name": "stdout",
     "output_type": "stream",
     "text": [
      "\rIteration: 2315\t\rIteration: 2316\t\rIteration: 2317\t\rIteration: 2318\t\rIteration: 2319\t\rIteration: 2320\t\rIteration: 2321\t\rIteration: 2322\t\rIteration: 2323\t\rIteration: 2324\t\rIteration: 2325\t"
     ]
    },
    {
     "name": "stdout",
     "output_type": "stream",
     "text": [
      "\rIteration: 2326\t\rIteration: 2327\t\rIteration: 2328\t\rIteration: 2329\t\rIteration: 2330\t\rIteration: 2331\t\rIteration: 2332\t\rIteration: 2333\t\rIteration: 2334\t\rIteration: 2335\t"
     ]
    },
    {
     "name": "stdout",
     "output_type": "stream",
     "text": [
      "\rIteration: 2336\t\rIteration: 2337\t\rIteration: 2338\t\rIteration: 2339\t\rIteration: 2340\t\rIteration: 2341\t\rIteration: 2342\t\rIteration: 2343\t\rIteration: 2344\t\rIteration: 2345\t"
     ]
    },
    {
     "name": "stdout",
     "output_type": "stream",
     "text": [
      "\rIteration: 2346\t\rIteration: 2347\t\rIteration: 2348\t\rIteration: 2349\t\rIteration: 2350\t\rIteration: 2351\t\rIteration: 2352\t\rIteration: 2353\t\rIteration: 2354\t\rIteration: 2355\t"
     ]
    },
    {
     "name": "stdout",
     "output_type": "stream",
     "text": [
      "\rIteration: 2356\t\rIteration: 2357\t\rIteration: 2358\t\rIteration: 2359\t\rIteration: 2360\t\rIteration: 2361\t\rIteration: 2362\t\rIteration: 2363\t\rIteration: 2364\t\rIteration: 2365\t\rIteration: 2366\t"
     ]
    },
    {
     "name": "stdout",
     "output_type": "stream",
     "text": [
      "\rIteration: 2367\t\rIteration: 2368\t\rIteration: 2369\t\rIteration: 2370\t\rIteration: 2371\t\rIteration: 2372\t\rIteration: 2373\t\rIteration: 2374\t\rIteration: 2375\t\rIteration: 2376\t"
     ]
    },
    {
     "name": "stdout",
     "output_type": "stream",
     "text": [
      "\rIteration: 2377\t\rIteration: 2378\t\rIteration: 2379\t\rIteration: 2380\t\rIteration: 2381\t\rIteration: 2382\t\rIteration: 2383\t\rIteration: 2384\t\rIteration: 2385\t\rIteration: 2386\t"
     ]
    },
    {
     "name": "stdout",
     "output_type": "stream",
     "text": [
      "\rIteration: 2387\t\rIteration: 2388\t\rIteration: 2389\t\rIteration: 2390\t\rIteration: 2391\t\rIteration: 2392\t\rIteration: 2393\t\rIteration: 2394\t\rIteration: 2395\t\rIteration: 2396\t\rIteration: 2397\t"
     ]
    },
    {
     "name": "stdout",
     "output_type": "stream",
     "text": [
      "\rIteration: 2398\t\rIteration: 2399\t\rIteration: 2400\t\rIteration: 2401\t\rIteration: 2402\t\rIteration: 2403\t\rIteration: 2404\t\rIteration: 2405\t\rIteration: 2406\t\rIteration: 2407\t"
     ]
    },
    {
     "name": "stdout",
     "output_type": "stream",
     "text": [
      "\rIteration: 2408\t\rIteration: 2409\t\rIteration: 2410\t\rIteration: 2411\t\rIteration: 2412\t\rIteration: 2413\t\rIteration: 2414\t\rIteration: 2415\t\rIteration: 2416\t\rIteration: 2417\t"
     ]
    },
    {
     "name": "stdout",
     "output_type": "stream",
     "text": [
      "\rIteration: 2418\t\rIteration: 2419\t\rIteration: 2420\t\rIteration: 2421\t\rIteration: 2422\t\rIteration: 2423\t\rIteration: 2424\t\rIteration: 2425\t\rIteration: 2426\t\rIteration: 2427\t"
     ]
    },
    {
     "name": "stdout",
     "output_type": "stream",
     "text": [
      "\rIteration: 2428\t\rIteration: 2429\t\rIteration: 2430\t\rIteration: 2431\t\rIteration: 2432\t\rIteration: 2433\t\rIteration: 2434\t\rIteration: 2435\t\rIteration: 2436\t\rIteration: 2437\t\rIteration: 2438\t"
     ]
    },
    {
     "name": "stdout",
     "output_type": "stream",
     "text": [
      "\rIteration: 2439\t\rIteration: 2440\t\rIteration: 2441\t\rIteration: 2442\t\rIteration: 2443\t\rIteration: 2444\t\rIteration: 2445\t\rIteration: 2446\t\rIteration: 2447\t\rIteration: 2448\t"
     ]
    },
    {
     "name": "stdout",
     "output_type": "stream",
     "text": [
      "\rIteration: 2449\t\rIteration: 2450\t\rIteration: 2451\t\rIteration: 2452\t\rIteration: 2453\t\rIteration: 2454\t\rIteration: 2455\t\rIteration: 2456\t\rIteration: 2457\t\rIteration: 2458\t"
     ]
    },
    {
     "name": "stdout",
     "output_type": "stream",
     "text": [
      "\rIteration: 2459\t\rIteration: 2460\t\rIteration: 2461\t\rIteration: 2462\t\rIteration: 2463\t\rIteration: 2464\t\rIteration: 2465\t\rIteration: 2466\t\rIteration: 2467\t\rIteration: 2468\t"
     ]
    },
    {
     "name": "stdout",
     "output_type": "stream",
     "text": [
      "\rIteration: 2469\t\rIteration: 2470\t\rIteration: 2471\t\rIteration: 2472\t\rIteration: 2473\t\rIteration: 2474\t\rIteration: 2475\t\rIteration: 2476\t\rIteration: 2477\t\rIteration: 2478\t\rIteration: 2479\t"
     ]
    },
    {
     "name": "stdout",
     "output_type": "stream",
     "text": [
      "\rIteration: 2480\t\rIteration: 2481\t\rIteration: 2482\t\rIteration: 2483\t\rIteration: 2484\t\rIteration: 2485\t\rIteration: 2486\t\rIteration: 2487\t\rIteration: 2488\t\rIteration: 2489\t"
     ]
    },
    {
     "name": "stdout",
     "output_type": "stream",
     "text": [
      "\rIteration: 2490\t\rIteration: 2491\t\rIteration: 2492\t\rIteration: 2493\t\rIteration: 2494\t\rIteration: 2495\t\rIteration: 2496\t\rIteration: 2497\t\rIteration: 2498\t\rIteration: 2499\t"
     ]
    },
    {
     "name": "stdout",
     "output_type": "stream",
     "text": [
      "\rIteration: 2500\t\rIteration: 2501\t\rIteration: 2502\t\rIteration: 2503\t\rIteration: 2504\t\rIteration: 2505\t\rIteration: 2506\t\rIteration: 2507\t\rIteration: 2508\t\rIteration: 2509\t"
     ]
    },
    {
     "name": "stdout",
     "output_type": "stream",
     "text": [
      "\rIteration: 2510\t\rIteration: 2511\t\rIteration: 2512\t\rIteration: 2513\t\rIteration: 2514\t\rIteration: 2515\t\rIteration: 2516\t\rIteration: 2517\t\rIteration: 2518\t\rIteration: 2519\t\rIteration: 2520\t"
     ]
    },
    {
     "name": "stdout",
     "output_type": "stream",
     "text": [
      "\rIteration: 2521\t\rIteration: 2522\t\rIteration: 2523\t\rIteration: 2524\t\rIteration: 2525\t\rIteration: 2526\t\rIteration: 2527\t\rIteration: 2528\t\rIteration: 2529\t\rIteration: 2530\t\rIteration: 2531\t"
     ]
    },
    {
     "name": "stdout",
     "output_type": "stream",
     "text": [
      "\rIteration: 2532\t\rIteration: 2533\t\rIteration: 2534\t\rIteration: 2535\t\rIteration: 2536\t\rIteration: 2537\t\rIteration: 2538\t\rIteration: 2539\t\rIteration: 2540\t\rIteration: 2541\t"
     ]
    },
    {
     "name": "stdout",
     "output_type": "stream",
     "text": [
      "\rIteration: 2542\t\rIteration: 2543\t\rIteration: 2544\t\rIteration: 2545\t\rIteration: 2546\t\rIteration: 2547\t\rIteration: 2548\t\rIteration: 2549\t\rIteration: 2550\t\rIteration: 2551\t"
     ]
    },
    {
     "name": "stdout",
     "output_type": "stream",
     "text": [
      "\rIteration: 2552\t\rIteration: 2553\t\rIteration: 2554\t\rIteration: 2555\t\rIteration: 2556\t\rIteration: 2557\t\rIteration: 2558\t\rIteration: 2559\t\rIteration: 2560\t\rIteration: 2561\t\rIteration: 2562\t"
     ]
    },
    {
     "name": "stdout",
     "output_type": "stream",
     "text": [
      "\rIteration: 2563\t\rIteration: 2564\t\rIteration: 2565\t\rIteration: 2566\t\rIteration: 2567\t\rIteration: 2568\t\rIteration: 2569\t\rIteration: 2570\t\rIteration: 2571\t\rIteration: 2572\t\rIteration: 2573\t"
     ]
    },
    {
     "name": "stdout",
     "output_type": "stream",
     "text": [
      "\rIteration: 2574\t\rIteration: 2575\t\rIteration: 2576\t\rIteration: 2577\t\rIteration: 2578\t\rIteration: 2579\t\rIteration: 2580\t\rIteration: 2581\t\rIteration: 2582\t\rIteration: 2583\t"
     ]
    },
    {
     "name": "stdout",
     "output_type": "stream",
     "text": [
      "\rIteration: 2584\t\rIteration: 2585\t\rIteration: 2586\t\rIteration: 2587\t\rIteration: 2588\t\rIteration: 2589\t\rIteration: 2590\t\rIteration: 2591\t\rIteration: 2592\t\rIteration: 2593\t\rIteration: 2594\t"
     ]
    },
    {
     "name": "stdout",
     "output_type": "stream",
     "text": [
      "\rIteration: 2595\t\rIteration: 2596\t\rIteration: 2597\t\rIteration: 2598\t\rIteration: 2599\t\rIteration: 2600\t\rIteration: 2601\t\rIteration: 2602\t\rIteration: 2603\t\rIteration: 2604\t"
     ]
    },
    {
     "name": "stdout",
     "output_type": "stream",
     "text": [
      "\rIteration: 2605\t\rIteration: 2606\t\rIteration: 2607\t\rIteration: 2608\t\rIteration: 2609\t\rIteration: 2610\t\rIteration: 2611\t\rIteration: 2612\t\rIteration: 2613\t\rIteration: 2614\t"
     ]
    },
    {
     "name": "stdout",
     "output_type": "stream",
     "text": [
      "\rIteration: 2615\t\rIteration: 2616\t\rIteration: 2617\t\rIteration: 2618\t\rIteration: 2619\t\rIteration: 2620\t\rIteration: 2621\t\rIteration: 2622\t\rIteration: 2623\t\rIteration: 2624\t\rIteration: 2625\t"
     ]
    },
    {
     "name": "stdout",
     "output_type": "stream",
     "text": [
      "\rIteration: 2626\t\rIteration: 2627\t\rIteration: 2628\t\rIteration: 2629\t\rIteration: 2630\t\rIteration: 2631\t\rIteration: 2632\t\rIteration: 2633\t\rIteration: 2634\t\rIteration: 2635\t"
     ]
    },
    {
     "name": "stdout",
     "output_type": "stream",
     "text": [
      "\rIteration: 2636\t\rIteration: 2637\t\rIteration: 2638\t\rIteration: 2639\t\rIteration: 2640\t\rIteration: 2641\t\rIteration: 2642\t\rIteration: 2643\t\rIteration: 2644\t\rIteration: 2645\t"
     ]
    },
    {
     "name": "stdout",
     "output_type": "stream",
     "text": [
      "\rIteration: 2646\t\rIteration: 2647\t\rIteration: 2648\t\rIteration: 2649\t\rIteration: 2650\t\rIteration: 2651\t\rIteration: 2652\t\rIteration: 2653\t\rIteration: 2654\t\rIteration: 2655\t"
     ]
    },
    {
     "name": "stdout",
     "output_type": "stream",
     "text": [
      "\rIteration: 2656\t\rIteration: 2657\t\rIteration: 2658\t\rIteration: 2659\t\rIteration: 2660\t\rIteration: 2661\t\rIteration: 2662\t\rIteration: 2663\t\rIteration: 2664\t\rIteration: 2665\t"
     ]
    },
    {
     "name": "stdout",
     "output_type": "stream",
     "text": [
      "\rIteration: 2666\t\rIteration: 2667\t\rIteration: 2668\t\rIteration: 2669\t\rIteration: 2670\t\rIteration: 2671\t\rIteration: 2672\t\rIteration: 2673\t\rIteration: 2674\t\rIteration: 2675\t\rIteration: 2676\t"
     ]
    },
    {
     "name": "stdout",
     "output_type": "stream",
     "text": [
      "\rIteration: 2677\t\rIteration: 2678\t\rIteration: 2679\t\rIteration: 2680\t\rIteration: 2681\t\rIteration: 2682\t\rIteration: 2683\t\rIteration: 2684\t\rIteration: 2685\t\rIteration: 2686\t"
     ]
    },
    {
     "name": "stdout",
     "output_type": "stream",
     "text": [
      "\rIteration: 2687\t\rIteration: 2688\t\rIteration: 2689\t\rIteration: 2690\t\rIteration: 2691\t\rIteration: 2692\t\rIteration: 2693\t\rIteration: 2694\t\rIteration: 2695\t\rIteration: 2696\t"
     ]
    },
    {
     "name": "stdout",
     "output_type": "stream",
     "text": [
      "\rIteration: 2697\t\rIteration: 2698\t\rIteration: 2699\t\rIteration: 2700\t\rIteration: 2701\t\rIteration: 2702\t\rIteration: 2703\t\rIteration: 2704\t\rIteration: 2705\t\rIteration: 2706\t\rIteration: 2707\t"
     ]
    },
    {
     "name": "stdout",
     "output_type": "stream",
     "text": [
      "\rIteration: 2708\t\rIteration: 2709\t\rIteration: 2710\t\rIteration: 2711\t\rIteration: 2712\t\rIteration: 2713\t\rIteration: 2714\t\rIteration: 2715\t\rIteration: 2716\t\rIteration: 2717\t"
     ]
    },
    {
     "name": "stdout",
     "output_type": "stream",
     "text": [
      "\rIteration: 2718\t\rIteration: 2719\t\rIteration: 2720\t\rIteration: 2721\t\rIteration: 2722\t\rIteration: 2723\t\rIteration: 2724\t\rIteration: 2725\t\rIteration: 2726\t\rIteration: 2727\t\rIteration: 2728\t"
     ]
    },
    {
     "name": "stdout",
     "output_type": "stream",
     "text": [
      "\rIteration: 2729\t\rIteration: 2730\t\rIteration: 2731\t\rIteration: 2732\t\rIteration: 2733\t\rIteration: 2734\t\rIteration: 2735\t\rIteration: 2736\t\rIteration: 2737\t\rIteration: 2738\t"
     ]
    },
    {
     "name": "stdout",
     "output_type": "stream",
     "text": [
      "\rIteration: 2739\t\rIteration: 2740\t\rIteration: 2741\t\rIteration: 2742\t\rIteration: 2743\t\rIteration: 2744\t\rIteration: 2745\t\rIteration: 2746\t\rIteration: 2747\t\rIteration: 2748\t"
     ]
    },
    {
     "name": "stdout",
     "output_type": "stream",
     "text": [
      "\rIteration: 2749\t\rIteration: 2750\t\rIteration: 2751\t\rIteration: 2752\t\rIteration: 2753\t\rIteration: 2754\t\rIteration: 2755\t\rIteration: 2756\t\rIteration: 2757\t\rIteration: 2758\t"
     ]
    },
    {
     "name": "stdout",
     "output_type": "stream",
     "text": [
      "\rIteration: 2759\t\rIteration: 2760\t\rIteration: 2761\t\rIteration: 2762\t\rIteration: 2763\t\rIteration: 2764\t\rIteration: 2765\t\rIteration: 2766\t\rIteration: 2767\t\rIteration: 2768\t"
     ]
    },
    {
     "name": "stdout",
     "output_type": "stream",
     "text": [
      "\rIteration: 2769\t\rIteration: 2770\t\rIteration: 2771\t\rIteration: 2772\t\rIteration: 2773\t\rIteration: 2774\t\rIteration: 2775\t\rIteration: 2776\t\rIteration: 2777\t\rIteration: 2778\t"
     ]
    },
    {
     "name": "stdout",
     "output_type": "stream",
     "text": [
      "\rIteration: 2779\t\rIteration: 2780\t\rIteration: 2781\t\rIteration: 2782\t\rIteration: 2783\t\rIteration: 2784\t\rIteration: 2785\t\rIteration: 2786\t\rIteration: 2787\t\rIteration: 2788\t"
     ]
    },
    {
     "name": "stdout",
     "output_type": "stream",
     "text": [
      "\rIteration: 2789\t\rIteration: 2790\t\rIteration: 2791\t\rIteration: 2792\t\rIteration: 2793\t\rIteration: 2794\t\rIteration: 2795\t\rIteration: 2796\t\rIteration: 2797\t\rIteration: 2798\t"
     ]
    },
    {
     "name": "stdout",
     "output_type": "stream",
     "text": [
      "\rIteration: 2799\t\rIteration: 2800\t\rIteration: 2801\t\rIteration: 2802\t\rIteration: 2803\t\rIteration: 2804\t\rIteration: 2805\t\rIteration: 2806\t\rIteration: 2807\t\rIteration: 2808\t"
     ]
    },
    {
     "name": "stdout",
     "output_type": "stream",
     "text": [
      "\rIteration: 2809\t\rIteration: 2810\t\rIteration: 2811\t\rIteration: 2812\t\rIteration: 2813\t\rIteration: 2814\t\rIteration: 2815\t\rIteration: 2816\t\rIteration: 2817\t\rIteration: 2818\t"
     ]
    },
    {
     "name": "stdout",
     "output_type": "stream",
     "text": [
      "\rIteration: 2819\t\rIteration: 2820\t\rIteration: 2821\t\rIteration: 2822\t\rIteration: 2823\t\rIteration: 2824\t\rIteration: 2825\t\rIteration: 2826\t\rIteration: 2827\t\rIteration: 2828\t\rIteration: 2829\t"
     ]
    },
    {
     "name": "stdout",
     "output_type": "stream",
     "text": [
      "\rIteration: 2830\t\rIteration: 2831\t\rIteration: 2832\t\rIteration: 2833\t\rIteration: 2834\t\rIteration: 2835\t\rIteration: 2836\t\rIteration: 2837\t\rIteration: 2838\t\rIteration: 2839\t\rIteration: 2840\t"
     ]
    },
    {
     "name": "stdout",
     "output_type": "stream",
     "text": [
      "\rIteration: 2841\t\rIteration: 2842\t\rIteration: 2843\t\rIteration: 2844\t\rIteration: 2845\t\rIteration: 2846\t\rIteration: 2847\t\rIteration: 2848\t\rIteration: 2849\t\rIteration: 2850\t\rIteration: 2851\t"
     ]
    },
    {
     "name": "stdout",
     "output_type": "stream",
     "text": [
      "\rIteration: 2852\t\rIteration: 2853\t\rIteration: 2854\t\rIteration: 2855\t\rIteration: 2856\t\rIteration: 2857\t\rIteration: 2858\t\rIteration: 2859\t\rIteration: 2860\t\rIteration: 2861\t"
     ]
    },
    {
     "name": "stdout",
     "output_type": "stream",
     "text": [
      "\rIteration: 2862\t\rIteration: 2863\t\rIteration: 2864\t\rIteration: 2865\t\rIteration: 2866\t\rIteration: 2867\t\rIteration: 2868\t\rIteration: 2869\t\rIteration: 2870\t\rIteration: 2871\t"
     ]
    },
    {
     "name": "stdout",
     "output_type": "stream",
     "text": [
      "\rIteration: 2872\t\rIteration: 2873\t\rIteration: 2874\t\rIteration: 2875\t\rIteration: 2876\t\rIteration: 2877\t\rIteration: 2878\t\rIteration: 2879\t\rIteration: 2880\t\rIteration: 2881\t\rIteration: 2882\t"
     ]
    },
    {
     "name": "stdout",
     "output_type": "stream",
     "text": [
      "\rIteration: 2883\t\rIteration: 2884\t\rIteration: 2885\t\rIteration: 2886\t\rIteration: 2887\t\rIteration: 2888\t\rIteration: 2889\t\rIteration: 2890\t\rIteration: 2891\t\rIteration: 2892\t\rIteration: 2893\t"
     ]
    },
    {
     "name": "stdout",
     "output_type": "stream",
     "text": [
      "\rIteration: 2894\t\rIteration: 2895\t\rIteration: 2896\t\rIteration: 2897\t\rIteration: 2898\t\rIteration: 2899\t\rIteration: 2900\t\rIteration: 2901\t\rIteration: 2902\t\rIteration: 2903\t\rIteration: 2904\t"
     ]
    },
    {
     "name": "stdout",
     "output_type": "stream",
     "text": [
      "\rIteration: 2905\t\rIteration: 2906\t\rIteration: 2907\t\rIteration: 2908\t\rIteration: 2909\t\rIteration: 2910\t\rIteration: 2911\t\rIteration: 2912\t\rIteration: 2913\t\rIteration: 2914\t\rIteration: 2915\t"
     ]
    },
    {
     "name": "stdout",
     "output_type": "stream",
     "text": [
      "\rIteration: 2916\t\rIteration: 2917\t\rIteration: 2918\t\rIteration: 2919\t\rIteration: 2920\t\rIteration: 2921\t\rIteration: 2922\t\rIteration: 2923\t\rIteration: 2924\t\rIteration: 2925\t\rIteration: 2926\t"
     ]
    },
    {
     "name": "stdout",
     "output_type": "stream",
     "text": [
      "\rIteration: 2927\t\rIteration: 2928\t\rIteration: 2929\t\rIteration: 2930\t\rIteration: 2931\t\rIteration: 2932\t\rIteration: 2933\t\rIteration: 2934\t\rIteration: 2935\t\rIteration: 2936\t"
     ]
    },
    {
     "name": "stdout",
     "output_type": "stream",
     "text": [
      "\rIteration: 2937\t\rIteration: 2938\t\rIteration: 2939\t\rIteration: 2940\t\rIteration: 2941\t\rIteration: 2942\t\rIteration: 2943\t\rIteration: 2944\t\rIteration: 2945\t\rIteration: 2946\t"
     ]
    },
    {
     "name": "stdout",
     "output_type": "stream",
     "text": [
      "\rIteration: 2947\t\rIteration: 2948\t\rIteration: 2949\t\rIteration: 2950\t\rIteration: 2951\t\rIteration: 2952\t\rIteration: 2953\t\rIteration: 2954\t\rIteration: 2955\t\rIteration: 2956\t"
     ]
    },
    {
     "name": "stdout",
     "output_type": "stream",
     "text": [
      "\rIteration: 2957\t\rIteration: 2958\t\rIteration: 2959\t\rIteration: 2960\t\rIteration: 2961\t\rIteration: 2962\t\rIteration: 2963\t\rIteration: 2964\t\rIteration: 2965\t\rIteration: 2966\t\rIteration: 2967\t"
     ]
    },
    {
     "name": "stdout",
     "output_type": "stream",
     "text": [
      "\rIteration: 2968\t\rIteration: 2969\t\rIteration: 2970\t\rIteration: 2971\t\rIteration: 2972\t\rIteration: 2973\t\rIteration: 2974\t\rIteration: 2975\t\rIteration: 2976\t\rIteration: 2977\t\rIteration: 2978\t"
     ]
    },
    {
     "name": "stdout",
     "output_type": "stream",
     "text": [
      "\rIteration: 2979\t\rIteration: 2980\t\rIteration: 2981\t\rIteration: 2982\t\rIteration: 2983\t\rIteration: 2984\t\rIteration: 2985\t\rIteration: 2986\t\rIteration: 2987\t\rIteration: 2988\t\rIteration: 2989\t"
     ]
    },
    {
     "name": "stdout",
     "output_type": "stream",
     "text": [
      "\rIteration: 2990\t\rIteration: 2991\t\rIteration: 2992\t\rIteration: 2993\t\rIteration: 2994\t\rIteration: 2995\t\rIteration: 2996\t\rIteration: 2997\t\rIteration: 2998\t\rIteration: 2999\t\rIteration: 3000\t"
     ]
    },
    {
     "name": "stdout",
     "output_type": "stream",
     "text": [
      "\rIteration: 3001\t\rIteration: 3002\t\rIteration: 3003\t\rIteration: 3004\t\rIteration: 3005\t\rIteration: 3006\t\rIteration: 3007\t\rIteration: 3008\t\rIteration: 3009\t\rIteration: 3010\t\rIteration: 3011\t"
     ]
    },
    {
     "name": "stdout",
     "output_type": "stream",
     "text": [
      "\rIteration: 3012\t\rIteration: 3013\t\rIteration: 3014\t\rIteration: 3015\t\rIteration: 3016\t\rIteration: 3017\t\rIteration: 3018\t\rIteration: 3019\t\rIteration: 3020\t\rIteration: 3021\t"
     ]
    },
    {
     "name": "stdout",
     "output_type": "stream",
     "text": [
      "\rIteration: 3022\t\rIteration: 3023\t\rIteration: 3024\t\rIteration: 3025\t\rIteration: 3026\t\rIteration: 3027\t\rIteration: 3028\t\rIteration: 3029\t\rIteration: 3030\t\rIteration: 3031\t"
     ]
    },
    {
     "name": "stdout",
     "output_type": "stream",
     "text": [
      "\rIteration: 3032\t\rIteration: 3033\t\rIteration: 3034\t\rIteration: 3035\t\rIteration: 3036\t\rIteration: 3037\t\rIteration: 3038\t\rIteration: 3039\t\rIteration: 3040\t\rIteration: 3041\t"
     ]
    },
    {
     "name": "stdout",
     "output_type": "stream",
     "text": [
      "\rIteration: 3042\t\rIteration: 3043\t\rIteration: 3044\t\rIteration: 3045\t\rIteration: 3046\t\rIteration: 3047\t\rIteration: 3048\t\rIteration: 3049\t\rIteration: 3050\t\rIteration: 3051\t\rIteration: 3052\t"
     ]
    },
    {
     "name": "stdout",
     "output_type": "stream",
     "text": [
      "\rIteration: 3053\t\rIteration: 3054\t\rIteration: 3055\t\rIteration: 3056\t\rIteration: 3057\t\rIteration: 3058\t\rIteration: 3059\t\rIteration: 3060\t\rIteration: 3061\t\rIteration: 3062\t\rIteration: 3063\t"
     ]
    },
    {
     "name": "stdout",
     "output_type": "stream",
     "text": [
      "\rIteration: 3064\t\rIteration: 3065\t\rIteration: 3066\t\rIteration: 3067\t\rIteration: 3068\t\rIteration: 3069\t\rIteration: 3070\t\rIteration: 3071\t\rIteration: 3072\t\rIteration: 3073\t\rIteration: 3074\t"
     ]
    },
    {
     "name": "stdout",
     "output_type": "stream",
     "text": [
      "\rIteration: 3075\t\rIteration: 3076\t\rIteration: 3077\t\rIteration: 3078\t\rIteration: 3079\t\rIteration: 3080\t\rIteration: 3081\t\rIteration: 3082\t\rIteration: 3083\t\rIteration: 3084\t"
     ]
    },
    {
     "name": "stdout",
     "output_type": "stream",
     "text": [
      "\rIteration: 3085\t\rIteration: 3086\t\rIteration: 3087\t\rIteration: 3088\t\rIteration: 3089\t\rIteration: 3090\t\rIteration: 3091\t\rIteration: 3092\t\rIteration: 3093\t\rIteration: 3094\t"
     ]
    },
    {
     "name": "stdout",
     "output_type": "stream",
     "text": [
      "\rIteration: 3095\t\rIteration: 3096\t\rIteration: 3097\t\rIteration: 3098\t\rIteration: 3099\t\rIteration: 3100\t\rIteration: 3101\t\rIteration: 3102\t\rIteration: 3103\t\rIteration: 3104\t"
     ]
    },
    {
     "name": "stdout",
     "output_type": "stream",
     "text": [
      "\rIteration: 3105\t\rIteration: 3106\t\rIteration: 3107\t\rIteration: 3108\t\rIteration: 3109\t\rIteration: 3110\t\rIteration: 3111\t\rIteration: 3112\t\rIteration: 3113\t\rIteration: 3114\t"
     ]
    },
    {
     "name": "stdout",
     "output_type": "stream",
     "text": [
      "\rIteration: 3115\t\rIteration: 3116\t\rIteration: 3117\t\rIteration: 3118\t\rIteration: 3119\t\rIteration: 3120\t\rIteration: 3121\t\rIteration: 3122\t\rIteration: 3123\t\rIteration: 3124\t"
     ]
    },
    {
     "name": "stdout",
     "output_type": "stream",
     "text": [
      "\rIteration: 3125\t\rIteration: 3126\t\rIteration: 3127\t\rIteration: 3128\t\rIteration: 3129\t\rIteration: 3130\t\rIteration: 3131\t\rIteration: 3132\t\rIteration: 3133\t\rIteration: 3134\t"
     ]
    },
    {
     "name": "stdout",
     "output_type": "stream",
     "text": [
      "\rIteration: 3135\t\rIteration: 3136\t\rIteration: 3137\t\rIteration: 3138\t\rIteration: 3139\t\rIteration: 3140\t\rIteration: 3141\t\rIteration: 3142\t\rIteration: 3143\t\rIteration: 3144\t\rIteration: 3145\t"
     ]
    },
    {
     "name": "stdout",
     "output_type": "stream",
     "text": [
      "\rIteration: 3146\t\rIteration: 3147\t\rIteration: 3148\t\rIteration: 3149\t\rIteration: 3150\t\rIteration: 3151\t\rIteration: 3152\t\rIteration: 3153\t\rIteration: 3154\t\rIteration: 3155\t"
     ]
    },
    {
     "name": "stdout",
     "output_type": "stream",
     "text": [
      "\rIteration: 3156\t\rIteration: 3157\t\rIteration: 3158\t\rIteration: 3159\t\rIteration: 3160\t\rIteration: 3161\t\rIteration: 3162\t\rIteration: 3163\t\rIteration: 3164\t\rIteration: 3165\t"
     ]
    },
    {
     "name": "stdout",
     "output_type": "stream",
     "text": [
      "\rIteration: 3166\t\rIteration: 3167\t\rIteration: 3168\t\rIteration: 3169\t\rIteration: 3170\t\rIteration: 3171\t\rIteration: 3172\t\rIteration: 3173\t\rIteration: 3174\t\rIteration: 3175\t"
     ]
    },
    {
     "name": "stdout",
     "output_type": "stream",
     "text": [
      "\rIteration: 3176\t\rIteration: 3177\t\rIteration: 3178\t\rIteration: 3179\t\rIteration: 3180\t\rIteration: 3181\t\rIteration: 3182\t\rIteration: 3183\t\rIteration: 3184\t\rIteration: 3185\t"
     ]
    },
    {
     "name": "stdout",
     "output_type": "stream",
     "text": [
      "\rIteration: 3186\t\rIteration: 3187\t\rIteration: 3188\t\rIteration: 3189\t\rIteration: 3190\t\rIteration: 3191\t\rIteration: 3192\t\rIteration: 3193\t\rIteration: 3194\t\rIteration: 3195\t"
     ]
    },
    {
     "name": "stdout",
     "output_type": "stream",
     "text": [
      "\rIteration: 3196\t\rIteration: 3197\t\rIteration: 3198\t\rIteration: 3199\t\rIteration: 3200\t\rIteration: 3201\t\rIteration: 3202\t\rIteration: 3203\t\rIteration: 3204\t\rIteration: 3205\t\rIteration: 3206\t"
     ]
    },
    {
     "name": "stdout",
     "output_type": "stream",
     "text": [
      "\rIteration: 3207\t\rIteration: 3208\t\rIteration: 3209\t\rIteration: 3210\t\rIteration: 3211\t\rIteration: 3212\t\rIteration: 3213\t\rIteration: 3214\t\rIteration: 3215\t\rIteration: 3216\t"
     ]
    },
    {
     "name": "stdout",
     "output_type": "stream",
     "text": [
      "\rIteration: 3217\t\rIteration: 3218\t\rIteration: 3219\t\rIteration: 3220\t\rIteration: 3221\t\rIteration: 3222\t\rIteration: 3223\t\rIteration: 3224\t\rIteration: 3225\t\rIteration: 3226\t"
     ]
    },
    {
     "name": "stdout",
     "output_type": "stream",
     "text": [
      "\rIteration: 3227\t\rIteration: 3228\t\rIteration: 3229\t\rIteration: 3230\t\rIteration: 3231\t\rIteration: 3232\t\rIteration: 3233\t\rIteration: 3234\t\rIteration: 3235\t\rIteration: 3236\t"
     ]
    },
    {
     "name": "stdout",
     "output_type": "stream",
     "text": [
      "\rIteration: 3237\t\rIteration: 3238\t\rIteration: 3239\t\rIteration: 3240\t\rIteration: 3241\t\rIteration: 3242\t\rIteration: 3243\t\rIteration: 3244\t\rIteration: 3245\t\rIteration: 3246\t\rIteration: 3247\t"
     ]
    },
    {
     "name": "stdout",
     "output_type": "stream",
     "text": [
      "\rIteration: 3248\t\rIteration: 3249\t\rIteration: 3250\t\rIteration: 3251\t\rIteration: 3252\t\rIteration: 3253\t\rIteration: 3254\t\rIteration: 3255\t\rIteration: 3256\t\rIteration: 3257\t\rIteration: 3258\t"
     ]
    },
    {
     "name": "stdout",
     "output_type": "stream",
     "text": [
      "\rIteration: 3259\t\rIteration: 3260\t\rIteration: 3261\t\rIteration: 3262\t\rIteration: 3263\t\rIteration: 3264\t\rIteration: 3265\t\rIteration: 3266\t\rIteration: 3267\t\rIteration: 3268\t"
     ]
    },
    {
     "name": "stdout",
     "output_type": "stream",
     "text": [
      "\rIteration: 3269\t\rIteration: 3270\t\rIteration: 3271\t\rIteration: 3272\t\rIteration: 3273\t\rIteration: 3274\t\rIteration: 3275\t\rIteration: 3276\t\rIteration: 3277\t\rIteration: 3278\t"
     ]
    },
    {
     "name": "stdout",
     "output_type": "stream",
     "text": [
      "\rIteration: 3279\t\rIteration: 3280\t\rIteration: 3281\t\rIteration: 3282\t\rIteration: 3283\t\rIteration: 3284\t\rIteration: 3285\t\rIteration: 3286\t\rIteration: 3287\t\rIteration: 3288\t"
     ]
    },
    {
     "name": "stdout",
     "output_type": "stream",
     "text": [
      "\rIteration: 3289\t\rIteration: 3290\t\rIteration: 3291\t\rIteration: 3292\t\rIteration: 3293\t\rIteration: 3294\t\rIteration: 3295\t\rIteration: 3296\t\rIteration: 3297\t\rIteration: 3298\t\rIteration: 3299\t"
     ]
    },
    {
     "name": "stdout",
     "output_type": "stream",
     "text": [
      "\rIteration: 3300\t\rIteration: 3301\t\rIteration: 3302\t\rIteration: 3303\t\rIteration: 3304\t\rIteration: 3305\t\rIteration: 3306\t\rIteration: 3307\t\rIteration: 3308\t\rIteration: 3309\t\rIteration: 3310\t"
     ]
    },
    {
     "name": "stdout",
     "output_type": "stream",
     "text": [
      "\rIteration: 3311\t\rIteration: 3312\t\rIteration: 3313\t\rIteration: 3314\t\rIteration: 3315\t\rIteration: 3316\t\rIteration: 3317\t\rIteration: 3318\t\rIteration: 3319\t\rIteration: 3320\t"
     ]
    },
    {
     "name": "stdout",
     "output_type": "stream",
     "text": [
      "\rIteration: 3321\t\rIteration: 3322\t\rIteration: 3323\t\rIteration: 3324\t\rIteration: 3325\t\rIteration: 3326\t\rIteration: 3327\t\rIteration: 3328\t\rIteration: 3329\t\rIteration: 3330\t\rIteration: 3331\t"
     ]
    },
    {
     "name": "stdout",
     "output_type": "stream",
     "text": [
      "\rIteration: 3332\t\rIteration: 3333\t\rIteration: 3334\t\rIteration: 3335\t\rIteration: 3336\t\rIteration: 3337\t\rIteration: 3338\t\rIteration: 3339\t\rIteration: 3340\t\rIteration: 3341\t"
     ]
    },
    {
     "name": "stdout",
     "output_type": "stream",
     "text": [
      "\rIteration: 3342\t\rIteration: 3343\t\rIteration: 3344\t\rIteration: 3345\t\rIteration: 3346\t\rIteration: 3347\t\rIteration: 3348\t\rIteration: 3349\t\rIteration: 3350\t\rIteration: 3351\t"
     ]
    },
    {
     "name": "stdout",
     "output_type": "stream",
     "text": [
      "\rIteration: 3352\t\rIteration: 3353\t\rIteration: 3354\t\rIteration: 3355\t\rIteration: 3356\t\rIteration: 3357\t\rIteration: 3358\t\rIteration: 3359\t\rIteration: 3360\t\rIteration: 3361\t"
     ]
    },
    {
     "name": "stdout",
     "output_type": "stream",
     "text": [
      "\rIteration: 3362\t\rIteration: 3363\t\rIteration: 3364\t\rIteration: 3365\t\rIteration: 3366\t\rIteration: 3367\t\rIteration: 3368\t\rIteration: 3369\t\rIteration: 3370\t\rIteration: 3371\t\rIteration: 3372\t"
     ]
    },
    {
     "name": "stdout",
     "output_type": "stream",
     "text": [
      "\rIteration: 3373\t\rIteration: 3374\t\rIteration: 3375\t\rIteration: 3376\t\rIteration: 3377\t\rIteration: 3378\t\rIteration: 3379\t\rIteration: 3380\t\rIteration: 3381\t\rIteration: 3382\t"
     ]
    },
    {
     "name": "stdout",
     "output_type": "stream",
     "text": [
      "\rIteration: 3383\t\rIteration: 3384\t\rIteration: 3385\t\rIteration: 3386\t\rIteration: 3387\t\rIteration: 3388\t\rIteration: 3389\t\rIteration: 3390\t\rIteration: 3391\t\rIteration: 3392\t\rIteration: 3393\t"
     ]
    },
    {
     "name": "stdout",
     "output_type": "stream",
     "text": [
      "\rIteration: 3394\t\rIteration: 3395\t\rIteration: 3396\t\rIteration: 3397\t\rIteration: 3398\t\rIteration: 3399\t\rIteration: 3400\t\rIteration: 3401\t\rIteration: 3402\t\rIteration: 3403\t"
     ]
    },
    {
     "name": "stdout",
     "output_type": "stream",
     "text": [
      "\rIteration: 3404\t\rIteration: 3405\t\rIteration: 3406\t\rIteration: 3407\t\rIteration: 3408\t\rIteration: 3409\t\rIteration: 3410\t\rIteration: 3411\t\rIteration: 3412\t\rIteration: 3413\t\rIteration: 3414\t"
     ]
    },
    {
     "name": "stdout",
     "output_type": "stream",
     "text": [
      "\rIteration: 3415\t\rIteration: 3416\t\rIteration: 3417\t\rIteration: 3418\t\rIteration: 3419\t\rIteration: 3420\t\rIteration: 3421\t\rIteration: 3422\t\rIteration: 3423\t\rIteration: 3424\t\rIteration: 3425\t"
     ]
    },
    {
     "name": "stdout",
     "output_type": "stream",
     "text": [
      "\rIteration: 3426\t\rIteration: 3427\t\rIteration: 3428\t\rIteration: 3429\t\rIteration: 3430\t\rIteration: 3431\t\rIteration: 3432\t\rIteration: 3433\t\rIteration: 3434\t\rIteration: 3435\t\rIteration: 3436\t"
     ]
    },
    {
     "name": "stdout",
     "output_type": "stream",
     "text": [
      "\rIteration: 3437\t\rIteration: 3438\t\rIteration: 3439\t\rIteration: 3440\t\rIteration: 3441\t\rIteration: 3442\t\rIteration: 3443\t\rIteration: 3444\t\rIteration: 3445\t\rIteration: 3446\t"
     ]
    },
    {
     "name": "stdout",
     "output_type": "stream",
     "text": [
      "\rIteration: 3447\t\rIteration: 3448\t\rIteration: 3449\t\rIteration: 3450\t\rIteration: 3451\t\rIteration: 3452\t\rIteration: 3453\t\rIteration: 3454\t\rIteration: 3455\t\rIteration: 3456\t"
     ]
    },
    {
     "name": "stdout",
     "output_type": "stream",
     "text": [
      "\rIteration: 3457\t\rIteration: 3458\t\rIteration: 3459\t\rIteration: 3460\t\rIteration: 3461\t\rIteration: 3462\t\rIteration: 3463\t\rIteration: 3464\t\rIteration: 3465\t\rIteration: 3466\t"
     ]
    },
    {
     "name": "stdout",
     "output_type": "stream",
     "text": [
      "\rIteration: 3467\t\rIteration: 3468\t\rIteration: 3469\t\rIteration: 3470\t\rIteration: 3471\t\rIteration: 3472\t\rIteration: 3473\t\rIteration: 3474\t\rIteration: 3475\t\rIteration: 3476\t"
     ]
    },
    {
     "name": "stdout",
     "output_type": "stream",
     "text": [
      "\rIteration: 3477\t\rIteration: 3478\t\rIteration: 3479\t\rIteration: 3480\t\rIteration: 3481\t\rIteration: 3482\t\rIteration: 3483\t\rIteration: 3484\t\rIteration: 3485\t\rIteration: 3486\t\rIteration: 3487\t"
     ]
    },
    {
     "name": "stdout",
     "output_type": "stream",
     "text": [
      "\rIteration: 3488\t\rIteration: 3489\t\rIteration: 3490\t\rIteration: 3491\t\rIteration: 3492\t\rIteration: 3493\t\rIteration: 3494\t\rIteration: 3495\t\rIteration: 3496\t\rIteration: 3497\t"
     ]
    },
    {
     "name": "stdout",
     "output_type": "stream",
     "text": [
      "\rIteration: 3498\t\rIteration: 3499\t\rIteration: 3500\t\rIteration: 3501\t\rIteration: 3502\t\rIteration: 3503\t\rIteration: 3504\t\rIteration: 3505\t\rIteration: 3506\t\rIteration: 3507\t\rIteration: 3508\t"
     ]
    },
    {
     "name": "stdout",
     "output_type": "stream",
     "text": [
      "\rIteration: 3509\t\rIteration: 3510\t\rIteration: 3511\t\rIteration: 3512\t\rIteration: 3513\t\rIteration: 3514\t\rIteration: 3515\t\rIteration: 3516\t\rIteration: 3517\t\rIteration: 3518\t"
     ]
    },
    {
     "name": "stdout",
     "output_type": "stream",
     "text": [
      "\rIteration: 3519\t\rIteration: 3520\t\rIteration: 3521\t\rIteration: 3522\t\rIteration: 3523\t\rIteration: 3524\t\rIteration: 3525\t\rIteration: 3526\t\rIteration: 3527\t\rIteration: 3528\t\rIteration: 3529\t"
     ]
    },
    {
     "name": "stdout",
     "output_type": "stream",
     "text": [
      "\rIteration: 3530\t\rIteration: 3531\t\rIteration: 3532\t\rIteration: 3533\t\rIteration: 3534\t\rIteration: 3535\t\rIteration: 3536\t\rIteration: 3537\t\rIteration: 3538\t\rIteration: 3539\t"
     ]
    },
    {
     "name": "stdout",
     "output_type": "stream",
     "text": [
      "\rIteration: 3540\t\rIteration: 3541\t\rIteration: 3542\t\rIteration: 3543\t\rIteration: 3544\t\rIteration: 3545\t\rIteration: 3546\t\rIteration: 3547\t\rIteration: 3548\t\rIteration: 3549\t\rIteration: 3550\t"
     ]
    },
    {
     "name": "stdout",
     "output_type": "stream",
     "text": [
      "\rIteration: 3551\t\rIteration: 3552\t\rIteration: 3553\t\rIteration: 3554\t\rIteration: 3555\t\rIteration: 3556\t\rIteration: 3557\t\rIteration: 3558\t\rIteration: 3559\t\rIteration: 3560\t"
     ]
    },
    {
     "name": "stdout",
     "output_type": "stream",
     "text": [
      "\rIteration: 3561\t\rIteration: 3562\t\rIteration: 3563\t\rIteration: 3564\t\rIteration: 3565\t\rIteration: 3566\t\rIteration: 3567\t\rIteration: 3568\t\rIteration: 3569\t\rIteration: 3570\t\rIteration: 3571\t"
     ]
    },
    {
     "name": "stdout",
     "output_type": "stream",
     "text": [
      "\rIteration: 3572\t\rIteration: 3573\t\rIteration: 3574\t\rIteration: 3575\t\rIteration: 3576\t\rIteration: 3577\t\rIteration: 3578\t\rIteration: 3579\t\rIteration: 3580\t\rIteration: 3581\t\rIteration: 3582\t"
     ]
    },
    {
     "name": "stdout",
     "output_type": "stream",
     "text": [
      "\rIteration: 3583\t\rIteration: 3584\t\rIteration: 3585\t\rIteration: 3586\t\rIteration: 3587\t\rIteration: 3588\t\rIteration: 3589\t\rIteration: 3590\t\rIteration: 3591\t\rIteration: 3592\t"
     ]
    },
    {
     "name": "stdout",
     "output_type": "stream",
     "text": [
      "\rIteration: 3593\t\rIteration: 3594\t\rIteration: 3595\t\rIteration: 3596\t\rIteration: 3597\t\rIteration: 3598\t\rIteration: 3599\t\rIteration: 3600\t\rIteration: 3601\t\rIteration: 3602\t\rIteration: 3603\t"
     ]
    },
    {
     "name": "stdout",
     "output_type": "stream",
     "text": [
      "\rIteration: 3604\t\rIteration: 3605\t\rIteration: 3606\t\rIteration: 3607\t\rIteration: 3608\t\rIteration: 3609\t\rIteration: 3610\t\rIteration: 3611\t\rIteration: 3612\t\rIteration: 3613\t\rIteration: 3614\t"
     ]
    },
    {
     "name": "stdout",
     "output_type": "stream",
     "text": [
      "\rIteration: 3615\t\rIteration: 3616\t\rIteration: 3617\t\rIteration: 3618\t\rIteration: 3619\t\rIteration: 3620\t\rIteration: 3621\t\rIteration: 3622\t\rIteration: 3623\t\rIteration: 3624\t\rIteration: 3625\t"
     ]
    },
    {
     "name": "stdout",
     "output_type": "stream",
     "text": [
      "\rIteration: 3626\t\rIteration: 3627\t\rIteration: 3628\t\rIteration: 3629\t\rIteration: 3630\t\rIteration: 3631\t\rIteration: 3632\t\rIteration: 3633\t\rIteration: 3634\t\rIteration: 3635\t\rIteration: 3636\t"
     ]
    },
    {
     "name": "stdout",
     "output_type": "stream",
     "text": [
      "\rIteration: 3637\t\rIteration: 3638\t\rIteration: 3639\t\rIteration: 3640\t\rIteration: 3641\t\rIteration: 3642\t\rIteration: 3643\t\rIteration: 3644\t\rIteration: 3645\t\rIteration: 3646\t"
     ]
    },
    {
     "name": "stdout",
     "output_type": "stream",
     "text": [
      "\rIteration: 3647\t\rIteration: 3648\t\rIteration: 3649\t\rIteration: 3650\t\rIteration: 3651\t\rIteration: 3652\t\rIteration: 3653\t\rIteration: 3654\t\rIteration: 3655\t\rIteration: 3656\t\rIteration: 3657\t"
     ]
    },
    {
     "name": "stdout",
     "output_type": "stream",
     "text": [
      "\rIteration: 3658\t\rIteration: 3659\t\rIteration: 3660\t\rIteration: 3661\t\rIteration: 3662\t\rIteration: 3663\t\rIteration: 3664\t\rIteration: 3665\t\rIteration: 3666\t\rIteration: 3667\t\rIteration: 3668\t"
     ]
    },
    {
     "name": "stdout",
     "output_type": "stream",
     "text": [
      "\rIteration: 3669\t\rIteration: 3670\t\rIteration: 3671\t\rIteration: 3672\t\rIteration: 3673\t\rIteration: 3674\t\rIteration: 3675\t\rIteration: 3676\t\rIteration: 3677\t\rIteration: 3678\t"
     ]
    },
    {
     "name": "stdout",
     "output_type": "stream",
     "text": [
      "\rIteration: 3679\t\rIteration: 3680\t\rIteration: 3681\t\rIteration: 3682\t\rIteration: 3683\t\rIteration: 3684\t\rIteration: 3685\t\rIteration: 3686\t\rIteration: 3687\t\rIteration: 3688\t\rIteration: 3689\t"
     ]
    },
    {
     "name": "stdout",
     "output_type": "stream",
     "text": [
      "\rIteration: 3690\t\rIteration: 3691\t\rIteration: 3692\t\rIteration: 3693\t\rIteration: 3694\t\rIteration: 3695\t\rIteration: 3696\t\rIteration: 3697\t\rIteration: 3698\t\rIteration: 3699\t\rIteration: 3700\t"
     ]
    },
    {
     "name": "stdout",
     "output_type": "stream",
     "text": [
      "\rIteration: 3701\t\rIteration: 3702\t\rIteration: 3703\t\rIteration: 3704\t\rIteration: 3705\t\rIteration: 3706\t\rIteration: 3707\t\rIteration: 3708\t\rIteration: 3709\t\rIteration: 3710\t"
     ]
    },
    {
     "name": "stdout",
     "output_type": "stream",
     "text": [
      "\rIteration: 3711\t\rIteration: 3712\t\rIteration: 3713\t\rIteration: 3714\t\rIteration: 3715\t\rIteration: 3716\t\rIteration: 3717\t\rIteration: 3718\t\rIteration: 3719\t\rIteration: 3720\t\rIteration: 3721\t"
     ]
    },
    {
     "name": "stdout",
     "output_type": "stream",
     "text": [
      "\rIteration: 3722\t\rIteration: 3723\t\rIteration: 3724\t\rIteration: 3725\t\rIteration: 3726\t\rIteration: 3727\t\rIteration: 3728\t\rIteration: 3729\t\rIteration: 3730\t\rIteration: 3731\t"
     ]
    },
    {
     "name": "stdout",
     "output_type": "stream",
     "text": [
      "\rIteration: 3732\t\rIteration: 3733\t\rIteration: 3734\t\rIteration: 3735\t\rIteration: 3736\t\rIteration: 3737\t\rIteration: 3738\t\rIteration: 3739\t\rIteration: 3740\t\rIteration: 3741\t"
     ]
    },
    {
     "name": "stdout",
     "output_type": "stream",
     "text": [
      "\rIteration: 3742\t\rIteration: 3743\t\rIteration: 3744\t\rIteration: 3745\t\rIteration: 3746\t\rIteration: 3747\t\rIteration: 3748\t\rIteration: 3749\t\rIteration: 3750\t\rIteration: 3751\t\rIteration: 3752\t"
     ]
    },
    {
     "name": "stdout",
     "output_type": "stream",
     "text": [
      "\rIteration: 3753\t\rIteration: 3754\t\rIteration: 3755\t\rIteration: 3756\t\rIteration: 3757\t\rIteration: 3758\t\rIteration: 3759\t\rIteration: 3760\t\rIteration: 3761\t\rIteration: 3762\t"
     ]
    },
    {
     "name": "stdout",
     "output_type": "stream",
     "text": [
      "\rIteration: 3763\t\rIteration: 3764\t\rIteration: 3765\t\rIteration: 3766\t\rIteration: 3767\t\rIteration: 3768\t\rIteration: 3769\t\rIteration: 3770\t\rIteration: 3771\t\rIteration: 3772\t"
     ]
    },
    {
     "name": "stdout",
     "output_type": "stream",
     "text": [
      "\rIteration: 3773\t\rIteration: 3774\t\rIteration: 3775\t\rIteration: 3776\t\rIteration: 3777\t\rIteration: 3778\t\rIteration: 3779\t\rIteration: 3780\t\rIteration: 3781\t\rIteration: 3782\t"
     ]
    },
    {
     "name": "stdout",
     "output_type": "stream",
     "text": [
      "\rIteration: 3783\t\rIteration: 3784\t\rIteration: 3785\t\rIteration: 3786\t\rIteration: 3787\t\rIteration: 3788\t\rIteration: 3789\t\rIteration: 3790\t\rIteration: 3791\t\rIteration: 3792\t"
     ]
    },
    {
     "name": "stdout",
     "output_type": "stream",
     "text": [
      "\rIteration: 3793\t\rIteration: 3794\t\rIteration: 3795\t\rIteration: 3796\t\rIteration: 3797\t\rIteration: 3798\t\rIteration: 3799\t\rIteration: 3800\t\rIteration: 3801\t\rIteration: 3802\t"
     ]
    },
    {
     "name": "stdout",
     "output_type": "stream",
     "text": [
      "\rIteration: 3803\t\rIteration: 3804\t\rIteration: 3805\t\rIteration: 3806\t\rIteration: 3807\t\rIteration: 3808\t\rIteration: 3809\t\rIteration: 3810\t\rIteration: 3811\t\rIteration: 3812\t"
     ]
    },
    {
     "name": "stdout",
     "output_type": "stream",
     "text": [
      "\rIteration: 3813\t\rIteration: 3814\t\rIteration: 3815\t\rIteration: 3816\t\rIteration: 3817\t\rIteration: 3818\t\rIteration: 3819\t\rIteration: 3820\t\rIteration: 3821\t\rIteration: 3822\t"
     ]
    },
    {
     "name": "stdout",
     "output_type": "stream",
     "text": [
      "\rIteration: 3823\t\rIteration: 3824\t\rIteration: 3825\t\rIteration: 3826\t\rIteration: 3827\t\rIteration: 3828\t\rIteration: 3829\t\rIteration: 3830\t\rIteration: 3831\t\rIteration: 3832\t\rIteration: 3833\t"
     ]
    },
    {
     "name": "stdout",
     "output_type": "stream",
     "text": [
      "\rIteration: 3834\t\rIteration: 3835\t\rIteration: 3836\t\rIteration: 3837\t\rIteration: 3838\t\rIteration: 3839\t\rIteration: 3840\t\rIteration: 3841\t\rIteration: 3842\t\rIteration: 3843\t"
     ]
    },
    {
     "name": "stdout",
     "output_type": "stream",
     "text": [
      "\rIteration: 3844\t\rIteration: 3845\t\rIteration: 3846\t\rIteration: 3847\t\rIteration: 3848\t\rIteration: 3849\t\rIteration: 3850\t\rIteration: 3851\t\rIteration: 3852\t\rIteration: 3853\t"
     ]
    },
    {
     "name": "stdout",
     "output_type": "stream",
     "text": [
      "\rIteration: 3854\t\rIteration: 3855\t\rIteration: 3856\t\rIteration: 3857\t\rIteration: 3858\t\rIteration: 3859\t\rIteration: 3860\t\rIteration: 3861\t\rIteration: 3862\t\rIteration: 3863\t\rIteration: 3864\t"
     ]
    },
    {
     "name": "stdout",
     "output_type": "stream",
     "text": [
      "\rIteration: 3865\t\rIteration: 3866\t\rIteration: 3867\t\rIteration: 3868\t\rIteration: 3869\t\rIteration: 3870\t\rIteration: 3871\t\rIteration: 3872\t\rIteration: 3873\t\rIteration: 3874\t\rIteration: 3875\t"
     ]
    },
    {
     "name": "stdout",
     "output_type": "stream",
     "text": [
      "\rIteration: 3876\t\rIteration: 3877\t\rIteration: 3878\t\rIteration: 3879\t\rIteration: 3880\t\rIteration: 3881\t\rIteration: 3882\t\rIteration: 3883\t\rIteration: 3884\t\rIteration: 3885\t"
     ]
    },
    {
     "name": "stdout",
     "output_type": "stream",
     "text": [
      "\rIteration: 3886\t\rIteration: 3887\t\rIteration: 3888\t\rIteration: 3889\t\rIteration: 3890\t\rIteration: 3891\t\rIteration: 3892\t\rIteration: 3893\t\rIteration: 3894\t\rIteration: 3895\t\rIteration: 3896\t"
     ]
    },
    {
     "name": "stdout",
     "output_type": "stream",
     "text": [
      "\rIteration: 3897\t\rIteration: 3898\t\rIteration: 3899\t\rIteration: 3900\t\rIteration: 3901\t\rIteration: 3902\t\rIteration: 3903\t\rIteration: 3904\t\rIteration: 3905\t\rIteration: 3906\t"
     ]
    },
    {
     "name": "stdout",
     "output_type": "stream",
     "text": [
      "\rIteration: 3907\t\rIteration: 3908\t\rIteration: 3909\t\rIteration: 3910\t\rIteration: 3911\t\rIteration: 3912\t\rIteration: 3913\t\rIteration: 3914\t\rIteration: 3915\t\rIteration: 3916\t"
     ]
    },
    {
     "name": "stdout",
     "output_type": "stream",
     "text": [
      "\rIteration: 3917\t\rIteration: 3918\t\rIteration: 3919\t\rIteration: 3920\t\rIteration: 3921\t\rIteration: 3922\t\rIteration: 3923\t\rIteration: 3924\t\rIteration: 3925\t\rIteration: 3926\t"
     ]
    },
    {
     "name": "stdout",
     "output_type": "stream",
     "text": [
      "\rIteration: 3927\t\rIteration: 3928\t\rIteration: 3929\t\rIteration: 3930\t\rIteration: 3931\t\rIteration: 3932\t\rIteration: 3933\t\rIteration: 3934\t\rIteration: 3935\t\rIteration: 3936\t\rIteration: 3937\t"
     ]
    },
    {
     "name": "stdout",
     "output_type": "stream",
     "text": [
      "\rIteration: 3938\t\rIteration: 3939\t\rIteration: 3940\t\rIteration: 3941\t\rIteration: 3942\t\rIteration: 3943\t\rIteration: 3944\t\rIteration: 3945\t\rIteration: 3946\t\rIteration: 3947\t\rIteration: 3948\t"
     ]
    },
    {
     "name": "stdout",
     "output_type": "stream",
     "text": [
      "\rIteration: 3949\t\rIteration: 3950\t\rIteration: 3951\t\rIteration: 3952\t\rIteration: 3953\t\rIteration: 3954\t\rIteration: 3955\t\rIteration: 3956\t\rIteration: 3957\t\rIteration: 3958\t"
     ]
    },
    {
     "name": "stdout",
     "output_type": "stream",
     "text": [
      "\rIteration: 3959\t\rIteration: 3960\t\rIteration: 3961\t\rIteration: 3962\t\rIteration: 3963\t\rIteration: 3964\t\rIteration: 3965\t\rIteration: 3966\t\rIteration: 3967\t\rIteration: 3968\t\rIteration: 3969\t"
     ]
    },
    {
     "name": "stdout",
     "output_type": "stream",
     "text": [
      "\rIteration: 3970\t\rIteration: 3971\t\rIteration: 3972\t\rIteration: 3973\t\rIteration: 3974\t\rIteration: 3975\t\rIteration: 3976\t\rIteration: 3977\t\rIteration: 3978\t\rIteration: 3979\t"
     ]
    },
    {
     "name": "stdout",
     "output_type": "stream",
     "text": [
      "\rIteration: 3980\t\rIteration: 3981\t\rIteration: 3982\t\rIteration: 3983\t\rIteration: 3984\t\rIteration: 3985\t\rIteration: 3986\t\rIteration: 3987\t\rIteration: 3988\t\rIteration: 3989\t\rIteration: 3990\t"
     ]
    },
    {
     "name": "stdout",
     "output_type": "stream",
     "text": [
      "\rIteration: 3991\t\rIteration: 3992\t\rIteration: 3993\t\rIteration: 3994\t\rIteration: 3995\t\rIteration: 3996\t\rIteration: 3997\t\rIteration: 3998\t\rIteration: 3999\t\rIteration: 4000\t"
     ]
    },
    {
     "name": "stdout",
     "output_type": "stream",
     "text": [
      "Average loss at step  4000 :  62.691802453994754\n\rIteration: 4001\t\rIteration: 4002\t\rIteration: 4003\t\rIteration: 4004\t\rIteration: 4005\t\rIteration: 4006\t\rIteration: 4007\t\rIteration: 4008\t\rIteration: 4009\t\rIteration: 4010\t"
     ]
    },
    {
     "name": "stdout",
     "output_type": "stream",
     "text": [
      "\rIteration: 4011\t\rIteration: 4012\t\rIteration: 4013\t\rIteration: 4014\t\rIteration: 4015\t\rIteration: 4016\t\rIteration: 4017\t\rIteration: 4018\t\rIteration: 4019\t\rIteration: 4020\t"
     ]
    },
    {
     "name": "stdout",
     "output_type": "stream",
     "text": [
      "\rIteration: 4021\t\rIteration: 4022\t\rIteration: 4023\t\rIteration: 4024\t\rIteration: 4025\t\rIteration: 4026\t\rIteration: 4027\t\rIteration: 4028\t\rIteration: 4029\t\rIteration: 4030\t\rIteration: 4031\t"
     ]
    },
    {
     "name": "stdout",
     "output_type": "stream",
     "text": [
      "\rIteration: 4032\t\rIteration: 4033\t\rIteration: 4034\t\rIteration: 4035\t\rIteration: 4036\t\rIteration: 4037\t\rIteration: 4038\t\rIteration: 4039\t\rIteration: 4040\t\rIteration: 4041\t"
     ]
    },
    {
     "name": "stdout",
     "output_type": "stream",
     "text": [
      "\rIteration: 4042\t\rIteration: 4043\t\rIteration: 4044\t\rIteration: 4045\t\rIteration: 4046\t\rIteration: 4047\t\rIteration: 4048\t\rIteration: 4049\t\rIteration: 4050\t\rIteration: 4051\t\rIteration: 4052\t"
     ]
    },
    {
     "name": "stdout",
     "output_type": "stream",
     "text": [
      "\rIteration: 4053\t\rIteration: 4054\t\rIteration: 4055\t\rIteration: 4056\t\rIteration: 4057\t\rIteration: 4058\t\rIteration: 4059\t\rIteration: 4060\t\rIteration: 4061\t\rIteration: 4062\t\rIteration: 4063\t"
     ]
    },
    {
     "name": "stdout",
     "output_type": "stream",
     "text": [
      "\rIteration: 4064\t\rIteration: 4065\t\rIteration: 4066\t\rIteration: 4067\t\rIteration: 4068\t\rIteration: 4069\t\rIteration: 4070\t\rIteration: 4071\t\rIteration: 4072\t\rIteration: 4073\t\rIteration: 4074\t"
     ]
    },
    {
     "name": "stdout",
     "output_type": "stream",
     "text": [
      "\rIteration: 4075\t\rIteration: 4076\t\rIteration: 4077\t\rIteration: 4078\t\rIteration: 4079\t\rIteration: 4080\t\rIteration: 4081\t\rIteration: 4082\t\rIteration: 4083\t\rIteration: 4084\t"
     ]
    },
    {
     "name": "stdout",
     "output_type": "stream",
     "text": [
      "\rIteration: 4085\t\rIteration: 4086\t\rIteration: 4087\t\rIteration: 4088\t\rIteration: 4089\t\rIteration: 4090\t\rIteration: 4091\t\rIteration: 4092\t\rIteration: 4093\t\rIteration: 4094\t\rIteration: 4095\t"
     ]
    },
    {
     "name": "stdout",
     "output_type": "stream",
     "text": [
      "\rIteration: 4096\t\rIteration: 4097\t\rIteration: 4098\t\rIteration: 4099\t\rIteration: 4100\t\rIteration: 4101\t\rIteration: 4102\t\rIteration: 4103\t\rIteration: 4104\t\rIteration: 4105\t"
     ]
    },
    {
     "name": "stdout",
     "output_type": "stream",
     "text": [
      "\rIteration: 4106\t\rIteration: 4107\t\rIteration: 4108\t\rIteration: 4109\t\rIteration: 4110\t\rIteration: 4111\t\rIteration: 4112\t\rIteration: 4113\t\rIteration: 4114\t\rIteration: 4115\t"
     ]
    },
    {
     "name": "stdout",
     "output_type": "stream",
     "text": [
      "\rIteration: 4116\t\rIteration: 4117\t\rIteration: 4118\t\rIteration: 4119\t\rIteration: 4120\t\rIteration: 4121\t\rIteration: 4122\t\rIteration: 4123\t\rIteration: 4124\t\rIteration: 4125\t"
     ]
    },
    {
     "name": "stdout",
     "output_type": "stream",
     "text": [
      "\rIteration: 4126\t\rIteration: 4127\t\rIteration: 4128\t\rIteration: 4129\t\rIteration: 4130\t\rIteration: 4131\t\rIteration: 4132\t\rIteration: 4133\t\rIteration: 4134\t\rIteration: 4135\t\rIteration: 4136\t"
     ]
    },
    {
     "name": "stdout",
     "output_type": "stream",
     "text": [
      "\rIteration: 4137\t\rIteration: 4138\t\rIteration: 4139\t\rIteration: 4140\t\rIteration: 4141\t\rIteration: 4142\t\rIteration: 4143\t\rIteration: 4144\t\rIteration: 4145\t\rIteration: 4146\t\rIteration: 4147\t"
     ]
    },
    {
     "name": "stdout",
     "output_type": "stream",
     "text": [
      "\rIteration: 4148\t\rIteration: 4149\t\rIteration: 4150\t\rIteration: 4151\t\rIteration: 4152\t\rIteration: 4153\t\rIteration: 4154\t\rIteration: 4155\t\rIteration: 4156\t\rIteration: 4157\t"
     ]
    },
    {
     "name": "stdout",
     "output_type": "stream",
     "text": [
      "\rIteration: 4158\t\rIteration: 4159\t\rIteration: 4160\t\rIteration: 4161\t\rIteration: 4162\t\rIteration: 4163\t\rIteration: 4164\t\rIteration: 4165\t\rIteration: 4166\t\rIteration: 4167\t"
     ]
    },
    {
     "name": "stdout",
     "output_type": "stream",
     "text": [
      "\rIteration: 4168\t\rIteration: 4169\t\rIteration: 4170\t\rIteration: 4171\t\rIteration: 4172\t\rIteration: 4173\t\rIteration: 4174\t\rIteration: 4175\t\rIteration: 4176\t\rIteration: 4177\t"
     ]
    },
    {
     "name": "stdout",
     "output_type": "stream",
     "text": [
      "\rIteration: 4178\t\rIteration: 4179\t\rIteration: 4180\t\rIteration: 4181\t\rIteration: 4182\t\rIteration: 4183\t\rIteration: 4184\t\rIteration: 4185\t\rIteration: 4186\t\rIteration: 4187\t"
     ]
    },
    {
     "name": "stdout",
     "output_type": "stream",
     "text": [
      "\rIteration: 4188\t\rIteration: 4189\t\rIteration: 4190\t\rIteration: 4191\t\rIteration: 4192\t\rIteration: 4193\t\rIteration: 4194\t\rIteration: 4195\t\rIteration: 4196\t\rIteration: 4197\t"
     ]
    },
    {
     "name": "stdout",
     "output_type": "stream",
     "text": [
      "\rIteration: 4198\t\rIteration: 4199\t\rIteration: 4200\t\rIteration: 4201\t\rIteration: 4202\t\rIteration: 4203\t\rIteration: 4204\t\rIteration: 4205\t\rIteration: 4206\t\rIteration: 4207\t"
     ]
    },
    {
     "name": "stdout",
     "output_type": "stream",
     "text": [
      "\rIteration: 4208\t\rIteration: 4209\t\rIteration: 4210\t\rIteration: 4211\t\rIteration: 4212\t\rIteration: 4213\t\rIteration: 4214\t\rIteration: 4215\t\rIteration: 4216\t\rIteration: 4217\t"
     ]
    },
    {
     "name": "stdout",
     "output_type": "stream",
     "text": [
      "\rIteration: 4218\t\rIteration: 4219\t\rIteration: 4220\t\rIteration: 4221\t\rIteration: 4222\t\rIteration: 4223\t\rIteration: 4224\t\rIteration: 4225\t\rIteration: 4226\t\rIteration: 4227\t"
     ]
    },
    {
     "name": "stdout",
     "output_type": "stream",
     "text": [
      "\rIteration: 4228\t\rIteration: 4229\t\rIteration: 4230\t\rIteration: 4231\t\rIteration: 4232\t\rIteration: 4233\t\rIteration: 4234\t\rIteration: 4235\t\rIteration: 4236\t\rIteration: 4237\t\rIteration: 4238\t"
     ]
    },
    {
     "name": "stdout",
     "output_type": "stream",
     "text": [
      "\rIteration: 4239\t\rIteration: 4240\t\rIteration: 4241\t\rIteration: 4242\t\rIteration: 4243\t\rIteration: 4244\t\rIteration: 4245\t\rIteration: 4246\t\rIteration: 4247\t\rIteration: 4248\t\rIteration: 4249\t"
     ]
    },
    {
     "name": "stdout",
     "output_type": "stream",
     "text": [
      "\rIteration: 4250\t\rIteration: 4251\t\rIteration: 4252\t\rIteration: 4253\t\rIteration: 4254\t\rIteration: 4255\t\rIteration: 4256\t\rIteration: 4257\t\rIteration: 4258\t\rIteration: 4259\t\rIteration: 4260\t"
     ]
    },
    {
     "name": "stdout",
     "output_type": "stream",
     "text": [
      "\rIteration: 4261\t\rIteration: 4262\t\rIteration: 4263\t\rIteration: 4264\t\rIteration: 4265\t\rIteration: 4266\t\rIteration: 4267\t\rIteration: 4268\t\rIteration: 4269\t\rIteration: 4270\t\rIteration: 4271\t"
     ]
    },
    {
     "name": "stdout",
     "output_type": "stream",
     "text": [
      "\rIteration: 4272\t\rIteration: 4273\t\rIteration: 4274\t\rIteration: 4275\t\rIteration: 4276\t\rIteration: 4277\t\rIteration: 4278\t\rIteration: 4279\t\rIteration: 4280\t\rIteration: 4281\t"
     ]
    },
    {
     "name": "stdout",
     "output_type": "stream",
     "text": [
      "\rIteration: 4282\t\rIteration: 4283\t\rIteration: 4284\t\rIteration: 4285\t\rIteration: 4286\t\rIteration: 4287\t\rIteration: 4288\t\rIteration: 4289\t\rIteration: 4290\t\rIteration: 4291\t"
     ]
    },
    {
     "name": "stdout",
     "output_type": "stream",
     "text": [
      "\rIteration: 4292\t\rIteration: 4293\t\rIteration: 4294\t\rIteration: 4295\t\rIteration: 4296\t\rIteration: 4297\t\rIteration: 4298\t\rIteration: 4299\t\rIteration: 4300\t\rIteration: 4301\t"
     ]
    },
    {
     "name": "stdout",
     "output_type": "stream",
     "text": [
      "\rIteration: 4302\t\rIteration: 4303\t\rIteration: 4304\t\rIteration: 4305\t\rIteration: 4306\t\rIteration: 4307\t\rIteration: 4308\t\rIteration: 4309\t\rIteration: 4310\t\rIteration: 4311\t"
     ]
    },
    {
     "name": "stdout",
     "output_type": "stream",
     "text": [
      "\rIteration: 4312\t\rIteration: 4313\t\rIteration: 4314\t\rIteration: 4315\t\rIteration: 4316\t\rIteration: 4317\t\rIteration: 4318\t\rIteration: 4319\t\rIteration: 4320\t\rIteration: 4321\t"
     ]
    },
    {
     "name": "stdout",
     "output_type": "stream",
     "text": [
      "\rIteration: 4322\t\rIteration: 4323\t\rIteration: 4324\t\rIteration: 4325\t\rIteration: 4326\t\rIteration: 4327\t\rIteration: 4328\t\rIteration: 4329\t\rIteration: 4330\t\rIteration: 4331\t\rIteration: 4332\t"
     ]
    },
    {
     "name": "stdout",
     "output_type": "stream",
     "text": [
      "\rIteration: 4333\t\rIteration: 4334\t\rIteration: 4335\t\rIteration: 4336\t\rIteration: 4337\t\rIteration: 4338\t\rIteration: 4339\t\rIteration: 4340\t\rIteration: 4341\t\rIteration: 4342\t"
     ]
    },
    {
     "name": "stdout",
     "output_type": "stream",
     "text": [
      "\rIteration: 4343\t\rIteration: 4344\t\rIteration: 4345\t\rIteration: 4346\t\rIteration: 4347\t\rIteration: 4348\t\rIteration: 4349\t\rIteration: 4350\t\rIteration: 4351\t\rIteration: 4352\t\rIteration: 4353\t"
     ]
    },
    {
     "name": "stdout",
     "output_type": "stream",
     "text": [
      "\rIteration: 4354\t\rIteration: 4355\t\rIteration: 4356\t\rIteration: 4357\t\rIteration: 4358\t\rIteration: 4359\t\rIteration: 4360\t\rIteration: 4361\t\rIteration: 4362\t\rIteration: 4363\t"
     ]
    },
    {
     "name": "stdout",
     "output_type": "stream",
     "text": [
      "\rIteration: 4364\t\rIteration: 4365\t\rIteration: 4366\t\rIteration: 4367\t\rIteration: 4368\t\rIteration: 4369\t\rIteration: 4370\t\rIteration: 4371\t\rIteration: 4372\t\rIteration: 4373\t\rIteration: 4374\t"
     ]
    },
    {
     "name": "stdout",
     "output_type": "stream",
     "text": [
      "\rIteration: 4375\t\rIteration: 4376\t\rIteration: 4377\t\rIteration: 4378\t\rIteration: 4379\t\rIteration: 4380\t\rIteration: 4381\t\rIteration: 4382\t\rIteration: 4383\t\rIteration: 4384\t"
     ]
    },
    {
     "name": "stdout",
     "output_type": "stream",
     "text": [
      "\rIteration: 4385\t\rIteration: 4386\t\rIteration: 4387\t\rIteration: 4388\t\rIteration: 4389\t\rIteration: 4390\t\rIteration: 4391\t\rIteration: 4392\t\rIteration: 4393\t\rIteration: 4394\t\rIteration: 4395\t"
     ]
    },
    {
     "name": "stdout",
     "output_type": "stream",
     "text": [
      "\rIteration: 4396\t\rIteration: 4397\t\rIteration: 4398\t\rIteration: 4399\t\rIteration: 4400\t\rIteration: 4401\t\rIteration: 4402\t\rIteration: 4403\t\rIteration: 4404\t\rIteration: 4405\t"
     ]
    },
    {
     "name": "stdout",
     "output_type": "stream",
     "text": [
      "\rIteration: 4406\t\rIteration: 4407\t\rIteration: 4408\t\rIteration: 4409\t\rIteration: 4410\t\rIteration: 4411\t\rIteration: 4412\t\rIteration: 4413\t\rIteration: 4414\t\rIteration: 4415\t"
     ]
    },
    {
     "name": "stdout",
     "output_type": "stream",
     "text": [
      "\rIteration: 4416\t\rIteration: 4417\t\rIteration: 4418\t\rIteration: 4419\t\rIteration: 4420\t\rIteration: 4421\t\rIteration: 4422\t\rIteration: 4423\t\rIteration: 4424\t\rIteration: 4425\t"
     ]
    },
    {
     "name": "stdout",
     "output_type": "stream",
     "text": [
      "\rIteration: 4426\t\rIteration: 4427\t\rIteration: 4428\t\rIteration: 4429\t\rIteration: 4430\t\rIteration: 4431\t\rIteration: 4432\t\rIteration: 4433\t\rIteration: 4434\t\rIteration: 4435\t"
     ]
    },
    {
     "name": "stdout",
     "output_type": "stream",
     "text": [
      "\rIteration: 4436\t\rIteration: 4437\t\rIteration: 4438\t\rIteration: 4439\t\rIteration: 4440\t\rIteration: 4441\t\rIteration: 4442\t\rIteration: 4443\t\rIteration: 4444\t\rIteration: 4445\t"
     ]
    },
    {
     "name": "stdout",
     "output_type": "stream",
     "text": [
      "\rIteration: 4446\t\rIteration: 4447\t\rIteration: 4448\t\rIteration: 4449\t\rIteration: 4450\t\rIteration: 4451\t\rIteration: 4452\t\rIteration: 4453\t\rIteration: 4454\t\rIteration: 4455\t"
     ]
    },
    {
     "name": "stdout",
     "output_type": "stream",
     "text": [
      "\rIteration: 4456\t\rIteration: 4457\t\rIteration: 4458\t\rIteration: 4459\t\rIteration: 4460\t\rIteration: 4461\t\rIteration: 4462\t\rIteration: 4463\t\rIteration: 4464\t\rIteration: 4465\t"
     ]
    },
    {
     "name": "stdout",
     "output_type": "stream",
     "text": [
      "\rIteration: 4466\t\rIteration: 4467\t\rIteration: 4468\t\rIteration: 4469\t\rIteration: 4470\t\rIteration: 4471\t\rIteration: 4472\t\rIteration: 4473\t\rIteration: 4474\t\rIteration: 4475\t\rIteration: 4476\t"
     ]
    },
    {
     "name": "stdout",
     "output_type": "stream",
     "text": [
      "\rIteration: 4477\t\rIteration: 4478\t\rIteration: 4479\t\rIteration: 4480\t\rIteration: 4481\t\rIteration: 4482\t\rIteration: 4483\t\rIteration: 4484\t\rIteration: 4485\t\rIteration: 4486\t"
     ]
    },
    {
     "name": "stdout",
     "output_type": "stream",
     "text": [
      "\rIteration: 4487\t\rIteration: 4488\t\rIteration: 4489\t\rIteration: 4490\t\rIteration: 4491\t\rIteration: 4492\t\rIteration: 4493\t\rIteration: 4494\t\rIteration: 4495\t\rIteration: 4496\t"
     ]
    },
    {
     "name": "stdout",
     "output_type": "stream",
     "text": [
      "\rIteration: 4497\t\rIteration: 4498\t\rIteration: 4499\t\rIteration: 4500\t\rIteration: 4501\t\rIteration: 4502\t\rIteration: 4503\t\rIteration: 4504\t\rIteration: 4505\t\rIteration: 4506\t\rIteration: 4507\t"
     ]
    },
    {
     "name": "stdout",
     "output_type": "stream",
     "text": [
      "\rIteration: 4508\t\rIteration: 4509\t\rIteration: 4510\t\rIteration: 4511\t\rIteration: 4512\t\rIteration: 4513\t\rIteration: 4514\t\rIteration: 4515\t\rIteration: 4516\t\rIteration: 4517\t\rIteration: 4518\t"
     ]
    },
    {
     "name": "stdout",
     "output_type": "stream",
     "text": [
      "\rIteration: 4519\t\rIteration: 4520\t\rIteration: 4521\t\rIteration: 4522\t\rIteration: 4523\t\rIteration: 4524\t\rIteration: 4525\t\rIteration: 4526\t\rIteration: 4527\t\rIteration: 4528\t\rIteration: 4529\t"
     ]
    },
    {
     "name": "stdout",
     "output_type": "stream",
     "text": [
      "\rIteration: 4530\t\rIteration: 4531\t\rIteration: 4532\t\rIteration: 4533\t\rIteration: 4534\t\rIteration: 4535\t\rIteration: 4536\t\rIteration: 4537\t\rIteration: 4538\t\rIteration: 4539\t\rIteration: 4540\t"
     ]
    },
    {
     "name": "stdout",
     "output_type": "stream",
     "text": [
      "\rIteration: 4541\t\rIteration: 4542\t\rIteration: 4543\t\rIteration: 4544\t\rIteration: 4545\t\rIteration: 4546\t\rIteration: 4547\t\rIteration: 4548\t\rIteration: 4549\t\rIteration: 4550\t\rIteration: 4551\t"
     ]
    },
    {
     "name": "stdout",
     "output_type": "stream",
     "text": [
      "\rIteration: 4552\t\rIteration: 4553\t\rIteration: 4554\t\rIteration: 4555\t\rIteration: 4556\t\rIteration: 4557\t\rIteration: 4558\t\rIteration: 4559\t\rIteration: 4560\t\rIteration: 4561\t\rIteration: 4562\t"
     ]
    },
    {
     "name": "stdout",
     "output_type": "stream",
     "text": [
      "\rIteration: 4563\t\rIteration: 4564\t\rIteration: 4565\t\rIteration: 4566\t\rIteration: 4567\t\rIteration: 4568\t\rIteration: 4569\t\rIteration: 4570\t\rIteration: 4571\t\rIteration: 4572\t\rIteration: 4573\t"
     ]
    },
    {
     "name": "stdout",
     "output_type": "stream",
     "text": [
      "\rIteration: 4574\t\rIteration: 4575\t\rIteration: 4576\t\rIteration: 4577\t\rIteration: 4578\t\rIteration: 4579\t\rIteration: 4580\t\rIteration: 4581\t\rIteration: 4582\t\rIteration: 4583\t"
     ]
    },
    {
     "name": "stdout",
     "output_type": "stream",
     "text": [
      "\rIteration: 4584\t\rIteration: 4585\t\rIteration: 4586\t\rIteration: 4587\t\rIteration: 4588\t\rIteration: 4589\t\rIteration: 4590\t\rIteration: 4591\t\rIteration: 4592\t\rIteration: 4593\t\rIteration: 4594\t"
     ]
    },
    {
     "name": "stdout",
     "output_type": "stream",
     "text": [
      "\rIteration: 4595\t\rIteration: 4596\t\rIteration: 4597\t\rIteration: 4598\t\rIteration: 4599\t\rIteration: 4600\t\rIteration: 4601\t\rIteration: 4602\t\rIteration: 4603\t\rIteration: 4604\t"
     ]
    },
    {
     "name": "stdout",
     "output_type": "stream",
     "text": [
      "\rIteration: 4605\t\rIteration: 4606\t\rIteration: 4607\t\rIteration: 4608\t\rIteration: 4609\t\rIteration: 4610\t\rIteration: 4611\t\rIteration: 4612\t\rIteration: 4613\t\rIteration: 4614\t\rIteration: 4615\t"
     ]
    },
    {
     "name": "stdout",
     "output_type": "stream",
     "text": [
      "\rIteration: 4616\t\rIteration: 4617\t\rIteration: 4618\t\rIteration: 4619\t\rIteration: 4620\t\rIteration: 4621\t\rIteration: 4622\t\rIteration: 4623\t\rIteration: 4624\t\rIteration: 4625\t\rIteration: 4626\t"
     ]
    },
    {
     "name": "stdout",
     "output_type": "stream",
     "text": [
      "\rIteration: 4627\t\rIteration: 4628\t\rIteration: 4629\t\rIteration: 4630\t\rIteration: 4631\t\rIteration: 4632\t\rIteration: 4633\t\rIteration: 4634\t\rIteration: 4635\t\rIteration: 4636\t"
     ]
    },
    {
     "name": "stdout",
     "output_type": "stream",
     "text": [
      "\rIteration: 4637\t\rIteration: 4638\t\rIteration: 4639\t\rIteration: 4640\t\rIteration: 4641\t\rIteration: 4642\t\rIteration: 4643\t\rIteration: 4644\t\rIteration: 4645\t\rIteration: 4646\t"
     ]
    },
    {
     "name": "stdout",
     "output_type": "stream",
     "text": [
      "\rIteration: 4647\t\rIteration: 4648\t\rIteration: 4649\t\rIteration: 4650\t\rIteration: 4651\t\rIteration: 4652\t\rIteration: 4653\t\rIteration: 4654\t\rIteration: 4655\t\rIteration: 4656\t\rIteration: 4657\t"
     ]
    },
    {
     "name": "stdout",
     "output_type": "stream",
     "text": [
      "\rIteration: 4658\t\rIteration: 4659\t\rIteration: 4660\t\rIteration: 4661\t\rIteration: 4662\t\rIteration: 4663\t\rIteration: 4664\t\rIteration: 4665\t\rIteration: 4666\t\rIteration: 4667\t"
     ]
    },
    {
     "name": "stdout",
     "output_type": "stream",
     "text": [
      "\rIteration: 4668\t\rIteration: 4669\t\rIteration: 4670\t\rIteration: 4671\t\rIteration: 4672\t\rIteration: 4673\t\rIteration: 4674\t\rIteration: 4675\t\rIteration: 4676\t\rIteration: 4677\t"
     ]
    },
    {
     "name": "stdout",
     "output_type": "stream",
     "text": [
      "\rIteration: 4678\t\rIteration: 4679\t\rIteration: 4680\t\rIteration: 4681\t\rIteration: 4682\t\rIteration: 4683\t\rIteration: 4684\t\rIteration: 4685\t\rIteration: 4686\t\rIteration: 4687\t"
     ]
    },
    {
     "name": "stdout",
     "output_type": "stream",
     "text": [
      "\rIteration: 4688\t\rIteration: 4689\t\rIteration: 4690\t\rIteration: 4691\t\rIteration: 4692\t\rIteration: 4693\t\rIteration: 4694\t\rIteration: 4695\t\rIteration: 4696\t\rIteration: 4697\t"
     ]
    },
    {
     "name": "stdout",
     "output_type": "stream",
     "text": [
      "\rIteration: 4698\t\rIteration: 4699\t\rIteration: 4700\t\rIteration: 4701\t\rIteration: 4702\t\rIteration: 4703\t\rIteration: 4704\t\rIteration: 4705\t\rIteration: 4706\t\rIteration: 4707\t"
     ]
    },
    {
     "name": "stdout",
     "output_type": "stream",
     "text": [
      "\rIteration: 4708\t\rIteration: 4709\t\rIteration: 4710\t\rIteration: 4711\t\rIteration: 4712\t\rIteration: 4713\t\rIteration: 4714\t\rIteration: 4715\t\rIteration: 4716\t\rIteration: 4717\t\rIteration: 4718\t"
     ]
    },
    {
     "name": "stdout",
     "output_type": "stream",
     "text": [
      "\rIteration: 4719\t\rIteration: 4720\t\rIteration: 4721\t\rIteration: 4722\t\rIteration: 4723\t\rIteration: 4724\t\rIteration: 4725\t\rIteration: 4726\t\rIteration: 4727\t\rIteration: 4728\t\rIteration: 4729\t"
     ]
    },
    {
     "name": "stdout",
     "output_type": "stream",
     "text": [
      "\rIteration: 4730\t\rIteration: 4731\t\rIteration: 4732\t\rIteration: 4733\t\rIteration: 4734\t\rIteration: 4735\t\rIteration: 4736\t\rIteration: 4737\t\rIteration: 4738\t\rIteration: 4739\t\rIteration: 4740\t"
     ]
    },
    {
     "name": "stdout",
     "output_type": "stream",
     "text": [
      "\rIteration: 4741\t\rIteration: 4742\t\rIteration: 4743\t\rIteration: 4744\t\rIteration: 4745\t\rIteration: 4746\t\rIteration: 4747\t\rIteration: 4748\t\rIteration: 4749\t\rIteration: 4750\t"
     ]
    },
    {
     "name": "stdout",
     "output_type": "stream",
     "text": [
      "\rIteration: 4751\t\rIteration: 4752\t\rIteration: 4753\t\rIteration: 4754\t\rIteration: 4755\t\rIteration: 4756\t\rIteration: 4757\t\rIteration: 4758\t\rIteration: 4759\t\rIteration: 4760\t"
     ]
    },
    {
     "name": "stdout",
     "output_type": "stream",
     "text": [
      "\rIteration: 4761\t\rIteration: 4762\t\rIteration: 4763\t\rIteration: 4764\t\rIteration: 4765\t\rIteration: 4766\t\rIteration: 4767\t\rIteration: 4768\t\rIteration: 4769\t\rIteration: 4770\t\rIteration: 4771\t"
     ]
    },
    {
     "name": "stdout",
     "output_type": "stream",
     "text": [
      "\rIteration: 4772\t\rIteration: 4773\t\rIteration: 4774\t\rIteration: 4775\t\rIteration: 4776\t\rIteration: 4777\t\rIteration: 4778\t\rIteration: 4779\t\rIteration: 4780\t\rIteration: 4781\t"
     ]
    },
    {
     "name": "stdout",
     "output_type": "stream",
     "text": [
      "\rIteration: 4782\t\rIteration: 4783\t\rIteration: 4784\t\rIteration: 4785\t\rIteration: 4786\t\rIteration: 4787\t\rIteration: 4788\t\rIteration: 4789\t\rIteration: 4790\t\rIteration: 4791\t"
     ]
    },
    {
     "name": "stdout",
     "output_type": "stream",
     "text": [
      "\rIteration: 4792\t\rIteration: 4793\t\rIteration: 4794\t\rIteration: 4795\t\rIteration: 4796\t\rIteration: 4797\t\rIteration: 4798\t\rIteration: 4799\t\rIteration: 4800\t\rIteration: 4801\t\rIteration: 4802\t"
     ]
    },
    {
     "name": "stdout",
     "output_type": "stream",
     "text": [
      "\rIteration: 4803\t\rIteration: 4804\t\rIteration: 4805\t\rIteration: 4806\t\rIteration: 4807\t\rIteration: 4808\t\rIteration: 4809\t\rIteration: 4810\t\rIteration: 4811\t\rIteration: 4812\t"
     ]
    },
    {
     "name": "stdout",
     "output_type": "stream",
     "text": [
      "\rIteration: 4813\t\rIteration: 4814\t\rIteration: 4815\t\rIteration: 4816\t\rIteration: 4817\t\rIteration: 4818\t\rIteration: 4819\t\rIteration: 4820\t\rIteration: 4821\t\rIteration: 4822\t"
     ]
    },
    {
     "name": "stdout",
     "output_type": "stream",
     "text": [
      "\rIteration: 4823\t\rIteration: 4824\t\rIteration: 4825\t\rIteration: 4826\t\rIteration: 4827\t\rIteration: 4828\t\rIteration: 4829\t\rIteration: 4830\t\rIteration: 4831\t\rIteration: 4832\t"
     ]
    },
    {
     "name": "stdout",
     "output_type": "stream",
     "text": [
      "\rIteration: 4833\t\rIteration: 4834\t\rIteration: 4835\t\rIteration: 4836\t\rIteration: 4837\t\rIteration: 4838\t\rIteration: 4839\t\rIteration: 4840\t\rIteration: 4841\t\rIteration: 4842\t"
     ]
    },
    {
     "name": "stdout",
     "output_type": "stream",
     "text": [
      "\rIteration: 4843\t\rIteration: 4844\t\rIteration: 4845\t\rIteration: 4846\t\rIteration: 4847\t\rIteration: 4848\t\rIteration: 4849\t\rIteration: 4850\t\rIteration: 4851\t\rIteration: 4852\t\rIteration: 4853\t"
     ]
    },
    {
     "name": "stdout",
     "output_type": "stream",
     "text": [
      "\rIteration: 4854\t\rIteration: 4855\t\rIteration: 4856\t\rIteration: 4857\t\rIteration: 4858\t\rIteration: 4859\t\rIteration: 4860\t\rIteration: 4861\t\rIteration: 4862\t\rIteration: 4863\t"
     ]
    },
    {
     "name": "stdout",
     "output_type": "stream",
     "text": [
      "\rIteration: 4864\t\rIteration: 4865\t\rIteration: 4866\t\rIteration: 4867\t\rIteration: 4868\t\rIteration: 4869\t\rIteration: 4870\t\rIteration: 4871\t\rIteration: 4872\t\rIteration: 4873\t"
     ]
    },
    {
     "name": "stdout",
     "output_type": "stream",
     "text": [
      "\rIteration: 4874\t\rIteration: 4875\t\rIteration: 4876\t\rIteration: 4877\t\rIteration: 4878\t\rIteration: 4879\t\rIteration: 4880\t\rIteration: 4881\t\rIteration: 4882\t\rIteration: 4883\t\rIteration: 4884\t"
     ]
    },
    {
     "name": "stdout",
     "output_type": "stream",
     "text": [
      "\rIteration: 4885\t\rIteration: 4886\t\rIteration: 4887\t\rIteration: 4888\t\rIteration: 4889\t\rIteration: 4890\t\rIteration: 4891\t\rIteration: 4892\t\rIteration: 4893\t\rIteration: 4894\t"
     ]
    },
    {
     "name": "stdout",
     "output_type": "stream",
     "text": [
      "\rIteration: 4895\t\rIteration: 4896\t\rIteration: 4897\t\rIteration: 4898\t\rIteration: 4899\t\rIteration: 4900\t\rIteration: 4901\t\rIteration: 4902\t\rIteration: 4903\t\rIteration: 4904\t"
     ]
    },
    {
     "name": "stdout",
     "output_type": "stream",
     "text": [
      "\rIteration: 4905\t\rIteration: 4906\t\rIteration: 4907\t\rIteration: 4908\t\rIteration: 4909\t\rIteration: 4910\t\rIteration: 4911\t\rIteration: 4912\t\rIteration: 4913\t\rIteration: 4914\t\rIteration: 4915\t"
     ]
    },
    {
     "name": "stdout",
     "output_type": "stream",
     "text": [
      "\rIteration: 4916\t\rIteration: 4917\t\rIteration: 4918\t\rIteration: 4919\t\rIteration: 4920\t\rIteration: 4921\t\rIteration: 4922\t\rIteration: 4923\t\rIteration: 4924\t\rIteration: 4925\t\rIteration: 4926\t"
     ]
    },
    {
     "name": "stdout",
     "output_type": "stream",
     "text": [
      "\rIteration: 4927\t\rIteration: 4928\t\rIteration: 4929\t\rIteration: 4930\t\rIteration: 4931\t\rIteration: 4932\t\rIteration: 4933\t\rIteration: 4934\t\rIteration: 4935\t\rIteration: 4936\t\rIteration: 4937\t"
     ]
    },
    {
     "name": "stdout",
     "output_type": "stream",
     "text": [
      "\rIteration: 4938\t\rIteration: 4939\t\rIteration: 4940\t\rIteration: 4941\t\rIteration: 4942\t\rIteration: 4943\t\rIteration: 4944\t\rIteration: 4945\t\rIteration: 4946\t\rIteration: 4947\t\rIteration: 4948\t"
     ]
    },
    {
     "name": "stdout",
     "output_type": "stream",
     "text": [
      "\rIteration: 4949\t\rIteration: 4950\t\rIteration: 4951\t\rIteration: 4952\t\rIteration: 4953\t\rIteration: 4954\t\rIteration: 4955\t\rIteration: 4956\t\rIteration: 4957\t\rIteration: 4958\t\rIteration: 4959\t"
     ]
    },
    {
     "name": "stdout",
     "output_type": "stream",
     "text": [
      "\rIteration: 4960\t\rIteration: 4961\t\rIteration: 4962\t\rIteration: 4963\t\rIteration: 4964\t\rIteration: 4965\t\rIteration: 4966\t\rIteration: 4967\t\rIteration: 4968\t\rIteration: 4969\t\rIteration: 4970\t"
     ]
    },
    {
     "name": "stdout",
     "output_type": "stream",
     "text": [
      "\rIteration: 4971\t\rIteration: 4972\t\rIteration: 4973\t\rIteration: 4974\t\rIteration: 4975\t\rIteration: 4976\t\rIteration: 4977\t\rIteration: 4978\t\rIteration: 4979\t\rIteration: 4980\t\rIteration: 4981\t"
     ]
    },
    {
     "name": "stdout",
     "output_type": "stream",
     "text": [
      "\rIteration: 4982\t\rIteration: 4983\t\rIteration: 4984\t\rIteration: 4985\t\rIteration: 4986\t\rIteration: 4987\t\rIteration: 4988\t\rIteration: 4989\t\rIteration: 4990\t\rIteration: 4991\t"
     ]
    },
    {
     "name": "stdout",
     "output_type": "stream",
     "text": [
      "\rIteration: 4992\t\rIteration: 4993\t\rIteration: 4994\t\rIteration: 4995\t\rIteration: 4996\t\rIteration: 4997\t\rIteration: 4998\t\rIteration: 4999\t\rIteration: 5000\t\rIteration: 5001\t\rIteration: 5002\t"
     ]
    },
    {
     "name": "stdout",
     "output_type": "stream",
     "text": [
      "\rIteration: 5003\t\rIteration: 5004\t\rIteration: 5005\t\rIteration: 5006\t\rIteration: 5007\t\rIteration: 5008\t\rIteration: 5009\t\rIteration: 5010\t\rIteration: 5011\t\rIteration: 5012\t"
     ]
    },
    {
     "name": "stdout",
     "output_type": "stream",
     "text": [
      "\rIteration: 5013\t\rIteration: 5014\t\rIteration: 5015\t\rIteration: 5016\t\rIteration: 5017\t\rIteration: 5018\t\rIteration: 5019\t\rIteration: 5020\t\rIteration: 5021\t\rIteration: 5022\t\rIteration: 5023\t"
     ]
    },
    {
     "name": "stdout",
     "output_type": "stream",
     "text": [
      "\rIteration: 5024\t\rIteration: 5025\t\rIteration: 5026\t\rIteration: 5027\t\rIteration: 5028\t\rIteration: 5029\t\rIteration: 5030\t\rIteration: 5031\t\rIteration: 5032\t\rIteration: 5033\t\rIteration: 5034\t"
     ]
    },
    {
     "name": "stdout",
     "output_type": "stream",
     "text": [
      "\rIteration: 5035\t\rIteration: 5036\t\rIteration: 5037\t\rIteration: 5038\t\rIteration: 5039\t\rIteration: 5040\t\rIteration: 5041\t\rIteration: 5042\t\rIteration: 5043\t\rIteration: 5044\t"
     ]
    },
    {
     "name": "stdout",
     "output_type": "stream",
     "text": [
      "\rIteration: 5045\t\rIteration: 5046\t\rIteration: 5047\t\rIteration: 5048\t\rIteration: 5049\t\rIteration: 5050\t\rIteration: 5051\t\rIteration: 5052\t\rIteration: 5053\t\rIteration: 5054\t\rIteration: 5055\t"
     ]
    },
    {
     "name": "stdout",
     "output_type": "stream",
     "text": [
      "\rIteration: 5056\t\rIteration: 5057\t\rIteration: 5058\t\rIteration: 5059\t\rIteration: 5060\t\rIteration: 5061\t\rIteration: 5062\t\rIteration: 5063\t\rIteration: 5064\t\rIteration: 5065\t\rIteration: 5066\t"
     ]
    },
    {
     "name": "stdout",
     "output_type": "stream",
     "text": [
      "\rIteration: 5067\t\rIteration: 5068\t\rIteration: 5069\t\rIteration: 5070\t\rIteration: 5071\t\rIteration: 5072\t\rIteration: 5073\t\rIteration: 5074\t\rIteration: 5075\t\rIteration: 5076\t\rIteration: 5077\t"
     ]
    },
    {
     "name": "stdout",
     "output_type": "stream",
     "text": [
      "\rIteration: 5078\t\rIteration: 5079\t\rIteration: 5080\t\rIteration: 5081\t\rIteration: 5082\t\rIteration: 5083\t\rIteration: 5084\t\rIteration: 5085\t\rIteration: 5086\t\rIteration: 5087\t"
     ]
    },
    {
     "name": "stdout",
     "output_type": "stream",
     "text": [
      "\rIteration: 5088\t\rIteration: 5089\t\rIteration: 5090\t\rIteration: 5091\t\rIteration: 5092\t\rIteration: 5093\t\rIteration: 5094\t\rIteration: 5095\t\rIteration: 5096\t\rIteration: 5097\t"
     ]
    },
    {
     "name": "stdout",
     "output_type": "stream",
     "text": [
      "\rIteration: 5098\t\rIteration: 5099\t\rIteration: 5100\t\rIteration: 5101\t\rIteration: 5102\t\rIteration: 5103\t\rIteration: 5104\t\rIteration: 5105\t\rIteration: 5106\t\rIteration: 5107\t\rIteration: 5108\t"
     ]
    },
    {
     "name": "stdout",
     "output_type": "stream",
     "text": [
      "\rIteration: 5109\t\rIteration: 5110\t\rIteration: 5111\t\rIteration: 5112\t\rIteration: 5113\t\rIteration: 5114\t\rIteration: 5115\t\rIteration: 5116\t\rIteration: 5117\t\rIteration: 5118\t"
     ]
    },
    {
     "name": "stdout",
     "output_type": "stream",
     "text": [
      "\rIteration: 5119\t\rIteration: 5120\t\rIteration: 5121\t\rIteration: 5122\t\rIteration: 5123\t\rIteration: 5124\t\rIteration: 5125\t\rIteration: 5126\t\rIteration: 5127\t\rIteration: 5128\t"
     ]
    },
    {
     "name": "stdout",
     "output_type": "stream",
     "text": [
      "\rIteration: 5129\t\rIteration: 5130\t\rIteration: 5131\t\rIteration: 5132\t\rIteration: 5133\t\rIteration: 5134\t\rIteration: 5135\t\rIteration: 5136\t\rIteration: 5137\t\rIteration: 5138\t"
     ]
    },
    {
     "name": "stdout",
     "output_type": "stream",
     "text": [
      "\rIteration: 5139\t\rIteration: 5140\t\rIteration: 5141\t\rIteration: 5142\t\rIteration: 5143\t\rIteration: 5144\t\rIteration: 5145\t\rIteration: 5146\t\rIteration: 5147\t\rIteration: 5148\t\rIteration: 5149\t"
     ]
    },
    {
     "name": "stdout",
     "output_type": "stream",
     "text": [
      "\rIteration: 5150\t\rIteration: 5151\t\rIteration: 5152\t\rIteration: 5153\t\rIteration: 5154\t\rIteration: 5155\t\rIteration: 5156\t\rIteration: 5157\t\rIteration: 5158\t\rIteration: 5159\t\rIteration: 5160\t"
     ]
    },
    {
     "name": "stdout",
     "output_type": "stream",
     "text": [
      "\rIteration: 5161\t\rIteration: 5162\t\rIteration: 5163\t\rIteration: 5164\t\rIteration: 5165\t\rIteration: 5166\t\rIteration: 5167\t\rIteration: 5168\t\rIteration: 5169\t\rIteration: 5170\t\rIteration: 5171\t"
     ]
    },
    {
     "name": "stdout",
     "output_type": "stream",
     "text": [
      "\rIteration: 5172\t\rIteration: 5173\t\rIteration: 5174\t\rIteration: 5175\t\rIteration: 5176\t\rIteration: 5177\t\rIteration: 5178\t\rIteration: 5179\t\rIteration: 5180\t\rIteration: 5181\t"
     ]
    },
    {
     "name": "stdout",
     "output_type": "stream",
     "text": [
      "\rIteration: 5182\t\rIteration: 5183\t\rIteration: 5184\t\rIteration: 5185\t\rIteration: 5186\t\rIteration: 5187\t\rIteration: 5188\t\rIteration: 5189\t\rIteration: 5190\t\rIteration: 5191\t\rIteration: 5192\t"
     ]
    },
    {
     "name": "stdout",
     "output_type": "stream",
     "text": [
      "\rIteration: 5193\t\rIteration: 5194\t\rIteration: 5195\t\rIteration: 5196\t\rIteration: 5197\t\rIteration: 5198\t\rIteration: 5199\t\rIteration: 5200\t\rIteration: 5201\t\rIteration: 5202\t"
     ]
    },
    {
     "name": "stdout",
     "output_type": "stream",
     "text": [
      "\rIteration: 5203\t\rIteration: 5204\t\rIteration: 5205\t\rIteration: 5206\t\rIteration: 5207\t\rIteration: 5208\t\rIteration: 5209\t\rIteration: 5210\t\rIteration: 5211\t\rIteration: 5212\t\rIteration: 5213\t"
     ]
    },
    {
     "name": "stdout",
     "output_type": "stream",
     "text": [
      "\rIteration: 5214\t\rIteration: 5215\t\rIteration: 5216\t\rIteration: 5217\t\rIteration: 5218\t\rIteration: 5219\t\rIteration: 5220\t\rIteration: 5221\t\rIteration: 5222\t\rIteration: 5223\t"
     ]
    },
    {
     "name": "stdout",
     "output_type": "stream",
     "text": [
      "\rIteration: 5224\t\rIteration: 5225\t\rIteration: 5226\t\rIteration: 5227\t\rIteration: 5228\t\rIteration: 5229\t\rIteration: 5230\t\rIteration: 5231\t\rIteration: 5232\t\rIteration: 5233\t"
     ]
    },
    {
     "name": "stdout",
     "output_type": "stream",
     "text": [
      "\rIteration: 5234\t\rIteration: 5235\t\rIteration: 5236\t\rIteration: 5237\t\rIteration: 5238\t\rIteration: 5239\t\rIteration: 5240\t\rIteration: 5241\t\rIteration: 5242\t\rIteration: 5243\t"
     ]
    },
    {
     "name": "stdout",
     "output_type": "stream",
     "text": [
      "\rIteration: 5244\t\rIteration: 5245\t\rIteration: 5246\t\rIteration: 5247\t\rIteration: 5248\t\rIteration: 5249\t\rIteration: 5250\t\rIteration: 5251\t\rIteration: 5252\t\rIteration: 5253\t\rIteration: 5254\t"
     ]
    },
    {
     "name": "stdout",
     "output_type": "stream",
     "text": [
      "\rIteration: 5255\t\rIteration: 5256\t\rIteration: 5257\t\rIteration: 5258\t\rIteration: 5259\t\rIteration: 5260\t\rIteration: 5261\t\rIteration: 5262\t\rIteration: 5263\t\rIteration: 5264\t\rIteration: 5265\t"
     ]
    },
    {
     "name": "stdout",
     "output_type": "stream",
     "text": [
      "\rIteration: 5266\t\rIteration: 5267\t\rIteration: 5268\t\rIteration: 5269\t\rIteration: 5270\t\rIteration: 5271\t\rIteration: 5272\t\rIteration: 5273\t\rIteration: 5274\t\rIteration: 5275\t\rIteration: 5276\t"
     ]
    },
    {
     "name": "stdout",
     "output_type": "stream",
     "text": [
      "\rIteration: 5277\t\rIteration: 5278\t\rIteration: 5279\t\rIteration: 5280\t\rIteration: 5281\t\rIteration: 5282\t\rIteration: 5283\t\rIteration: 5284\t\rIteration: 5285\t\rIteration: 5286\t"
     ]
    },
    {
     "name": "stdout",
     "output_type": "stream",
     "text": [
      "\rIteration: 5287\t\rIteration: 5288\t\rIteration: 5289\t\rIteration: 5290\t\rIteration: 5291\t\rIteration: 5292\t\rIteration: 5293\t\rIteration: 5294\t\rIteration: 5295\t\rIteration: 5296\t"
     ]
    },
    {
     "name": "stdout",
     "output_type": "stream",
     "text": [
      "\rIteration: 5297\t\rIteration: 5298\t\rIteration: 5299\t\rIteration: 5300\t\rIteration: 5301\t\rIteration: 5302\t\rIteration: 5303\t\rIteration: 5304\t\rIteration: 5305\t\rIteration: 5306\t\rIteration: 5307\t"
     ]
    },
    {
     "name": "stdout",
     "output_type": "stream",
     "text": [
      "\rIteration: 5308\t\rIteration: 5309\t\rIteration: 5310\t\rIteration: 5311\t\rIteration: 5312\t\rIteration: 5313\t\rIteration: 5314\t\rIteration: 5315\t\rIteration: 5316\t\rIteration: 5317\t"
     ]
    },
    {
     "name": "stdout",
     "output_type": "stream",
     "text": [
      "\rIteration: 5318\t\rIteration: 5319\t\rIteration: 5320\t\rIteration: 5321\t\rIteration: 5322\t\rIteration: 5323\t\rIteration: 5324\t\rIteration: 5325\t\rIteration: 5326\t\rIteration: 5327\t"
     ]
    },
    {
     "name": "stdout",
     "output_type": "stream",
     "text": [
      "\rIteration: 5328\t\rIteration: 5329\t\rIteration: 5330\t\rIteration: 5331\t\rIteration: 5332\t\rIteration: 5333\t\rIteration: 5334\t\rIteration: 5335\t\rIteration: 5336\t\rIteration: 5337\t"
     ]
    },
    {
     "name": "stdout",
     "output_type": "stream",
     "text": [
      "\rIteration: 5338\t\rIteration: 5339\t\rIteration: 5340\t\rIteration: 5341\t\rIteration: 5342\t\rIteration: 5343\t\rIteration: 5344\t\rIteration: 5345\t\rIteration: 5346\t\rIteration: 5347\t\rIteration: 5348\t"
     ]
    },
    {
     "name": "stdout",
     "output_type": "stream",
     "text": [
      "\rIteration: 5349\t\rIteration: 5350\t\rIteration: 5351\t\rIteration: 5352\t\rIteration: 5353\t\rIteration: 5354\t\rIteration: 5355\t\rIteration: 5356\t\rIteration: 5357\t\rIteration: 5358\t"
     ]
    },
    {
     "name": "stdout",
     "output_type": "stream",
     "text": [
      "\rIteration: 5359\t\rIteration: 5360\t\rIteration: 5361\t\rIteration: 5362\t\rIteration: 5363\t\rIteration: 5364\t\rIteration: 5365\t\rIteration: 5366\t\rIteration: 5367\t\rIteration: 5368\t"
     ]
    },
    {
     "name": "stdout",
     "output_type": "stream",
     "text": [
      "\rIteration: 5369\t\rIteration: 5370\t\rIteration: 5371\t\rIteration: 5372\t\rIteration: 5373\t\rIteration: 5374\t\rIteration: 5375\t\rIteration: 5376\t\rIteration: 5377\t\rIteration: 5378\t"
     ]
    },
    {
     "name": "stdout",
     "output_type": "stream",
     "text": [
      "\rIteration: 5379\t\rIteration: 5380\t\rIteration: 5381\t\rIteration: 5382\t\rIteration: 5383\t\rIteration: 5384\t\rIteration: 5385\t\rIteration: 5386\t\rIteration: 5387\t\rIteration: 5388\t"
     ]
    },
    {
     "name": "stdout",
     "output_type": "stream",
     "text": [
      "\rIteration: 5389\t\rIteration: 5390\t\rIteration: 5391\t\rIteration: 5392\t\rIteration: 5393\t\rIteration: 5394\t\rIteration: 5395\t\rIteration: 5396\t\rIteration: 5397\t\rIteration: 5398\t"
     ]
    },
    {
     "name": "stdout",
     "output_type": "stream",
     "text": [
      "\rIteration: 5399\t\rIteration: 5400\t\rIteration: 5401\t\rIteration: 5402\t\rIteration: 5403\t\rIteration: 5404\t\rIteration: 5405\t\rIteration: 5406\t\rIteration: 5407\t\rIteration: 5408\t\rIteration: 5409\t"
     ]
    },
    {
     "name": "stdout",
     "output_type": "stream",
     "text": [
      "\rIteration: 5410\t\rIteration: 5411\t\rIteration: 5412\t\rIteration: 5413\t\rIteration: 5414\t\rIteration: 5415\t\rIteration: 5416\t\rIteration: 5417\t\rIteration: 5418\t\rIteration: 5419\t"
     ]
    },
    {
     "name": "stdout",
     "output_type": "stream",
     "text": [
      "\rIteration: 5420\t\rIteration: 5421\t\rIteration: 5422\t\rIteration: 5423\t\rIteration: 5424\t\rIteration: 5425\t\rIteration: 5426\t\rIteration: 5427\t\rIteration: 5428\t\rIteration: 5429\t"
     ]
    },
    {
     "name": "stdout",
     "output_type": "stream",
     "text": [
      "\rIteration: 5430\t\rIteration: 5431\t\rIteration: 5432\t\rIteration: 5433\t\rIteration: 5434\t\rIteration: 5435\t\rIteration: 5436\t\rIteration: 5437\t\rIteration: 5438\t\rIteration: 5439\t"
     ]
    },
    {
     "name": "stdout",
     "output_type": "stream",
     "text": [
      "\rIteration: 5440\t\rIteration: 5441\t\rIteration: 5442\t\rIteration: 5443\t\rIteration: 5444\t\rIteration: 5445\t\rIteration: 5446\t\rIteration: 5447\t\rIteration: 5448\t\rIteration: 5449\t"
     ]
    },
    {
     "name": "stdout",
     "output_type": "stream",
     "text": [
      "\rIteration: 5450\t\rIteration: 5451\t\rIteration: 5452\t\rIteration: 5453\t\rIteration: 5454\t\rIteration: 5455\t\rIteration: 5456\t\rIteration: 5457\t\rIteration: 5458\t\rIteration: 5459\t\rIteration: 5460\t"
     ]
    },
    {
     "name": "stdout",
     "output_type": "stream",
     "text": [
      "\rIteration: 5461\t\rIteration: 5462\t\rIteration: 5463\t\rIteration: 5464\t\rIteration: 5465\t\rIteration: 5466\t\rIteration: 5467\t\rIteration: 5468\t\rIteration: 5469\t\rIteration: 5470\t\rIteration: 5471\t"
     ]
    },
    {
     "name": "stdout",
     "output_type": "stream",
     "text": [
      "\rIteration: 5472\t\rIteration: 5473\t\rIteration: 5474\t\rIteration: 5475\t\rIteration: 5476\t\rIteration: 5477\t\rIteration: 5478\t\rIteration: 5479\t\rIteration: 5480\t\rIteration: 5481\t\rIteration: 5482\t"
     ]
    },
    {
     "name": "stdout",
     "output_type": "stream",
     "text": [
      "\rIteration: 5483\t\rIteration: 5484\t\rIteration: 5485\t\rIteration: 5486\t\rIteration: 5487\t\rIteration: 5488\t\rIteration: 5489\t\rIteration: 5490\t\rIteration: 5491\t\rIteration: 5492\t\rIteration: 5493\t"
     ]
    },
    {
     "name": "stdout",
     "output_type": "stream",
     "text": [
      "\rIteration: 5494\t\rIteration: 5495\t\rIteration: 5496\t\rIteration: 5497\t\rIteration: 5498\t\rIteration: 5499\t\rIteration: 5500\t\rIteration: 5501\t\rIteration: 5502\t\rIteration: 5503\t\rIteration: 5504\t"
     ]
    },
    {
     "name": "stdout",
     "output_type": "stream",
     "text": [
      "\rIteration: 5505\t\rIteration: 5506\t\rIteration: 5507\t\rIteration: 5508\t\rIteration: 5509\t\rIteration: 5510\t\rIteration: 5511\t\rIteration: 5512\t\rIteration: 5513\t\rIteration: 5514\t"
     ]
    },
    {
     "name": "stdout",
     "output_type": "stream",
     "text": [
      "\rIteration: 5515\t\rIteration: 5516\t\rIteration: 5517\t\rIteration: 5518\t\rIteration: 5519\t\rIteration: 5520\t\rIteration: 5521\t\rIteration: 5522\t\rIteration: 5523\t\rIteration: 5524\t"
     ]
    },
    {
     "name": "stdout",
     "output_type": "stream",
     "text": [
      "\rIteration: 5525\t\rIteration: 5526\t\rIteration: 5527\t\rIteration: 5528\t\rIteration: 5529\t\rIteration: 5530\t\rIteration: 5531\t\rIteration: 5532\t\rIteration: 5533\t\rIteration: 5534\t"
     ]
    },
    {
     "name": "stdout",
     "output_type": "stream",
     "text": [
      "\rIteration: 5535\t\rIteration: 5536\t\rIteration: 5537\t\rIteration: 5538\t\rIteration: 5539\t\rIteration: 5540\t\rIteration: 5541\t\rIteration: 5542\t\rIteration: 5543\t\rIteration: 5544\t"
     ]
    },
    {
     "name": "stdout",
     "output_type": "stream",
     "text": [
      "\rIteration: 5545\t\rIteration: 5546\t\rIteration: 5547\t\rIteration: 5548\t\rIteration: 5549\t\rIteration: 5550\t\rIteration: 5551\t\rIteration: 5552\t\rIteration: 5553\t\rIteration: 5554\t"
     ]
    },
    {
     "name": "stdout",
     "output_type": "stream",
     "text": [
      "\rIteration: 5555\t\rIteration: 5556\t\rIteration: 5557\t\rIteration: 5558\t\rIteration: 5559\t\rIteration: 5560\t\rIteration: 5561\t\rIteration: 5562\t\rIteration: 5563\t\rIteration: 5564\t\rIteration: 5565\t"
     ]
    },
    {
     "name": "stdout",
     "output_type": "stream",
     "text": [
      "\rIteration: 5566\t\rIteration: 5567\t\rIteration: 5568\t\rIteration: 5569\t\rIteration: 5570\t\rIteration: 5571\t\rIteration: 5572\t\rIteration: 5573\t\rIteration: 5574\t\rIteration: 5575\t\rIteration: 5576\t"
     ]
    },
    {
     "name": "stdout",
     "output_type": "stream",
     "text": [
      "\rIteration: 5577\t\rIteration: 5578\t\rIteration: 5579\t\rIteration: 5580\t\rIteration: 5581\t\rIteration: 5582\t\rIteration: 5583\t\rIteration: 5584\t\rIteration: 5585\t\rIteration: 5586\t"
     ]
    },
    {
     "name": "stdout",
     "output_type": "stream",
     "text": [
      "\rIteration: 5587\t\rIteration: 5588\t\rIteration: 5589\t\rIteration: 5590\t\rIteration: 5591\t\rIteration: 5592\t\rIteration: 5593\t\rIteration: 5594\t\rIteration: 5595\t\rIteration: 5596\t"
     ]
    },
    {
     "name": "stdout",
     "output_type": "stream",
     "text": [
      "\rIteration: 5597\t\rIteration: 5598\t\rIteration: 5599\t\rIteration: 5600\t\rIteration: 5601\t\rIteration: 5602\t\rIteration: 5603\t\rIteration: 5604\t\rIteration: 5605\t\rIteration: 5606\t"
     ]
    },
    {
     "name": "stdout",
     "output_type": "stream",
     "text": [
      "\rIteration: 5607\t\rIteration: 5608\t\rIteration: 5609\t\rIteration: 5610\t\rIteration: 5611\t\rIteration: 5612\t\rIteration: 5613\t\rIteration: 5614\t\rIteration: 5615\t\rIteration: 5616\t\rIteration: 5617\t"
     ]
    },
    {
     "name": "stdout",
     "output_type": "stream",
     "text": [
      "\rIteration: 5618\t\rIteration: 5619\t\rIteration: 5620\t\rIteration: 5621\t\rIteration: 5622\t\rIteration: 5623\t\rIteration: 5624\t\rIteration: 5625\t\rIteration: 5626\t\rIteration: 5627\t"
     ]
    },
    {
     "name": "stdout",
     "output_type": "stream",
     "text": [
      "\rIteration: 5628\t\rIteration: 5629\t\rIteration: 5630\t\rIteration: 5631\t\rIteration: 5632\t\rIteration: 5633\t\rIteration: 5634\t\rIteration: 5635\t\rIteration: 5636\t\rIteration: 5637\t"
     ]
    },
    {
     "name": "stdout",
     "output_type": "stream",
     "text": [
      "\rIteration: 5638\t\rIteration: 5639\t\rIteration: 5640\t\rIteration: 5641\t\rIteration: 5642\t\rIteration: 5643\t\rIteration: 5644\t\rIteration: 5645\t\rIteration: 5646\t\rIteration: 5647\t"
     ]
    },
    {
     "name": "stdout",
     "output_type": "stream",
     "text": [
      "\rIteration: 5648\t\rIteration: 5649\t\rIteration: 5650\t\rIteration: 5651\t\rIteration: 5652\t\rIteration: 5653\t\rIteration: 5654\t\rIteration: 5655\t\rIteration: 5656\t\rIteration: 5657\t"
     ]
    },
    {
     "name": "stdout",
     "output_type": "stream",
     "text": [
      "\rIteration: 5658\t\rIteration: 5659\t\rIteration: 5660\t\rIteration: 5661\t\rIteration: 5662\t\rIteration: 5663\t\rIteration: 5664\t\rIteration: 5665\t\rIteration: 5666\t\rIteration: 5667\t\rIteration: 5668\t"
     ]
    },
    {
     "name": "stdout",
     "output_type": "stream",
     "text": [
      "\rIteration: 5669\t\rIteration: 5670\t\rIteration: 5671\t\rIteration: 5672\t\rIteration: 5673\t\rIteration: 5674\t\rIteration: 5675\t\rIteration: 5676\t\rIteration: 5677\t\rIteration: 5678\t"
     ]
    },
    {
     "name": "stdout",
     "output_type": "stream",
     "text": [
      "\rIteration: 5679\t\rIteration: 5680\t\rIteration: 5681\t\rIteration: 5682\t\rIteration: 5683\t\rIteration: 5684\t\rIteration: 5685\t\rIteration: 5686\t\rIteration: 5687\t\rIteration: 5688\t\rIteration: 5689\t"
     ]
    },
    {
     "name": "stdout",
     "output_type": "stream",
     "text": [
      "\rIteration: 5690\t\rIteration: 5691\t\rIteration: 5692\t\rIteration: 5693\t\rIteration: 5694\t\rIteration: 5695\t\rIteration: 5696\t\rIteration: 5697\t\rIteration: 5698\t\rIteration: 5699\t"
     ]
    },
    {
     "name": "stdout",
     "output_type": "stream",
     "text": [
      "\rIteration: 5700\t\rIteration: 5701\t\rIteration: 5702\t\rIteration: 5703\t\rIteration: 5704\t\rIteration: 5705\t\rIteration: 5706\t\rIteration: 5707\t\rIteration: 5708\t\rIteration: 5709\t"
     ]
    },
    {
     "name": "stdout",
     "output_type": "stream",
     "text": [
      "\rIteration: 5710\t\rIteration: 5711\t\rIteration: 5712\t\rIteration: 5713\t\rIteration: 5714\t\rIteration: 5715\t\rIteration: 5716\t\rIteration: 5717\t\rIteration: 5718\t\rIteration: 5719\t"
     ]
    },
    {
     "name": "stdout",
     "output_type": "stream",
     "text": [
      "\rIteration: 5720\t\rIteration: 5721\t\rIteration: 5722\t\rIteration: 5723\t\rIteration: 5724\t\rIteration: 5725\t\rIteration: 5726\t\rIteration: 5727\t\rIteration: 5728\t\rIteration: 5729\t"
     ]
    },
    {
     "name": "stdout",
     "output_type": "stream",
     "text": [
      "\rIteration: 5730\t\rIteration: 5731\t\rIteration: 5732\t\rIteration: 5733\t\rIteration: 5734\t\rIteration: 5735\t\rIteration: 5736\t\rIteration: 5737\t\rIteration: 5738\t\rIteration: 5739\t"
     ]
    },
    {
     "name": "stdout",
     "output_type": "stream",
     "text": [
      "\rIteration: 5740\t\rIteration: 5741\t\rIteration: 5742\t\rIteration: 5743\t\rIteration: 5744\t\rIteration: 5745\t\rIteration: 5746\t\rIteration: 5747\t\rIteration: 5748\t\rIteration: 5749\t"
     ]
    },
    {
     "name": "stdout",
     "output_type": "stream",
     "text": [
      "\rIteration: 5750\t\rIteration: 5751\t\rIteration: 5752\t\rIteration: 5753\t\rIteration: 5754\t\rIteration: 5755\t\rIteration: 5756\t\rIteration: 5757\t\rIteration: 5758\t\rIteration: 5759\t"
     ]
    },
    {
     "name": "stdout",
     "output_type": "stream",
     "text": [
      "\rIteration: 5760\t\rIteration: 5761\t\rIteration: 5762\t\rIteration: 5763\t\rIteration: 5764\t\rIteration: 5765\t\rIteration: 5766\t\rIteration: 5767\t\rIteration: 5768\t\rIteration: 5769\t\rIteration: 5770\t"
     ]
    },
    {
     "name": "stdout",
     "output_type": "stream",
     "text": [
      "\rIteration: 5771\t\rIteration: 5772\t\rIteration: 5773\t\rIteration: 5774\t\rIteration: 5775\t\rIteration: 5776\t\rIteration: 5777\t\rIteration: 5778\t\rIteration: 5779\t\rIteration: 5780\t"
     ]
    },
    {
     "name": "stdout",
     "output_type": "stream",
     "text": [
      "\rIteration: 5781\t\rIteration: 5782\t\rIteration: 5783\t\rIteration: 5784\t\rIteration: 5785\t\rIteration: 5786\t\rIteration: 5787\t\rIteration: 5788\t\rIteration: 5789\t\rIteration: 5790\t\rIteration: 5791\t"
     ]
    },
    {
     "name": "stdout",
     "output_type": "stream",
     "text": [
      "\rIteration: 5792\t\rIteration: 5793\t\rIteration: 5794\t\rIteration: 5795\t\rIteration: 5796\t\rIteration: 5797\t\rIteration: 5798\t\rIteration: 5799\t\rIteration: 5800\t\rIteration: 5801\t"
     ]
    },
    {
     "name": "stdout",
     "output_type": "stream",
     "text": [
      "\rIteration: 5802\t\rIteration: 5803\t\rIteration: 5804\t\rIteration: 5805\t\rIteration: 5806\t\rIteration: 5807\t\rIteration: 5808\t\rIteration: 5809\t\rIteration: 5810\t\rIteration: 5811\t"
     ]
    },
    {
     "name": "stdout",
     "output_type": "stream",
     "text": [
      "\rIteration: 5812\t\rIteration: 5813\t\rIteration: 5814\t\rIteration: 5815\t\rIteration: 5816\t\rIteration: 5817\t\rIteration: 5818\t\rIteration: 5819\t\rIteration: 5820\t\rIteration: 5821\t"
     ]
    },
    {
     "name": "stdout",
     "output_type": "stream",
     "text": [
      "\rIteration: 5822\t\rIteration: 5823\t\rIteration: 5824\t\rIteration: 5825\t\rIteration: 5826\t\rIteration: 5827\t\rIteration: 5828\t\rIteration: 5829\t\rIteration: 5830\t\rIteration: 5831\t"
     ]
    },
    {
     "name": "stdout",
     "output_type": "stream",
     "text": [
      "\rIteration: 5832\t\rIteration: 5833\t\rIteration: 5834\t\rIteration: 5835\t\rIteration: 5836\t\rIteration: 5837\t\rIteration: 5838\t\rIteration: 5839\t\rIteration: 5840\t\rIteration: 5841\t\rIteration: 5842\t"
     ]
    },
    {
     "name": "stdout",
     "output_type": "stream",
     "text": [
      "\rIteration: 5843\t\rIteration: 5844\t\rIteration: 5845\t\rIteration: 5846\t\rIteration: 5847\t\rIteration: 5848\t\rIteration: 5849\t\rIteration: 5850\t\rIteration: 5851\t\rIteration: 5852\t\rIteration: 5853\t"
     ]
    },
    {
     "name": "stdout",
     "output_type": "stream",
     "text": [
      "\rIteration: 5854\t\rIteration: 5855\t\rIteration: 5856\t\rIteration: 5857\t\rIteration: 5858\t\rIteration: 5859\t\rIteration: 5860\t\rIteration: 5861\t\rIteration: 5862\t\rIteration: 5863\t"
     ]
    },
    {
     "name": "stdout",
     "output_type": "stream",
     "text": [
      "\rIteration: 5864\t\rIteration: 5865\t\rIteration: 5866\t\rIteration: 5867\t\rIteration: 5868\t\rIteration: 5869\t\rIteration: 5870\t\rIteration: 5871\t\rIteration: 5872\t\rIteration: 5873\t"
     ]
    },
    {
     "name": "stdout",
     "output_type": "stream",
     "text": [
      "\rIteration: 5874\t\rIteration: 5875\t\rIteration: 5876\t\rIteration: 5877\t\rIteration: 5878\t\rIteration: 5879\t\rIteration: 5880\t\rIteration: 5881\t\rIteration: 5882\t\rIteration: 5883\t\rIteration: 5884\t"
     ]
    },
    {
     "name": "stdout",
     "output_type": "stream",
     "text": [
      "\rIteration: 5885\t\rIteration: 5886\t\rIteration: 5887\t\rIteration: 5888\t\rIteration: 5889\t\rIteration: 5890\t\rIteration: 5891\t\rIteration: 5892\t\rIteration: 5893\t\rIteration: 5894\t\rIteration: 5895\t"
     ]
    },
    {
     "name": "stdout",
     "output_type": "stream",
     "text": [
      "\rIteration: 5896\t\rIteration: 5897\t\rIteration: 5898\t\rIteration: 5899\t\rIteration: 5900\t\rIteration: 5901\t\rIteration: 5902\t\rIteration: 5903\t\rIteration: 5904\t\rIteration: 5905\t\rIteration: 5906\t"
     ]
    },
    {
     "name": "stdout",
     "output_type": "stream",
     "text": [
      "\rIteration: 5907\t\rIteration: 5908\t\rIteration: 5909\t\rIteration: 5910\t\rIteration: 5911\t\rIteration: 5912\t\rIteration: 5913\t\rIteration: 5914\t\rIteration: 5915\t\rIteration: 5916\t"
     ]
    },
    {
     "name": "stdout",
     "output_type": "stream",
     "text": [
      "\rIteration: 5917\t\rIteration: 5918\t\rIteration: 5919\t\rIteration: 5920\t\rIteration: 5921\t\rIteration: 5922\t\rIteration: 5923\t\rIteration: 5924\t\rIteration: 5925\t\rIteration: 5926\t"
     ]
    },
    {
     "name": "stdout",
     "output_type": "stream",
     "text": [
      "\rIteration: 5927\t\rIteration: 5928\t\rIteration: 5929\t\rIteration: 5930\t\rIteration: 5931\t\rIteration: 5932\t\rIteration: 5933\t\rIteration: 5934\t\rIteration: 5935\t\rIteration: 5936\t"
     ]
    },
    {
     "name": "stdout",
     "output_type": "stream",
     "text": [
      "\rIteration: 5937\t\rIteration: 5938\t\rIteration: 5939\t\rIteration: 5940\t\rIteration: 5941\t\rIteration: 5942\t\rIteration: 5943\t\rIteration: 5944\t\rIteration: 5945\t\rIteration: 5946\t\rIteration: 5947\t"
     ]
    },
    {
     "name": "stdout",
     "output_type": "stream",
     "text": [
      "\rIteration: 5948\t\rIteration: 5949\t\rIteration: 5950\t\rIteration: 5951\t\rIteration: 5952\t\rIteration: 5953\t\rIteration: 5954\t\rIteration: 5955\t\rIteration: 5956\t\rIteration: 5957\t"
     ]
    },
    {
     "name": "stdout",
     "output_type": "stream",
     "text": [
      "\rIteration: 5958\t\rIteration: 5959\t\rIteration: 5960\t\rIteration: 5961\t\rIteration: 5962\t\rIteration: 5963\t\rIteration: 5964\t\rIteration: 5965\t\rIteration: 5966\t\rIteration: 5967\t"
     ]
    },
    {
     "name": "stdout",
     "output_type": "stream",
     "text": [
      "\rIteration: 5968\t\rIteration: 5969\t\rIteration: 5970\t\rIteration: 5971\t\rIteration: 5972\t\rIteration: 5973\t\rIteration: 5974\t\rIteration: 5975\t\rIteration: 5976\t\rIteration: 5977\t"
     ]
    },
    {
     "name": "stdout",
     "output_type": "stream",
     "text": [
      "\rIteration: 5978\t\rIteration: 5979\t\rIteration: 5980\t\rIteration: 5981\t\rIteration: 5982\t\rIteration: 5983\t\rIteration: 5984\t\rIteration: 5985\t\rIteration: 5986\t\rIteration: 5987\t\rIteration: 5988\t"
     ]
    },
    {
     "name": "stdout",
     "output_type": "stream",
     "text": [
      "\rIteration: 5989\t\rIteration: 5990\t\rIteration: 5991\t\rIteration: 5992\t\rIteration: 5993\t\rIteration: 5994\t\rIteration: 5995\t\rIteration: 5996\t\rIteration: 5997\t\rIteration: 5998\t"
     ]
    },
    {
     "name": "stdout",
     "output_type": "stream",
     "text": [
      "\rIteration: 5999\t\rIteration: 6000\tAverage loss at step  6000 :  42.13599577355385\n\rIteration: 6001\t\rIteration: 6002\t\rIteration: 6003\t\rIteration: 6004\t\rIteration: 6005\t\rIteration: 6006\t\rIteration: 6007\t\rIteration: 6008\t\rIteration: 6009\t"
     ]
    },
    {
     "name": "stdout",
     "output_type": "stream",
     "text": [
      "\rIteration: 6010\t\rIteration: 6011\t\rIteration: 6012\t\rIteration: 6013\t\rIteration: 6014\t\rIteration: 6015\t\rIteration: 6016\t\rIteration: 6017\t\rIteration: 6018\t\rIteration: 6019\t"
     ]
    },
    {
     "name": "stdout",
     "output_type": "stream",
     "text": [
      "\rIteration: 6020\t\rIteration: 6021\t\rIteration: 6022\t\rIteration: 6023\t\rIteration: 6024\t\rIteration: 6025\t\rIteration: 6026\t\rIteration: 6027\t\rIteration: 6028\t\rIteration: 6029\t"
     ]
    },
    {
     "name": "stdout",
     "output_type": "stream",
     "text": [
      "\rIteration: 6030\t\rIteration: 6031\t\rIteration: 6032\t\rIteration: 6033\t\rIteration: 6034\t\rIteration: 6035\t\rIteration: 6036\t\rIteration: 6037\t\rIteration: 6038\t\rIteration: 6039\t"
     ]
    },
    {
     "name": "stdout",
     "output_type": "stream",
     "text": [
      "\rIteration: 6040\t\rIteration: 6041\t\rIteration: 6042\t\rIteration: 6043\t\rIteration: 6044\t\rIteration: 6045\t\rIteration: 6046\t\rIteration: 6047\t\rIteration: 6048\t\rIteration: 6049\t\rIteration: 6050\t"
     ]
    },
    {
     "name": "stdout",
     "output_type": "stream",
     "text": [
      "\rIteration: 6051\t\rIteration: 6052\t\rIteration: 6053\t\rIteration: 6054\t\rIteration: 6055\t\rIteration: 6056\t\rIteration: 6057\t\rIteration: 6058\t\rIteration: 6059\t\rIteration: 6060\t"
     ]
    },
    {
     "name": "stdout",
     "output_type": "stream",
     "text": [
      "\rIteration: 6061\t\rIteration: 6062\t\rIteration: 6063\t\rIteration: 6064\t\rIteration: 6065\t\rIteration: 6066\t\rIteration: 6067\t\rIteration: 6068\t\rIteration: 6069\t\rIteration: 6070\t"
     ]
    },
    {
     "name": "stdout",
     "output_type": "stream",
     "text": [
      "\rIteration: 6071\t\rIteration: 6072\t\rIteration: 6073\t\rIteration: 6074\t\rIteration: 6075\t\rIteration: 6076\t\rIteration: 6077\t\rIteration: 6078\t\rIteration: 6079\t\rIteration: 6080\t\rIteration: 6081\t"
     ]
    },
    {
     "name": "stdout",
     "output_type": "stream",
     "text": [
      "\rIteration: 6082\t\rIteration: 6083\t\rIteration: 6084\t\rIteration: 6085\t\rIteration: 6086\t\rIteration: 6087\t\rIteration: 6088\t\rIteration: 6089\t\rIteration: 6090\t\rIteration: 6091\t"
     ]
    },
    {
     "name": "stdout",
     "output_type": "stream",
     "text": [
      "\rIteration: 6092\t\rIteration: 6093\t\rIteration: 6094\t\rIteration: 6095\t\rIteration: 6096\t\rIteration: 6097\t\rIteration: 6098\t\rIteration: 6099\t\rIteration: 6100\t\rIteration: 6101\t"
     ]
    },
    {
     "name": "stdout",
     "output_type": "stream",
     "text": [
      "\rIteration: 6102\t\rIteration: 6103\t\rIteration: 6104\t\rIteration: 6105\t\rIteration: 6106\t\rIteration: 6107\t\rIteration: 6108\t\rIteration: 6109\t\rIteration: 6110\t\rIteration: 6111\t"
     ]
    },
    {
     "name": "stdout",
     "output_type": "stream",
     "text": [
      "\rIteration: 6112\t\rIteration: 6113\t\rIteration: 6114\t\rIteration: 6115\t\rIteration: 6116\t\rIteration: 6117\t\rIteration: 6118\t\rIteration: 6119\t\rIteration: 6120\t\rIteration: 6121\t"
     ]
    },
    {
     "name": "stdout",
     "output_type": "stream",
     "text": [
      "\rIteration: 6122\t\rIteration: 6123\t\rIteration: 6124\t\rIteration: 6125\t\rIteration: 6126\t\rIteration: 6127\t\rIteration: 6128\t\rIteration: 6129\t\rIteration: 6130\t\rIteration: 6131\t\rIteration: 6132\t"
     ]
    },
    {
     "name": "stdout",
     "output_type": "stream",
     "text": [
      "\rIteration: 6133\t\rIteration: 6134\t\rIteration: 6135\t\rIteration: 6136\t\rIteration: 6137\t\rIteration: 6138\t\rIteration: 6139\t\rIteration: 6140\t\rIteration: 6141\t\rIteration: 6142\t"
     ]
    },
    {
     "name": "stdout",
     "output_type": "stream",
     "text": [
      "\rIteration: 6143\t\rIteration: 6144\t\rIteration: 6145\t\rIteration: 6146\t\rIteration: 6147\t\rIteration: 6148\t\rIteration: 6149\t\rIteration: 6150\t\rIteration: 6151\t\rIteration: 6152\t\rIteration: 6153\t"
     ]
    },
    {
     "name": "stdout",
     "output_type": "stream",
     "text": [
      "\rIteration: 6154\t\rIteration: 6155\t\rIteration: 6156\t\rIteration: 6157\t\rIteration: 6158\t\rIteration: 6159\t\rIteration: 6160\t\rIteration: 6161\t\rIteration: 6162\t\rIteration: 6163\t\rIteration: 6164\t"
     ]
    },
    {
     "name": "stdout",
     "output_type": "stream",
     "text": [
      "\rIteration: 6165\t\rIteration: 6166\t\rIteration: 6167\t\rIteration: 6168\t\rIteration: 6169\t\rIteration: 6170\t\rIteration: 6171\t\rIteration: 6172\t\rIteration: 6173\t\rIteration: 6174\t\rIteration: 6175\t"
     ]
    },
    {
     "name": "stdout",
     "output_type": "stream",
     "text": [
      "\rIteration: 6176\t\rIteration: 6177\t\rIteration: 6178\t\rIteration: 6179\t\rIteration: 6180\t\rIteration: 6181\t\rIteration: 6182\t\rIteration: 6183\t\rIteration: 6184\t\rIteration: 6185\t"
     ]
    },
    {
     "name": "stdout",
     "output_type": "stream",
     "text": [
      "\rIteration: 6186\t\rIteration: 6187\t\rIteration: 6188\t\rIteration: 6189\t\rIteration: 6190\t\rIteration: 6191\t\rIteration: 6192\t\rIteration: 6193\t\rIteration: 6194\t\rIteration: 6195\t\rIteration: 6196\t"
     ]
    },
    {
     "name": "stdout",
     "output_type": "stream",
     "text": [
      "\rIteration: 6197\t\rIteration: 6198\t\rIteration: 6199\t\rIteration: 6200\t\rIteration: 6201\t\rIteration: 6202\t\rIteration: 6203\t\rIteration: 6204\t\rIteration: 6205\t\rIteration: 6206\t"
     ]
    },
    {
     "name": "stdout",
     "output_type": "stream",
     "text": [
      "\rIteration: 6207\t\rIteration: 6208\t\rIteration: 6209\t\rIteration: 6210\t\rIteration: 6211\t\rIteration: 6212\t\rIteration: 6213\t\rIteration: 6214\t\rIteration: 6215\t\rIteration: 6216\t"
     ]
    },
    {
     "name": "stdout",
     "output_type": "stream",
     "text": [
      "\rIteration: 6217\t\rIteration: 6218\t\rIteration: 6219\t\rIteration: 6220\t\rIteration: 6221\t\rIteration: 6222\t\rIteration: 6223\t\rIteration: 6224\t\rIteration: 6225\t\rIteration: 6226\t"
     ]
    },
    {
     "name": "stdout",
     "output_type": "stream",
     "text": [
      "\rIteration: 6227\t\rIteration: 6228\t\rIteration: 6229\t\rIteration: 6230\t\rIteration: 6231\t\rIteration: 6232\t\rIteration: 6233\t\rIteration: 6234\t\rIteration: 6235\t\rIteration: 6236\t"
     ]
    },
    {
     "name": "stdout",
     "output_type": "stream",
     "text": [
      "\rIteration: 6237\t\rIteration: 6238\t\rIteration: 6239\t\rIteration: 6240\t\rIteration: 6241\t\rIteration: 6242\t\rIteration: 6243\t\rIteration: 6244\t\rIteration: 6245\t\rIteration: 6246\t\rIteration: 6247\t"
     ]
    },
    {
     "name": "stdout",
     "output_type": "stream",
     "text": [
      "\rIteration: 6248\t\rIteration: 6249\t\rIteration: 6250\t\rIteration: 6251\t\rIteration: 6252\t\rIteration: 6253\t\rIteration: 6254\t\rIteration: 6255\t\rIteration: 6256\t\rIteration: 6257\t"
     ]
    },
    {
     "name": "stdout",
     "output_type": "stream",
     "text": [
      "\rIteration: 6258\t\rIteration: 6259\t\rIteration: 6260\t\rIteration: 6261\t\rIteration: 6262\t\rIteration: 6263\t\rIteration: 6264\t\rIteration: 6265\t\rIteration: 6266\t\rIteration: 6267\t"
     ]
    },
    {
     "name": "stdout",
     "output_type": "stream",
     "text": [
      "\rIteration: 6268\t\rIteration: 6269\t\rIteration: 6270\t\rIteration: 6271\t\rIteration: 6272\t\rIteration: 6273\t\rIteration: 6274\t\rIteration: 6275\t\rIteration: 6276\t\rIteration: 6277\t\rIteration: 6278\t"
     ]
    },
    {
     "name": "stdout",
     "output_type": "stream",
     "text": [
      "\rIteration: 6279\t\rIteration: 6280\t\rIteration: 6281\t\rIteration: 6282\t\rIteration: 6283\t\rIteration: 6284\t\rIteration: 6285\t\rIteration: 6286\t\rIteration: 6287\t\rIteration: 6288\t"
     ]
    },
    {
     "name": "stdout",
     "output_type": "stream",
     "text": [
      "\rIteration: 6289\t\rIteration: 6290\t\rIteration: 6291\t\rIteration: 6292\t\rIteration: 6293\t\rIteration: 6294\t\rIteration: 6295\t\rIteration: 6296\t\rIteration: 6297\t\rIteration: 6298\t\rIteration: 6299\t"
     ]
    },
    {
     "name": "stdout",
     "output_type": "stream",
     "text": [
      "\rIteration: 6300\t\rIteration: 6301\t\rIteration: 6302\t\rIteration: 6303\t\rIteration: 6304\t\rIteration: 6305\t\rIteration: 6306\t\rIteration: 6307\t\rIteration: 6308\t\rIteration: 6309\t"
     ]
    },
    {
     "name": "stdout",
     "output_type": "stream",
     "text": [
      "\rIteration: 6310\t\rIteration: 6311\t\rIteration: 6312\t\rIteration: 6313\t\rIteration: 6314\t\rIteration: 6315\t\rIteration: 6316\t\rIteration: 6317\t\rIteration: 6318\t\rIteration: 6319\t"
     ]
    },
    {
     "name": "stdout",
     "output_type": "stream",
     "text": [
      "\rIteration: 6320\t\rIteration: 6321\t\rIteration: 6322\t\rIteration: 6323\t\rIteration: 6324\t\rIteration: 6325\t\rIteration: 6326\t\rIteration: 6327\t\rIteration: 6328\t\rIteration: 6329\t"
     ]
    },
    {
     "name": "stdout",
     "output_type": "stream",
     "text": [
      "\rIteration: 6330\t\rIteration: 6331\t\rIteration: 6332\t\rIteration: 6333\t\rIteration: 6334\t\rIteration: 6335\t\rIteration: 6336\t\rIteration: 6337\t\rIteration: 6338\t\rIteration: 6339\t"
     ]
    },
    {
     "name": "stdout",
     "output_type": "stream",
     "text": [
      "\rIteration: 6340\t\rIteration: 6341\t\rIteration: 6342\t\rIteration: 6343\t\rIteration: 6344\t\rIteration: 6345\t\rIteration: 6346\t\rIteration: 6347\t\rIteration: 6348\t\rIteration: 6349\t"
     ]
    },
    {
     "name": "stdout",
     "output_type": "stream",
     "text": [
      "\rIteration: 6350\t\rIteration: 6351\t\rIteration: 6352\t\rIteration: 6353\t\rIteration: 6354\t\rIteration: 6355\t\rIteration: 6356\t\rIteration: 6357\t\rIteration: 6358\t\rIteration: 6359\t"
     ]
    },
    {
     "name": "stdout",
     "output_type": "stream",
     "text": [
      "\rIteration: 6360\t\rIteration: 6361\t\rIteration: 6362\t\rIteration: 6363\t\rIteration: 6364\t\rIteration: 6365\t\rIteration: 6366\t\rIteration: 6367\t\rIteration: 6368\t\rIteration: 6369\t"
     ]
    },
    {
     "name": "stdout",
     "output_type": "stream",
     "text": [
      "\rIteration: 6370\t\rIteration: 6371\t\rIteration: 6372\t\rIteration: 6373\t\rIteration: 6374\t\rIteration: 6375\t\rIteration: 6376\t\rIteration: 6377\t\rIteration: 6378\t\rIteration: 6379\t\rIteration: 6380\t"
     ]
    },
    {
     "name": "stdout",
     "output_type": "stream",
     "text": [
      "\rIteration: 6381\t\rIteration: 6382\t\rIteration: 6383\t\rIteration: 6384\t\rIteration: 6385\t\rIteration: 6386\t\rIteration: 6387\t\rIteration: 6388\t\rIteration: 6389\t\rIteration: 6390\t"
     ]
    },
    {
     "name": "stdout",
     "output_type": "stream",
     "text": [
      "\rIteration: 6391\t\rIteration: 6392\t\rIteration: 6393\t\rIteration: 6394\t\rIteration: 6395\t\rIteration: 6396\t\rIteration: 6397\t\rIteration: 6398\t\rIteration: 6399\t\rIteration: 6400\t"
     ]
    },
    {
     "name": "stdout",
     "output_type": "stream",
     "text": [
      "\rIteration: 6401\t\rIteration: 6402\t\rIteration: 6403\t\rIteration: 6404\t\rIteration: 6405\t\rIteration: 6406\t\rIteration: 6407\t\rIteration: 6408\t\rIteration: 6409\t\rIteration: 6410\t"
     ]
    },
    {
     "name": "stdout",
     "output_type": "stream",
     "text": [
      "\rIteration: 6411\t\rIteration: 6412\t\rIteration: 6413\t\rIteration: 6414\t\rIteration: 6415\t\rIteration: 6416\t\rIteration: 6417\t\rIteration: 6418\t\rIteration: 6419\t\rIteration: 6420\t"
     ]
    },
    {
     "name": "stdout",
     "output_type": "stream",
     "text": [
      "\rIteration: 6421\t\rIteration: 6422\t\rIteration: 6423\t\rIteration: 6424\t\rIteration: 6425\t\rIteration: 6426\t\rIteration: 6427\t\rIteration: 6428\t\rIteration: 6429\t\rIteration: 6430\t\rIteration: 6431\t"
     ]
    },
    {
     "name": "stdout",
     "output_type": "stream",
     "text": [
      "\rIteration: 6432\t\rIteration: 6433\t\rIteration: 6434\t\rIteration: 6435\t\rIteration: 6436\t\rIteration: 6437\t\rIteration: 6438\t\rIteration: 6439\t\rIteration: 6440\t\rIteration: 6441\t"
     ]
    },
    {
     "name": "stdout",
     "output_type": "stream",
     "text": [
      "\rIteration: 6442\t\rIteration: 6443\t\rIteration: 6444\t\rIteration: 6445\t\rIteration: 6446\t\rIteration: 6447\t\rIteration: 6448\t\rIteration: 6449\t\rIteration: 6450\t\rIteration: 6451\t"
     ]
    },
    {
     "name": "stdout",
     "output_type": "stream",
     "text": [
      "\rIteration: 6452\t\rIteration: 6453\t\rIteration: 6454\t\rIteration: 6455\t\rIteration: 6456\t\rIteration: 6457\t\rIteration: 6458\t\rIteration: 6459\t\rIteration: 6460\t\rIteration: 6461\t\rIteration: 6462\t"
     ]
    },
    {
     "name": "stdout",
     "output_type": "stream",
     "text": [
      "\rIteration: 6463\t\rIteration: 6464\t\rIteration: 6465\t\rIteration: 6466\t\rIteration: 6467\t\rIteration: 6468\t\rIteration: 6469\t\rIteration: 6470\t\rIteration: 6471\t\rIteration: 6472\t"
     ]
    },
    {
     "name": "stdout",
     "output_type": "stream",
     "text": [
      "\rIteration: 6473\t\rIteration: 6474\t\rIteration: 6475\t\rIteration: 6476\t\rIteration: 6477\t\rIteration: 6478\t\rIteration: 6479\t\rIteration: 6480\t\rIteration: 6481\t\rIteration: 6482\t\rIteration: 6483\t"
     ]
    },
    {
     "name": "stdout",
     "output_type": "stream",
     "text": [
      "\rIteration: 6484\t\rIteration: 6485\t\rIteration: 6486\t\rIteration: 6487\t\rIteration: 6488\t\rIteration: 6489\t\rIteration: 6490\t\rIteration: 6491\t\rIteration: 6492\t\rIteration: 6493\t"
     ]
    },
    {
     "name": "stdout",
     "output_type": "stream",
     "text": [
      "\rIteration: 6494\t\rIteration: 6495\t\rIteration: 6496\t\rIteration: 6497\t\rIteration: 6498\t\rIteration: 6499\t\rIteration: 6500\t\rIteration: 6501\t\rIteration: 6502\t\rIteration: 6503\t\rIteration: 6504\t"
     ]
    },
    {
     "name": "stdout",
     "output_type": "stream",
     "text": [
      "\rIteration: 6505\t\rIteration: 6506\t\rIteration: 6507\t\rIteration: 6508\t\rIteration: 6509\t\rIteration: 6510\t\rIteration: 6511\t\rIteration: 6512\t\rIteration: 6513\t\rIteration: 6514\t\rIteration: 6515\t"
     ]
    },
    {
     "name": "stdout",
     "output_type": "stream",
     "text": [
      "\rIteration: 6516\t\rIteration: 6517\t\rIteration: 6518\t\rIteration: 6519\t\rIteration: 6520\t\rIteration: 6521\t\rIteration: 6522\t\rIteration: 6523\t\rIteration: 6524\t\rIteration: 6525\t"
     ]
    },
    {
     "name": "stdout",
     "output_type": "stream",
     "text": [
      "\rIteration: 6526\t\rIteration: 6527\t\rIteration: 6528\t\rIteration: 6529\t\rIteration: 6530\t\rIteration: 6531\t\rIteration: 6532\t\rIteration: 6533\t\rIteration: 6534\t\rIteration: 6535\t"
     ]
    },
    {
     "name": "stdout",
     "output_type": "stream",
     "text": [
      "\rIteration: 6536\t\rIteration: 6537\t\rIteration: 6538\t\rIteration: 6539\t\rIteration: 6540\t\rIteration: 6541\t\rIteration: 6542\t\rIteration: 6543\t\rIteration: 6544\t\rIteration: 6545\t"
     ]
    },
    {
     "name": "stdout",
     "output_type": "stream",
     "text": [
      "\rIteration: 6546\t\rIteration: 6547\t\rIteration: 6548\t\rIteration: 6549\t\rIteration: 6550\t\rIteration: 6551\t\rIteration: 6552\t\rIteration: 6553\t\rIteration: 6554\t\rIteration: 6555\t"
     ]
    },
    {
     "name": "stdout",
     "output_type": "stream",
     "text": [
      "\rIteration: 6556\t\rIteration: 6557\t\rIteration: 6558\t\rIteration: 6559\t\rIteration: 6560\t\rIteration: 6561\t\rIteration: 6562\t\rIteration: 6563\t\rIteration: 6564\t\rIteration: 6565\t"
     ]
    },
    {
     "name": "stdout",
     "output_type": "stream",
     "text": [
      "\rIteration: 6566\t\rIteration: 6567\t\rIteration: 6568\t\rIteration: 6569\t\rIteration: 6570\t\rIteration: 6571\t\rIteration: 6572\t\rIteration: 6573\t\rIteration: 6574\t\rIteration: 6575\t\rIteration: 6576\t"
     ]
    },
    {
     "name": "stdout",
     "output_type": "stream",
     "text": [
      "\rIteration: 6577\t\rIteration: 6578\t\rIteration: 6579\t\rIteration: 6580\t\rIteration: 6581\t\rIteration: 6582\t\rIteration: 6583\t\rIteration: 6584\t\rIteration: 6585\t\rIteration: 6586\t"
     ]
    },
    {
     "name": "stdout",
     "output_type": "stream",
     "text": [
      "\rIteration: 6587\t\rIteration: 6588\t\rIteration: 6589\t\rIteration: 6590\t\rIteration: 6591\t\rIteration: 6592\t\rIteration: 6593\t\rIteration: 6594\t\rIteration: 6595\t\rIteration: 6596\t"
     ]
    },
    {
     "name": "stdout",
     "output_type": "stream",
     "text": [
      "\rIteration: 6597\t\rIteration: 6598\t\rIteration: 6599\t\rIteration: 6600\t\rIteration: 6601\t\rIteration: 6602\t\rIteration: 6603\t\rIteration: 6604\t\rIteration: 6605\t\rIteration: 6606\t\rIteration: 6607\t"
     ]
    },
    {
     "name": "stdout",
     "output_type": "stream",
     "text": [
      "\rIteration: 6608\t\rIteration: 6609\t\rIteration: 6610\t\rIteration: 6611\t\rIteration: 6612\t\rIteration: 6613\t\rIteration: 6614\t\rIteration: 6615\t\rIteration: 6616\t\rIteration: 6617\t"
     ]
    },
    {
     "name": "stdout",
     "output_type": "stream",
     "text": [
      "\rIteration: 6618\t\rIteration: 6619\t\rIteration: 6620\t\rIteration: 6621\t\rIteration: 6622\t\rIteration: 6623\t\rIteration: 6624\t\rIteration: 6625\t\rIteration: 6626\t\rIteration: 6627\t"
     ]
    },
    {
     "name": "stdout",
     "output_type": "stream",
     "text": [
      "\rIteration: 6628\t\rIteration: 6629\t\rIteration: 6630\t\rIteration: 6631\t\rIteration: 6632\t\rIteration: 6633\t\rIteration: 6634\t\rIteration: 6635\t\rIteration: 6636\t\rIteration: 6637\t\rIteration: 6638\t"
     ]
    },
    {
     "name": "stdout",
     "output_type": "stream",
     "text": [
      "\rIteration: 6639\t\rIteration: 6640\t\rIteration: 6641\t\rIteration: 6642\t\rIteration: 6643\t\rIteration: 6644\t\rIteration: 6645\t\rIteration: 6646\t\rIteration: 6647\t\rIteration: 6648\t\rIteration: 6649\t"
     ]
    },
    {
     "name": "stdout",
     "output_type": "stream",
     "text": [
      "\rIteration: 6650\t\rIteration: 6651\t\rIteration: 6652\t\rIteration: 6653\t\rIteration: 6654\t\rIteration: 6655\t\rIteration: 6656\t\rIteration: 6657\t\rIteration: 6658\t\rIteration: 6659\t"
     ]
    },
    {
     "name": "stdout",
     "output_type": "stream",
     "text": [
      "\rIteration: 6660\t\rIteration: 6661\t\rIteration: 6662\t\rIteration: 6663\t\rIteration: 6664\t\rIteration: 6665\t\rIteration: 6666\t\rIteration: 6667\t\rIteration: 6668\t\rIteration: 6669\t\rIteration: 6670\t"
     ]
    },
    {
     "name": "stdout",
     "output_type": "stream",
     "text": [
      "\rIteration: 6671\t\rIteration: 6672\t\rIteration: 6673\t\rIteration: 6674\t\rIteration: 6675\t\rIteration: 6676\t\rIteration: 6677\t\rIteration: 6678\t\rIteration: 6679\t\rIteration: 6680\t"
     ]
    },
    {
     "name": "stdout",
     "output_type": "stream",
     "text": [
      "\rIteration: 6681\t\rIteration: 6682\t\rIteration: 6683\t\rIteration: 6684\t\rIteration: 6685\t\rIteration: 6686\t\rIteration: 6687\t\rIteration: 6688\t\rIteration: 6689\t\rIteration: 6690\t"
     ]
    },
    {
     "name": "stdout",
     "output_type": "stream",
     "text": [
      "\rIteration: 6691\t\rIteration: 6692\t\rIteration: 6693\t\rIteration: 6694\t\rIteration: 6695\t\rIteration: 6696\t\rIteration: 6697\t\rIteration: 6698\t\rIteration: 6699\t\rIteration: 6700\t"
     ]
    },
    {
     "name": "stdout",
     "output_type": "stream",
     "text": [
      "\rIteration: 6701\t\rIteration: 6702\t\rIteration: 6703\t\rIteration: 6704\t\rIteration: 6705\t\rIteration: 6706\t\rIteration: 6707\t\rIteration: 6708\t\rIteration: 6709\t\rIteration: 6710\t\rIteration: 6711\t"
     ]
    },
    {
     "name": "stdout",
     "output_type": "stream",
     "text": [
      "\rIteration: 6712\t\rIteration: 6713\t\rIteration: 6714\t\rIteration: 6715\t\rIteration: 6716\t\rIteration: 6717\t\rIteration: 6718\t\rIteration: 6719\t\rIteration: 6720\t\rIteration: 6721\t\rIteration: 6722\t"
     ]
    },
    {
     "name": "stdout",
     "output_type": "stream",
     "text": [
      "\rIteration: 6723\t\rIteration: 6724\t\rIteration: 6725\t\rIteration: 6726\t\rIteration: 6727\t\rIteration: 6728\t\rIteration: 6729\t\rIteration: 6730\t\rIteration: 6731\t\rIteration: 6732\t"
     ]
    },
    {
     "name": "stdout",
     "output_type": "stream",
     "text": [
      "\rIteration: 6733\t\rIteration: 6734\t\rIteration: 6735\t\rIteration: 6736\t\rIteration: 6737\t\rIteration: 6738\t\rIteration: 6739\t\rIteration: 6740\t\rIteration: 6741\t\rIteration: 6742\t\rIteration: 6743\t"
     ]
    },
    {
     "name": "stdout",
     "output_type": "stream",
     "text": [
      "\rIteration: 6744\t\rIteration: 6745\t\rIteration: 6746\t\rIteration: 6747\t\rIteration: 6748\t\rIteration: 6749\t\rIteration: 6750\t\rIteration: 6751\t\rIteration: 6752\t\rIteration: 6753\t"
     ]
    },
    {
     "name": "stdout",
     "output_type": "stream",
     "text": [
      "\rIteration: 6754\t\rIteration: 6755\t\rIteration: 6756\t\rIteration: 6757\t\rIteration: 6758\t\rIteration: 6759\t\rIteration: 6760\t\rIteration: 6761\t\rIteration: 6762\t\rIteration: 6763\t\rIteration: 6764\t"
     ]
    },
    {
     "name": "stdout",
     "output_type": "stream",
     "text": [
      "\rIteration: 6765\t\rIteration: 6766\t\rIteration: 6767\t\rIteration: 6768\t\rIteration: 6769\t\rIteration: 6770\t\rIteration: 6771\t\rIteration: 6772\t\rIteration: 6773\t\rIteration: 6774\t"
     ]
    },
    {
     "name": "stdout",
     "output_type": "stream",
     "text": [
      "\rIteration: 6775\t\rIteration: 6776\t\rIteration: 6777\t\rIteration: 6778\t\rIteration: 6779\t\rIteration: 6780\t\rIteration: 6781\t\rIteration: 6782\t\rIteration: 6783\t\rIteration: 6784\t"
     ]
    },
    {
     "name": "stdout",
     "output_type": "stream",
     "text": [
      "\rIteration: 6785\t\rIteration: 6786\t\rIteration: 6787\t\rIteration: 6788\t\rIteration: 6789\t\rIteration: 6790\t\rIteration: 6791\t\rIteration: 6792\t\rIteration: 6793\t\rIteration: 6794\t"
     ]
    },
    {
     "name": "stdout",
     "output_type": "stream",
     "text": [
      "\rIteration: 6795\t\rIteration: 6796\t\rIteration: 6797\t\rIteration: 6798\t\rIteration: 6799\t\rIteration: 6800\t\rIteration: 6801\t\rIteration: 6802\t\rIteration: 6803\t\rIteration: 6804\t"
     ]
    },
    {
     "name": "stdout",
     "output_type": "stream",
     "text": [
      "\rIteration: 6805\t\rIteration: 6806\t\rIteration: 6807\t\rIteration: 6808\t\rIteration: 6809\t\rIteration: 6810\t\rIteration: 6811\t\rIteration: 6812\t\rIteration: 6813\t\rIteration: 6814\t\rIteration: 6815\t"
     ]
    },
    {
     "name": "stdout",
     "output_type": "stream",
     "text": [
      "\rIteration: 6816\t\rIteration: 6817\t\rIteration: 6818\t\rIteration: 6819\t\rIteration: 6820\t\rIteration: 6821\t\rIteration: 6822\t\rIteration: 6823\t\rIteration: 6824\t\rIteration: 6825\t\rIteration: 6826\t"
     ]
    },
    {
     "name": "stdout",
     "output_type": "stream",
     "text": [
      "\rIteration: 6827\t\rIteration: 6828\t\rIteration: 6829\t\rIteration: 6830\t\rIteration: 6831\t\rIteration: 6832\t\rIteration: 6833\t\rIteration: 6834\t\rIteration: 6835\t\rIteration: 6836\t"
     ]
    },
    {
     "name": "stdout",
     "output_type": "stream",
     "text": [
      "\rIteration: 6837\t\rIteration: 6838\t\rIteration: 6839\t\rIteration: 6840\t\rIteration: 6841\t\rIteration: 6842\t\rIteration: 6843\t\rIteration: 6844\t\rIteration: 6845\t\rIteration: 6846\t\rIteration: 6847\t"
     ]
    },
    {
     "name": "stdout",
     "output_type": "stream",
     "text": [
      "\rIteration: 6848\t\rIteration: 6849\t\rIteration: 6850\t\rIteration: 6851\t\rIteration: 6852\t\rIteration: 6853\t\rIteration: 6854\t\rIteration: 6855\t\rIteration: 6856\t\rIteration: 6857\t"
     ]
    },
    {
     "name": "stdout",
     "output_type": "stream",
     "text": [
      "\rIteration: 6858\t\rIteration: 6859\t\rIteration: 6860\t\rIteration: 6861\t\rIteration: 6862\t\rIteration: 6863\t\rIteration: 6864\t\rIteration: 6865\t\rIteration: 6866\t\rIteration: 6867\t\rIteration: 6868\t"
     ]
    },
    {
     "name": "stdout",
     "output_type": "stream",
     "text": [
      "\rIteration: 6869\t\rIteration: 6870\t\rIteration: 6871\t\rIteration: 6872\t\rIteration: 6873\t\rIteration: 6874\t\rIteration: 6875\t\rIteration: 6876\t\rIteration: 6877\t\rIteration: 6878\t"
     ]
    },
    {
     "name": "stdout",
     "output_type": "stream",
     "text": [
      "\rIteration: 6879\t\rIteration: 6880\t\rIteration: 6881\t\rIteration: 6882\t\rIteration: 6883\t\rIteration: 6884\t\rIteration: 6885\t\rIteration: 6886\t\rIteration: 6887\t\rIteration: 6888\t"
     ]
    },
    {
     "name": "stdout",
     "output_type": "stream",
     "text": [
      "\rIteration: 6889\t\rIteration: 6890\t\rIteration: 6891\t\rIteration: 6892\t\rIteration: 6893\t\rIteration: 6894\t\rIteration: 6895\t\rIteration: 6896\t\rIteration: 6897\t\rIteration: 6898\t"
     ]
    },
    {
     "name": "stdout",
     "output_type": "stream",
     "text": [
      "\rIteration: 6899\t\rIteration: 6900\t\rIteration: 6901\t\rIteration: 6902\t\rIteration: 6903\t\rIteration: 6904\t\rIteration: 6905\t\rIteration: 6906\t\rIteration: 6907\t\rIteration: 6908\t"
     ]
    },
    {
     "name": "stdout",
     "output_type": "stream",
     "text": [
      "\rIteration: 6909\t\rIteration: 6910\t\rIteration: 6911\t\rIteration: 6912\t\rIteration: 6913\t\rIteration: 6914\t\rIteration: 6915\t\rIteration: 6916\t\rIteration: 6917\t\rIteration: 6918\t\rIteration: 6919\t"
     ]
    },
    {
     "name": "stdout",
     "output_type": "stream",
     "text": [
      "\rIteration: 6920\t\rIteration: 6921\t\rIteration: 6922\t\rIteration: 6923\t\rIteration: 6924\t\rIteration: 6925\t\rIteration: 6926\t\rIteration: 6927\t\rIteration: 6928\t\rIteration: 6929\t\rIteration: 6930\t"
     ]
    },
    {
     "name": "stdout",
     "output_type": "stream",
     "text": [
      "\rIteration: 6931\t\rIteration: 6932\t\rIteration: 6933\t\rIteration: 6934\t\rIteration: 6935\t\rIteration: 6936\t\rIteration: 6937\t\rIteration: 6938\t\rIteration: 6939\t\rIteration: 6940\t\rIteration: 6941\t"
     ]
    },
    {
     "name": "stdout",
     "output_type": "stream",
     "text": [
      "\rIteration: 6942\t\rIteration: 6943\t\rIteration: 6944\t\rIteration: 6945\t\rIteration: 6946\t\rIteration: 6947\t\rIteration: 6948\t\rIteration: 6949\t\rIteration: 6950\t\rIteration: 6951\t"
     ]
    },
    {
     "name": "stdout",
     "output_type": "stream",
     "text": [
      "\rIteration: 6952\t\rIteration: 6953\t\rIteration: 6954\t\rIteration: 6955\t\rIteration: 6956\t\rIteration: 6957\t\rIteration: 6958\t\rIteration: 6959\t\rIteration: 6960\t\rIteration: 6961\t\rIteration: 6962\t"
     ]
    },
    {
     "name": "stdout",
     "output_type": "stream",
     "text": [
      "\rIteration: 6963\t\rIteration: 6964\t\rIteration: 6965\t\rIteration: 6966\t\rIteration: 6967\t\rIteration: 6968\t\rIteration: 6969\t\rIteration: 6970\t\rIteration: 6971\t\rIteration: 6972\t\rIteration: 6973\t"
     ]
    },
    {
     "name": "stdout",
     "output_type": "stream",
     "text": [
      "\rIteration: 6974\t\rIteration: 6975\t\rIteration: 6976\t\rIteration: 6977\t\rIteration: 6978\t\rIteration: 6979\t\rIteration: 6980\t\rIteration: 6981\t\rIteration: 6982\t\rIteration: 6983\t\rIteration: 6984\t"
     ]
    },
    {
     "name": "stdout",
     "output_type": "stream",
     "text": [
      "\rIteration: 6985\t\rIteration: 6986\t\rIteration: 6987\t\rIteration: 6988\t\rIteration: 6989\t\rIteration: 6990\t\rIteration: 6991\t\rIteration: 6992\t\rIteration: 6993\t\rIteration: 6994\t"
     ]
    },
    {
     "name": "stdout",
     "output_type": "stream",
     "text": [
      "\rIteration: 6995\t\rIteration: 6996\t\rIteration: 6997\t\rIteration: 6998\t\rIteration: 6999\t\rIteration: 7000\t\rIteration: 7001\t\rIteration: 7002\t\rIteration: 7003\t\rIteration: 7004\t"
     ]
    },
    {
     "name": "stdout",
     "output_type": "stream",
     "text": [
      "\rIteration: 7005\t\rIteration: 7006\t\rIteration: 7007\t\rIteration: 7008\t\rIteration: 7009\t\rIteration: 7010\t\rIteration: 7011\t\rIteration: 7012\t\rIteration: 7013\t\rIteration: 7014\t\rIteration: 7015\t"
     ]
    },
    {
     "name": "stdout",
     "output_type": "stream",
     "text": [
      "\rIteration: 7016\t\rIteration: 7017\t\rIteration: 7018\t\rIteration: 7019\t\rIteration: 7020\t\rIteration: 7021\t\rIteration: 7022\t\rIteration: 7023\t\rIteration: 7024\t\rIteration: 7025\t"
     ]
    },
    {
     "name": "stdout",
     "output_type": "stream",
     "text": [
      "\rIteration: 7026\t\rIteration: 7027\t\rIteration: 7028\t\rIteration: 7029\t\rIteration: 7030\t\rIteration: 7031\t\rIteration: 7032\t\rIteration: 7033\t\rIteration: 7034\t\rIteration: 7035\t"
     ]
    },
    {
     "name": "stdout",
     "output_type": "stream",
     "text": [
      "\rIteration: 7036\t\rIteration: 7037\t\rIteration: 7038\t\rIteration: 7039\t\rIteration: 7040\t\rIteration: 7041\t\rIteration: 7042\t\rIteration: 7043\t\rIteration: 7044\t\rIteration: 7045\t"
     ]
    },
    {
     "name": "stdout",
     "output_type": "stream",
     "text": [
      "\rIteration: 7046\t\rIteration: 7047\t\rIteration: 7048\t\rIteration: 7049\t\rIteration: 7050\t\rIteration: 7051\t\rIteration: 7052\t\rIteration: 7053\t\rIteration: 7054\t\rIteration: 7055\t"
     ]
    },
    {
     "name": "stdout",
     "output_type": "stream",
     "text": [
      "\rIteration: 7056\t\rIteration: 7057\t\rIteration: 7058\t\rIteration: 7059\t\rIteration: 7060\t\rIteration: 7061\t\rIteration: 7062\t\rIteration: 7063\t\rIteration: 7064\t\rIteration: 7065\t"
     ]
    },
    {
     "name": "stdout",
     "output_type": "stream",
     "text": [
      "\rIteration: 7066\t\rIteration: 7067\t\rIteration: 7068\t\rIteration: 7069\t\rIteration: 7070\t\rIteration: 7071\t\rIteration: 7072\t\rIteration: 7073\t\rIteration: 7074\t\rIteration: 7075\t\rIteration: 7076\t"
     ]
    },
    {
     "name": "stdout",
     "output_type": "stream",
     "text": [
      "\rIteration: 7077\t\rIteration: 7078\t\rIteration: 7079\t\rIteration: 7080\t\rIteration: 7081\t\rIteration: 7082\t\rIteration: 7083\t\rIteration: 7084\t\rIteration: 7085\t\rIteration: 7086\t\rIteration: 7087\t"
     ]
    },
    {
     "name": "stdout",
     "output_type": "stream",
     "text": [
      "\rIteration: 7088\t\rIteration: 7089\t\rIteration: 7090\t\rIteration: 7091\t\rIteration: 7092\t\rIteration: 7093\t\rIteration: 7094\t\rIteration: 7095\t\rIteration: 7096\t\rIteration: 7097\t\rIteration: 7098\t"
     ]
    },
    {
     "name": "stdout",
     "output_type": "stream",
     "text": [
      "\rIteration: 7099\t\rIteration: 7100\t\rIteration: 7101\t\rIteration: 7102\t\rIteration: 7103\t\rIteration: 7104\t\rIteration: 7105\t\rIteration: 7106\t\rIteration: 7107\t\rIteration: 7108\t"
     ]
    },
    {
     "name": "stdout",
     "output_type": "stream",
     "text": [
      "\rIteration: 7109\t\rIteration: 7110\t\rIteration: 7111\t\rIteration: 7112\t\rIteration: 7113\t\rIteration: 7114\t\rIteration: 7115\t\rIteration: 7116\t\rIteration: 7117\t\rIteration: 7118\t"
     ]
    },
    {
     "name": "stdout",
     "output_type": "stream",
     "text": [
      "\rIteration: 7119\t\rIteration: 7120\t\rIteration: 7121\t\rIteration: 7122\t\rIteration: 7123\t\rIteration: 7124\t\rIteration: 7125\t\rIteration: 7126\t\rIteration: 7127\t\rIteration: 7128\t\rIteration: 7129\t"
     ]
    },
    {
     "name": "stdout",
     "output_type": "stream",
     "text": [
      "\rIteration: 7130\t\rIteration: 7131\t\rIteration: 7132\t\rIteration: 7133\t\rIteration: 7134\t\rIteration: 7135\t\rIteration: 7136\t\rIteration: 7137\t\rIteration: 7138\t\rIteration: 7139\t\rIteration: 7140\t"
     ]
    },
    {
     "name": "stdout",
     "output_type": "stream",
     "text": [
      "\rIteration: 7141\t\rIteration: 7142\t\rIteration: 7143\t\rIteration: 7144\t\rIteration: 7145\t\rIteration: 7146\t\rIteration: 7147\t\rIteration: 7148\t\rIteration: 7149\t\rIteration: 7150\t\rIteration: 7151\t"
     ]
    },
    {
     "name": "stdout",
     "output_type": "stream",
     "text": [
      "\rIteration: 7152\t\rIteration: 7153\t\rIteration: 7154\t\rIteration: 7155\t\rIteration: 7156\t\rIteration: 7157\t\rIteration: 7158\t\rIteration: 7159\t\rIteration: 7160\t\rIteration: 7161\t"
     ]
    },
    {
     "name": "stdout",
     "output_type": "stream",
     "text": [
      "\rIteration: 7162\t\rIteration: 7163\t\rIteration: 7164\t\rIteration: 7165\t\rIteration: 7166\t\rIteration: 7167\t\rIteration: 7168\t\rIteration: 7169\t\rIteration: 7170\t\rIteration: 7171\t"
     ]
    },
    {
     "name": "stdout",
     "output_type": "stream",
     "text": [
      "\rIteration: 7172\t\rIteration: 7173\t\rIteration: 7174\t\rIteration: 7175\t\rIteration: 7176\t\rIteration: 7177\t\rIteration: 7178\t\rIteration: 7179\t\rIteration: 7180\t\rIteration: 7181\t\rIteration: 7182\t"
     ]
    },
    {
     "name": "stdout",
     "output_type": "stream",
     "text": [
      "\rIteration: 7183\t\rIteration: 7184\t\rIteration: 7185\t\rIteration: 7186\t\rIteration: 7187\t\rIteration: 7188\t\rIteration: 7189\t\rIteration: 7190\t\rIteration: 7191\t\rIteration: 7192\t"
     ]
    },
    {
     "name": "stdout",
     "output_type": "stream",
     "text": [
      "\rIteration: 7193\t\rIteration: 7194\t\rIteration: 7195\t\rIteration: 7196\t\rIteration: 7197\t\rIteration: 7198\t\rIteration: 7199\t\rIteration: 7200\t\rIteration: 7201\t\rIteration: 7202\t"
     ]
    },
    {
     "name": "stdout",
     "output_type": "stream",
     "text": [
      "\rIteration: 7203\t\rIteration: 7204\t\rIteration: 7205\t\rIteration: 7206\t\rIteration: 7207\t\rIteration: 7208\t\rIteration: 7209\t\rIteration: 7210\t\rIteration: 7211\t\rIteration: 7212\t"
     ]
    },
    {
     "name": "stdout",
     "output_type": "stream",
     "text": [
      "\rIteration: 7213\t\rIteration: 7214\t\rIteration: 7215\t\rIteration: 7216\t\rIteration: 7217\t\rIteration: 7218\t\rIteration: 7219\t\rIteration: 7220\t\rIteration: 7221\t\rIteration: 7222\t"
     ]
    },
    {
     "name": "stdout",
     "output_type": "stream",
     "text": [
      "\rIteration: 7223\t\rIteration: 7224\t\rIteration: 7225\t\rIteration: 7226\t\rIteration: 7227\t\rIteration: 7228\t\rIteration: 7229\t\rIteration: 7230\t\rIteration: 7231\t\rIteration: 7232\t"
     ]
    },
    {
     "name": "stdout",
     "output_type": "stream",
     "text": [
      "\rIteration: 7233\t\rIteration: 7234\t\rIteration: 7235\t\rIteration: 7236\t\rIteration: 7237\t\rIteration: 7238\t\rIteration: 7239\t\rIteration: 7240\t\rIteration: 7241\t\rIteration: 7242\t\rIteration: 7243\t"
     ]
    },
    {
     "name": "stdout",
     "output_type": "stream",
     "text": [
      "\rIteration: 7244\t\rIteration: 7245\t\rIteration: 7246\t\rIteration: 7247\t\rIteration: 7248\t\rIteration: 7249\t\rIteration: 7250\t\rIteration: 7251\t\rIteration: 7252\t\rIteration: 7253\t"
     ]
    },
    {
     "name": "stdout",
     "output_type": "stream",
     "text": [
      "\rIteration: 7254\t\rIteration: 7255\t\rIteration: 7256\t\rIteration: 7257\t\rIteration: 7258\t\rIteration: 7259\t\rIteration: 7260\t\rIteration: 7261\t\rIteration: 7262\t\rIteration: 7263\t"
     ]
    },
    {
     "name": "stdout",
     "output_type": "stream",
     "text": [
      "\rIteration: 7264\t\rIteration: 7265\t\rIteration: 7266\t\rIteration: 7267\t\rIteration: 7268\t\rIteration: 7269\t\rIteration: 7270\t\rIteration: 7271\t\rIteration: 7272\t\rIteration: 7273\t"
     ]
    },
    {
     "name": "stdout",
     "output_type": "stream",
     "text": [
      "\rIteration: 7274\t\rIteration: 7275\t\rIteration: 7276\t\rIteration: 7277\t\rIteration: 7278\t\rIteration: 7279\t\rIteration: 7280\t\rIteration: 7281\t\rIteration: 7282\t\rIteration: 7283\t"
     ]
    },
    {
     "name": "stdout",
     "output_type": "stream",
     "text": [
      "\rIteration: 7284\t\rIteration: 7285\t\rIteration: 7286\t\rIteration: 7287\t\rIteration: 7288\t\rIteration: 7289\t\rIteration: 7290\t\rIteration: 7291\t\rIteration: 7292\t\rIteration: 7293\t\rIteration: 7294\t"
     ]
    },
    {
     "name": "stdout",
     "output_type": "stream",
     "text": [
      "\rIteration: 7295\t\rIteration: 7296\t\rIteration: 7297\t\rIteration: 7298\t\rIteration: 7299\t\rIteration: 7300\t\rIteration: 7301\t\rIteration: 7302\t\rIteration: 7303\t\rIteration: 7304\t\rIteration: 7305\t"
     ]
    },
    {
     "name": "stdout",
     "output_type": "stream",
     "text": [
      "\rIteration: 7306\t\rIteration: 7307\t\rIteration: 7308\t\rIteration: 7309\t\rIteration: 7310\t\rIteration: 7311\t\rIteration: 7312\t\rIteration: 7313\t\rIteration: 7314\t\rIteration: 7315\t\rIteration: 7316\t"
     ]
    },
    {
     "name": "stdout",
     "output_type": "stream",
     "text": [
      "\rIteration: 7317\t\rIteration: 7318\t\rIteration: 7319\t\rIteration: 7320\t\rIteration: 7321\t\rIteration: 7322\t\rIteration: 7323\t\rIteration: 7324\t\rIteration: 7325\t\rIteration: 7326\t"
     ]
    },
    {
     "name": "stdout",
     "output_type": "stream",
     "text": [
      "\rIteration: 7327\t\rIteration: 7328\t\rIteration: 7329\t\rIteration: 7330\t\rIteration: 7331\t\rIteration: 7332\t\rIteration: 7333\t\rIteration: 7334\t\rIteration: 7335\t\rIteration: 7336\t"
     ]
    },
    {
     "name": "stdout",
     "output_type": "stream",
     "text": [
      "\rIteration: 7337\t\rIteration: 7338\t\rIteration: 7339\t\rIteration: 7340\t\rIteration: 7341\t\rIteration: 7342\t\rIteration: 7343\t\rIteration: 7344\t\rIteration: 7345\t\rIteration: 7346\t"
     ]
    },
    {
     "name": "stdout",
     "output_type": "stream",
     "text": [
      "\rIteration: 7347\t\rIteration: 7348\t\rIteration: 7349\t\rIteration: 7350\t\rIteration: 7351\t\rIteration: 7352\t\rIteration: 7353\t\rIteration: 7354\t\rIteration: 7355\t\rIteration: 7356\t"
     ]
    },
    {
     "name": "stdout",
     "output_type": "stream",
     "text": [
      "\rIteration: 7357\t\rIteration: 7358\t\rIteration: 7359\t\rIteration: 7360\t\rIteration: 7361\t\rIteration: 7362\t\rIteration: 7363\t\rIteration: 7364\t\rIteration: 7365\t\rIteration: 7366\t"
     ]
    },
    {
     "name": "stdout",
     "output_type": "stream",
     "text": [
      "\rIteration: 7367\t\rIteration: 7368\t\rIteration: 7369\t\rIteration: 7370\t\rIteration: 7371\t\rIteration: 7372\t\rIteration: 7373\t\rIteration: 7374\t\rIteration: 7375\t\rIteration: 7376\t\rIteration: 7377\t"
     ]
    },
    {
     "name": "stdout",
     "output_type": "stream",
     "text": [
      "\rIteration: 7378\t\rIteration: 7379\t\rIteration: 7380\t\rIteration: 7381\t\rIteration: 7382\t\rIteration: 7383\t\rIteration: 7384\t\rIteration: 7385\t\rIteration: 7386\t\rIteration: 7387\t"
     ]
    },
    {
     "name": "stdout",
     "output_type": "stream",
     "text": [
      "\rIteration: 7388\t\rIteration: 7389\t\rIteration: 7390\t\rIteration: 7391\t\rIteration: 7392\t\rIteration: 7393\t\rIteration: 7394\t\rIteration: 7395\t\rIteration: 7396\t\rIteration: 7397\t"
     ]
    },
    {
     "name": "stdout",
     "output_type": "stream",
     "text": [
      "\rIteration: 7398\t\rIteration: 7399\t\rIteration: 7400\t\rIteration: 7401\t\rIteration: 7402\t\rIteration: 7403\t\rIteration: 7404\t\rIteration: 7405\t\rIteration: 7406\t\rIteration: 7407\t"
     ]
    },
    {
     "name": "stdout",
     "output_type": "stream",
     "text": [
      "\rIteration: 7408\t\rIteration: 7409\t\rIteration: 7410\t\rIteration: 7411\t\rIteration: 7412\t\rIteration: 7413\t\rIteration: 7414\t\rIteration: 7415\t\rIteration: 7416\t\rIteration: 7417\t"
     ]
    },
    {
     "name": "stdout",
     "output_type": "stream",
     "text": [
      "\rIteration: 7418\t\rIteration: 7419\t\rIteration: 7420\t\rIteration: 7421\t\rIteration: 7422\t\rIteration: 7423\t\rIteration: 7424\t\rIteration: 7425\t\rIteration: 7426\t\rIteration: 7427\t\rIteration: 7428\t"
     ]
    },
    {
     "name": "stdout",
     "output_type": "stream",
     "text": [
      "\rIteration: 7429\t\rIteration: 7430\t\rIteration: 7431\t\rIteration: 7432\t\rIteration: 7433\t\rIteration: 7434\t\rIteration: 7435\t\rIteration: 7436\t\rIteration: 7437\t\rIteration: 7438\t\rIteration: 7439\t"
     ]
    },
    {
     "name": "stdout",
     "output_type": "stream",
     "text": [
      "\rIteration: 7440\t\rIteration: 7441\t\rIteration: 7442\t\rIteration: 7443\t\rIteration: 7444\t\rIteration: 7445\t\rIteration: 7446\t\rIteration: 7447\t\rIteration: 7448\t\rIteration: 7449\t"
     ]
    },
    {
     "name": "stdout",
     "output_type": "stream",
     "text": [
      "\rIteration: 7450\t\rIteration: 7451\t\rIteration: 7452\t\rIteration: 7453\t\rIteration: 7454\t\rIteration: 7455\t\rIteration: 7456\t\rIteration: 7457\t\rIteration: 7458\t\rIteration: 7459\t"
     ]
    },
    {
     "name": "stdout",
     "output_type": "stream",
     "text": [
      "\rIteration: 7460\t\rIteration: 7461\t\rIteration: 7462\t\rIteration: 7463\t\rIteration: 7464\t\rIteration: 7465\t\rIteration: 7466\t\rIteration: 7467\t\rIteration: 7468\t\rIteration: 7469\t"
     ]
    },
    {
     "name": "stdout",
     "output_type": "stream",
     "text": [
      "\rIteration: 7470\t\rIteration: 7471\t\rIteration: 7472\t\rIteration: 7473\t\rIteration: 7474\t\rIteration: 7475\t\rIteration: 7476\t\rIteration: 7477\t\rIteration: 7478\t\rIteration: 7479\t"
     ]
    },
    {
     "name": "stdout",
     "output_type": "stream",
     "text": [
      "\rIteration: 7480\t\rIteration: 7481\t\rIteration: 7482\t\rIteration: 7483\t\rIteration: 7484\t\rIteration: 7485\t\rIteration: 7486\t\rIteration: 7487\t\rIteration: 7488\t\rIteration: 7489\t"
     ]
    },
    {
     "name": "stdout",
     "output_type": "stream",
     "text": [
      "\rIteration: 7490\t\rIteration: 7491\t\rIteration: 7492\t\rIteration: 7493\t\rIteration: 7494\t\rIteration: 7495\t\rIteration: 7496\t\rIteration: 7497\t\rIteration: 7498\t\rIteration: 7499\t\rIteration: 7500\t"
     ]
    },
    {
     "name": "stdout",
     "output_type": "stream",
     "text": [
      "\rIteration: 7501\t\rIteration: 7502\t\rIteration: 7503\t\rIteration: 7504\t\rIteration: 7505\t\rIteration: 7506\t\rIteration: 7507\t\rIteration: 7508\t\rIteration: 7509\t\rIteration: 7510\t"
     ]
    },
    {
     "name": "stdout",
     "output_type": "stream",
     "text": [
      "\rIteration: 7511\t\rIteration: 7512\t\rIteration: 7513\t\rIteration: 7514\t\rIteration: 7515\t\rIteration: 7516\t\rIteration: 7517\t\rIteration: 7518\t\rIteration: 7519\t\rIteration: 7520\t"
     ]
    },
    {
     "name": "stdout",
     "output_type": "stream",
     "text": [
      "\rIteration: 7521\t\rIteration: 7522\t\rIteration: 7523\t\rIteration: 7524\t\rIteration: 7525\t\rIteration: 7526\t\rIteration: 7527\t\rIteration: 7528\t\rIteration: 7529\t\rIteration: 7530\t"
     ]
    },
    {
     "name": "stdout",
     "output_type": "stream",
     "text": [
      "\rIteration: 7531\t\rIteration: 7532\t\rIteration: 7533\t\rIteration: 7534\t\rIteration: 7535\t\rIteration: 7536\t\rIteration: 7537\t\rIteration: 7538\t\rIteration: 7539\t\rIteration: 7540\t"
     ]
    },
    {
     "name": "stdout",
     "output_type": "stream",
     "text": [
      "\rIteration: 7541\t\rIteration: 7542\t\rIteration: 7543\t\rIteration: 7544\t\rIteration: 7545\t\rIteration: 7546\t\rIteration: 7547\t\rIteration: 7548\t\rIteration: 7549\t\rIteration: 7550\t"
     ]
    },
    {
     "name": "stdout",
     "output_type": "stream",
     "text": [
      "\rIteration: 7551\t\rIteration: 7552\t\rIteration: 7553\t\rIteration: 7554\t\rIteration: 7555\t\rIteration: 7556\t\rIteration: 7557\t\rIteration: 7558\t\rIteration: 7559\t\rIteration: 7560\t"
     ]
    },
    {
     "name": "stdout",
     "output_type": "stream",
     "text": [
      "\rIteration: 7561\t\rIteration: 7562\t\rIteration: 7563\t\rIteration: 7564\t\rIteration: 7565\t\rIteration: 7566\t\rIteration: 7567\t\rIteration: 7568\t\rIteration: 7569\t\rIteration: 7570\t\rIteration: 7571\t"
     ]
    },
    {
     "name": "stdout",
     "output_type": "stream",
     "text": [
      "\rIteration: 7572\t\rIteration: 7573\t\rIteration: 7574\t\rIteration: 7575\t\rIteration: 7576\t\rIteration: 7577\t\rIteration: 7578\t\rIteration: 7579\t\rIteration: 7580\t\rIteration: 7581\t\rIteration: 7582\t"
     ]
    },
    {
     "name": "stdout",
     "output_type": "stream",
     "text": [
      "\rIteration: 7583\t\rIteration: 7584\t\rIteration: 7585\t\rIteration: 7586\t\rIteration: 7587\t\rIteration: 7588\t\rIteration: 7589\t\rIteration: 7590\t\rIteration: 7591\t\rIteration: 7592\t"
     ]
    },
    {
     "name": "stdout",
     "output_type": "stream",
     "text": [
      "\rIteration: 7593\t\rIteration: 7594\t\rIteration: 7595\t\rIteration: 7596\t\rIteration: 7597\t\rIteration: 7598\t\rIteration: 7599\t\rIteration: 7600\t\rIteration: 7601\t\rIteration: 7602\t\rIteration: 7603\t"
     ]
    },
    {
     "name": "stdout",
     "output_type": "stream",
     "text": [
      "\rIteration: 7604\t\rIteration: 7605\t\rIteration: 7606\t\rIteration: 7607\t\rIteration: 7608\t\rIteration: 7609\t\rIteration: 7610\t\rIteration: 7611\t\rIteration: 7612\t\rIteration: 7613\t\rIteration: 7614\t"
     ]
    },
    {
     "name": "stdout",
     "output_type": "stream",
     "text": [
      "\rIteration: 7615\t\rIteration: 7616\t\rIteration: 7617\t\rIteration: 7618\t\rIteration: 7619\t\rIteration: 7620\t\rIteration: 7621\t\rIteration: 7622\t\rIteration: 7623\t\rIteration: 7624\t"
     ]
    },
    {
     "name": "stdout",
     "output_type": "stream",
     "text": [
      "\rIteration: 7625\t\rIteration: 7626\t\rIteration: 7627\t\rIteration: 7628\t\rIteration: 7629\t\rIteration: 7630\t\rIteration: 7631\t\rIteration: 7632\t\rIteration: 7633\t\rIteration: 7634\t\rIteration: 7635\t"
     ]
    },
    {
     "name": "stdout",
     "output_type": "stream",
     "text": [
      "\rIteration: 7636\t\rIteration: 7637\t\rIteration: 7638\t\rIteration: 7639\t\rIteration: 7640\t\rIteration: 7641\t\rIteration: 7642\t\rIteration: 7643\t\rIteration: 7644\t\rIteration: 7645\t\rIteration: 7646\t"
     ]
    },
    {
     "name": "stdout",
     "output_type": "stream",
     "text": [
      "\rIteration: 7647\t\rIteration: 7648\t\rIteration: 7649\t\rIteration: 7650\t\rIteration: 7651\t\rIteration: 7652\t\rIteration: 7653\t\rIteration: 7654\t\rIteration: 7655\t\rIteration: 7656\t\rIteration: 7657\t"
     ]
    },
    {
     "name": "stdout",
     "output_type": "stream",
     "text": [
      "\rIteration: 7658\t\rIteration: 7659\t\rIteration: 7660\t\rIteration: 7661\t\rIteration: 7662\t\rIteration: 7663\t\rIteration: 7664\t\rIteration: 7665\t\rIteration: 7666\t\rIteration: 7667\t"
     ]
    },
    {
     "name": "stdout",
     "output_type": "stream",
     "text": [
      "\rIteration: 7668\t\rIteration: 7669\t\rIteration: 7670\t\rIteration: 7671\t\rIteration: 7672\t\rIteration: 7673\t\rIteration: 7674\t\rIteration: 7675\t\rIteration: 7676\t\rIteration: 7677\t"
     ]
    },
    {
     "name": "stdout",
     "output_type": "stream",
     "text": [
      "\rIteration: 7678\t\rIteration: 7679\t\rIteration: 7680\t\rIteration: 7681\t\rIteration: 7682\t\rIteration: 7683\t\rIteration: 7684\t\rIteration: 7685\t\rIteration: 7686\t\rIteration: 7687\t\rIteration: 7688\t"
     ]
    },
    {
     "name": "stdout",
     "output_type": "stream",
     "text": [
      "\rIteration: 7689\t\rIteration: 7690\t\rIteration: 7691\t\rIteration: 7692\t\rIteration: 7693\t\rIteration: 7694\t\rIteration: 7695\t\rIteration: 7696\t\rIteration: 7697\t\rIteration: 7698\t"
     ]
    },
    {
     "name": "stdout",
     "output_type": "stream",
     "text": [
      "\rIteration: 7699\t\rIteration: 7700\t\rIteration: 7701\t\rIteration: 7702\t\rIteration: 7703\t\rIteration: 7704\t\rIteration: 7705\t\rIteration: 7706\t\rIteration: 7707\t\rIteration: 7708\t"
     ]
    },
    {
     "name": "stdout",
     "output_type": "stream",
     "text": [
      "\rIteration: 7709\t\rIteration: 7710\t\rIteration: 7711\t\rIteration: 7712\t\rIteration: 7713\t\rIteration: 7714\t\rIteration: 7715\t\rIteration: 7716\t\rIteration: 7717\t\rIteration: 7718\t\rIteration: 7719\t"
     ]
    },
    {
     "name": "stdout",
     "output_type": "stream",
     "text": [
      "\rIteration: 7720\t\rIteration: 7721\t\rIteration: 7722\t\rIteration: 7723\t\rIteration: 7724\t\rIteration: 7725\t\rIteration: 7726\t\rIteration: 7727\t\rIteration: 7728\t\rIteration: 7729\t\rIteration: 7730\t"
     ]
    },
    {
     "name": "stdout",
     "output_type": "stream",
     "text": [
      "\rIteration: 7731\t\rIteration: 7732\t\rIteration: 7733\t\rIteration: 7734\t\rIteration: 7735\t\rIteration: 7736\t\rIteration: 7737\t\rIteration: 7738\t\rIteration: 7739\t\rIteration: 7740\t"
     ]
    },
    {
     "name": "stdout",
     "output_type": "stream",
     "text": [
      "\rIteration: 7741\t\rIteration: 7742\t\rIteration: 7743\t\rIteration: 7744\t\rIteration: 7745\t\rIteration: 7746\t\rIteration: 7747\t\rIteration: 7748\t\rIteration: 7749\t\rIteration: 7750\t\rIteration: 7751\t"
     ]
    },
    {
     "name": "stdout",
     "output_type": "stream",
     "text": [
      "\rIteration: 7752\t\rIteration: 7753\t\rIteration: 7754\t\rIteration: 7755\t\rIteration: 7756\t\rIteration: 7757\t\rIteration: 7758\t\rIteration: 7759\t\rIteration: 7760\t\rIteration: 7761\t"
     ]
    },
    {
     "name": "stdout",
     "output_type": "stream",
     "text": [
      "\rIteration: 7762\t\rIteration: 7763\t\rIteration: 7764\t\rIteration: 7765\t\rIteration: 7766\t\rIteration: 7767\t\rIteration: 7768\t\rIteration: 7769\t\rIteration: 7770\t\rIteration: 7771\t"
     ]
    },
    {
     "name": "stdout",
     "output_type": "stream",
     "text": [
      "\rIteration: 7772\t\rIteration: 7773\t\rIteration: 7774\t\rIteration: 7775\t\rIteration: 7776\t\rIteration: 7777\t\rIteration: 7778\t\rIteration: 7779\t\rIteration: 7780\t\rIteration: 7781\t"
     ]
    },
    {
     "name": "stdout",
     "output_type": "stream",
     "text": [
      "\rIteration: 7782\t\rIteration: 7783\t\rIteration: 7784\t\rIteration: 7785\t\rIteration: 7786\t\rIteration: 7787\t\rIteration: 7788\t\rIteration: 7789\t\rIteration: 7790\t\rIteration: 7791\t"
     ]
    },
    {
     "name": "stdout",
     "output_type": "stream",
     "text": [
      "\rIteration: 7792\t\rIteration: 7793\t\rIteration: 7794\t\rIteration: 7795\t\rIteration: 7796\t\rIteration: 7797\t\rIteration: 7798\t\rIteration: 7799\t\rIteration: 7800\t\rIteration: 7801\t"
     ]
    },
    {
     "name": "stdout",
     "output_type": "stream",
     "text": [
      "\rIteration: 7802\t\rIteration: 7803\t\rIteration: 7804\t\rIteration: 7805\t\rIteration: 7806\t\rIteration: 7807\t\rIteration: 7808\t\rIteration: 7809\t\rIteration: 7810\t\rIteration: 7811\t"
     ]
    },
    {
     "name": "stdout",
     "output_type": "stream",
     "text": [
      "\rIteration: 7812\t\rIteration: 7813\t\rIteration: 7814\t\rIteration: 7815\t\rIteration: 7816\t\rIteration: 7817\t\rIteration: 7818\t\rIteration: 7819\t\rIteration: 7820\t\rIteration: 7821\t"
     ]
    },
    {
     "name": "stdout",
     "output_type": "stream",
     "text": [
      "\rIteration: 7822\t\rIteration: 7823\t\rIteration: 7824\t\rIteration: 7825\t\rIteration: 7826\t\rIteration: 7827\t\rIteration: 7828\t\rIteration: 7829\t\rIteration: 7830\t\rIteration: 7831\t\rIteration: 7832\t"
     ]
    },
    {
     "name": "stdout",
     "output_type": "stream",
     "text": [
      "\rIteration: 7833\t\rIteration: 7834\t\rIteration: 7835\t\rIteration: 7836\t\rIteration: 7837\t\rIteration: 7838\t\rIteration: 7839\t\rIteration: 7840\t\rIteration: 7841\t\rIteration: 7842\t"
     ]
    },
    {
     "name": "stdout",
     "output_type": "stream",
     "text": [
      "\rIteration: 7843\t\rIteration: 7844\t\rIteration: 7845\t\rIteration: 7846\t\rIteration: 7847\t\rIteration: 7848\t\rIteration: 7849\t\rIteration: 7850\t\rIteration: 7851\t\rIteration: 7852\t\rIteration: 7853\t"
     ]
    },
    {
     "name": "stdout",
     "output_type": "stream",
     "text": [
      "\rIteration: 7854\t\rIteration: 7855\t\rIteration: 7856\t\rIteration: 7857\t\rIteration: 7858\t\rIteration: 7859\t\rIteration: 7860\t\rIteration: 7861\t\rIteration: 7862\t\rIteration: 7863\t"
     ]
    },
    {
     "name": "stdout",
     "output_type": "stream",
     "text": [
      "\rIteration: 7864\t\rIteration: 7865\t\rIteration: 7866\t\rIteration: 7867\t\rIteration: 7868\t\rIteration: 7869\t\rIteration: 7870\t\rIteration: 7871\t\rIteration: 7872\t\rIteration: 7873\t"
     ]
    },
    {
     "name": "stdout",
     "output_type": "stream",
     "text": [
      "\rIteration: 7874\t\rIteration: 7875\t\rIteration: 7876\t\rIteration: 7877\t\rIteration: 7878\t\rIteration: 7879\t\rIteration: 7880\t\rIteration: 7881\t\rIteration: 7882\t\rIteration: 7883\t"
     ]
    },
    {
     "name": "stdout",
     "output_type": "stream",
     "text": [
      "\rIteration: 7884\t\rIteration: 7885\t\rIteration: 7886\t\rIteration: 7887\t\rIteration: 7888\t\rIteration: 7889\t\rIteration: 7890\t\rIteration: 7891\t\rIteration: 7892\t\rIteration: 7893\t"
     ]
    },
    {
     "name": "stdout",
     "output_type": "stream",
     "text": [
      "\rIteration: 7894\t\rIteration: 7895\t\rIteration: 7896\t\rIteration: 7897\t\rIteration: 7898\t\rIteration: 7899\t\rIteration: 7900\t\rIteration: 7901\t\rIteration: 7902\t\rIteration: 7903\t"
     ]
    },
    {
     "name": "stdout",
     "output_type": "stream",
     "text": [
      "\rIteration: 7904\t\rIteration: 7905\t\rIteration: 7906\t\rIteration: 7907\t\rIteration: 7908\t\rIteration: 7909\t\rIteration: 7910\t\rIteration: 7911\t\rIteration: 7912\t\rIteration: 7913\t"
     ]
    },
    {
     "name": "stdout",
     "output_type": "stream",
     "text": [
      "\rIteration: 7914\t\rIteration: 7915\t\rIteration: 7916\t\rIteration: 7917\t\rIteration: 7918\t\rIteration: 7919\t\rIteration: 7920\t\rIteration: 7921\t\rIteration: 7922\t\rIteration: 7923\t\rIteration: 7924\t"
     ]
    },
    {
     "name": "stdout",
     "output_type": "stream",
     "text": [
      "\rIteration: 7925\t\rIteration: 7926\t\rIteration: 7927\t\rIteration: 7928\t\rIteration: 7929\t\rIteration: 7930\t\rIteration: 7931\t\rIteration: 7932\t\rIteration: 7933\t\rIteration: 7934\t\rIteration: 7935\t"
     ]
    },
    {
     "name": "stdout",
     "output_type": "stream",
     "text": [
      "\rIteration: 7936\t\rIteration: 7937\t\rIteration: 7938\t\rIteration: 7939\t\rIteration: 7940\t\rIteration: 7941\t\rIteration: 7942\t\rIteration: 7943\t\rIteration: 7944\t\rIteration: 7945\t\rIteration: 7946\t"
     ]
    },
    {
     "name": "stdout",
     "output_type": "stream",
     "text": [
      "\rIteration: 7947\t\rIteration: 7948\t\rIteration: 7949\t\rIteration: 7950\t\rIteration: 7951\t\rIteration: 7952\t\rIteration: 7953\t\rIteration: 7954\t\rIteration: 7955\t\rIteration: 7956\t"
     ]
    },
    {
     "name": "stdout",
     "output_type": "stream",
     "text": [
      "\rIteration: 7957\t\rIteration: 7958\t\rIteration: 7959\t\rIteration: 7960\t\rIteration: 7961\t\rIteration: 7962\t\rIteration: 7963\t\rIteration: 7964\t\rIteration: 7965\t\rIteration: 7966\t"
     ]
    },
    {
     "name": "stdout",
     "output_type": "stream",
     "text": [
      "\rIteration: 7967\t\rIteration: 7968\t\rIteration: 7969\t\rIteration: 7970\t\rIteration: 7971\t\rIteration: 7972\t\rIteration: 7973\t\rIteration: 7974\t\rIteration: 7975\t\rIteration: 7976\t"
     ]
    },
    {
     "name": "stdout",
     "output_type": "stream",
     "text": [
      "\rIteration: 7977\t\rIteration: 7978\t\rIteration: 7979\t\rIteration: 7980\t\rIteration: 7981\t\rIteration: 7982\t\rIteration: 7983\t\rIteration: 7984\t\rIteration: 7985\t\rIteration: 7986\t"
     ]
    },
    {
     "name": "stdout",
     "output_type": "stream",
     "text": [
      "\rIteration: 7987\t\rIteration: 7988\t\rIteration: 7989\t\rIteration: 7990\t\rIteration: 7991\t\rIteration: 7992\t\rIteration: 7993\t\rIteration: 7994\t\rIteration: 7995\t\rIteration: 7996\t\rIteration: 7997\t"
     ]
    },
    {
     "name": "stdout",
     "output_type": "stream",
     "text": [
      "\rIteration: 7998\t\rIteration: 7999\t\rIteration: 8000\tAverage loss at step  8000 :  31.438352041244507\n\rIteration: 8001\t\rIteration: 8002\t\rIteration: 8003\t\rIteration: 8004\t\rIteration: 8005\t\rIteration: 8006\t\rIteration: 8007\t\rIteration: 8008\t"
     ]
    },
    {
     "name": "stdout",
     "output_type": "stream",
     "text": [
      "\rIteration: 8009\t\rIteration: 8010\t\rIteration: 8011\t\rIteration: 8012\t\rIteration: 8013\t\rIteration: 8014\t\rIteration: 8015\t\rIteration: 8016\t\rIteration: 8017\t\rIteration: 8018\t"
     ]
    },
    {
     "name": "stdout",
     "output_type": "stream",
     "text": [
      "\rIteration: 8019\t\rIteration: 8020\t\rIteration: 8021\t\rIteration: 8022\t\rIteration: 8023\t\rIteration: 8024\t\rIteration: 8025\t\rIteration: 8026\t\rIteration: 8027\t\rIteration: 8028\t"
     ]
    },
    {
     "name": "stdout",
     "output_type": "stream",
     "text": [
      "\rIteration: 8029\t\rIteration: 8030\t\rIteration: 8031\t\rIteration: 8032\t\rIteration: 8033\t\rIteration: 8034\t\rIteration: 8035\t\rIteration: 8036\t\rIteration: 8037\t\rIteration: 8038\t"
     ]
    },
    {
     "name": "stdout",
     "output_type": "stream",
     "text": [
      "\rIteration: 8039\t\rIteration: 8040\t\rIteration: 8041\t\rIteration: 8042\t\rIteration: 8043\t\rIteration: 8044\t\rIteration: 8045\t\rIteration: 8046\t\rIteration: 8047\t\rIteration: 8048\t"
     ]
    },
    {
     "name": "stdout",
     "output_type": "stream",
     "text": [
      "\rIteration: 8049\t\rIteration: 8050\t\rIteration: 8051\t\rIteration: 8052\t\rIteration: 8053\t\rIteration: 8054\t\rIteration: 8055\t\rIteration: 8056\t\rIteration: 8057\t\rIteration: 8058\t\rIteration: 8059\t"
     ]
    },
    {
     "name": "stdout",
     "output_type": "stream",
     "text": [
      "\rIteration: 8060\t\rIteration: 8061\t\rIteration: 8062\t\rIteration: 8063\t\rIteration: 8064\t\rIteration: 8065\t\rIteration: 8066\t\rIteration: 8067\t\rIteration: 8068\t\rIteration: 8069\t\rIteration: 8070\t"
     ]
    },
    {
     "name": "stdout",
     "output_type": "stream",
     "text": [
      "\rIteration: 8071\t\rIteration: 8072\t\rIteration: 8073\t\rIteration: 8074\t\rIteration: 8075\t\rIteration: 8076\t\rIteration: 8077\t\rIteration: 8078\t\rIteration: 8079\t\rIteration: 8080\t"
     ]
    },
    {
     "name": "stdout",
     "output_type": "stream",
     "text": [
      "\rIteration: 8081\t\rIteration: 8082\t\rIteration: 8083\t\rIteration: 8084\t\rIteration: 8085\t\rIteration: 8086\t\rIteration: 8087\t\rIteration: 8088\t\rIteration: 8089\t\rIteration: 8090\t\rIteration: 8091\t"
     ]
    },
    {
     "name": "stdout",
     "output_type": "stream",
     "text": [
      "\rIteration: 8092\t\rIteration: 8093\t\rIteration: 8094\t\rIteration: 8095\t\rIteration: 8096\t\rIteration: 8097\t\rIteration: 8098\t\rIteration: 8099\t\rIteration: 8100\t\rIteration: 8101\t"
     ]
    },
    {
     "name": "stdout",
     "output_type": "stream",
     "text": [
      "\rIteration: 8102\t\rIteration: 8103\t\rIteration: 8104\t\rIteration: 8105\t\rIteration: 8106\t\rIteration: 8107\t\rIteration: 8108\t\rIteration: 8109\t\rIteration: 8110\t\rIteration: 8111\t\rIteration: 8112\t"
     ]
    },
    {
     "name": "stdout",
     "output_type": "stream",
     "text": [
      "\rIteration: 8113\t\rIteration: 8114\t\rIteration: 8115\t\rIteration: 8116\t\rIteration: 8117\t\rIteration: 8118\t\rIteration: 8119\t\rIteration: 8120\t\rIteration: 8121\t\rIteration: 8122\t"
     ]
    },
    {
     "name": "stdout",
     "output_type": "stream",
     "text": [
      "\rIteration: 8123\t\rIteration: 8124\t\rIteration: 8125\t\rIteration: 8126\t\rIteration: 8127\t\rIteration: 8128\t\rIteration: 8129\t\rIteration: 8130\t\rIteration: 8131\t\rIteration: 8132\t"
     ]
    },
    {
     "name": "stdout",
     "output_type": "stream",
     "text": [
      "\rIteration: 8133\t\rIteration: 8134\t\rIteration: 8135\t\rIteration: 8136\t\rIteration: 8137\t\rIteration: 8138\t\rIteration: 8139\t\rIteration: 8140\t\rIteration: 8141\t\rIteration: 8142\t\rIteration: 8143\t"
     ]
    },
    {
     "name": "stdout",
     "output_type": "stream",
     "text": [
      "\rIteration: 8144\t\rIteration: 8145\t\rIteration: 8146\t\rIteration: 8147\t\rIteration: 8148\t\rIteration: 8149\t\rIteration: 8150\t\rIteration: 8151\t\rIteration: 8152\t\rIteration: 8153\t\rIteration: 8154\t"
     ]
    },
    {
     "name": "stdout",
     "output_type": "stream",
     "text": [
      "\rIteration: 8155\t\rIteration: 8156\t\rIteration: 8157\t\rIteration: 8158\t\rIteration: 8159\t\rIteration: 8160\t\rIteration: 8161\t\rIteration: 8162\t\rIteration: 8163\t\rIteration: 8164\t"
     ]
    },
    {
     "name": "stdout",
     "output_type": "stream",
     "text": [
      "\rIteration: 8165\t\rIteration: 8166\t\rIteration: 8167\t\rIteration: 8168\t\rIteration: 8169\t\rIteration: 8170\t\rIteration: 8171\t\rIteration: 8172\t\rIteration: 8173\t\rIteration: 8174\t"
     ]
    },
    {
     "name": "stdout",
     "output_type": "stream",
     "text": [
      "\rIteration: 8175\t\rIteration: 8176\t\rIteration: 8177\t\rIteration: 8178\t\rIteration: 8179\t\rIteration: 8180\t\rIteration: 8181\t\rIteration: 8182\t\rIteration: 8183\t\rIteration: 8184\t"
     ]
    },
    {
     "name": "stdout",
     "output_type": "stream",
     "text": [
      "\rIteration: 8185\t\rIteration: 8186\t\rIteration: 8187\t\rIteration: 8188\t\rIteration: 8189\t\rIteration: 8190\t\rIteration: 8191\t\rIteration: 8192\t\rIteration: 8193\t\rIteration: 8194\t"
     ]
    },
    {
     "name": "stdout",
     "output_type": "stream",
     "text": [
      "\rIteration: 8195\t\rIteration: 8196\t\rIteration: 8197\t\rIteration: 8198\t\rIteration: 8199\t\rIteration: 8200\t\rIteration: 8201\t\rIteration: 8202\t\rIteration: 8203\t\rIteration: 8204\t"
     ]
    },
    {
     "name": "stdout",
     "output_type": "stream",
     "text": [
      "\rIteration: 8205\t\rIteration: 8206\t\rIteration: 8207\t\rIteration: 8208\t\rIteration: 8209\t\rIteration: 8210\t\rIteration: 8211\t\rIteration: 8212\t\rIteration: 8213\t\rIteration: 8214\t\rIteration: 8215\t"
     ]
    },
    {
     "name": "stdout",
     "output_type": "stream",
     "text": [
      "\rIteration: 8216\t\rIteration: 8217\t\rIteration: 8218\t\rIteration: 8219\t\rIteration: 8220\t\rIteration: 8221\t\rIteration: 8222\t\rIteration: 8223\t\rIteration: 8224\t\rIteration: 8225\t\rIteration: 8226\t"
     ]
    },
    {
     "name": "stdout",
     "output_type": "stream",
     "text": [
      "\rIteration: 8227\t\rIteration: 8228\t\rIteration: 8229\t\rIteration: 8230\t\rIteration: 8231\t\rIteration: 8232\t\rIteration: 8233\t\rIteration: 8234\t\rIteration: 8235\t\rIteration: 8236\t\rIteration: 8237\t"
     ]
    },
    {
     "name": "stdout",
     "output_type": "stream",
     "text": [
      "\rIteration: 8238\t\rIteration: 8239\t\rIteration: 8240\t\rIteration: 8241\t\rIteration: 8242\t\rIteration: 8243\t\rIteration: 8244\t\rIteration: 8245\t\rIteration: 8246\t\rIteration: 8247\t\rIteration: 8248\t"
     ]
    },
    {
     "name": "stdout",
     "output_type": "stream",
     "text": [
      "\rIteration: 8249\t\rIteration: 8250\t\rIteration: 8251\t\rIteration: 8252\t\rIteration: 8253\t\rIteration: 8254\t\rIteration: 8255\t\rIteration: 8256\t\rIteration: 8257\t\rIteration: 8258\t"
     ]
    },
    {
     "name": "stdout",
     "output_type": "stream",
     "text": [
      "\rIteration: 8259\t\rIteration: 8260\t\rIteration: 8261\t\rIteration: 8262\t\rIteration: 8263\t\rIteration: 8264\t\rIteration: 8265\t\rIteration: 8266\t\rIteration: 8267\t\rIteration: 8268\t\rIteration: 8269\t"
     ]
    },
    {
     "name": "stdout",
     "output_type": "stream",
     "text": [
      "\rIteration: 8270\t\rIteration: 8271\t\rIteration: 8272\t\rIteration: 8273\t\rIteration: 8274\t\rIteration: 8275\t\rIteration: 8276\t\rIteration: 8277\t\rIteration: 8278\t\rIteration: 8279\t"
     ]
    },
    {
     "name": "stdout",
     "output_type": "stream",
     "text": [
      "\rIteration: 8280\t\rIteration: 8281\t\rIteration: 8282\t\rIteration: 8283\t\rIteration: 8284\t\rIteration: 8285\t\rIteration: 8286\t\rIteration: 8287\t\rIteration: 8288\t\rIteration: 8289\t\rIteration: 8290\t"
     ]
    },
    {
     "name": "stdout",
     "output_type": "stream",
     "text": [
      "\rIteration: 8291\t\rIteration: 8292\t\rIteration: 8293\t\rIteration: 8294\t\rIteration: 8295\t\rIteration: 8296\t\rIteration: 8297\t\rIteration: 8298\t\rIteration: 8299\t\rIteration: 8300\t\rIteration: 8301\t"
     ]
    },
    {
     "name": "stdout",
     "output_type": "stream",
     "text": [
      "\rIteration: 8302\t\rIteration: 8303\t\rIteration: 8304\t\rIteration: 8305\t\rIteration: 8306\t\rIteration: 8307\t\rIteration: 8308\t\rIteration: 8309\t\rIteration: 8310\t\rIteration: 8311\t"
     ]
    },
    {
     "name": "stdout",
     "output_type": "stream",
     "text": [
      "\rIteration: 8312\t\rIteration: 8313\t\rIteration: 8314\t\rIteration: 8315\t\rIteration: 8316\t\rIteration: 8317\t\rIteration: 8318\t\rIteration: 8319\t\rIteration: 8320\t\rIteration: 8321\t"
     ]
    },
    {
     "name": "stdout",
     "output_type": "stream",
     "text": [
      "\rIteration: 8322\t\rIteration: 8323\t\rIteration: 8324\t\rIteration: 8325\t\rIteration: 8326\t\rIteration: 8327\t\rIteration: 8328\t\rIteration: 8329\t\rIteration: 8330\t\rIteration: 8331\t"
     ]
    },
    {
     "name": "stdout",
     "output_type": "stream",
     "text": [
      "\rIteration: 8332\t\rIteration: 8333\t\rIteration: 8334\t\rIteration: 8335\t\rIteration: 8336\t\rIteration: 8337\t\rIteration: 8338\t\rIteration: 8339\t\rIteration: 8340\t\rIteration: 8341\t"
     ]
    },
    {
     "name": "stdout",
     "output_type": "stream",
     "text": [
      "\rIteration: 8342\t\rIteration: 8343\t\rIteration: 8344\t\rIteration: 8345\t\rIteration: 8346\t\rIteration: 8347\t\rIteration: 8348\t\rIteration: 8349\t\rIteration: 8350\t\rIteration: 8351\t"
     ]
    },
    {
     "name": "stdout",
     "output_type": "stream",
     "text": [
      "\rIteration: 8352\t\rIteration: 8353\t\rIteration: 8354\t\rIteration: 8355\t\rIteration: 8356\t\rIteration: 8357\t\rIteration: 8358\t\rIteration: 8359\t\rIteration: 8360\t\rIteration: 8361\t"
     ]
    },
    {
     "name": "stdout",
     "output_type": "stream",
     "text": [
      "\rIteration: 8362\t\rIteration: 8363\t\rIteration: 8364\t\rIteration: 8365\t\rIteration: 8366\t\rIteration: 8367\t\rIteration: 8368\t\rIteration: 8369\t\rIteration: 8370\t\rIteration: 8371\t\rIteration: 8372\t"
     ]
    },
    {
     "name": "stdout",
     "output_type": "stream",
     "text": [
      "\rIteration: 8373\t\rIteration: 8374\t\rIteration: 8375\t\rIteration: 8376\t\rIteration: 8377\t\rIteration: 8378\t\rIteration: 8379\t\rIteration: 8380\t\rIteration: 8381\t\rIteration: 8382\t\rIteration: 8383\t"
     ]
    },
    {
     "name": "stdout",
     "output_type": "stream",
     "text": [
      "\rIteration: 8384\t\rIteration: 8385\t\rIteration: 8386\t\rIteration: 8387\t\rIteration: 8388\t\rIteration: 8389\t\rIteration: 8390\t\rIteration: 8391\t\rIteration: 8392\t\rIteration: 8393\t\rIteration: 8394\t"
     ]
    },
    {
     "name": "stdout",
     "output_type": "stream",
     "text": [
      "\rIteration: 8395\t\rIteration: 8396\t\rIteration: 8397\t\rIteration: 8398\t\rIteration: 8399\t\rIteration: 8400\t\rIteration: 8401\t\rIteration: 8402\t\rIteration: 8403\t\rIteration: 8404\t"
     ]
    },
    {
     "name": "stdout",
     "output_type": "stream",
     "text": [
      "\rIteration: 8405\t\rIteration: 8406\t\rIteration: 8407\t\rIteration: 8408\t\rIteration: 8409\t\rIteration: 8410\t\rIteration: 8411\t\rIteration: 8412\t\rIteration: 8413\t\rIteration: 8414\t\rIteration: 8415\t"
     ]
    },
    {
     "name": "stdout",
     "output_type": "stream",
     "text": [
      "\rIteration: 8416\t\rIteration: 8417\t\rIteration: 8418\t\rIteration: 8419\t\rIteration: 8420\t\rIteration: 8421\t\rIteration: 8422\t\rIteration: 8423\t\rIteration: 8424\t\rIteration: 8425\t"
     ]
    },
    {
     "name": "stdout",
     "output_type": "stream",
     "text": [
      "\rIteration: 8426\t\rIteration: 8427\t\rIteration: 8428\t\rIteration: 8429\t\rIteration: 8430\t\rIteration: 8431\t\rIteration: 8432\t\rIteration: 8433\t\rIteration: 8434\t\rIteration: 8435\t"
     ]
    },
    {
     "name": "stdout",
     "output_type": "stream",
     "text": [
      "\rIteration: 8436\t\rIteration: 8437\t\rIteration: 8438\t\rIteration: 8439\t\rIteration: 8440\t\rIteration: 8441\t\rIteration: 8442\t\rIteration: 8443\t\rIteration: 8444\t\rIteration: 8445\t\rIteration: 8446\t"
     ]
    },
    {
     "name": "stdout",
     "output_type": "stream",
     "text": [
      "\rIteration: 8447\t\rIteration: 8448\t\rIteration: 8449\t\rIteration: 8450\t\rIteration: 8451\t\rIteration: 8452\t\rIteration: 8453\t\rIteration: 8454\t\rIteration: 8455\t\rIteration: 8456\t"
     ]
    },
    {
     "name": "stdout",
     "output_type": "stream",
     "text": [
      "\rIteration: 8457\t\rIteration: 8458\t\rIteration: 8459\t\rIteration: 8460\t\rIteration: 8461\t\rIteration: 8462\t\rIteration: 8463\t\rIteration: 8464\t\rIteration: 8465\t\rIteration: 8466\t\rIteration: 8467\t"
     ]
    },
    {
     "name": "stdout",
     "output_type": "stream",
     "text": [
      "\rIteration: 8468\t\rIteration: 8469\t\rIteration: 8470\t\rIteration: 8471\t\rIteration: 8472\t\rIteration: 8473\t\rIteration: 8474\t\rIteration: 8475\t\rIteration: 8476\t\rIteration: 8477\t"
     ]
    },
    {
     "name": "stdout",
     "output_type": "stream",
     "text": [
      "\rIteration: 8478\t\rIteration: 8479\t\rIteration: 8480\t\rIteration: 8481\t\rIteration: 8482\t\rIteration: 8483\t\rIteration: 8484\t\rIteration: 8485\t\rIteration: 8486\t\rIteration: 8487\t\rIteration: 8488\t"
     ]
    },
    {
     "name": "stdout",
     "output_type": "stream",
     "text": [
      "\rIteration: 8489\t\rIteration: 8490\t\rIteration: 8491\t\rIteration: 8492\t\rIteration: 8493\t\rIteration: 8494\t\rIteration: 8495\t\rIteration: 8496\t\rIteration: 8497\t\rIteration: 8498\t\rIteration: 8499\t"
     ]
    },
    {
     "name": "stdout",
     "output_type": "stream",
     "text": [
      "\rIteration: 8500\t\rIteration: 8501\t\rIteration: 8502\t\rIteration: 8503\t\rIteration: 8504\t\rIteration: 8505\t\rIteration: 8506\t\rIteration: 8507\t\rIteration: 8508\t\rIteration: 8509\t"
     ]
    },
    {
     "name": "stdout",
     "output_type": "stream",
     "text": [
      "\rIteration: 8510\t\rIteration: 8511\t\rIteration: 8512\t\rIteration: 8513\t\rIteration: 8514\t\rIteration: 8515\t\rIteration: 8516\t\rIteration: 8517\t\rIteration: 8518\t\rIteration: 8519\t\rIteration: 8520\t"
     ]
    },
    {
     "name": "stdout",
     "output_type": "stream",
     "text": [
      "\rIteration: 8521\t\rIteration: 8522\t\rIteration: 8523\t\rIteration: 8524\t\rIteration: 8525\t\rIteration: 8526\t\rIteration: 8527\t\rIteration: 8528\t\rIteration: 8529\t\rIteration: 8530\t\rIteration: 8531\t"
     ]
    },
    {
     "name": "stdout",
     "output_type": "stream",
     "text": [
      "\rIteration: 8532\t\rIteration: 8533\t\rIteration: 8534\t\rIteration: 8535\t\rIteration: 8536\t\rIteration: 8537\t\rIteration: 8538\t\rIteration: 8539\t\rIteration: 8540\t\rIteration: 8541\t"
     ]
    },
    {
     "name": "stdout",
     "output_type": "stream",
     "text": [
      "\rIteration: 8542\t\rIteration: 8543\t\rIteration: 8544\t\rIteration: 8545\t\rIteration: 8546\t\rIteration: 8547\t\rIteration: 8548\t\rIteration: 8549\t\rIteration: 8550\t\rIteration: 8551\t"
     ]
    },
    {
     "name": "stdout",
     "output_type": "stream",
     "text": [
      "\rIteration: 8552\t\rIteration: 8553\t\rIteration: 8554\t\rIteration: 8555\t\rIteration: 8556\t\rIteration: 8557\t\rIteration: 8558\t\rIteration: 8559\t\rIteration: 8560\t\rIteration: 8561\t"
     ]
    },
    {
     "name": "stdout",
     "output_type": "stream",
     "text": [
      "\rIteration: 8562\t\rIteration: 8563\t\rIteration: 8564\t\rIteration: 8565\t\rIteration: 8566\t\rIteration: 8567\t\rIteration: 8568\t\rIteration: 8569\t\rIteration: 8570\t\rIteration: 8571\t\rIteration: 8572\t"
     ]
    },
    {
     "name": "stdout",
     "output_type": "stream",
     "text": [
      "\rIteration: 8573\t\rIteration: 8574\t\rIteration: 8575\t\rIteration: 8576\t\rIteration: 8577\t\rIteration: 8578\t\rIteration: 8579\t\rIteration: 8580\t\rIteration: 8581\t\rIteration: 8582\t"
     ]
    },
    {
     "name": "stdout",
     "output_type": "stream",
     "text": [
      "\rIteration: 8583\t\rIteration: 8584\t\rIteration: 8585\t\rIteration: 8586\t\rIteration: 8587\t\rIteration: 8588\t\rIteration: 8589\t\rIteration: 8590\t\rIteration: 8591\t\rIteration: 8592\t\rIteration: 8593\t"
     ]
    },
    {
     "name": "stdout",
     "output_type": "stream",
     "text": [
      "\rIteration: 8594\t\rIteration: 8595\t\rIteration: 8596\t\rIteration: 8597\t\rIteration: 8598\t\rIteration: 8599\t\rIteration: 8600\t\rIteration: 8601\t\rIteration: 8602\t\rIteration: 8603\t"
     ]
    },
    {
     "name": "stdout",
     "output_type": "stream",
     "text": [
      "\rIteration: 8604\t\rIteration: 8605\t\rIteration: 8606\t\rIteration: 8607\t\rIteration: 8608\t\rIteration: 8609\t\rIteration: 8610\t\rIteration: 8611\t\rIteration: 8612\t\rIteration: 8613\t"
     ]
    },
    {
     "name": "stdout",
     "output_type": "stream",
     "text": [
      "\rIteration: 8614\t\rIteration: 8615\t\rIteration: 8616\t\rIteration: 8617\t\rIteration: 8618\t\rIteration: 8619\t\rIteration: 8620\t\rIteration: 8621\t\rIteration: 8622\t\rIteration: 8623\t"
     ]
    },
    {
     "name": "stdout",
     "output_type": "stream",
     "text": [
      "\rIteration: 8624\t\rIteration: 8625\t\rIteration: 8626\t\rIteration: 8627\t\rIteration: 8628\t\rIteration: 8629\t\rIteration: 8630\t\rIteration: 8631\t\rIteration: 8632\t\rIteration: 8633\t"
     ]
    },
    {
     "name": "stdout",
     "output_type": "stream",
     "text": [
      "\rIteration: 8634\t\rIteration: 8635\t\rIteration: 8636\t\rIteration: 8637\t\rIteration: 8638\t\rIteration: 8639\t\rIteration: 8640\t\rIteration: 8641\t\rIteration: 8642\t\rIteration: 8643\t\rIteration: 8644\t"
     ]
    },
    {
     "name": "stdout",
     "output_type": "stream",
     "text": [
      "\rIteration: 8645\t\rIteration: 8646\t\rIteration: 8647\t\rIteration: 8648\t\rIteration: 8649\t\rIteration: 8650\t\rIteration: 8651\t\rIteration: 8652\t\rIteration: 8653\t\rIteration: 8654\t\rIteration: 8655\t"
     ]
    },
    {
     "name": "stdout",
     "output_type": "stream",
     "text": [
      "\rIteration: 8656\t\rIteration: 8657\t\rIteration: 8658\t\rIteration: 8659\t\rIteration: 8660\t\rIteration: 8661\t\rIteration: 8662\t\rIteration: 8663\t\rIteration: 8664\t\rIteration: 8665\t"
     ]
    },
    {
     "name": "stdout",
     "output_type": "stream",
     "text": [
      "\rIteration: 8666\t\rIteration: 8667\t\rIteration: 8668\t\rIteration: 8669\t\rIteration: 8670\t\rIteration: 8671\t\rIteration: 8672\t\rIteration: 8673\t\rIteration: 8674\t\rIteration: 8675\t"
     ]
    },
    {
     "name": "stdout",
     "output_type": "stream",
     "text": [
      "\rIteration: 8676\t\rIteration: 8677\t\rIteration: 8678\t\rIteration: 8679\t\rIteration: 8680\t\rIteration: 8681\t\rIteration: 8682\t\rIteration: 8683\t\rIteration: 8684\t\rIteration: 8685\t"
     ]
    },
    {
     "name": "stdout",
     "output_type": "stream",
     "text": [
      "\rIteration: 8686\t\rIteration: 8687\t\rIteration: 8688\t\rIteration: 8689\t\rIteration: 8690\t\rIteration: 8691\t\rIteration: 8692\t\rIteration: 8693\t\rIteration: 8694\t\rIteration: 8695\t\rIteration: 8696\t"
     ]
    },
    {
     "name": "stdout",
     "output_type": "stream",
     "text": [
      "\rIteration: 8697\t\rIteration: 8698\t\rIteration: 8699\t\rIteration: 8700\t\rIteration: 8701\t\rIteration: 8702\t\rIteration: 8703\t\rIteration: 8704\t\rIteration: 8705\t\rIteration: 8706\t"
     ]
    },
    {
     "name": "stdout",
     "output_type": "stream",
     "text": [
      "\rIteration: 8707\t\rIteration: 8708\t\rIteration: 8709\t\rIteration: 8710\t\rIteration: 8711\t\rIteration: 8712\t\rIteration: 8713\t\rIteration: 8714\t\rIteration: 8715\t\rIteration: 8716\t\rIteration: 8717\t"
     ]
    },
    {
     "name": "stdout",
     "output_type": "stream",
     "text": [
      "\rIteration: 8718\t\rIteration: 8719\t\rIteration: 8720\t\rIteration: 8721\t\rIteration: 8722\t\rIteration: 8723\t\rIteration: 8724\t\rIteration: 8725\t\rIteration: 8726\t\rIteration: 8727\t"
     ]
    },
    {
     "name": "stdout",
     "output_type": "stream",
     "text": [
      "\rIteration: 8728\t\rIteration: 8729\t\rIteration: 8730\t\rIteration: 8731\t\rIteration: 8732\t\rIteration: 8733\t\rIteration: 8734\t\rIteration: 8735\t\rIteration: 8736\t\rIteration: 8737\t\rIteration: 8738\t"
     ]
    },
    {
     "name": "stdout",
     "output_type": "stream",
     "text": [
      "\rIteration: 8739\t\rIteration: 8740\t\rIteration: 8741\t\rIteration: 8742\t\rIteration: 8743\t\rIteration: 8744\t\rIteration: 8745\t\rIteration: 8746\t\rIteration: 8747\t\rIteration: 8748\t\rIteration: 8749\t"
     ]
    },
    {
     "name": "stdout",
     "output_type": "stream",
     "text": [
      "\rIteration: 8750\t\rIteration: 8751\t\rIteration: 8752\t\rIteration: 8753\t\rIteration: 8754\t\rIteration: 8755\t\rIteration: 8756\t\rIteration: 8757\t\rIteration: 8758\t\rIteration: 8759\t"
     ]
    },
    {
     "name": "stdout",
     "output_type": "stream",
     "text": [
      "\rIteration: 8760\t\rIteration: 8761\t\rIteration: 8762\t\rIteration: 8763\t\rIteration: 8764\t\rIteration: 8765\t\rIteration: 8766\t\rIteration: 8767\t\rIteration: 8768\t\rIteration: 8769\t"
     ]
    },
    {
     "name": "stdout",
     "output_type": "stream",
     "text": [
      "\rIteration: 8770\t\rIteration: 8771\t\rIteration: 8772\t\rIteration: 8773\t\rIteration: 8774\t\rIteration: 8775\t\rIteration: 8776\t\rIteration: 8777\t\rIteration: 8778\t\rIteration: 8779\t"
     ]
    },
    {
     "name": "stdout",
     "output_type": "stream",
     "text": [
      "\rIteration: 8780\t\rIteration: 8781\t\rIteration: 8782\t\rIteration: 8783\t\rIteration: 8784\t\rIteration: 8785\t\rIteration: 8786\t\rIteration: 8787\t\rIteration: 8788\t\rIteration: 8789\t\rIteration: 8790\t"
     ]
    },
    {
     "name": "stdout",
     "output_type": "stream",
     "text": [
      "\rIteration: 8791\t\rIteration: 8792\t\rIteration: 8793\t\rIteration: 8794\t\rIteration: 8795\t\rIteration: 8796\t\rIteration: 8797\t\rIteration: 8798\t\rIteration: 8799\t\rIteration: 8800\t"
     ]
    },
    {
     "name": "stdout",
     "output_type": "stream",
     "text": [
      "\rIteration: 8801\t\rIteration: 8802\t\rIteration: 8803\t\rIteration: 8804\t\rIteration: 8805\t\rIteration: 8806\t\rIteration: 8807\t\rIteration: 8808\t\rIteration: 8809\t\rIteration: 8810\t\rIteration: 8811\t"
     ]
    },
    {
     "name": "stdout",
     "output_type": "stream",
     "text": [
      "\rIteration: 8812\t\rIteration: 8813\t\rIteration: 8814\t\rIteration: 8815\t\rIteration: 8816\t\rIteration: 8817\t\rIteration: 8818\t\rIteration: 8819\t\rIteration: 8820\t\rIteration: 8821\t"
     ]
    },
    {
     "name": "stdout",
     "output_type": "stream",
     "text": [
      "\rIteration: 8822\t\rIteration: 8823\t\rIteration: 8824\t\rIteration: 8825\t\rIteration: 8826\t\rIteration: 8827\t\rIteration: 8828\t\rIteration: 8829\t\rIteration: 8830\t\rIteration: 8831\t"
     ]
    },
    {
     "name": "stdout",
     "output_type": "stream",
     "text": [
      "\rIteration: 8832\t\rIteration: 8833\t\rIteration: 8834\t\rIteration: 8835\t\rIteration: 8836\t\rIteration: 8837\t\rIteration: 8838\t\rIteration: 8839\t\rIteration: 8840\t\rIteration: 8841\t"
     ]
    },
    {
     "name": "stdout",
     "output_type": "stream",
     "text": [
      "\rIteration: 8842\t\rIteration: 8843\t\rIteration: 8844\t\rIteration: 8845\t\rIteration: 8846\t\rIteration: 8847\t\rIteration: 8848\t\rIteration: 8849\t\rIteration: 8850\t\rIteration: 8851\t"
     ]
    },
    {
     "name": "stdout",
     "output_type": "stream",
     "text": [
      "\rIteration: 8852\t\rIteration: 8853\t\rIteration: 8854\t\rIteration: 8855\t\rIteration: 8856\t\rIteration: 8857\t\rIteration: 8858\t\rIteration: 8859\t\rIteration: 8860\t\rIteration: 8861\t"
     ]
    },
    {
     "name": "stdout",
     "output_type": "stream",
     "text": [
      "\rIteration: 8862\t\rIteration: 8863\t\rIteration: 8864\t\rIteration: 8865\t\rIteration: 8866\t\rIteration: 8867\t\rIteration: 8868\t\rIteration: 8869\t\rIteration: 8870\t\rIteration: 8871\t"
     ]
    },
    {
     "name": "stdout",
     "output_type": "stream",
     "text": [
      "\rIteration: 8872\t\rIteration: 8873\t\rIteration: 8874\t\rIteration: 8875\t\rIteration: 8876\t\rIteration: 8877\t\rIteration: 8878\t\rIteration: 8879\t\rIteration: 8880\t\rIteration: 8881\t\rIteration: 8882\t"
     ]
    },
    {
     "name": "stdout",
     "output_type": "stream",
     "text": [
      "\rIteration: 8883\t\rIteration: 8884\t\rIteration: 8885\t\rIteration: 8886\t\rIteration: 8887\t\rIteration: 8888\t\rIteration: 8889\t\rIteration: 8890\t\rIteration: 8891\t\rIteration: 8892\t"
     ]
    },
    {
     "name": "stdout",
     "output_type": "stream",
     "text": [
      "\rIteration: 8893\t\rIteration: 8894\t\rIteration: 8895\t\rIteration: 8896\t\rIteration: 8897\t\rIteration: 8898\t\rIteration: 8899\t\rIteration: 8900\t\rIteration: 8901\t\rIteration: 8902\t"
     ]
    },
    {
     "name": "stdout",
     "output_type": "stream",
     "text": [
      "\rIteration: 8903\t\rIteration: 8904\t\rIteration: 8905\t\rIteration: 8906\t\rIteration: 8907\t\rIteration: 8908\t\rIteration: 8909\t\rIteration: 8910\t\rIteration: 8911\t\rIteration: 8912\t"
     ]
    },
    {
     "name": "stdout",
     "output_type": "stream",
     "text": [
      "\rIteration: 8913\t\rIteration: 8914\t\rIteration: 8915\t\rIteration: 8916\t\rIteration: 8917\t\rIteration: 8918\t\rIteration: 8919\t\rIteration: 8920\t\rIteration: 8921\t\rIteration: 8922\t"
     ]
    },
    {
     "name": "stdout",
     "output_type": "stream",
     "text": [
      "\rIteration: 8923\t\rIteration: 8924\t\rIteration: 8925\t\rIteration: 8926\t\rIteration: 8927\t\rIteration: 8928\t\rIteration: 8929\t\rIteration: 8930\t\rIteration: 8931\t\rIteration: 8932\t"
     ]
    },
    {
     "name": "stdout",
     "output_type": "stream",
     "text": [
      "\rIteration: 8933\t\rIteration: 8934\t\rIteration: 8935\t\rIteration: 8936\t\rIteration: 8937\t\rIteration: 8938\t\rIteration: 8939\t\rIteration: 8940\t\rIteration: 8941\t\rIteration: 8942\t\rIteration: 8943\t"
     ]
    },
    {
     "name": "stdout",
     "output_type": "stream",
     "text": [
      "\rIteration: 8944\t\rIteration: 8945\t\rIteration: 8946\t\rIteration: 8947\t\rIteration: 8948\t\rIteration: 8949\t\rIteration: 8950\t\rIteration: 8951\t\rIteration: 8952\t\rIteration: 8953\t"
     ]
    },
    {
     "name": "stdout",
     "output_type": "stream",
     "text": [
      "\rIteration: 8954\t\rIteration: 8955\t\rIteration: 8956\t\rIteration: 8957\t\rIteration: 8958\t\rIteration: 8959\t\rIteration: 8960\t\rIteration: 8961\t\rIteration: 8962\t\rIteration: 8963\t\rIteration: 8964\t"
     ]
    },
    {
     "name": "stdout",
     "output_type": "stream",
     "text": [
      "\rIteration: 8965\t\rIteration: 8966\t\rIteration: 8967\t\rIteration: 8968\t\rIteration: 8969\t\rIteration: 8970\t\rIteration: 8971\t\rIteration: 8972\t\rIteration: 8973\t\rIteration: 8974\t"
     ]
    },
    {
     "name": "stdout",
     "output_type": "stream",
     "text": [
      "\rIteration: 8975\t\rIteration: 8976\t\rIteration: 8977\t\rIteration: 8978\t\rIteration: 8979\t\rIteration: 8980\t\rIteration: 8981\t\rIteration: 8982\t\rIteration: 8983\t\rIteration: 8984\t"
     ]
    },
    {
     "name": "stdout",
     "output_type": "stream",
     "text": [
      "\rIteration: 8985\t\rIteration: 8986\t\rIteration: 8987\t\rIteration: 8988\t\rIteration: 8989\t\rIteration: 8990\t\rIteration: 8991\t\rIteration: 8992\t\rIteration: 8993\t\rIteration: 8994\t\rIteration: 8995\t"
     ]
    },
    {
     "name": "stdout",
     "output_type": "stream",
     "text": [
      "\rIteration: 8996\t\rIteration: 8997\t\rIteration: 8998\t\rIteration: 8999\t\rIteration: 9000\t\rIteration: 9001\t\rIteration: 9002\t\rIteration: 9003\t\rIteration: 9004\t\rIteration: 9005\t"
     ]
    },
    {
     "name": "stdout",
     "output_type": "stream",
     "text": [
      "\rIteration: 9006\t\rIteration: 9007\t\rIteration: 9008\t\rIteration: 9009\t\rIteration: 9010\t\rIteration: 9011\t\rIteration: 9012\t\rIteration: 9013\t\rIteration: 9014\t\rIteration: 9015\t"
     ]
    },
    {
     "name": "stdout",
     "output_type": "stream",
     "text": [
      "\rIteration: 9016\t\rIteration: 9017\t\rIteration: 9018\t\rIteration: 9019\t\rIteration: 9020\t\rIteration: 9021\t\rIteration: 9022\t\rIteration: 9023\t\rIteration: 9024\t\rIteration: 9025\t\rIteration: 9026\t"
     ]
    },
    {
     "name": "stdout",
     "output_type": "stream",
     "text": [
      "\rIteration: 9027\t\rIteration: 9028\t\rIteration: 9029\t\rIteration: 9030\t\rIteration: 9031\t\rIteration: 9032\t\rIteration: 9033\t\rIteration: 9034\t\rIteration: 9035\t\rIteration: 9036\t"
     ]
    },
    {
     "name": "stdout",
     "output_type": "stream",
     "text": [
      "\rIteration: 9037\t\rIteration: 9038\t\rIteration: 9039\t\rIteration: 9040\t\rIteration: 9041\t\rIteration: 9042\t\rIteration: 9043\t\rIteration: 9044\t\rIteration: 9045\t\rIteration: 9046\t"
     ]
    },
    {
     "name": "stdout",
     "output_type": "stream",
     "text": [
      "\rIteration: 9047\t\rIteration: 9048\t\rIteration: 9049\t\rIteration: 9050\t\rIteration: 9051\t\rIteration: 9052\t\rIteration: 9053\t\rIteration: 9054\t\rIteration: 9055\t\rIteration: 9056\t"
     ]
    },
    {
     "name": "stdout",
     "output_type": "stream",
     "text": [
      "\rIteration: 9057\t\rIteration: 9058\t\rIteration: 9059\t\rIteration: 9060\t\rIteration: 9061\t\rIteration: 9062\t\rIteration: 9063\t\rIteration: 9064\t\rIteration: 9065\t\rIteration: 9066\t"
     ]
    },
    {
     "name": "stdout",
     "output_type": "stream",
     "text": [
      "\rIteration: 9067\t\rIteration: 9068\t\rIteration: 9069\t\rIteration: 9070\t\rIteration: 9071\t\rIteration: 9072\t\rIteration: 9073\t\rIteration: 9074\t\rIteration: 9075\t\rIteration: 9076\t"
     ]
    },
    {
     "name": "stdout",
     "output_type": "stream",
     "text": [
      "\rIteration: 9077\t\rIteration: 9078\t\rIteration: 9079\t\rIteration: 9080\t\rIteration: 9081\t\rIteration: 9082\t\rIteration: 9083\t\rIteration: 9084\t\rIteration: 9085\t\rIteration: 9086\t"
     ]
    },
    {
     "name": "stdout",
     "output_type": "stream",
     "text": [
      "\rIteration: 9087\t\rIteration: 9088\t\rIteration: 9089\t\rIteration: 9090\t\rIteration: 9091\t\rIteration: 9092\t\rIteration: 9093\t\rIteration: 9094\t\rIteration: 9095\t\rIteration: 9096\t"
     ]
    },
    {
     "name": "stdout",
     "output_type": "stream",
     "text": [
      "\rIteration: 9097\t\rIteration: 9098\t\rIteration: 9099\t\rIteration: 9100\t\rIteration: 9101\t\rIteration: 9102\t\rIteration: 9103\t\rIteration: 9104\t\rIteration: 9105\t\rIteration: 9106\t"
     ]
    },
    {
     "name": "stdout",
     "output_type": "stream",
     "text": [
      "\rIteration: 9107\t\rIteration: 9108\t\rIteration: 9109\t\rIteration: 9110\t\rIteration: 9111\t\rIteration: 9112\t\rIteration: 9113\t\rIteration: 9114\t\rIteration: 9115\t\rIteration: 9116\t\rIteration: 9117\t"
     ]
    },
    {
     "name": "stdout",
     "output_type": "stream",
     "text": [
      "\rIteration: 9118\t\rIteration: 9119\t\rIteration: 9120\t\rIteration: 9121\t\rIteration: 9122\t\rIteration: 9123\t\rIteration: 9124\t\rIteration: 9125\t\rIteration: 9126\t\rIteration: 9127\t"
     ]
    },
    {
     "name": "stdout",
     "output_type": "stream",
     "text": [
      "\rIteration: 9128\t\rIteration: 9129\t\rIteration: 9130\t\rIteration: 9131\t\rIteration: 9132\t\rIteration: 9133\t\rIteration: 9134\t\rIteration: 9135\t\rIteration: 9136\t\rIteration: 9137\t\rIteration: 9138\t"
     ]
    },
    {
     "name": "stdout",
     "output_type": "stream",
     "text": [
      "\rIteration: 9139\t\rIteration: 9140\t\rIteration: 9141\t\rIteration: 9142\t\rIteration: 9143\t\rIteration: 9144\t\rIteration: 9145\t\rIteration: 9146\t\rIteration: 9147\t\rIteration: 9148\t\rIteration: 9149\t"
     ]
    },
    {
     "name": "stdout",
     "output_type": "stream",
     "text": [
      "\rIteration: 9150\t\rIteration: 9151\t\rIteration: 9152\t\rIteration: 9153\t\rIteration: 9154\t\rIteration: 9155\t\rIteration: 9156\t\rIteration: 9157\t\rIteration: 9158\t\rIteration: 9159\t\rIteration: 9160\t"
     ]
    },
    {
     "name": "stdout",
     "output_type": "stream",
     "text": [
      "\rIteration: 9161\t\rIteration: 9162\t\rIteration: 9163\t\rIteration: 9164\t\rIteration: 9165\t\rIteration: 9166\t\rIteration: 9167\t\rIteration: 9168\t\rIteration: 9169\t\rIteration: 9170\t"
     ]
    },
    {
     "name": "stdout",
     "output_type": "stream",
     "text": [
      "\rIteration: 9171\t\rIteration: 9172\t\rIteration: 9173\t\rIteration: 9174\t\rIteration: 9175\t\rIteration: 9176\t\rIteration: 9177\t\rIteration: 9178\t\rIteration: 9179\t\rIteration: 9180\t"
     ]
    },
    {
     "name": "stdout",
     "output_type": "stream",
     "text": [
      "\rIteration: 9181\t\rIteration: 9182\t\rIteration: 9183\t\rIteration: 9184\t\rIteration: 9185\t\rIteration: 9186\t\rIteration: 9187\t\rIteration: 9188\t\rIteration: 9189\t\rIteration: 9190\t"
     ]
    },
    {
     "name": "stdout",
     "output_type": "stream",
     "text": [
      "\rIteration: 9191\t\rIteration: 9192\t\rIteration: 9193\t\rIteration: 9194\t\rIteration: 9195\t\rIteration: 9196\t\rIteration: 9197\t\rIteration: 9198\t\rIteration: 9199\t\rIteration: 9200\t"
     ]
    },
    {
     "name": "stdout",
     "output_type": "stream",
     "text": [
      "\rIteration: 9201\t\rIteration: 9202\t\rIteration: 9203\t\rIteration: 9204\t\rIteration: 9205\t\rIteration: 9206\t\rIteration: 9207\t\rIteration: 9208\t\rIteration: 9209\t\rIteration: 9210\t\rIteration: 9211\t"
     ]
    },
    {
     "name": "stdout",
     "output_type": "stream",
     "text": [
      "\rIteration: 9212\t\rIteration: 9213\t\rIteration: 9214\t\rIteration: 9215\t\rIteration: 9216\t\rIteration: 9217\t\rIteration: 9218\t\rIteration: 9219\t\rIteration: 9220\t\rIteration: 9221\t\rIteration: 9222\t"
     ]
    },
    {
     "name": "stdout",
     "output_type": "stream",
     "text": [
      "\rIteration: 9223\t\rIteration: 9224\t\rIteration: 9225\t\rIteration: 9226\t\rIteration: 9227\t\rIteration: 9228\t\rIteration: 9229\t\rIteration: 9230\t\rIteration: 9231\t\rIteration: 9232\t"
     ]
    },
    {
     "name": "stdout",
     "output_type": "stream",
     "text": [
      "\rIteration: 9233\t\rIteration: 9234\t\rIteration: 9235\t\rIteration: 9236\t\rIteration: 9237\t\rIteration: 9238\t\rIteration: 9239\t\rIteration: 9240\t\rIteration: 9241\t\rIteration: 9242\t"
     ]
    },
    {
     "name": "stdout",
     "output_type": "stream",
     "text": [
      "\rIteration: 9243\t\rIteration: 9244\t\rIteration: 9245\t\rIteration: 9246\t\rIteration: 9247\t\rIteration: 9248\t\rIteration: 9249\t\rIteration: 9250\t\rIteration: 9251\t\rIteration: 9252\t"
     ]
    },
    {
     "name": "stdout",
     "output_type": "stream",
     "text": [
      "\rIteration: 9253\t\rIteration: 9254\t\rIteration: 9255\t\rIteration: 9256\t\rIteration: 9257\t\rIteration: 9258\t\rIteration: 9259\t\rIteration: 9260\t\rIteration: 9261\t\rIteration: 9262\t\rIteration: 9263\t"
     ]
    },
    {
     "name": "stdout",
     "output_type": "stream",
     "text": [
      "\rIteration: 9264\t\rIteration: 9265\t\rIteration: 9266\t\rIteration: 9267\t\rIteration: 9268\t\rIteration: 9269\t\rIteration: 9270\t\rIteration: 9271\t\rIteration: 9272\t\rIteration: 9273\t"
     ]
    },
    {
     "name": "stdout",
     "output_type": "stream",
     "text": [
      "\rIteration: 9274\t\rIteration: 9275\t\rIteration: 9276\t\rIteration: 9277\t\rIteration: 9278\t\rIteration: 9279\t\rIteration: 9280\t\rIteration: 9281\t\rIteration: 9282\t\rIteration: 9283\t"
     ]
    },
    {
     "name": "stdout",
     "output_type": "stream",
     "text": [
      "\rIteration: 9284\t\rIteration: 9285\t\rIteration: 9286\t\rIteration: 9287\t\rIteration: 9288\t\rIteration: 9289\t\rIteration: 9290\t\rIteration: 9291\t\rIteration: 9292\t\rIteration: 9293\t"
     ]
    },
    {
     "name": "stdout",
     "output_type": "stream",
     "text": [
      "\rIteration: 9294\t\rIteration: 9295\t\rIteration: 9296\t\rIteration: 9297\t\rIteration: 9298\t\rIteration: 9299\t\rIteration: 9300\t\rIteration: 9301\t\rIteration: 9302\t\rIteration: 9303\t"
     ]
    },
    {
     "name": "stdout",
     "output_type": "stream",
     "text": [
      "\rIteration: 9304\t\rIteration: 9305\t\rIteration: 9306\t\rIteration: 9307\t\rIteration: 9308\t\rIteration: 9309\t\rIteration: 9310\t\rIteration: 9311\t\rIteration: 9312\t\rIteration: 9313\t"
     ]
    },
    {
     "name": "stdout",
     "output_type": "stream",
     "text": [
      "\rIteration: 9314\t\rIteration: 9315\t\rIteration: 9316\t\rIteration: 9317\t\rIteration: 9318\t\rIteration: 9319\t\rIteration: 9320\t\rIteration: 9321\t\rIteration: 9322\t\rIteration: 9323\t"
     ]
    },
    {
     "name": "stdout",
     "output_type": "stream",
     "text": [
      "\rIteration: 9324\t\rIteration: 9325\t\rIteration: 9326\t\rIteration: 9327\t\rIteration: 9328\t\rIteration: 9329\t\rIteration: 9330\t\rIteration: 9331\t\rIteration: 9332\t\rIteration: 9333\t\rIteration: 9334\t"
     ]
    },
    {
     "name": "stdout",
     "output_type": "stream",
     "text": [
      "\rIteration: 9335\t\rIteration: 9336\t\rIteration: 9337\t\rIteration: 9338\t\rIteration: 9339\t\rIteration: 9340\t\rIteration: 9341\t\rIteration: 9342\t\rIteration: 9343\t\rIteration: 9344\t\rIteration: 9345\t"
     ]
    },
    {
     "name": "stdout",
     "output_type": "stream",
     "text": [
      "\rIteration: 9346\t\rIteration: 9347\t\rIteration: 9348\t\rIteration: 9349\t\rIteration: 9350\t\rIteration: 9351\t\rIteration: 9352\t\rIteration: 9353\t\rIteration: 9354\t\rIteration: 9355\t\rIteration: 9356\t"
     ]
    },
    {
     "name": "stdout",
     "output_type": "stream",
     "text": [
      "\rIteration: 9357\t\rIteration: 9358\t\rIteration: 9359\t\rIteration: 9360\t\rIteration: 9361\t\rIteration: 9362\t\rIteration: 9363\t\rIteration: 9364\t\rIteration: 9365\t\rIteration: 9366\t"
     ]
    },
    {
     "name": "stdout",
     "output_type": "stream",
     "text": [
      "\rIteration: 9367\t\rIteration: 9368\t\rIteration: 9369\t\rIteration: 9370\t\rIteration: 9371\t\rIteration: 9372\t\rIteration: 9373\t\rIteration: 9374\t\rIteration: 9375\t\rIteration: 9376\t"
     ]
    },
    {
     "name": "stdout",
     "output_type": "stream",
     "text": [
      "\rIteration: 9377\t\rIteration: 9378\t\rIteration: 9379\t\rIteration: 9380\t\rIteration: 9381\t\rIteration: 9382\t\rIteration: 9383\t\rIteration: 9384\t\rIteration: 9385\t\rIteration: 9386\t\rIteration: 9387\t"
     ]
    },
    {
     "name": "stdout",
     "output_type": "stream",
     "text": [
      "\rIteration: 9388\t\rIteration: 9389\t\rIteration: 9390\t\rIteration: 9391\t\rIteration: 9392\t\rIteration: 9393\t\rIteration: 9394\t\rIteration: 9395\t\rIteration: 9396\t\rIteration: 9397\t\rIteration: 9398\t"
     ]
    },
    {
     "name": "stdout",
     "output_type": "stream",
     "text": [
      "\rIteration: 9399\t\rIteration: 9400\t\rIteration: 9401\t\rIteration: 9402\t\rIteration: 9403\t\rIteration: 9404\t\rIteration: 9405\t\rIteration: 9406\t\rIteration: 9407\t\rIteration: 9408\t\rIteration: 9409\t"
     ]
    },
    {
     "name": "stdout",
     "output_type": "stream",
     "text": [
      "\rIteration: 9410\t\rIteration: 9411\t\rIteration: 9412\t\rIteration: 9413\t\rIteration: 9414\t\rIteration: 9415\t\rIteration: 9416\t\rIteration: 9417\t\rIteration: 9418\t\rIteration: 9419\t"
     ]
    },
    {
     "name": "stdout",
     "output_type": "stream",
     "text": [
      "\rIteration: 9420\t\rIteration: 9421\t\rIteration: 9422\t\rIteration: 9423\t\rIteration: 9424\t\rIteration: 9425\t\rIteration: 9426\t\rIteration: 9427\t\rIteration: 9428\t\rIteration: 9429\t"
     ]
    },
    {
     "name": "stdout",
     "output_type": "stream",
     "text": [
      "\rIteration: 9430\t\rIteration: 9431\t\rIteration: 9432\t\rIteration: 9433\t\rIteration: 9434\t\rIteration: 9435\t\rIteration: 9436\t\rIteration: 9437\t\rIteration: 9438\t\rIteration: 9439\t\rIteration: 9440\t"
     ]
    },
    {
     "name": "stdout",
     "output_type": "stream",
     "text": [
      "\rIteration: 9441\t\rIteration: 9442\t\rIteration: 9443\t\rIteration: 9444\t\rIteration: 9445\t\rIteration: 9446\t\rIteration: 9447\t\rIteration: 9448\t\rIteration: 9449\t\rIteration: 9450\t\rIteration: 9451\t"
     ]
    },
    {
     "name": "stdout",
     "output_type": "stream",
     "text": [
      "\rIteration: 9452\t\rIteration: 9453\t\rIteration: 9454\t\rIteration: 9455\t\rIteration: 9456\t\rIteration: 9457\t\rIteration: 9458\t\rIteration: 9459\t\rIteration: 9460\t\rIteration: 9461\t\rIteration: 9462\t"
     ]
    },
    {
     "name": "stdout",
     "output_type": "stream",
     "text": [
      "\rIteration: 9463\t\rIteration: 9464\t\rIteration: 9465\t\rIteration: 9466\t\rIteration: 9467\t\rIteration: 9468\t\rIteration: 9469\t\rIteration: 9470\t\rIteration: 9471\t\rIteration: 9472\t"
     ]
    },
    {
     "name": "stdout",
     "output_type": "stream",
     "text": [
      "\rIteration: 9473\t\rIteration: 9474\t\rIteration: 9475\t\rIteration: 9476\t\rIteration: 9477\t\rIteration: 9478\t\rIteration: 9479\t\rIteration: 9480\t\rIteration: 9481\t\rIteration: 9482\t\rIteration: 9483\t"
     ]
    },
    {
     "name": "stdout",
     "output_type": "stream",
     "text": [
      "\rIteration: 9484\t\rIteration: 9485\t\rIteration: 9486\t\rIteration: 9487\t\rIteration: 9488\t\rIteration: 9489\t\rIteration: 9490\t\rIteration: 9491\t\rIteration: 9492\t\rIteration: 9493\t\rIteration: 9494\t"
     ]
    },
    {
     "name": "stdout",
     "output_type": "stream",
     "text": [
      "\rIteration: 9495\t\rIteration: 9496\t\rIteration: 9497\t\rIteration: 9498\t\rIteration: 9499\t\rIteration: 9500\t\rIteration: 9501\t\rIteration: 9502\t\rIteration: 9503\t\rIteration: 9504\t"
     ]
    },
    {
     "name": "stdout",
     "output_type": "stream",
     "text": [
      "\rIteration: 9505\t\rIteration: 9506\t\rIteration: 9507\t\rIteration: 9508\t\rIteration: 9509\t\rIteration: 9510\t\rIteration: 9511\t\rIteration: 9512\t\rIteration: 9513\t\rIteration: 9514\t\rIteration: 9515\t"
     ]
    },
    {
     "name": "stdout",
     "output_type": "stream",
     "text": [
      "\rIteration: 9516\t\rIteration: 9517\t\rIteration: 9518\t\rIteration: 9519\t\rIteration: 9520\t\rIteration: 9521\t\rIteration: 9522\t\rIteration: 9523\t\rIteration: 9524\t\rIteration: 9525\t"
     ]
    },
    {
     "name": "stdout",
     "output_type": "stream",
     "text": [
      "\rIteration: 9526\t\rIteration: 9527\t\rIteration: 9528\t\rIteration: 9529\t\rIteration: 9530\t\rIteration: 9531\t\rIteration: 9532\t\rIteration: 9533\t\rIteration: 9534\t\rIteration: 9535\t"
     ]
    },
    {
     "name": "stdout",
     "output_type": "stream",
     "text": [
      "\rIteration: 9536\t\rIteration: 9537\t\rIteration: 9538\t\rIteration: 9539\t\rIteration: 9540\t\rIteration: 9541\t\rIteration: 9542\t\rIteration: 9543\t\rIteration: 9544\t\rIteration: 9545\t"
     ]
    },
    {
     "name": "stdout",
     "output_type": "stream",
     "text": [
      "\rIteration: 9546\t\rIteration: 9547\t\rIteration: 9548\t\rIteration: 9549\t\rIteration: 9550\t\rIteration: 9551\t\rIteration: 9552\t\rIteration: 9553\t\rIteration: 9554\t\rIteration: 9555\t\rIteration: 9556\t"
     ]
    },
    {
     "name": "stdout",
     "output_type": "stream",
     "text": [
      "\rIteration: 9557\t\rIteration: 9558\t\rIteration: 9559\t\rIteration: 9560\t\rIteration: 9561\t\rIteration: 9562\t\rIteration: 9563\t\rIteration: 9564\t\rIteration: 9565\t\rIteration: 9566\t\rIteration: 9567\t"
     ]
    },
    {
     "name": "stdout",
     "output_type": "stream",
     "text": [
      "\rIteration: 9568\t\rIteration: 9569\t\rIteration: 9570\t\rIteration: 9571\t\rIteration: 9572\t\rIteration: 9573\t\rIteration: 9574\t\rIteration: 9575\t\rIteration: 9576\t\rIteration: 9577\t\rIteration: 9578\t"
     ]
    },
    {
     "name": "stdout",
     "output_type": "stream",
     "text": [
      "\rIteration: 9579\t\rIteration: 9580\t\rIteration: 9581\t\rIteration: 9582\t\rIteration: 9583\t\rIteration: 9584\t\rIteration: 9585\t\rIteration: 9586\t\rIteration: 9587\t\rIteration: 9588\t"
     ]
    },
    {
     "name": "stdout",
     "output_type": "stream",
     "text": [
      "\rIteration: 9589\t\rIteration: 9590\t\rIteration: 9591\t\rIteration: 9592\t\rIteration: 9593\t\rIteration: 9594\t\rIteration: 9595\t\rIteration: 9596\t\rIteration: 9597\t\rIteration: 9598\t"
     ]
    },
    {
     "name": "stdout",
     "output_type": "stream",
     "text": [
      "\rIteration: 9599\t\rIteration: 9600\t\rIteration: 9601\t\rIteration: 9602\t\rIteration: 9603\t\rIteration: 9604\t\rIteration: 9605\t\rIteration: 9606\t\rIteration: 9607\t\rIteration: 9608\t"
     ]
    },
    {
     "name": "stdout",
     "output_type": "stream",
     "text": [
      "\rIteration: 9609\t\rIteration: 9610\t\rIteration: 9611\t\rIteration: 9612\t\rIteration: 9613\t\rIteration: 9614\t\rIteration: 9615\t\rIteration: 9616\t\rIteration: 9617\t\rIteration: 9618\t"
     ]
    },
    {
     "name": "stdout",
     "output_type": "stream",
     "text": [
      "\rIteration: 9619\t\rIteration: 9620\t\rIteration: 9621\t\rIteration: 9622\t\rIteration: 9623\t\rIteration: 9624\t\rIteration: 9625\t\rIteration: 9626\t\rIteration: 9627\t\rIteration: 9628\t\rIteration: 9629\t"
     ]
    },
    {
     "name": "stdout",
     "output_type": "stream",
     "text": [
      "\rIteration: 9630\t\rIteration: 9631\t\rIteration: 9632\t\rIteration: 9633\t\rIteration: 9634\t\rIteration: 9635\t\rIteration: 9636\t\rIteration: 9637\t\rIteration: 9638\t\rIteration: 9639\t"
     ]
    },
    {
     "name": "stdout",
     "output_type": "stream",
     "text": [
      "\rIteration: 9640\t\rIteration: 9641\t\rIteration: 9642\t\rIteration: 9643\t\rIteration: 9644\t\rIteration: 9645\t\rIteration: 9646\t\rIteration: 9647\t\rIteration: 9648\t\rIteration: 9649\t\rIteration: 9650\t"
     ]
    },
    {
     "name": "stdout",
     "output_type": "stream",
     "text": [
      "\rIteration: 9651\t\rIteration: 9652\t\rIteration: 9653\t\rIteration: 9654\t\rIteration: 9655\t\rIteration: 9656\t\rIteration: 9657\t\rIteration: 9658\t\rIteration: 9659\t\rIteration: 9660\t"
     ]
    },
    {
     "name": "stdout",
     "output_type": "stream",
     "text": [
      "\rIteration: 9661\t\rIteration: 9662\t\rIteration: 9663\t\rIteration: 9664\t\rIteration: 9665\t\rIteration: 9666\t\rIteration: 9667\t\rIteration: 9668\t\rIteration: 9669\t\rIteration: 9670\t\rIteration: 9671\t"
     ]
    },
    {
     "name": "stdout",
     "output_type": "stream",
     "text": [
      "\rIteration: 9672\t\rIteration: 9673\t\rIteration: 9674\t\rIteration: 9675\t\rIteration: 9676\t\rIteration: 9677\t\rIteration: 9678\t\rIteration: 9679\t\rIteration: 9680\t\rIteration: 9681\t\rIteration: 9682\t"
     ]
    },
    {
     "name": "stdout",
     "output_type": "stream",
     "text": [
      "\rIteration: 9683\t\rIteration: 9684\t\rIteration: 9685\t\rIteration: 9686\t\rIteration: 9687\t\rIteration: 9688\t\rIteration: 9689\t\rIteration: 9690\t\rIteration: 9691\t\rIteration: 9692\t\rIteration: 9693\t"
     ]
    },
    {
     "name": "stdout",
     "output_type": "stream",
     "text": [
      "\rIteration: 9694\t\rIteration: 9695\t\rIteration: 9696\t\rIteration: 9697\t\rIteration: 9698\t\rIteration: 9699\t\rIteration: 9700\t\rIteration: 9701\t\rIteration: 9702\t\rIteration: 9703\t"
     ]
    },
    {
     "name": "stdout",
     "output_type": "stream",
     "text": [
      "\rIteration: 9704\t\rIteration: 9705\t\rIteration: 9706\t\rIteration: 9707\t\rIteration: 9708\t\rIteration: 9709\t\rIteration: 9710\t\rIteration: 9711\t\rIteration: 9712\t\rIteration: 9713\t"
     ]
    },
    {
     "name": "stdout",
     "output_type": "stream",
     "text": [
      "\rIteration: 9714\t\rIteration: 9715\t\rIteration: 9716\t\rIteration: 9717\t\rIteration: 9718\t\rIteration: 9719\t\rIteration: 9720\t\rIteration: 9721\t\rIteration: 9722\t\rIteration: 9723\t\rIteration: 9724\t"
     ]
    },
    {
     "name": "stdout",
     "output_type": "stream",
     "text": [
      "\rIteration: 9725\t\rIteration: 9726\t\rIteration: 9727\t\rIteration: 9728\t\rIteration: 9729\t\rIteration: 9730\t\rIteration: 9731\t\rIteration: 9732\t\rIteration: 9733\t\rIteration: 9734\t\rIteration: 9735\t"
     ]
    },
    {
     "name": "stdout",
     "output_type": "stream",
     "text": [
      "\rIteration: 9736\t\rIteration: 9737\t\rIteration: 9738\t\rIteration: 9739\t\rIteration: 9740\t\rIteration: 9741\t\rIteration: 9742\t\rIteration: 9743\t\rIteration: 9744\t\rIteration: 9745\t"
     ]
    },
    {
     "name": "stdout",
     "output_type": "stream",
     "text": [
      "\rIteration: 9746\t\rIteration: 9747\t\rIteration: 9748\t\rIteration: 9749\t\rIteration: 9750\t\rIteration: 9751\t\rIteration: 9752\t\rIteration: 9753\t\rIteration: 9754\t\rIteration: 9755\t"
     ]
    },
    {
     "name": "stdout",
     "output_type": "stream",
     "text": [
      "\rIteration: 9756\t\rIteration: 9757\t\rIteration: 9758\t\rIteration: 9759\t\rIteration: 9760\t\rIteration: 9761\t\rIteration: 9762\t\rIteration: 9763\t\rIteration: 9764\t\rIteration: 9765\t"
     ]
    },
    {
     "name": "stdout",
     "output_type": "stream",
     "text": [
      "\rIteration: 9766\t\rIteration: 9767\t\rIteration: 9768\t\rIteration: 9769\t\rIteration: 9770\t\rIteration: 9771\t\rIteration: 9772\t\rIteration: 9773\t\rIteration: 9774\t\rIteration: 9775\t"
     ]
    },
    {
     "name": "stdout",
     "output_type": "stream",
     "text": [
      "\rIteration: 9776\t\rIteration: 9777\t\rIteration: 9778\t\rIteration: 9779\t\rIteration: 9780\t\rIteration: 9781\t\rIteration: 9782\t\rIteration: 9783\t\rIteration: 9784\t\rIteration: 9785\t\rIteration: 9786\t"
     ]
    },
    {
     "name": "stdout",
     "output_type": "stream",
     "text": [
      "\rIteration: 9787\t\rIteration: 9788\t\rIteration: 9789\t\rIteration: 9790\t\rIteration: 9791\t\rIteration: 9792\t\rIteration: 9793\t\rIteration: 9794\t\rIteration: 9795\t\rIteration: 9796\t"
     ]
    },
    {
     "name": "stdout",
     "output_type": "stream",
     "text": [
      "\rIteration: 9797\t\rIteration: 9798\t\rIteration: 9799\t\rIteration: 9800\t\rIteration: 9801\t\rIteration: 9802\t\rIteration: 9803\t\rIteration: 9804\t\rIteration: 9805\t\rIteration: 9806\t"
     ]
    },
    {
     "name": "stdout",
     "output_type": "stream",
     "text": [
      "\rIteration: 9807\t\rIteration: 9808\t\rIteration: 9809\t\rIteration: 9810\t\rIteration: 9811\t\rIteration: 9812\t\rIteration: 9813\t\rIteration: 9814\t\rIteration: 9815\t\rIteration: 9816\t"
     ]
    },
    {
     "name": "stdout",
     "output_type": "stream",
     "text": [
      "\rIteration: 9817\t\rIteration: 9818\t\rIteration: 9819\t\rIteration: 9820\t\rIteration: 9821\t\rIteration: 9822\t\rIteration: 9823\t\rIteration: 9824\t\rIteration: 9825\t\rIteration: 9826\t"
     ]
    },
    {
     "name": "stdout",
     "output_type": "stream",
     "text": [
      "\rIteration: 9827\t\rIteration: 9828\t\rIteration: 9829\t\rIteration: 9830\t\rIteration: 9831\t\rIteration: 9832\t\rIteration: 9833\t\rIteration: 9834\t\rIteration: 9835\t\rIteration: 9836\t"
     ]
    },
    {
     "name": "stdout",
     "output_type": "stream",
     "text": [
      "\rIteration: 9837\t\rIteration: 9838\t\rIteration: 9839\t\rIteration: 9840\t\rIteration: 9841\t\rIteration: 9842\t\rIteration: 9843\t\rIteration: 9844\t\rIteration: 9845\t\rIteration: 9846\t\rIteration: 9847\t"
     ]
    },
    {
     "name": "stdout",
     "output_type": "stream",
     "text": [
      "\rIteration: 9848\t\rIteration: 9849\t\rIteration: 9850\t\rIteration: 9851\t\rIteration: 9852\t\rIteration: 9853\t\rIteration: 9854\t\rIteration: 9855\t\rIteration: 9856\t\rIteration: 9857\t"
     ]
    },
    {
     "name": "stdout",
     "output_type": "stream",
     "text": [
      "\rIteration: 9858\t\rIteration: 9859\t\rIteration: 9860\t\rIteration: 9861\t\rIteration: 9862\t\rIteration: 9863\t\rIteration: 9864\t\rIteration: 9865\t\rIteration: 9866\t\rIteration: 9867\t"
     ]
    },
    {
     "name": "stdout",
     "output_type": "stream",
     "text": [
      "\rIteration: 9868\t\rIteration: 9869\t\rIteration: 9870\t\rIteration: 9871\t\rIteration: 9872\t\rIteration: 9873\t\rIteration: 9874\t\rIteration: 9875\t\rIteration: 9876\t\rIteration: 9877\t"
     ]
    },
    {
     "name": "stdout",
     "output_type": "stream",
     "text": [
      "\rIteration: 9878\t\rIteration: 9879\t\rIteration: 9880\t\rIteration: 9881\t\rIteration: 9882\t\rIteration: 9883\t\rIteration: 9884\t\rIteration: 9885\t\rIteration: 9886\t\rIteration: 9887\t\rIteration: 9888\t"
     ]
    },
    {
     "name": "stdout",
     "output_type": "stream",
     "text": [
      "\rIteration: 9889\t\rIteration: 9890\t\rIteration: 9891\t\rIteration: 9892\t\rIteration: 9893\t\rIteration: 9894\t\rIteration: 9895\t\rIteration: 9896\t\rIteration: 9897\t\rIteration: 9898\t"
     ]
    },
    {
     "name": "stdout",
     "output_type": "stream",
     "text": [
      "\rIteration: 9899\t\rIteration: 9900\t\rIteration: 9901\t\rIteration: 9902\t\rIteration: 9903\t\rIteration: 9904\t\rIteration: 9905\t\rIteration: 9906\t\rIteration: 9907\t\rIteration: 9908\t\rIteration: 9909\t"
     ]
    },
    {
     "name": "stdout",
     "output_type": "stream",
     "text": [
      "\rIteration: 9910\t\rIteration: 9911\t\rIteration: 9912\t\rIteration: 9913\t\rIteration: 9914\t\rIteration: 9915\t\rIteration: 9916\t\rIteration: 9917\t\rIteration: 9918\t\rIteration: 9919\t"
     ]
    },
    {
     "name": "stdout",
     "output_type": "stream",
     "text": [
      "\rIteration: 9920\t\rIteration: 9921\t\rIteration: 9922\t\rIteration: 9923\t\rIteration: 9924\t\rIteration: 9925\t\rIteration: 9926\t\rIteration: 9927\t\rIteration: 9928\t\rIteration: 9929\t\rIteration: 9930\t"
     ]
    },
    {
     "name": "stdout",
     "output_type": "stream",
     "text": [
      "\rIteration: 9931\t\rIteration: 9932\t\rIteration: 9933\t\rIteration: 9934\t\rIteration: 9935\t\rIteration: 9936\t\rIteration: 9937\t\rIteration: 9938\t\rIteration: 9939\t\rIteration: 9940\t"
     ]
    },
    {
     "name": "stdout",
     "output_type": "stream",
     "text": [
      "\rIteration: 9941\t\rIteration: 9942\t\rIteration: 9943\t\rIteration: 9944\t\rIteration: 9945\t\rIteration: 9946\t\rIteration: 9947\t\rIteration: 9948\t\rIteration: 9949\t\rIteration: 9950\t"
     ]
    },
    {
     "name": "stdout",
     "output_type": "stream",
     "text": [
      "\rIteration: 9951\t\rIteration: 9952\t\rIteration: 9953\t\rIteration: 9954\t\rIteration: 9955\t\rIteration: 9956\t\rIteration: 9957\t\rIteration: 9958\t\rIteration: 9959\t\rIteration: 9960\t"
     ]
    },
    {
     "name": "stdout",
     "output_type": "stream",
     "text": [
      "\rIteration: 9961\t\rIteration: 9962\t\rIteration: 9963\t\rIteration: 9964\t\rIteration: 9965\t\rIteration: 9966\t\rIteration: 9967\t\rIteration: 9968\t\rIteration: 9969\t\rIteration: 9970\t"
     ]
    },
    {
     "name": "stdout",
     "output_type": "stream",
     "text": [
      "\rIteration: 9971\t\rIteration: 9972\t\rIteration: 9973\t\rIteration: 9974\t\rIteration: 9975\t\rIteration: 9976\t\rIteration: 9977\t\rIteration: 9978\t\rIteration: 9979\t\rIteration: 9980\t"
     ]
    },
    {
     "name": "stdout",
     "output_type": "stream",
     "text": [
      "\rIteration: 9981\t\rIteration: 9982\t\rIteration: 9983\t\rIteration: 9984\t\rIteration: 9985\t\rIteration: 9986\t\rIteration: 9987\t\rIteration: 9988\t\rIteration: 9989\t\rIteration: 9990\t"
     ]
    },
    {
     "name": "stdout",
     "output_type": "stream",
     "text": [
      "\rIteration: 9991\t\rIteration: 9992\t\rIteration: 9993\t\rIteration: 9994\t\rIteration: 9995\t\rIteration: 9996\t\rIteration: 9997\t\rIteration: 9998\t\rIteration: 9999\t\rIteration: 10000\tAverage loss at step  10000 :  26.112293479919433\n"
     ]
    },
    {
     "name": "stdout",
     "output_type": "stream",
     "text": [
      "Nearest to often: scheele, described, prestigious, who, unnamed, widely, nationalities, dddddd,\nNearest to s: the, appended, aquarius, zero, and, hebrides, of, gide,\nNearest to his: the, spite, dwan, mctaggart, peloponnese, arslan, replicants, seo,\nNearest to three: two, four, five, zero, one, nine, eight, UNK,\nNearest to years: four, bright, levitt, pka, cosmology, calendar, filters, bj,\nNearest to united: states, upon, answers, permutation, in, ankh, horch, ufos,\nNearest to may: doesn, hybridized, can, or, almond, used, seo, afghana,\nNearest to some: lunches, enveloped, the, cma, warming, albany, artifacts, illyrians,\nNearest to that: kurosawa, gringo, hangover, fame, adriatic, to, subfields, this,\nNearest to its: the, exports, tillich, tag, completeness, aq, appended, ustinov,\nNearest to these: are, var, extracting, photosynthesis, erotica, gettysburg, characteristically, jabir,\nNearest to people: many, manzikert, subproblems, guerra, illyrians, ankh, artificially, bread,\nNearest to been: had, being, romanus, have, unnamed, mpla, experimental, amiens,\nNearest to between: in, var, judith, and, from, part, with, intellect,\nNearest to will: can, whale, frustrated, glycolysis, contraception, spiritualism, assumption, graphics,\nNearest to also: aardvark, flood, and, strategists, remember, simulate, sarcophagus, conformation,\n"
     ]
    }
   ],
   "source": [
    "num_steps = 10001\n",
    "\n",
    "with tf.Session() as session:\n",
    "    init.run()\n",
    "\n",
    "    average_loss = 0\n",
    "    for step in range(num_steps):\n",
    "        print(\"\\rIteration: {}\".format(step), end=\"\\t\")\n",
    "        batch_inputs, batch_labels = generate_batch(batch_size, num_skips, skip_window)\n",
    "        feed_dict = {train_inputs : batch_inputs, train_labels : batch_labels}\n",
    "\n",
    "        # We perform one update step by evaluating the training op (including it\n",
    "        # in the list of returned values for session.run()\n",
    "        _, loss_val = session.run([training_op, loss], feed_dict=feed_dict)\n",
    "        average_loss += loss_val\n",
    "\n",
    "        if step % 2000 == 0:\n",
    "            if step > 0:\n",
    "                average_loss /= 2000\n",
    "            # The average loss is an estimate of the loss over the last 2000 batches.\n",
    "            print(\"Average loss at step \", step, \": \", average_loss)\n",
    "            average_loss = 0\n",
    "\n",
    "        # Note that this is expensive (~20% slowdown if computed every 500 steps)\n",
    "        if step % 10000 == 0:\n",
    "            sim = similarity.eval()\n",
    "            for i in range(valid_size):\n",
    "                valid_word = vocabulary[valid_examples[i]]\n",
    "                top_k = 8 # number of nearest neighbors\n",
    "                nearest = (-sim[i, :]).argsort()[1:top_k+1]\n",
    "                log_str = \"Nearest to %s:\" % valid_word\n",
    "                for k in range(top_k):\n",
    "                    close_word = vocabulary[nearest[k]]\n",
    "                    log_str = \"%s %s,\" % (log_str, close_word)\n",
    "                print(log_str)\n",
    "\n",
    "    final_embeddings = normalized_embeddings.eval()"
   ]
  },
  {
   "cell_type": "code",
   "execution_count": 90,
   "metadata": {},
   "outputs": [
    {
     "data": {
      "image/png": "[encoded data removed]",
      "text/plain": [
       "<Figure size 1296x1296 with 1 Axes>"
      ]
     },
     "metadata": {},
     "output_type": "display_data"
    }
   ],
   "source": [
    "def plot_with_labels(low_dim_embs, labels):\n",
    "    assert low_dim_embs.shape[0] >= len(labels), \"More labels than embeddings\"\n",
    "    plt.figure(figsize=(18, 18))  #in inches\n",
    "    for i, label in enumerate(labels):\n",
    "        x, y = low_dim_embs[i,:]\n",
    "        plt.scatter(x, y)\n",
    "        plt.annotate(label,\n",
    "                     xy=(x, y),\n",
    "                     xytext=(5, 2),\n",
    "                     textcoords='offset points',\n",
    "                     ha='right',\n",
    "                     va='bottom')\n",
    "        \n",
    "from sklearn.manifold import TSNE\n",
    "\n",
    "tsne = TSNE(perplexity=30, n_components=2, init='pca', n_iter=5000)\n",
    "plot_only = 500\n",
    "low_dim_embs = tsne.fit_transform(final_embeddings[:plot_only,:])\n",
    "labels = [vocabulary[i] for i in range(plot_only)]\n",
    "plot_with_labels(low_dim_embs, labels)"
   ]
  },
  {
   "cell_type": "markdown",
   "metadata": {},
   "source": [
    "#### An Encorder-Decoder Network for Machine Translation\n",
    "\n",
    "[Simple ML Translation Model](https://goo.gl/0g9zWP)"
   ]
  },
  {
   "cell_type": "markdown",
   "metadata": {},
   "source": [
    "## Exercises\n",
    "-----\n",
    "\n",
    "1. seq2seq: machine translation, music generation. seq2vec: sentiment analysis. vec2seq: image captioning\n",
    "2. it make more sence to look at the sequence as a whole, so encoding the sequence is more valuable. In machine tanslation, if RNN are used without encoder-decoder it would just translate word by word instead of by sentence.\n",
    "3. A video is a time series of images, so one could use a convolutional network to look at the image at a time step and feed the output to seq2vec RNN for each time step/\n",
    "4. based on while_loop() operation that is able to swap the gpu mem to cpu memo during backprop. easier to use. generates smaller graph\n",
    "5. Set sequence_length param. you can use padding trick\n",
    "6. each layer on a different GPU\n"
   ]
  },
  {
   "cell_type": "code",
   "execution_count": null,
   "metadata": {},
   "outputs": [],
   "source": []
  }
 ],
 "metadata": {
  "kernelspec": {
   "display_name": "Python 2",
   "language": "python",
   "name": "python2"
  },
  "language_info": {
   "codemirror_mode": {
    "name": "ipython",
    "version": 2
   },
   "file_extension": ".py",
   "mimetype": "text/x-python",
   "name": "python",
   "nbconvert_exporter": "python",
   "pygments_lexer": "ipython2",
   "version": "2.7.6"
  }
 },
 "nbformat": 4,
 "nbformat_minor": 0
}
